{
 "cells": [
  {
   "cell_type": "markdown",
   "id": "4728db7d",
   "metadata": {
    "_cell_guid": "b1076dfc-b9ad-4769-8c92-a6c4dae69d19",
    "_uuid": "8f2839f25d086af736a60e9eeb907d3b93b6e0e5",
    "papermill": {
     "duration": 0.023195,
     "end_time": "2021-07-22T05:31:59.765962",
     "exception": false,
     "start_time": "2021-07-22T05:31:59.742767",
     "status": "completed"
    },
    "tags": []
   },
   "source": [
    "<center>\n",
    "    <h1>DatatableTon</h1>\n",
    "    💯 datatable exercises\n",
    "    <br>\n",
    "    <br>\n",
    "    <a href='https://github.com/vopani/datatableton/blob/master/LICENSE'>\n",
    "        <img src='https://img.shields.io/badge/license-Apache%202.0-blue.svg?logo=apache'>\n",
    "    </a>\n",
    "    <a href='https://github.com/vopani/datatableton'>\n",
    "        <img src='https://img.shields.io/github/stars/vopani/datatableton?color=yellowgreen&logo=github'>\n",
    "    </a>\n",
    "    <a href='https://twitter.com/vopani'>\n",
    "        <img src='https://img.shields.io/twitter/follow/vopani'>\n",
    "    </a>\n",
    "</center>"
   ]
  },
  {
   "cell_type": "markdown",
   "id": "709f14f5",
   "metadata": {
    "papermill": {
     "duration": 0.020435,
     "end_time": "2021-07-22T05:31:59.809451",
     "exception": false,
     "start_time": "2021-07-22T05:31:59.789016",
     "status": "completed"
    },
    "tags": []
   },
   "source": [
    "<center>\n",
    "    This is Set 7: Multiple Frames (Exercises 61-70) of <b>DatatableTon</b>: <i>💯 datatable exercises</i>\n",
    "    <br>\n",
    "    You can find all the exercises and solutions on <a href=\"https://github.com/vopani/datatableton#exercises-\">GitHub</a>\n",
    "</center>"
   ]
  },
  {
   "cell_type": "markdown",
   "id": "8b8eeda7",
   "metadata": {
    "papermill": {
     "duration": 0.020585,
     "end_time": "2021-07-22T05:31:59.850889",
     "exception": false,
     "start_time": "2021-07-22T05:31:59.830304",
     "status": "completed"
    },
    "tags": []
   },
   "source": [
    "**Prerequisites**\n",
    "* The `datatable` package should be upgraded to the latest version (or v1.0.0+).\n",
    "* The sample dataset [datatableton_sample.zip](https://github.com/vopani/datatableton/blob/main/data/datatableton_sample.zip) will be used for the exercises."
   ]
  },
  {
   "cell_type": "code",
   "execution_count": 1,
   "id": "24b082a5",
   "metadata": {
    "_kg_hide-output": true,
    "execution": {
     "iopub.execute_input": "2021-07-22T05:31:59.907459Z",
     "iopub.status.busy": "2021-07-22T05:31:59.902001Z",
     "iopub.status.idle": "2021-07-22T05:32:35.374395Z",
     "shell.execute_reply": "2021-07-22T05:32:35.374917Z",
     "shell.execute_reply.started": "2021-07-21T19:51:43.26081Z"
    },
    "papermill": {
     "duration": 35.50352,
     "end_time": "2021-07-22T05:32:35.375245",
     "exception": false,
     "start_time": "2021-07-22T05:31:59.871725",
     "status": "completed"
    },
    "tags": []
   },
   "outputs": [
    {
     "name": "stdout",
     "output_type": "stream",
     "text": [
      "Requirement already satisfied: pip in /opt/conda/lib/python3.7/site-packages (21.1.2)\r\n",
      "Collecting pip\r\n",
      "  Downloading pip-21.1.3-py3-none-any.whl (1.5 MB)\r\n",
      "\u001b[K     |████████████████████████████████| 1.5 MB 4.5 MB/s \r\n",
      "\u001b[?25hInstalling collected packages: pip\r\n",
      "  Attempting uninstall: pip\r\n",
      "    Found existing installation: pip 21.1.2\r\n",
      "    Uninstalling pip-21.1.2:\r\n",
      "      Successfully uninstalled pip-21.1.2\r\n",
      "Successfully installed pip-21.1.3\r\n",
      "\u001b[33mWARNING: Running pip as root will break packages and permissions. You should install packages reliably by using venv: https://pip.pypa.io/warnings/venv\u001b[0m\r\n",
      "Requirement already satisfied: datatable in /opt/conda/lib/python3.7/site-packages (1.0.0)\r\n",
      "\u001b[33mWARNING: Running pip as the 'root' user can result in broken permissions and conflicting behaviour with the system package manager. It is recommended to use a virtual environment instead: https://pip.pypa.io/warnings/venv\u001b[0m\r\n",
      "--2021-07-22 05:32:35--  https://raw.githubusercontent.com/vopani/datatableton/main/data/datatableton_sample.zip\r\n",
      "Resolving raw.githubusercontent.com (raw.githubusercontent.com)... 185.199.109.133, 185.199.111.133, 185.199.108.133, ...\r\n",
      "Connecting to raw.githubusercontent.com (raw.githubusercontent.com)|185.199.109.133|:443... connected.\r\n",
      "HTTP request sent, awaiting response... 200 OK\r\n",
      "Length: 3834 (3.7K) [application/zip]\r\n",
      "Saving to: ‘datatableton_sample.zip’\r\n",
      "\r\n",
      "datatableton_sample 100%[===================>]   3.74K  --.-KB/s    in 0s      \r\n",
      "\r\n",
      "2021-07-22 05:32:35 (51.4 MB/s) - ‘datatableton_sample.zip’ saved [3834/3834]\r\n",
      "\r\n"
     ]
    }
   ],
   "source": [
    "!python3 -m pip install -U pip\n",
    "!python3 -m pip install -U datatable\n",
    "!wget https://raw.githubusercontent.com/vopani/datatableton/main/data/datatableton_sample.zip"
   ]
  },
  {
   "cell_type": "code",
   "execution_count": 2,
   "id": "c1421e60",
   "metadata": {
    "execution": {
     "iopub.execute_input": "2021-07-22T05:32:35.430301Z",
     "iopub.status.busy": "2021-07-22T05:32:35.429603Z",
     "iopub.status.idle": "2021-07-22T05:32:35.616404Z",
     "shell.execute_reply": "2021-07-22T05:32:35.616928Z",
     "shell.execute_reply.started": "2021-07-21T19:52:20.500128Z"
    },
    "papermill": {
     "duration": 0.215906,
     "end_time": "2021-07-22T05:32:35.617097",
     "exception": false,
     "start_time": "2021-07-22T05:32:35.401191",
     "status": "completed"
    },
    "tags": []
   },
   "outputs": [
    {
     "data": {
      "text/html": [
       "<style type='text/css'>\n",
       ".datatable table.frame { margin-bottom: 0; }\n",
       ".datatable table.frame thead { border-bottom: none; }\n",
       ".datatable table.frame tr.coltypes td {  color: #FFFFFF;  line-height: 6px;  padding: 0 0.5em;}\n",
       ".datatable .bool    { background: #DDDD99; }\n",
       ".datatable .object  { background: #565656; }\n",
       ".datatable .int     { background: #5D9E5D; }\n",
       ".datatable .float   { background: #4040CC; }\n",
       ".datatable .str     { background: #CC4040; }\n",
       ".datatable .time    { background: #40CC40; }\n",
       ".datatable .row_index {  background: var(--jp-border-color3);  border-right: 1px solid var(--jp-border-color0);  color: var(--jp-ui-font-color3);  font-size: 9px;}\n",
       ".datatable .frame tbody td { text-align: left; }\n",
       ".datatable .frame tr.coltypes .row_index {  background: var(--jp-border-color0);}\n",
       ".datatable th:nth-child(2) { padding-left: 12px; }\n",
       ".datatable .hellipsis {  color: var(--jp-cell-editor-border-color);}\n",
       ".datatable .vellipsis {  background: var(--jp-layout-color0);  color: var(--jp-cell-editor-border-color);}\n",
       ".datatable .na {  color: var(--jp-cell-editor-border-color);  font-size: 80%;}\n",
       ".datatable .sp {  opacity: 0.25;}\n",
       ".datatable .footer { font-size: 9px; }\n",
       ".datatable .frame_dimensions {  background: var(--jp-border-color3);  border-top: 1px solid var(--jp-border-color0);  color: var(--jp-ui-font-color3);  display: inline-block;  opacity: 0.6;  padding: 1px 10px 1px 5px;}\n",
       "</style>\n"
      ],
      "text/plain": [
       "<IPython.core.display.HTML object>"
      ]
     },
     "metadata": {},
     "output_type": "display_data"
    }
   ],
   "source": [
    "import datatable as dt"
   ]
  },
  {
   "cell_type": "markdown",
   "id": "f904fd18",
   "metadata": {
    "papermill": {
     "duration": 0.026234,
     "end_time": "2021-07-22T05:32:35.669848",
     "exception": false,
     "start_time": "2021-07-22T05:32:35.643614",
     "status": "completed"
    },
    "tags": []
   },
   "source": [
    "**Exercise 61: Read all the files together from `datatableton_sample.zip`, assign the list of frames to `data` and print the name of each file**"
   ]
  },
  {
   "cell_type": "code",
   "execution_count": 3,
   "id": "a5f701a9",
   "metadata": {
    "execution": {
     "iopub.execute_input": "2021-07-22T05:32:35.725532Z",
     "iopub.status.busy": "2021-07-22T05:32:35.724917Z",
     "iopub.status.idle": "2021-07-22T05:32:35.741459Z",
     "shell.execute_reply": "2021-07-22T05:32:35.742029Z",
     "shell.execute_reply.started": "2021-07-21T19:52:20.742917Z"
    },
    "papermill": {
     "duration": 0.046157,
     "end_time": "2021-07-22T05:32:35.742219",
     "exception": false,
     "start_time": "2021-07-22T05:32:35.696062",
     "status": "completed"
    },
    "tags": []
   },
   "outputs": [
    {
     "name": "stdout",
     "output_type": "stream",
     "text": [
      "orders_feb.csv\n",
      "orders_jan.csv\n",
      "orders_mar.csv\n",
      "returns.csv\n",
      "users.csv\n"
     ]
    }
   ],
   "source": [
    "data = list(dt.iread('datatableton_sample.zip'))\n",
    "\n",
    "for i in range(len(data)):\n",
    "    print(data[i].source.split('/')[-1])"
   ]
  },
  {
   "cell_type": "markdown",
   "id": "427e8a89",
   "metadata": {
    "papermill": {
     "duration": 0.027887,
     "end_time": "2021-07-22T05:32:35.797172",
     "exception": false,
     "start_time": "2021-07-22T05:32:35.769285",
     "status": "completed"
    },
    "tags": []
   },
   "source": [
    "**Exercise 62: Assign the frames `orders_jan.csv`, `orders_feb.csv`, `orders_mar.csv`, `returns.csv` and `users.csv` in `data` to individual frames `orders_jan`, `orders_feb`, `orders_mar`, `returns` and `users` respectively and display the head of each frame**"
   ]
  },
  {
   "cell_type": "code",
   "execution_count": 4,
   "id": "550a38bd",
   "metadata": {
    "execution": {
     "iopub.execute_input": "2021-07-22T05:32:35.853411Z",
     "iopub.status.busy": "2021-07-22T05:32:35.852808Z",
     "iopub.status.idle": "2021-07-22T05:32:35.859806Z",
     "shell.execute_reply": "2021-07-22T05:32:35.859156Z",
     "shell.execute_reply.started": "2021-07-21T19:52:20.764564Z"
    },
    "papermill": {
     "duration": 0.036123,
     "end_time": "2021-07-22T05:32:35.859947",
     "exception": false,
     "start_time": "2021-07-22T05:32:35.823824",
     "status": "completed"
    },
    "tags": []
   },
   "outputs": [
    {
     "data": {
      "text/html": [
       "<div class='datatable'>\n",
       "  <table class='frame'>\n",
       "  <thead>\n",
       "    <tr class='colnames'><td class='row_index'></td><th>Order ID</th><th>Category</th><th>Category ID</th><th>Sales</th><th>Quantity</th><th>Discount</th><th>Month</th></tr>\n",
       "    <tr class='coltypes'><td class='row_index'></td><td class='float' title='float64'>&#x25AA;&#x25AA;&#x25AA;&#x25AA;&#x25AA;&#x25AA;&#x25AA;&#x25AA;</td><td class='str' title='str32'>&#x25AA;&#x25AA;&#x25AA;&#x25AA;</td><td class='int' title='int32'>&#x25AA;&#x25AA;&#x25AA;&#x25AA;</td><td class='float' title='float64'>&#x25AA;&#x25AA;&#x25AA;&#x25AA;&#x25AA;&#x25AA;&#x25AA;&#x25AA;</td><td class='int' title='int32'>&#x25AA;&#x25AA;&#x25AA;&#x25AA;</td><td class='float' title='float64'>&#x25AA;&#x25AA;&#x25AA;&#x25AA;&#x25AA;&#x25AA;&#x25AA;&#x25AA;</td><td class='str' title='str32'>&#x25AA;&#x25AA;&#x25AA;&#x25AA;</td></tr>\n",
       "  </thead>\n",
       "  <tbody>\n",
       "    <tr><td class='row_index'>0</td><td>1.1</td><td>Apparels</td><td>1001</td><td>89</td><td>2</td><td>0.2</td><td>Jan</td></tr>\n",
       "    <tr><td class='row_index'>1</td><td>1.2</td><td>Electronics</td><td>1003</td><td>65</td><td>87</td><td>0.2</td><td>Jan</td></tr>\n",
       "    <tr><td class='row_index'>2</td><td>1.3</td><td>Cosmetics</td><td>1002</td><td>272.74</td><td>3</td><td>0.2</td><td>Jan</td></tr>\n",
       "    <tr><td class='row_index'>3</td><td>1.4</td><td>Apparels</td><td>1001</td><td>3.54</td><td>2</td><td>0.8</td><td>Jan</td></tr>\n",
       "    <tr><td class='row_index'>4</td><td>1.5</td><td>Cosmetics</td><td>1002</td><td>19.54</td><td>3</td><td>0.2</td><td>Jan</td></tr>\n",
       "    <tr><td class='row_index'>5</td><td>1.6</td><td>Electronics</td><td>1003</td><td>19.44</td><td>3</td><td>0</td><td>Jan</td></tr>\n",
       "    <tr><td class='row_index'>6</td><td>1.7</td><td>Apparels</td><td>1001</td><td>12.78</td><td>3</td><td>0</td><td>Jan</td></tr>\n",
       "    <tr><td class='row_index'>7</td><td>1.8</td><td>Apparels</td><td>1001</td><td>2573.82</td><td>9</td><td>0</td><td>Jan</td></tr>\n",
       "    <tr><td class='row_index'>8</td><td>1.9</td><td>Apparels</td><td>1001</td><td>300</td><td>10</td><td>0.5</td><td>Jan</td></tr>\n",
       "  </tbody>\n",
       "  </table>\n",
       "  <div class='footer'>\n",
       "    <div class='frame_dimensions'>9 rows &times; 7 columns</div>\n",
       "  </div>\n",
       "</div>\n"
      ],
      "text/plain": [
       "<Frame#7f510004a150 9x7>"
      ]
     },
     "execution_count": 4,
     "metadata": {},
     "output_type": "execute_result"
    }
   ],
   "source": [
    "orders_jan = data[1]\n",
    "orders_jan.head()"
   ]
  },
  {
   "cell_type": "code",
   "execution_count": 5,
   "id": "7e9a7650",
   "metadata": {
    "execution": {
     "iopub.execute_input": "2021-07-22T05:32:35.918382Z",
     "iopub.status.busy": "2021-07-22T05:32:35.917628Z",
     "iopub.status.idle": "2021-07-22T05:32:35.923559Z",
     "shell.execute_reply": "2021-07-22T05:32:35.924044Z",
     "shell.execute_reply.started": "2021-07-21T19:52:20.774268Z"
    },
    "papermill": {
     "duration": 0.036802,
     "end_time": "2021-07-22T05:32:35.924222",
     "exception": false,
     "start_time": "2021-07-22T05:32:35.887420",
     "status": "completed"
    },
    "tags": []
   },
   "outputs": [
    {
     "data": {
      "text/html": [
       "<div class='datatable'>\n",
       "  <table class='frame'>\n",
       "  <thead>\n",
       "    <tr class='colnames'><td class='row_index'></td><th>Order ID</th><th>Category</th><th>Category ID</th><th>Sales</th><th>Quantity</th><th>Discount</th><th>Month</th></tr>\n",
       "    <tr class='coltypes'><td class='row_index'></td><td class='float' title='float64'>&#x25AA;&#x25AA;&#x25AA;&#x25AA;&#x25AA;&#x25AA;&#x25AA;&#x25AA;</td><td class='str' title='str32'>&#x25AA;&#x25AA;&#x25AA;&#x25AA;</td><td class='int' title='int32'>&#x25AA;&#x25AA;&#x25AA;&#x25AA;</td><td class='int' title='int32'>&#x25AA;&#x25AA;&#x25AA;&#x25AA;</td><td class='int' title='int32'>&#x25AA;&#x25AA;&#x25AA;&#x25AA;</td><td class='float' title='float64'>&#x25AA;&#x25AA;&#x25AA;&#x25AA;&#x25AA;&#x25AA;&#x25AA;&#x25AA;</td><td class='str' title='str32'>&#x25AA;&#x25AA;&#x25AA;&#x25AA;</td></tr>\n",
       "  </thead>\n",
       "  <tbody>\n",
       "    <tr><td class='row_index'>0</td><td>2.1</td><td>Flowers</td><td>1004</td><td>75</td><td>15</td><td>0.2</td><td>Feb</td></tr>\n",
       "    <tr><td class='row_index'>1</td><td>2.2</td><td>International Cuisine</td><td>1005</td><td>65</td><td>23</td><td>0.2</td><td>Feb</td></tr>\n",
       "    <tr><td class='row_index'>2</td><td>2.3</td><td>Paper Products </td><td>1006</td><td>115</td><td>100</td><td>0.8</td><td>Feb</td></tr>\n",
       "    <tr><td class='row_index'>3</td><td>2.4</td><td>Gift cards</td><td>1005</td><td>236</td><td>565</td><td>0.2</td><td>Feb</td></tr>\n",
       "    <tr><td class='row_index'>4</td><td>2.5</td><td>Pet Care</td><td>1007</td><td>78</td><td>8</td><td>0</td><td>Feb</td></tr>\n",
       "    <tr><td class='row_index'>5</td><td>2.6</td><td>Pharmacy</td><td>1008</td><td>45</td><td>9</td><td>0</td><td>Feb</td></tr>\n",
       "    <tr><td class='row_index'>6</td><td>2.7</td><td>Grocery</td><td>1009</td><td>12</td><td>9</td><td>0</td><td>Feb</td></tr>\n",
       "    <tr><td class='row_index'>7</td><td>2.8</td><td>Pet Care</td><td>1007</td><td>56</td><td>2</td><td>0</td><td>Feb</td></tr>\n",
       "    <tr><td class='row_index'>8</td><td>2.9</td><td>Pharmacy</td><td>1008</td><td>300</td><td>10</td><td>0.5</td><td>Feb</td></tr>\n",
       "  </tbody>\n",
       "  </table>\n",
       "  <div class='footer'>\n",
       "    <div class='frame_dimensions'>9 rows &times; 7 columns</div>\n",
       "  </div>\n",
       "</div>\n"
      ],
      "text/plain": [
       "<Frame#7f510004a2d0 9x7>"
      ]
     },
     "execution_count": 5,
     "metadata": {},
     "output_type": "execute_result"
    }
   ],
   "source": [
    "orders_feb = data[0]\n",
    "orders_feb.head()"
   ]
  },
  {
   "cell_type": "code",
   "execution_count": 6,
   "id": "0bfe26d4",
   "metadata": {
    "execution": {
     "iopub.execute_input": "2021-07-22T05:32:35.986537Z",
     "iopub.status.busy": "2021-07-22T05:32:35.985561Z",
     "iopub.status.idle": "2021-07-22T05:32:35.989901Z",
     "shell.execute_reply": "2021-07-22T05:32:35.989208Z",
     "shell.execute_reply.started": "2021-07-21T19:52:20.787779Z"
    },
    "papermill": {
     "duration": 0.037646,
     "end_time": "2021-07-22T05:32:35.990046",
     "exception": false,
     "start_time": "2021-07-22T05:32:35.952400",
     "status": "completed"
    },
    "tags": []
   },
   "outputs": [
    {
     "data": {
      "text/html": [
       "<div class='datatable'>\n",
       "  <table class='frame'>\n",
       "  <thead>\n",
       "    <tr class='colnames'><td class='row_index'></td><th>Order ID</th><th>Category</th><th>Category ID</th><th>Sales</th><th>Quantity</th><th>Discount</th><th>Month</th></tr>\n",
       "    <tr class='coltypes'><td class='row_index'></td><td class='float' title='float64'>&#x25AA;&#x25AA;&#x25AA;&#x25AA;&#x25AA;&#x25AA;&#x25AA;&#x25AA;</td><td class='str' title='str32'>&#x25AA;&#x25AA;&#x25AA;&#x25AA;</td><td class='int' title='int32'>&#x25AA;&#x25AA;&#x25AA;&#x25AA;</td><td class='float' title='float64'>&#x25AA;&#x25AA;&#x25AA;&#x25AA;&#x25AA;&#x25AA;&#x25AA;&#x25AA;</td><td class='int' title='int32'>&#x25AA;&#x25AA;&#x25AA;&#x25AA;</td><td class='float' title='float64'>&#x25AA;&#x25AA;&#x25AA;&#x25AA;&#x25AA;&#x25AA;&#x25AA;&#x25AA;</td><td class='str' title='str32'>&#x25AA;&#x25AA;&#x25AA;&#x25AA;</td></tr>\n",
       "  </thead>\n",
       "  <tbody>\n",
       "    <tr><td class='row_index'>0</td><td>3.1</td><td>Flowers</td><td>1004</td><td>32</td><td>45</td><td>0.3</td><td>March</td></tr>\n",
       "    <tr><td class='row_index'>1</td><td>3.2</td><td>International Cuisine</td><td>1005</td><td>160</td><td>4</td><td>0.2</td><td>March</td></tr>\n",
       "    <tr><td class='row_index'>2</td><td>3.3</td><td>Pet Care</td><td>1009</td><td>130</td><td>89</td><td>0.3</td><td>March</td></tr>\n",
       "    <tr><td class='row_index'>3</td><td>3.4</td><td>International Cuisine</td><td>1005</td><td>3.5</td><td>12</td><td>0.9</td><td>March</td></tr>\n",
       "    <tr><td class='row_index'>4</td><td>3.5</td><td>Paper Products </td><td>1006</td><td>35</td><td>4</td><td>0.2</td><td>March</td></tr>\n",
       "    <tr><td class='row_index'>5</td><td>3.6</td><td>Flowers</td><td>1004</td><td>16</td><td>78</td><td>0</td><td>March</td></tr>\n",
       "    <tr><td class='row_index'>6</td><td>3.7</td><td>Paper Products </td><td>1006</td><td>89</td><td>3</td><td>0.5</td><td>March</td></tr>\n",
       "    <tr><td class='row_index'>7</td><td>3.8</td><td>Pharmacy</td><td>1008</td><td>2573.8</td><td>1</td><td>0</td><td>March</td></tr>\n",
       "    <tr><td class='row_index'>8</td><td>3.9</td><td>Apparels</td><td>1003</td><td>610</td><td>2</td><td>0.5</td><td>March</td></tr>\n",
       "  </tbody>\n",
       "  </table>\n",
       "  <div class='footer'>\n",
       "    <div class='frame_dimensions'>9 rows &times; 7 columns</div>\n",
       "  </div>\n",
       "</div>\n"
      ],
      "text/plain": [
       "<Frame#7f510004a1e0 9x7>"
      ]
     },
     "execution_count": 6,
     "metadata": {},
     "output_type": "execute_result"
    }
   ],
   "source": [
    "orders_mar = data[2]\n",
    "orders_mar.head()"
   ]
  },
  {
   "cell_type": "code",
   "execution_count": 7,
   "id": "daa86873",
   "metadata": {
    "execution": {
     "iopub.execute_input": "2021-07-22T05:32:36.053884Z",
     "iopub.status.busy": "2021-07-22T05:32:36.052987Z",
     "iopub.status.idle": "2021-07-22T05:32:36.057006Z",
     "shell.execute_reply": "2021-07-22T05:32:36.057497Z",
     "shell.execute_reply.started": "2021-07-21T19:52:20.800776Z"
    },
    "papermill": {
     "duration": 0.039352,
     "end_time": "2021-07-22T05:32:36.057716",
     "exception": false,
     "start_time": "2021-07-22T05:32:36.018364",
     "status": "completed"
    },
    "tags": []
   },
   "outputs": [
    {
     "data": {
      "text/html": [
       "<div class='datatable'>\n",
       "  <table class='frame'>\n",
       "  <thead>\n",
       "    <tr class='colnames'><td class='row_index'></td><th>Number of Records</th><th>Order ID</th><th>Updated Order Returns</th><th>Return ID</th></tr>\n",
       "    <tr class='coltypes'><td class='row_index'></td><td class='int' title='int32'>&#x25AA;&#x25AA;&#x25AA;&#x25AA;</td><td class='float' title='float64'>&#x25AA;&#x25AA;&#x25AA;&#x25AA;&#x25AA;&#x25AA;&#x25AA;&#x25AA;</td><td class='str' title='str32'>&#x25AA;&#x25AA;&#x25AA;&#x25AA;</td><td class='str' title='str32'>&#x25AA;&#x25AA;&#x25AA;&#x25AA;</td></tr>\n",
       "  </thead>\n",
       "  <tbody>\n",
       "    <tr><td class='row_index'>0</td><td>1</td><td>1.1</td><td>Inaccurate</td><td>R001</td></tr>\n",
       "    <tr><td class='row_index'>1</td><td>10</td><td>1.2</td><td>Late Delivery</td><td>R002</td></tr>\n",
       "    <tr><td class='row_index'>2</td><td>1</td><td>1.3</td><td>Product Damaged</td><td>R003</td></tr>\n",
       "    <tr><td class='row_index'>3</td><td>1</td><td>1.4</td><td>Incorrect Products Delivered</td><td>R004</td></tr>\n",
       "    <tr><td class='row_index'>4</td><td>8</td><td>1.5</td><td>Description Inaccurate</td><td>R005</td></tr>\n",
       "    <tr><td class='row_index'>5</td><td>1</td><td>1.6</td><td>Description Inaccurate</td><td>R005</td></tr>\n",
       "    <tr><td class='row_index'>6</td><td>1</td><td>1.7</td><td>Customer Dissatified With Product</td><td>R006</td></tr>\n",
       "    <tr><td class='row_index'>7</td><td>14</td><td>1.8</td><td>Customer Dissatified</td><td>R007</td></tr>\n",
       "    <tr><td class='row_index'>8</td><td>1</td><td>1.9</td><td>Description Inaccurate</td><td>R005</td></tr>\n",
       "    <tr><td class='row_index'>9</td><td>10</td><td>2.1</td><td>Customer Dissatified With Product</td><td>R006</td></tr>\n",
       "  </tbody>\n",
       "  </table>\n",
       "  <div class='footer'>\n",
       "    <div class='frame_dimensions'>10 rows &times; 4 columns</div>\n",
       "  </div>\n",
       "</div>\n"
      ],
      "text/plain": [
       "<Frame#7f510004afc0 10x4>"
      ]
     },
     "execution_count": 7,
     "metadata": {},
     "output_type": "execute_result"
    }
   ],
   "source": [
    "returns = data[3]\n",
    "returns.head()"
   ]
  },
  {
   "cell_type": "code",
   "execution_count": 8,
   "id": "d4c0994b",
   "metadata": {
    "execution": {
     "iopub.execute_input": "2021-07-22T05:32:36.121565Z",
     "iopub.status.busy": "2021-07-22T05:32:36.120901Z",
     "iopub.status.idle": "2021-07-22T05:32:36.123373Z",
     "shell.execute_reply": "2021-07-22T05:32:36.123970Z",
     "shell.execute_reply.started": "2021-07-21T19:52:20.813928Z"
    },
    "papermill": {
     "duration": 0.037059,
     "end_time": "2021-07-22T05:32:36.124139",
     "exception": false,
     "start_time": "2021-07-22T05:32:36.087080",
     "status": "completed"
    },
    "tags": []
   },
   "outputs": [
    {
     "data": {
      "text/html": [
       "<div class='datatable'>\n",
       "  <table class='frame'>\n",
       "  <thead>\n",
       "    <tr class='colnames'><td class='row_index'></td><th>Person</th><th>Category ID</th><th>Return ID</th><th>Region</th></tr>\n",
       "    <tr class='coltypes'><td class='row_index'></td><td class='str' title='str32'>&#x25AA;&#x25AA;&#x25AA;&#x25AA;</td><td class='int' title='int32'>&#x25AA;&#x25AA;&#x25AA;&#x25AA;</td><td class='str' title='str32'>&#x25AA;&#x25AA;&#x25AA;&#x25AA;</td><td class='str' title='str32'>&#x25AA;&#x25AA;&#x25AA;&#x25AA;</td></tr>\n",
       "  </thead>\n",
       "  <tbody>\n",
       "    <tr><td class='row_index'>0</td><td>Amy</td><td>1001</td><td>R004</td><td>West</td></tr>\n",
       "    <tr><td class='row_index'>1</td><td>Max</td><td>1002</td><td>R001</td><td>East</td></tr>\n",
       "    <tr><td class='row_index'>2</td><td>William</td><td>1007</td><td>R003</td><td>Central</td></tr>\n",
       "    <tr><td class='row_index'>3</td><td>Nancy</td><td>1004</td><td>R006</td><td>South</td></tr>\n",
       "    <tr><td class='row_index'>4</td><td>Isabella</td><td>1001</td><td>R006</td><td>West</td></tr>\n",
       "    <tr><td class='row_index'>5</td><td>Tom</td><td>1001</td><td>R005</td><td>East</td></tr>\n",
       "    <tr><td class='row_index'>6</td><td>Mary</td><td>1007</td><td>R005</td><td>South</td></tr>\n",
       "    <tr><td class='row_index'>7</td><td>Carlos</td><td>1008</td><td>R006</td><td>West</td></tr>\n",
       "    <tr><td class='row_index'>8</td><td>Kimi</td><td>1003</td><td>R002</td><td>East</td></tr>\n",
       "    <tr><td class='row_index'>9</td><td>Lando</td><td>1002</td><td>R003</td><td>Central</td></tr>\n",
       "  </tbody>\n",
       "  </table>\n",
       "  <div class='footer'>\n",
       "    <div class='frame_dimensions'>10 rows &times; 4 columns</div>\n",
       "  </div>\n",
       "</div>\n"
      ],
      "text/plain": [
       "<Frame#7f510004a090 10x4>"
      ]
     },
     "execution_count": 8,
     "metadata": {},
     "output_type": "execute_result"
    }
   ],
   "source": [
    "users = data[4]\n",
    "users.head()"
   ]
  },
  {
   "cell_type": "markdown",
   "id": "6aa58166",
   "metadata": {
    "papermill": {
     "duration": 0.028707,
     "end_time": "2021-07-22T05:32:36.181752",
     "exception": false,
     "start_time": "2021-07-22T05:32:36.153045",
     "status": "completed"
    },
    "tags": []
   },
   "source": [
    "**Exercise 63: Append all rows of `orders_jan`, `orders_feb` and `orders_mar` into a single frame and assign it to `orders_all`**"
   ]
  },
  {
   "cell_type": "code",
   "execution_count": 9,
   "id": "bba445cb",
   "metadata": {
    "execution": {
     "iopub.execute_input": "2021-07-22T05:32:36.242509Z",
     "iopub.status.busy": "2021-07-22T05:32:36.241890Z",
     "iopub.status.idle": "2021-07-22T05:32:36.248901Z",
     "shell.execute_reply": "2021-07-22T05:32:36.248342Z",
     "shell.execute_reply.started": "2021-07-21T19:52:20.828686Z"
    },
    "papermill": {
     "duration": 0.038475,
     "end_time": "2021-07-22T05:32:36.249060",
     "exception": false,
     "start_time": "2021-07-22T05:32:36.210585",
     "status": "completed"
    },
    "tags": []
   },
   "outputs": [
    {
     "data": {
      "text/html": [
       "<div class='datatable'>\n",
       "  <table class='frame'>\n",
       "  <thead>\n",
       "    <tr class='colnames'><td class='row_index'></td><th>Order ID</th><th>Category</th><th>Category ID</th><th>Sales</th><th>Quantity</th><th>Discount</th><th>Month</th></tr>\n",
       "    <tr class='coltypes'><td class='row_index'></td><td class='float' title='float64'>&#x25AA;&#x25AA;&#x25AA;&#x25AA;&#x25AA;&#x25AA;&#x25AA;&#x25AA;</td><td class='str' title='str32'>&#x25AA;&#x25AA;&#x25AA;&#x25AA;</td><td class='int' title='int32'>&#x25AA;&#x25AA;&#x25AA;&#x25AA;</td><td class='float' title='float64'>&#x25AA;&#x25AA;&#x25AA;&#x25AA;&#x25AA;&#x25AA;&#x25AA;&#x25AA;</td><td class='int' title='int32'>&#x25AA;&#x25AA;&#x25AA;&#x25AA;</td><td class='float' title='float64'>&#x25AA;&#x25AA;&#x25AA;&#x25AA;&#x25AA;&#x25AA;&#x25AA;&#x25AA;</td><td class='str' title='str32'>&#x25AA;&#x25AA;&#x25AA;&#x25AA;</td></tr>\n",
       "  </thead>\n",
       "  <tbody>\n",
       "    <tr><td class='row_index'>0</td><td>1.1</td><td>Apparels</td><td>1001</td><td>89</td><td>2</td><td>0.2</td><td>Jan</td></tr>\n",
       "    <tr><td class='row_index'>1</td><td>1.2</td><td>Electronics</td><td>1003</td><td>65</td><td>87</td><td>0.2</td><td>Jan</td></tr>\n",
       "    <tr><td class='row_index'>2</td><td>1.3</td><td>Cosmetics</td><td>1002</td><td>272.74</td><td>3</td><td>0.2</td><td>Jan</td></tr>\n",
       "    <tr><td class='row_index'>3</td><td>1.4</td><td>Apparels</td><td>1001</td><td>3.54</td><td>2</td><td>0.8</td><td>Jan</td></tr>\n",
       "    <tr><td class='row_index'>4</td><td>1.5</td><td>Cosmetics</td><td>1002</td><td>19.54</td><td>3</td><td>0.2</td><td>Jan</td></tr>\n",
       "    <tr><td class='row_index'>5</td><td>1.6</td><td>Electronics</td><td>1003</td><td>19.44</td><td>3</td><td>0</td><td>Jan</td></tr>\n",
       "    <tr><td class='row_index'>6</td><td>1.7</td><td>Apparels</td><td>1001</td><td>12.78</td><td>3</td><td>0</td><td>Jan</td></tr>\n",
       "    <tr><td class='row_index'>7</td><td>1.8</td><td>Apparels</td><td>1001</td><td>2573.82</td><td>9</td><td>0</td><td>Jan</td></tr>\n",
       "    <tr><td class='row_index'>8</td><td>1.9</td><td>Apparels</td><td>1001</td><td>300</td><td>10</td><td>0.5</td><td>Jan</td></tr>\n",
       "    <tr><td class='row_index'>9</td><td>2.1</td><td>Flowers</td><td>1004</td><td>75</td><td>15</td><td>0.2</td><td>Feb</td></tr>\n",
       "  </tbody>\n",
       "  </table>\n",
       "  <div class='footer'>\n",
       "    <div class='frame_dimensions'>10 rows &times; 7 columns</div>\n",
       "  </div>\n",
       "</div>\n"
      ],
      "text/plain": [
       "<Frame#7f510004a210 10x7>"
      ]
     },
     "execution_count": 9,
     "metadata": {},
     "output_type": "execute_result"
    }
   ],
   "source": [
    "orders_all = dt.rbind(orders_jan, orders_feb, orders_mar)\n",
    "orders_all.head()"
   ]
  },
  {
   "cell_type": "markdown",
   "id": "a1dc3d11",
   "metadata": {
    "papermill": {
     "duration": 0.029397,
     "end_time": "2021-07-22T05:32:36.307959",
     "exception": false,
     "start_time": "2021-07-22T05:32:36.278562",
     "status": "completed"
    },
    "tags": []
   },
   "source": [
    "**Exercise 64: Join `orders_all` to `returns` on `Order ID` and assign it to `sales`**"
   ]
  },
  {
   "cell_type": "code",
   "execution_count": 10,
   "id": "3f27f5e9",
   "metadata": {
    "execution": {
     "iopub.execute_input": "2021-07-22T05:32:36.378154Z",
     "iopub.status.busy": "2021-07-22T05:32:36.377396Z",
     "iopub.status.idle": "2021-07-22T05:32:36.384589Z",
     "shell.execute_reply": "2021-07-22T05:32:36.385712Z",
     "shell.execute_reply.started": "2021-07-21T19:52:20.842218Z"
    },
    "papermill": {
     "duration": 0.048563,
     "end_time": "2021-07-22T05:32:36.385922",
     "exception": false,
     "start_time": "2021-07-22T05:32:36.337359",
     "status": "completed"
    },
    "tags": []
   },
   "outputs": [
    {
     "data": {
      "text/html": [
       "<div class='datatable'>\n",
       "  <table class='frame'>\n",
       "  <thead>\n",
       "    <tr class='colnames'><td class='row_index'></td><th>Number of Records</th><th>Order ID</th><th>Updated Order Returns</th><th>Return ID</th><th>Category</th><th>Category ID</th><th>Sales</th><th>Quantity</th><th>Discount</th><th>Month</th></tr>\n",
       "    <tr class='coltypes'><td class='row_index'></td><td class='int' title='int32'>&#x25AA;&#x25AA;&#x25AA;&#x25AA;</td><td class='float' title='float64'>&#x25AA;&#x25AA;&#x25AA;&#x25AA;&#x25AA;&#x25AA;&#x25AA;&#x25AA;</td><td class='str' title='str32'>&#x25AA;&#x25AA;&#x25AA;&#x25AA;</td><td class='str' title='str32'>&#x25AA;&#x25AA;&#x25AA;&#x25AA;</td><td class='str' title='str32'>&#x25AA;&#x25AA;&#x25AA;&#x25AA;</td><td class='int' title='int32'>&#x25AA;&#x25AA;&#x25AA;&#x25AA;</td><td class='float' title='float64'>&#x25AA;&#x25AA;&#x25AA;&#x25AA;&#x25AA;&#x25AA;&#x25AA;&#x25AA;</td><td class='int' title='int32'>&#x25AA;&#x25AA;&#x25AA;&#x25AA;</td><td class='float' title='float64'>&#x25AA;&#x25AA;&#x25AA;&#x25AA;&#x25AA;&#x25AA;&#x25AA;&#x25AA;</td><td class='str' title='str32'>&#x25AA;&#x25AA;&#x25AA;&#x25AA;</td></tr>\n",
       "  </thead>\n",
       "  <tbody>\n",
       "    <tr><td class='row_index'>0</td><td>1</td><td>1.1</td><td>Inaccurate</td><td>R001</td><td>Apparels</td><td>1001</td><td>89</td><td>2</td><td>0.2</td><td>Jan</td></tr>\n",
       "    <tr><td class='row_index'>1</td><td>10</td><td>1.2</td><td>Late Delivery</td><td>R002</td><td>Electronics</td><td>1003</td><td>65</td><td>87</td><td>0.2</td><td>Jan</td></tr>\n",
       "    <tr><td class='row_index'>2</td><td>1</td><td>1.3</td><td>Product Damaged</td><td>R003</td><td>Cosmetics</td><td>1002</td><td>272.74</td><td>3</td><td>0.2</td><td>Jan</td></tr>\n",
       "    <tr><td class='row_index'>3</td><td>1</td><td>1.4</td><td>Incorrect Products Delivered</td><td>R004</td><td>Apparels</td><td>1001</td><td>3.54</td><td>2</td><td>0.8</td><td>Jan</td></tr>\n",
       "    <tr><td class='row_index'>4</td><td>8</td><td>1.5</td><td>Description Inaccurate</td><td>R005</td><td>Cosmetics</td><td>1002</td><td>19.54</td><td>3</td><td>0.2</td><td>Jan</td></tr>\n",
       "    <tr><td class='row_index'>5</td><td>1</td><td>1.6</td><td>Description Inaccurate</td><td>R005</td><td>Electronics</td><td>1003</td><td>19.44</td><td>3</td><td>0</td><td>Jan</td></tr>\n",
       "    <tr><td class='row_index'>6</td><td>1</td><td>1.7</td><td>Customer Dissatified With Product</td><td>R006</td><td>Apparels</td><td>1001</td><td>12.78</td><td>3</td><td>0</td><td>Jan</td></tr>\n",
       "    <tr><td class='row_index'>7</td><td>14</td><td>1.8</td><td>Customer Dissatified</td><td>R007</td><td>Apparels</td><td>1001</td><td>2573.82</td><td>9</td><td>0</td><td>Jan</td></tr>\n",
       "    <tr><td class='row_index'>8</td><td>1</td><td>1.9</td><td>Description Inaccurate</td><td>R005</td><td>Apparels</td><td>1001</td><td>300</td><td>10</td><td>0.5</td><td>Jan</td></tr>\n",
       "    <tr><td class='row_index'>9</td><td>10</td><td>2.1</td><td>Customer Dissatified With Product</td><td>R006</td><td>Flowers</td><td>1004</td><td>75</td><td>15</td><td>0.2</td><td>Feb</td></tr>\n",
       "  </tbody>\n",
       "  </table>\n",
       "  <div class='footer'>\n",
       "    <div class='frame_dimensions'>10 rows &times; 10 columns</div>\n",
       "  </div>\n",
       "</div>\n"
      ],
      "text/plain": [
       "<Frame#7f5100577c00 10x10>"
      ]
     },
     "execution_count": 10,
     "metadata": {},
     "output_type": "execute_result"
    }
   ],
   "source": [
    "orders_all.key = 'Order ID'\n",
    "sales = returns[:, :, dt.join(orders_all)]\n",
    "sales.head()"
   ]
  },
  {
   "cell_type": "markdown",
   "id": "fc2af957",
   "metadata": {
    "papermill": {
     "duration": 0.032159,
     "end_time": "2021-07-22T05:32:36.454839",
     "exception": false,
     "start_time": "2021-07-22T05:32:36.422680",
     "status": "completed"
    },
    "tags": []
   },
   "source": [
    "**Exercise 65: Update `users` by joining `sales` to it on `Return ID` and `Category ID`**"
   ]
  },
  {
   "cell_type": "code",
   "execution_count": 11,
   "id": "067b0928",
   "metadata": {
    "execution": {
     "iopub.execute_input": "2021-07-22T05:32:36.525165Z",
     "iopub.status.busy": "2021-07-22T05:32:36.524426Z",
     "iopub.status.idle": "2021-07-22T05:32:36.529284Z",
     "shell.execute_reply": "2021-07-22T05:32:36.529818Z",
     "shell.execute_reply.started": "2021-07-21T19:52:20.862838Z"
    },
    "papermill": {
     "duration": 0.045355,
     "end_time": "2021-07-22T05:32:36.530020",
     "exception": false,
     "start_time": "2021-07-22T05:32:36.484665",
     "status": "completed"
    },
    "tags": []
   },
   "outputs": [
    {
     "data": {
      "text/html": [
       "<div class='datatable'>\n",
       "  <table class='frame'>\n",
       "  <thead>\n",
       "    <tr class='colnames'><td class='row_index'></td><th>Person</th><th>Category ID</th><th>Return ID</th><th>Region</th><th>Number of Records</th><th>Order ID</th><th>Updated Order Returns</th><th>Category</th><th>Sales</th><th>Quantity</th><th>Discount</th><th>Month</th></tr>\n",
       "    <tr class='coltypes'><td class='row_index'></td><td class='str' title='str32'>&#x25AA;&#x25AA;&#x25AA;&#x25AA;</td><td class='int' title='int32'>&#x25AA;&#x25AA;&#x25AA;&#x25AA;</td><td class='str' title='str32'>&#x25AA;&#x25AA;&#x25AA;&#x25AA;</td><td class='str' title='str32'>&#x25AA;&#x25AA;&#x25AA;&#x25AA;</td><td class='int' title='int32'>&#x25AA;&#x25AA;&#x25AA;&#x25AA;</td><td class='float' title='float64'>&#x25AA;&#x25AA;&#x25AA;&#x25AA;&#x25AA;&#x25AA;&#x25AA;&#x25AA;</td><td class='str' title='str32'>&#x25AA;&#x25AA;&#x25AA;&#x25AA;</td><td class='str' title='str32'>&#x25AA;&#x25AA;&#x25AA;&#x25AA;</td><td class='float' title='float64'>&#x25AA;&#x25AA;&#x25AA;&#x25AA;&#x25AA;&#x25AA;&#x25AA;&#x25AA;</td><td class='int' title='int32'>&#x25AA;&#x25AA;&#x25AA;&#x25AA;</td><td class='float' title='float64'>&#x25AA;&#x25AA;&#x25AA;&#x25AA;&#x25AA;&#x25AA;&#x25AA;&#x25AA;</td><td class='str' title='str32'>&#x25AA;&#x25AA;&#x25AA;&#x25AA;</td></tr>\n",
       "  </thead>\n",
       "  <tbody>\n",
       "    <tr><td class='row_index'>0</td><td>Amy</td><td>1001</td><td>R004</td><td>West</td><td>1</td><td>1.4</td><td>Incorrect Products Delivered</td><td>Apparels</td><td>3.54</td><td>2</td><td>0.8</td><td>Jan</td></tr>\n",
       "    <tr><td class='row_index'>1</td><td>Max</td><td>1002</td><td>R001</td><td>East</td><td><span class=na>NA</span></td><td><span class=na>NA</span></td><td><span class=na>NA</span></td><td><span class=na>NA</span></td><td><span class=na>NA</span></td><td><span class=na>NA</span></td><td><span class=na>NA</span></td><td><span class=na>NA</span></td></tr>\n",
       "    <tr><td class='row_index'>2</td><td>William</td><td>1007</td><td>R003</td><td>Central</td><td>1</td><td>2.8</td><td>Product Damaged</td><td>Pet Care</td><td>56</td><td>2</td><td>0</td><td>Feb</td></tr>\n",
       "    <tr><td class='row_index'>3</td><td>Nancy</td><td>1004</td><td>R006</td><td>South</td><td>10</td><td>2.1</td><td>Customer Dissatified With Product</td><td>Flowers</td><td>75</td><td>15</td><td>0.2</td><td>Feb</td></tr>\n",
       "    <tr><td class='row_index'>4</td><td>Isabella</td><td>1001</td><td>R006</td><td>West</td><td>1</td><td>1.7</td><td>Customer Dissatified With Product</td><td>Apparels</td><td>12.78</td><td>3</td><td>0</td><td>Jan</td></tr>\n",
       "    <tr><td class='row_index'>5</td><td>Tom</td><td>1001</td><td>R005</td><td>East</td><td>1</td><td>1.9</td><td>Description Inaccurate</td><td>Apparels</td><td>300</td><td>10</td><td>0.5</td><td>Jan</td></tr>\n",
       "    <tr><td class='row_index'>6</td><td>Mary</td><td>1007</td><td>R005</td><td>South</td><td>1</td><td>2.5</td><td>Description Inaccurate</td><td>Pet Care</td><td>78</td><td>8</td><td>0</td><td>Feb</td></tr>\n",
       "    <tr><td class='row_index'>7</td><td>Carlos</td><td>1008</td><td>R006</td><td>West</td><td>1</td><td>2.6</td><td>Customer Dissatified With Product</td><td>Pharmacy</td><td>45</td><td>9</td><td>0</td><td>Feb</td></tr>\n",
       "    <tr><td class='row_index'>8</td><td>Kimi</td><td>1003</td><td>R002</td><td>East</td><td>10</td><td>1.2</td><td>Late Delivery</td><td>Electronics</td><td>65</td><td>87</td><td>0.2</td><td>Jan</td></tr>\n",
       "    <tr><td class='row_index'>9</td><td>Lando</td><td>1002</td><td>R003</td><td>Central</td><td>1</td><td>1.3</td><td>Product Damaged</td><td>Cosmetics</td><td>272.74</td><td>3</td><td>0.2</td><td>Jan</td></tr>\n",
       "  </tbody>\n",
       "  </table>\n",
       "  <div class='footer'>\n",
       "    <div class='frame_dimensions'>10 rows &times; 12 columns</div>\n",
       "  </div>\n",
       "</div>\n"
      ],
      "text/plain": [
       "<Frame#7f51000691b0 10x12>"
      ]
     },
     "execution_count": 11,
     "metadata": {},
     "output_type": "execute_result"
    }
   ],
   "source": [
    "sales.key = ['Return ID', 'Category ID']\n",
    "users = users[:, :, dt.join(sales)]\n",
    "users.head()"
   ]
  },
  {
   "cell_type": "markdown",
   "id": "18e98648",
   "metadata": {
    "papermill": {
     "duration": 0.032132,
     "end_time": "2021-07-22T05:32:36.599712",
     "exception": false,
     "start_time": "2021-07-22T05:32:36.567580",
     "status": "completed"
    },
    "tags": []
   },
   "source": [
    "**Exercise 66: Display the Categories that had orders in Jan or Mar**"
   ]
  },
  {
   "cell_type": "code",
   "execution_count": 12,
   "id": "2275f08d",
   "metadata": {
    "execution": {
     "iopub.execute_input": "2021-07-22T05:32:36.670387Z",
     "iopub.status.busy": "2021-07-22T05:32:36.669441Z",
     "iopub.status.idle": "2021-07-22T05:32:36.673032Z",
     "shell.execute_reply": "2021-07-22T05:32:36.671030Z",
     "shell.execute_reply.started": "2021-07-21T19:59:20.997219Z"
    },
    "papermill": {
     "duration": 0.042965,
     "end_time": "2021-07-22T05:32:36.673204",
     "exception": false,
     "start_time": "2021-07-22T05:32:36.630239",
     "status": "completed"
    },
    "tags": []
   },
   "outputs": [
    {
     "data": {
      "text/html": [
       "<div class='datatable'>\n",
       "  <table class='frame'>\n",
       "  <thead>\n",
       "    <tr class='colnames'><td class='row_index'></td><th>Category</th></tr>\n",
       "    <tr class='coltypes'><td class='row_index'></td><td class='str' title='str32'>&#x25AA;&#x25AA;&#x25AA;&#x25AA;</td></tr>\n",
       "  </thead>\n",
       "  <tbody>\n",
       "    <tr><td class='row_index'>0</td><td>Apparels</td></tr>\n",
       "    <tr><td class='row_index'>1</td><td>Cosmetics</td></tr>\n",
       "    <tr><td class='row_index'>2</td><td>Electronics</td></tr>\n",
       "    <tr><td class='row_index'>3</td><td>Flowers</td></tr>\n",
       "    <tr><td class='row_index'>4</td><td>International Cuisine</td></tr>\n",
       "    <tr><td class='row_index'>5</td><td>Paper Products </td></tr>\n",
       "    <tr><td class='row_index'>6</td><td>Pet Care</td></tr>\n",
       "    <tr><td class='row_index'>7</td><td>Pharmacy</td></tr>\n",
       "  </tbody>\n",
       "  </table>\n",
       "  <div class='footer'>\n",
       "    <div class='frame_dimensions'>8 rows &times; 1 column</div>\n",
       "  </div>\n",
       "</div>\n"
      ],
      "text/plain": [
       "<Frame#7f51000690f0 8x1>"
      ]
     },
     "execution_count": 12,
     "metadata": {},
     "output_type": "execute_result"
    }
   ],
   "source": [
    "dt.union(orders_jan['Category'], orders_mar['Category'])"
   ]
  },
  {
   "cell_type": "markdown",
   "id": "c539193d",
   "metadata": {
    "papermill": {
     "duration": 0.032579,
     "end_time": "2021-07-22T05:32:36.743777",
     "exception": false,
     "start_time": "2021-07-22T05:32:36.711198",
     "status": "completed"
    },
    "tags": []
   },
   "source": [
    "**Exercise 67: Display the Categories that had orders in each of the three months**"
   ]
  },
  {
   "cell_type": "code",
   "execution_count": 13,
   "id": "446c69ed",
   "metadata": {
    "execution": {
     "iopub.execute_input": "2021-07-22T05:32:36.815914Z",
     "iopub.status.busy": "2021-07-22T05:32:36.815008Z",
     "iopub.status.idle": "2021-07-22T05:32:36.818964Z",
     "shell.execute_reply": "2021-07-22T05:32:36.816543Z",
     "shell.execute_reply.started": "2021-07-21T19:52:20.875026Z"
    },
    "papermill": {
     "duration": 0.043701,
     "end_time": "2021-07-22T05:32:36.819163",
     "exception": false,
     "start_time": "2021-07-22T05:32:36.775462",
     "status": "completed"
    },
    "tags": []
   },
   "outputs": [
    {
     "data": {
      "text/html": [
       "<div class='datatable'>\n",
       "  <table class='frame'>\n",
       "  <thead>\n",
       "    <tr class='colnames'><td class='row_index'></td><th>Category</th></tr>\n",
       "    <tr class='coltypes'><td class='row_index'></td><td class='str' title='str32'>&#x25AA;&#x25AA;&#x25AA;&#x25AA;</td></tr>\n",
       "  </thead>\n",
       "  <tbody>\n",
       "  </tbody>\n",
       "  </table>\n",
       "  <div class='footer'>\n",
       "    <div class='frame_dimensions'>0 rows &times; 1 column</div>\n",
       "  </div>\n",
       "</div>\n"
      ],
      "text/plain": [
       "<Frame#7f51000695d0 0x1>"
      ]
     },
     "execution_count": 13,
     "metadata": {},
     "output_type": "execute_result"
    }
   ],
   "source": [
    "dt.intersect(orders_jan['Category'], orders_feb['Category'], orders_mar['Category'])"
   ]
  },
  {
   "cell_type": "markdown",
   "id": "755b7a9e",
   "metadata": {
    "papermill": {
     "duration": 0.033266,
     "end_time": "2021-07-22T05:32:36.890704",
     "exception": false,
     "start_time": "2021-07-22T05:32:36.857438",
     "status": "completed"
    },
    "tags": []
   },
   "source": [
    "**Exercise 68: Display the Categories that had orders only in Jan but not in Feb and Mar**"
   ]
  },
  {
   "cell_type": "code",
   "execution_count": 14,
   "id": "09003893",
   "metadata": {
    "execution": {
     "iopub.execute_input": "2021-07-22T05:32:36.964235Z",
     "iopub.status.busy": "2021-07-22T05:32:36.963341Z",
     "iopub.status.idle": "2021-07-22T05:32:36.966797Z",
     "shell.execute_reply": "2021-07-22T05:32:36.964870Z",
     "shell.execute_reply.started": "2021-07-21T19:56:10.33348Z"
    },
    "papermill": {
     "duration": 0.043292,
     "end_time": "2021-07-22T05:32:36.966959",
     "exception": false,
     "start_time": "2021-07-22T05:32:36.923667",
     "status": "completed"
    },
    "tags": []
   },
   "outputs": [
    {
     "data": {
      "text/html": [
       "<div class='datatable'>\n",
       "  <table class='frame'>\n",
       "  <thead>\n",
       "    <tr class='colnames'><td class='row_index'></td><th>Category</th></tr>\n",
       "    <tr class='coltypes'><td class='row_index'></td><td class='str' title='str32'>&#x25AA;&#x25AA;&#x25AA;&#x25AA;</td></tr>\n",
       "  </thead>\n",
       "  <tbody>\n",
       "    <tr><td class='row_index'>0</td><td>Cosmetics</td></tr>\n",
       "    <tr><td class='row_index'>1</td><td>Electronics</td></tr>\n",
       "  </tbody>\n",
       "  </table>\n",
       "  <div class='footer'>\n",
       "    <div class='frame_dimensions'>2 rows &times; 1 column</div>\n",
       "  </div>\n",
       "</div>\n"
      ],
      "text/plain": [
       "<Frame#7f5100069750 2x1>"
      ]
     },
     "execution_count": 14,
     "metadata": {},
     "output_type": "execute_result"
    }
   ],
   "source": [
    "dt.setdiff(orders_jan['Category'], orders_feb['Category'], orders_mar['Category'])"
   ]
  },
  {
   "cell_type": "markdown",
   "id": "b7420d76",
   "metadata": {
    "papermill": {
     "duration": 0.033571,
     "end_time": "2021-07-22T05:32:37.040252",
     "exception": false,
     "start_time": "2021-07-22T05:32:37.006681",
     "status": "completed"
    },
    "tags": []
   },
   "source": [
    "**Exercise 69: Display the Categories that had orders in either of the three months but never together**"
   ]
  },
  {
   "cell_type": "code",
   "execution_count": 15,
   "id": "e17240ed",
   "metadata": {
    "execution": {
     "iopub.execute_input": "2021-07-22T05:32:37.115339Z",
     "iopub.status.busy": "2021-07-22T05:32:37.114580Z",
     "iopub.status.idle": "2021-07-22T05:32:37.119501Z",
     "shell.execute_reply": "2021-07-22T05:32:37.120032Z",
     "shell.execute_reply.started": "2021-07-21T19:57:48.275438Z"
    },
    "papermill": {
     "duration": 0.048255,
     "end_time": "2021-07-22T05:32:37.120233",
     "exception": false,
     "start_time": "2021-07-22T05:32:37.071978",
     "status": "completed"
    },
    "tags": []
   },
   "outputs": [
    {
     "data": {
      "text/html": [
       "<div class='datatable'>\n",
       "  <table class='frame'>\n",
       "  <thead>\n",
       "    <tr class='colnames'><td class='row_index'></td><th>Category</th></tr>\n",
       "    <tr class='coltypes'><td class='row_index'></td><td class='str' title='str32'>&#x25AA;&#x25AA;&#x25AA;&#x25AA;</td></tr>\n",
       "  </thead>\n",
       "  <tbody>\n",
       "    <tr><td class='row_index'>0</td><td>Cosmetics</td></tr>\n",
       "    <tr><td class='row_index'>1</td><td>Electronics</td></tr>\n",
       "    <tr><td class='row_index'>2</td><td>Gift cards</td></tr>\n",
       "    <tr><td class='row_index'>3</td><td>Grocery</td></tr>\n",
       "  </tbody>\n",
       "  </table>\n",
       "  <div class='footer'>\n",
       "    <div class='frame_dimensions'>4 rows &times; 1 column</div>\n",
       "  </div>\n",
       "</div>\n"
      ],
      "text/plain": [
       "<Frame#7f51000698d0 4x1>"
      ]
     },
     "execution_count": 15,
     "metadata": {},
     "output_type": "execute_result"
    }
   ],
   "source": [
    "dt.symdiff(orders_jan['Category'], orders_feb['Category'], orders_mar['Category'])"
   ]
  },
  {
   "cell_type": "markdown",
   "id": "7fcdd61b",
   "metadata": {
    "papermill": {
     "duration": 0.033544,
     "end_time": "2021-07-22T05:32:37.192980",
     "exception": false,
     "start_time": "2021-07-22T05:32:37.159436",
     "status": "completed"
    },
    "tags": []
   },
   "source": [
    "**Exercise 70: One-Hot encode the column `Region` in `users`, assign it to `ohe_region` and append it back to `users`**"
   ]
  },
  {
   "cell_type": "code",
   "execution_count": 16,
   "id": "315435ee",
   "metadata": {
    "execution": {
     "iopub.execute_input": "2021-07-22T05:32:37.267546Z",
     "iopub.status.busy": "2021-07-22T05:32:37.266747Z",
     "iopub.status.idle": "2021-07-22T05:32:37.273114Z",
     "shell.execute_reply": "2021-07-22T05:32:37.273648Z",
     "shell.execute_reply.started": "2021-07-21T20:09:29.806639Z"
    },
    "papermill": {
     "duration": 0.048725,
     "end_time": "2021-07-22T05:32:37.273863",
     "exception": false,
     "start_time": "2021-07-22T05:32:37.225138",
     "status": "completed"
    },
    "tags": []
   },
   "outputs": [
    {
     "data": {
      "text/html": [
       "<div class='datatable'>\n",
       "  <table class='frame'>\n",
       "  <thead>\n",
       "    <tr class='colnames'><td class='row_index'></td><th>West</th><th>East</th><th>Central</th><th>South</th></tr>\n",
       "    <tr class='coltypes'><td class='row_index'></td><td class='bool' title='bool8'>&#x25AA;</td><td class='bool' title='bool8'>&#x25AA;</td><td class='bool' title='bool8'>&#x25AA;</td><td class='bool' title='bool8'>&#x25AA;</td></tr>\n",
       "  </thead>\n",
       "  <tbody>\n",
       "    <tr><td class='row_index'>0</td><td>1</td><td>0</td><td>0</td><td>0</td></tr>\n",
       "    <tr><td class='row_index'>1</td><td>0</td><td>1</td><td>0</td><td>0</td></tr>\n",
       "    <tr><td class='row_index'>2</td><td>0</td><td>0</td><td>1</td><td>0</td></tr>\n",
       "    <tr><td class='row_index'>3</td><td>0</td><td>0</td><td>0</td><td>1</td></tr>\n",
       "    <tr><td class='row_index'>4</td><td>1</td><td>0</td><td>0</td><td>0</td></tr>\n",
       "    <tr><td class='row_index'>5</td><td>0</td><td>1</td><td>0</td><td>0</td></tr>\n",
       "    <tr><td class='row_index'>6</td><td>0</td><td>0</td><td>0</td><td>1</td></tr>\n",
       "    <tr><td class='row_index'>7</td><td>1</td><td>0</td><td>0</td><td>0</td></tr>\n",
       "    <tr><td class='row_index'>8</td><td>0</td><td>1</td><td>0</td><td>0</td></tr>\n",
       "    <tr><td class='row_index'>9</td><td>0</td><td>0</td><td>1</td><td>0</td></tr>\n",
       "  </tbody>\n",
       "  </table>\n",
       "  <div class='footer'>\n",
       "    <div class='frame_dimensions'>10 rows &times; 4 columns</div>\n",
       "  </div>\n",
       "</div>\n"
      ],
      "text/plain": [
       "<Frame#7f5109d3ae40 10x4>"
      ]
     },
     "execution_count": 16,
     "metadata": {},
     "output_type": "execute_result"
    }
   ],
   "source": [
    "ohe_region = dt.str.split_into_nhot(users['Region'])\n",
    "ohe_region.head()"
   ]
  },
  {
   "cell_type": "code",
   "execution_count": 17,
   "id": "84394740",
   "metadata": {
    "execution": {
     "iopub.execute_input": "2021-07-22T05:32:37.353246Z",
     "iopub.status.busy": "2021-07-22T05:32:37.352472Z",
     "iopub.status.idle": "2021-07-22T05:32:37.357153Z",
     "shell.execute_reply": "2021-07-22T05:32:37.356525Z",
     "shell.execute_reply.started": "2021-07-21T20:09:42.742566Z"
    },
    "papermill": {
     "duration": 0.043768,
     "end_time": "2021-07-22T05:32:37.357308",
     "exception": false,
     "start_time": "2021-07-22T05:32:37.313540",
     "status": "completed"
    },
    "tags": []
   },
   "outputs": [
    {
     "data": {
      "text/html": [
       "<div class='datatable'>\n",
       "  <table class='frame'>\n",
       "  <thead>\n",
       "    <tr class='colnames'><td class='row_index'></td><th>Person</th><th>Category ID</th><th>Return ID</th><th>Region</th><th>Number of Records</th><th>Order ID</th><th>Updated Order Returns</th><th>Category</th><th>Sales</th><th>Quantity</th><th class='vellipsis'>&hellip;</th><th>Month</th><th>West</th><th>East</th><th>Central</th><th>South</th></tr>\n",
       "    <tr class='coltypes'><td class='row_index'></td><td class='str' title='str32'>&#x25AA;&#x25AA;&#x25AA;&#x25AA;</td><td class='int' title='int32'>&#x25AA;&#x25AA;&#x25AA;&#x25AA;</td><td class='str' title='str32'>&#x25AA;&#x25AA;&#x25AA;&#x25AA;</td><td class='str' title='str32'>&#x25AA;&#x25AA;&#x25AA;&#x25AA;</td><td class='int' title='int32'>&#x25AA;&#x25AA;&#x25AA;&#x25AA;</td><td class='float' title='float64'>&#x25AA;&#x25AA;&#x25AA;&#x25AA;&#x25AA;&#x25AA;&#x25AA;&#x25AA;</td><td class='str' title='str32'>&#x25AA;&#x25AA;&#x25AA;&#x25AA;</td><td class='str' title='str32'>&#x25AA;&#x25AA;&#x25AA;&#x25AA;</td><td class='float' title='float64'>&#x25AA;&#x25AA;&#x25AA;&#x25AA;&#x25AA;&#x25AA;&#x25AA;&#x25AA;</td><td class='int' title='int32'>&#x25AA;&#x25AA;&#x25AA;&#x25AA;</td><td></td><td class='str' title='str32'>&#x25AA;&#x25AA;&#x25AA;&#x25AA;</td><td class='bool' title='bool8'>&#x25AA;</td><td class='bool' title='bool8'>&#x25AA;</td><td class='bool' title='bool8'>&#x25AA;</td><td class='bool' title='bool8'>&#x25AA;</td></tr>\n",
       "  </thead>\n",
       "  <tbody>\n",
       "    <tr><td class='row_index'>0</td><td>Amy</td><td>1001</td><td>R004</td><td>West</td><td>1</td><td>1.4</td><td>Incorrect Products Delivered</td><td>Apparels</td><td>3.54</td><td>2</td><td class=vellipsis>&hellip;</td><td>Jan</td><td>1</td><td>0</td><td>0</td><td>0</td></tr>\n",
       "    <tr><td class='row_index'>1</td><td>Max</td><td>1002</td><td>R001</td><td>East</td><td><span class=na>NA</span></td><td><span class=na>NA</span></td><td><span class=na>NA</span></td><td><span class=na>NA</span></td><td><span class=na>NA</span></td><td><span class=na>NA</span></td><td class=vellipsis>&hellip;</td><td><span class=na>NA</span></td><td>0</td><td>1</td><td>0</td><td>0</td></tr>\n",
       "    <tr><td class='row_index'>2</td><td>William</td><td>1007</td><td>R003</td><td>Central</td><td>1</td><td>2.8</td><td>Product Damaged</td><td>Pet Care</td><td>56</td><td>2</td><td class=vellipsis>&hellip;</td><td>Feb</td><td>0</td><td>0</td><td>1</td><td>0</td></tr>\n",
       "    <tr><td class='row_index'>3</td><td>Nancy</td><td>1004</td><td>R006</td><td>South</td><td>10</td><td>2.1</td><td>Customer Dissatified With Product</td><td>Flowers</td><td>75</td><td>15</td><td class=vellipsis>&hellip;</td><td>Feb</td><td>0</td><td>0</td><td>0</td><td>1</td></tr>\n",
       "    <tr><td class='row_index'>4</td><td>Isabella</td><td>1001</td><td>R006</td><td>West</td><td>1</td><td>1.7</td><td>Customer Dissatified With Product</td><td>Apparels</td><td>12.78</td><td>3</td><td class=vellipsis>&hellip;</td><td>Jan</td><td>1</td><td>0</td><td>0</td><td>0</td></tr>\n",
       "    <tr><td class='row_index'>5</td><td>Tom</td><td>1001</td><td>R005</td><td>East</td><td>1</td><td>1.9</td><td>Description Inaccurate</td><td>Apparels</td><td>300</td><td>10</td><td class=vellipsis>&hellip;</td><td>Jan</td><td>0</td><td>1</td><td>0</td><td>0</td></tr>\n",
       "    <tr><td class='row_index'>6</td><td>Mary</td><td>1007</td><td>R005</td><td>South</td><td>1</td><td>2.5</td><td>Description Inaccurate</td><td>Pet Care</td><td>78</td><td>8</td><td class=vellipsis>&hellip;</td><td>Feb</td><td>0</td><td>0</td><td>0</td><td>1</td></tr>\n",
       "    <tr><td class='row_index'>7</td><td>Carlos</td><td>1008</td><td>R006</td><td>West</td><td>1</td><td>2.6</td><td>Customer Dissatified With Product</td><td>Pharmacy</td><td>45</td><td>9</td><td class=vellipsis>&hellip;</td><td>Feb</td><td>1</td><td>0</td><td>0</td><td>0</td></tr>\n",
       "    <tr><td class='row_index'>8</td><td>Kimi</td><td>1003</td><td>R002</td><td>East</td><td>10</td><td>1.2</td><td>Late Delivery</td><td>Electronics</td><td>65</td><td>87</td><td class=vellipsis>&hellip;</td><td>Jan</td><td>0</td><td>1</td><td>0</td><td>0</td></tr>\n",
       "    <tr><td class='row_index'>9</td><td>Lando</td><td>1002</td><td>R003</td><td>Central</td><td>1</td><td>1.3</td><td>Product Damaged</td><td>Cosmetics</td><td>272.74</td><td>3</td><td class=vellipsis>&hellip;</td><td>Jan</td><td>0</td><td>0</td><td>1</td><td>0</td></tr>\n",
       "  </tbody>\n",
       "  </table>\n",
       "  <div class='footer'>\n",
       "    <div class='frame_dimensions'>10 rows &times; 16 columns</div>\n",
       "  </div>\n",
       "</div>\n"
      ],
      "text/plain": [
       "<Frame#7f5100069600 10x16>"
      ]
     },
     "execution_count": 17,
     "metadata": {},
     "output_type": "execute_result"
    }
   ],
   "source": [
    "users.cbind(ohe_region)\n",
    "users.head()"
   ]
  },
  {
   "cell_type": "markdown",
   "id": "596e9242",
   "metadata": {
    "papermill": {
     "duration": 0.032443,
     "end_time": "2021-07-22T05:32:37.422560",
     "exception": false,
     "start_time": "2021-07-22T05:32:37.390117",
     "status": "completed"
    },
    "tags": []
   },
   "source": [
    "<center>\n",
    "    ✅ This completes Set 7: Multiple Frames (Exercises 61-70) of <b>DatatableTon</b>: <i>💯 datatable exercises</i>\n",
    "    <br>\n",
    "    Set 8 is coming soon!\n",
    "    <br>\n",
    "    <br>\n",
    "    You can find all the exercises and solutions on <a href=\"https://github.com/vopani/datatableton#exercises-\">GitHub</a>\n",
    "</center>"
   ]
  }
 ],
 "metadata": {
  "kernelspec": {
   "display_name": "Python 3",
   "language": "python",
   "name": "python3"
  },
  "language_info": {
   "codemirror_mode": {
    "name": "ipython",
    "version": 3
   },
   "file_extension": ".py",
   "mimetype": "text/x-python",
   "name": "python",
   "nbconvert_exporter": "python",
   "pygments_lexer": "ipython3",
   "version": "3.7.10"
  },
  "papermill": {
   "default_parameters": {},
   "duration": 47.900376,
   "end_time": "2021-07-22T05:32:39.040789",
   "environment_variables": {},
   "exception": null,
   "input_path": "__notebook__.ipynb",
   "output_path": "__notebook__.ipynb",
   "parameters": {},
   "start_time": "2021-07-22T05:31:51.140413",
   "version": "2.3.3"
  }
 },
 "nbformat": 4,
 "nbformat_minor": 5
}
