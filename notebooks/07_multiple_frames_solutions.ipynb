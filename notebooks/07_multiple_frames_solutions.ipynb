{
 "cells": [
  {
   "cell_type": "markdown",
   "id": "0d12750b",
   "metadata": {
    "_cell_guid": "b1076dfc-b9ad-4769-8c92-a6c4dae69d19",
    "_uuid": "8f2839f25d086af736a60e9eeb907d3b93b6e0e5",
    "papermill": {
     "duration": 0.016656,
     "end_time": "2021-07-25T04:17:54.352261",
     "exception": false,
     "start_time": "2021-07-25T04:17:54.335605",
     "status": "completed"
    },
    "tags": []
   },
   "source": [
    "<center>\n",
    "    <h1>DatatableTon</h1>\n",
    "    💯 datatable exercises\n",
    "    <br>\n",
    "    <br>\n",
    "    <a href='https://github.com/vopani/datatableton/blob/master/LICENSE'>\n",
    "        <img src='https://img.shields.io/badge/license-Apache%202.0-blue.svg?logo=apache'>\n",
    "    </a>\n",
    "    <a href='https://github.com/vopani/datatableton'>\n",
    "        <img src='https://img.shields.io/github/stars/vopani/datatableton?color=yellowgreen&logo=github'>\n",
    "    </a>\n",
    "    <a href='https://twitter.com/vopani'>\n",
    "        <img src='https://img.shields.io/twitter/follow/vopani'>\n",
    "    </a>\n",
    "</center>"
   ]
  },
  {
   "cell_type": "markdown",
   "id": "a01fe28e",
   "metadata": {
    "papermill": {
     "duration": 0.014749,
     "end_time": "2021-07-25T04:17:54.382406",
     "exception": false,
     "start_time": "2021-07-25T04:17:54.367657",
     "status": "completed"
    },
    "tags": []
   },
   "source": [
    "<center>\n",
    "    This is Set 7: Multiple Frames (Exercises 61-70) of <b>DatatableTon</b>: <i>💯 datatable exercises</i>\n",
    "    <br>\n",
    "    You can find all the exercises and solutions on <a href=\"https://github.com/vopani/datatableton#exercises-\">GitHub</a>\n",
    "</center>"
   ]
  },
  {
   "cell_type": "markdown",
   "id": "8bde25f2",
   "metadata": {
    "papermill": {
     "duration": 0.014753,
     "end_time": "2021-07-25T04:17:54.412198",
     "exception": false,
     "start_time": "2021-07-25T04:17:54.397445",
     "status": "completed"
    },
    "tags": []
   },
   "source": [
    "**Prerequisites**\n",
    "* The `datatable` package should be upgraded to the latest version (or v1.0.0+).\n",
    "* The sample dataset [datatableton_sample.zip](https://github.com/vopani/datatableton/blob/main/data/datatableton_sample.zip) will be used for the exercises."
   ]
  },
  {
   "cell_type": "code",
   "execution_count": 1,
   "id": "9b07c508",
   "metadata": {
    "_kg_hide-output": true,
    "execution": {
     "iopub.execute_input": "2021-07-25T04:17:54.462755Z",
     "iopub.status.busy": "2021-07-25T04:17:54.453667Z",
     "iopub.status.idle": "2021-07-25T04:18:24.157559Z",
     "shell.execute_reply": "2021-07-25T04:18:24.158051Z",
     "shell.execute_reply.started": "2021-07-21T19:51:43.26081Z"
    },
    "papermill": {
     "duration": 29.731158,
     "end_time": "2021-07-25T04:18:24.158326",
     "exception": false,
     "start_time": "2021-07-25T04:17:54.427168",
     "status": "completed"
    },
    "tags": []
   },
   "outputs": [
    {
     "name": "stdout",
     "output_type": "stream",
     "text": [
      "Requirement already satisfied: pip in /opt/conda/lib/python3.7/site-packages (21.1.2)\r\n",
      "Collecting pip\r\n",
      "  Downloading pip-21.1.3-py3-none-any.whl (1.5 MB)\r\n",
      "\u001b[K     |████████████████████████████████| 1.5 MB 390 kB/s \r\n",
      "\u001b[?25hInstalling collected packages: pip\r\n",
      "  Attempting uninstall: pip\r\n",
      "    Found existing installation: pip 21.1.2\r\n",
      "    Uninstalling pip-21.1.2:\r\n",
      "      Successfully uninstalled pip-21.1.2\r\n",
      "Successfully installed pip-21.1.3\r\n",
      "\u001b[33mWARNING: Running pip as root will break packages and permissions. You should install packages reliably by using venv: https://pip.pypa.io/warnings/venv\u001b[0m\r\n",
      "Requirement already satisfied: datatable in /opt/conda/lib/python3.7/site-packages (1.0.0)\r\n",
      "\u001b[33mWARNING: Running pip as the 'root' user can result in broken permissions and conflicting behaviour with the system package manager. It is recommended to use a virtual environment instead: https://pip.pypa.io/warnings/venv\u001b[0m\r\n",
      "--2021-07-25 04:18:23--  https://raw.githubusercontent.com/vopani/datatableton/main/data/datatableton_sample.zip\r\n",
      "Resolving raw.githubusercontent.com (raw.githubusercontent.com)... 185.199.108.133, 185.199.110.133, 185.199.111.133, ...\r\n",
      "Connecting to raw.githubusercontent.com (raw.githubusercontent.com)|185.199.108.133|:443... connected.\r\n",
      "HTTP request sent, awaiting response... 200 OK\r\n",
      "Length: 3834 (3.7K) [application/zip]\r\n",
      "Saving to: ‘datatableton_sample.zip’\r\n",
      "\r\n",
      "datatableton_sample 100%[===================>]   3.74K  --.-KB/s    in 0s      \r\n",
      "\r\n",
      "2021-07-25 04:18:24 (50.0 MB/s) - ‘datatableton_sample.zip’ saved [3834/3834]\r\n",
      "\r\n"
     ]
    }
   ],
   "source": [
    "!python3 -m pip install -U pip\n",
    "!python3 -m pip install -U datatable\n",
    "!wget https://raw.githubusercontent.com/vopani/datatableton/main/data/datatableton_sample.zip"
   ]
  },
  {
   "cell_type": "code",
   "execution_count": 2,
   "id": "f4e87df0",
   "metadata": {
    "execution": {
     "iopub.execute_input": "2021-07-25T04:18:24.207027Z",
     "iopub.status.busy": "2021-07-25T04:18:24.206492Z",
     "iopub.status.idle": "2021-07-25T04:18:24.386412Z",
     "shell.execute_reply": "2021-07-25T04:18:24.386848Z",
     "shell.execute_reply.started": "2021-07-21T19:52:20.500128Z"
    },
    "papermill": {
     "duration": 0.206023,
     "end_time": "2021-07-25T04:18:24.387011",
     "exception": false,
     "start_time": "2021-07-25T04:18:24.180988",
     "status": "completed"
    },
    "tags": []
   },
   "outputs": [
    {
     "data": {
      "text/html": [
       "<style type='text/css'>\n",
       ".datatable table.frame { margin-bottom: 0; }\n",
       ".datatable table.frame thead { border-bottom: none; }\n",
       ".datatable table.frame tr.coltypes td {  color: #FFFFFF;  line-height: 6px;  padding: 0 0.5em;}\n",
       ".datatable .bool    { background: #DDDD99; }\n",
       ".datatable .object  { background: #565656; }\n",
       ".datatable .int     { background: #5D9E5D; }\n",
       ".datatable .float   { background: #4040CC; }\n",
       ".datatable .str     { background: #CC4040; }\n",
       ".datatable .time    { background: #40CC40; }\n",
       ".datatable .row_index {  background: var(--jp-border-color3);  border-right: 1px solid var(--jp-border-color0);  color: var(--jp-ui-font-color3);  font-size: 9px;}\n",
       ".datatable .frame tbody td { text-align: left; }\n",
       ".datatable .frame tr.coltypes .row_index {  background: var(--jp-border-color0);}\n",
       ".datatable th:nth-child(2) { padding-left: 12px; }\n",
       ".datatable .hellipsis {  color: var(--jp-cell-editor-border-color);}\n",
       ".datatable .vellipsis {  background: var(--jp-layout-color0);  color: var(--jp-cell-editor-border-color);}\n",
       ".datatable .na {  color: var(--jp-cell-editor-border-color);  font-size: 80%;}\n",
       ".datatable .sp {  opacity: 0.25;}\n",
       ".datatable .footer { font-size: 9px; }\n",
       ".datatable .frame_dimensions {  background: var(--jp-border-color3);  border-top: 1px solid var(--jp-border-color0);  color: var(--jp-ui-font-color3);  display: inline-block;  opacity: 0.6;  padding: 1px 10px 1px 5px;}\n",
       "</style>\n"
      ],
      "text/plain": [
       "<IPython.core.display.HTML object>"
      ]
     },
     "metadata": {},
     "output_type": "display_data"
    }
   ],
   "source": [
    "import datatable as dt"
   ]
  },
  {
   "cell_type": "markdown",
   "id": "e9b67803",
   "metadata": {
    "papermill": {
     "duration": 0.021783,
     "end_time": "2021-07-25T04:18:24.431165",
     "exception": false,
     "start_time": "2021-07-25T04:18:24.409382",
     "status": "completed"
    },
    "tags": []
   },
   "source": [
    "**Exercise 61: Read all the files together from `datatableton_sample.zip`, assign the list of frames to `data` and print the name of each file**"
   ]
  },
  {
   "cell_type": "code",
   "execution_count": 3,
   "id": "6434989c",
   "metadata": {
    "execution": {
     "iopub.execute_input": "2021-07-25T04:18:24.478296Z",
     "iopub.status.busy": "2021-07-25T04:18:24.477434Z",
     "iopub.status.idle": "2021-07-25T04:18:24.492496Z",
     "shell.execute_reply": "2021-07-25T04:18:24.492039Z",
     "shell.execute_reply.started": "2021-07-21T19:52:20.742917Z"
    },
    "papermill": {
     "duration": 0.039464,
     "end_time": "2021-07-25T04:18:24.492640",
     "exception": false,
     "start_time": "2021-07-25T04:18:24.453176",
     "status": "completed"
    },
    "tags": []
   },
   "outputs": [
    {
     "name": "stdout",
     "output_type": "stream",
     "text": [
      "orders_feb.csv\n",
      "orders_jan.csv\n",
      "orders_mar.csv\n",
      "returns.csv\n",
      "users.csv\n"
     ]
    }
   ],
   "source": [
    "data = list(dt.iread('datatableton_sample.zip'))\n",
    "\n",
    "for i in range(len(data)):\n",
    "    print(data[i].source.split('/')[-1])"
   ]
  },
  {
   "cell_type": "markdown",
   "id": "7ef53a2a",
   "metadata": {
    "papermill": {
     "duration": 0.022258,
     "end_time": "2021-07-25T04:18:24.538364",
     "exception": false,
     "start_time": "2021-07-25T04:18:24.516106",
     "status": "completed"
    },
    "tags": []
   },
   "source": [
    "**Exercise 62: Assign the frames `orders_jan.csv`, `orders_feb.csv`, `orders_mar.csv`, `returns.csv` and `users.csv` in `data` to individual frames `orders_jan`, `orders_feb`, `orders_mar`, `returns` and `users` respectively and display the head of each frame**"
   ]
  },
  {
   "cell_type": "code",
   "execution_count": 4,
   "id": "aa3ac947",
   "metadata": {
    "execution": {
     "iopub.execute_input": "2021-07-25T04:18:24.588385Z",
     "iopub.status.busy": "2021-07-25T04:18:24.587840Z",
     "iopub.status.idle": "2021-07-25T04:18:24.591504Z",
     "shell.execute_reply": "2021-07-25T04:18:24.590966Z",
     "shell.execute_reply.started": "2021-07-21T19:52:20.764564Z"
    },
    "papermill": {
     "duration": 0.030533,
     "end_time": "2021-07-25T04:18:24.591620",
     "exception": false,
     "start_time": "2021-07-25T04:18:24.561087",
     "status": "completed"
    },
    "tags": []
   },
   "outputs": [
    {
     "data": {
      "text/html": [
       "<div class='datatable'>\n",
       "  <table class='frame'>\n",
       "  <thead>\n",
       "    <tr class='colnames'><td class='row_index'></td><th>Order ID</th><th>Category</th><th>Category ID</th><th>Sales</th><th>Quantity</th><th>Discount</th><th>Month</th></tr>\n",
       "    <tr class='coltypes'><td class='row_index'></td><td class='float' title='float64'>&#x25AA;&#x25AA;&#x25AA;&#x25AA;&#x25AA;&#x25AA;&#x25AA;&#x25AA;</td><td class='str' title='str32'>&#x25AA;&#x25AA;&#x25AA;&#x25AA;</td><td class='int' title='int32'>&#x25AA;&#x25AA;&#x25AA;&#x25AA;</td><td class='float' title='float64'>&#x25AA;&#x25AA;&#x25AA;&#x25AA;&#x25AA;&#x25AA;&#x25AA;&#x25AA;</td><td class='int' title='int32'>&#x25AA;&#x25AA;&#x25AA;&#x25AA;</td><td class='float' title='float64'>&#x25AA;&#x25AA;&#x25AA;&#x25AA;&#x25AA;&#x25AA;&#x25AA;&#x25AA;</td><td class='str' title='str32'>&#x25AA;&#x25AA;&#x25AA;&#x25AA;</td></tr>\n",
       "  </thead>\n",
       "  <tbody>\n",
       "    <tr><td class='row_index'>0</td><td>1.1</td><td>Apparels</td><td>1001</td><td>89</td><td>2</td><td>0.2</td><td>Jan</td></tr>\n",
       "    <tr><td class='row_index'>1</td><td>1.2</td><td>Electronics</td><td>1003</td><td>65</td><td>87</td><td>0.2</td><td>Jan</td></tr>\n",
       "    <tr><td class='row_index'>2</td><td>1.3</td><td>Cosmetics</td><td>1002</td><td>272.74</td><td>3</td><td>0.2</td><td>Jan</td></tr>\n",
       "    <tr><td class='row_index'>3</td><td>1.4</td><td>Apparels</td><td>1001</td><td>3.54</td><td>2</td><td>0.8</td><td>Jan</td></tr>\n",
       "    <tr><td class='row_index'>4</td><td>1.5</td><td>Cosmetics</td><td>1002</td><td>19.54</td><td>3</td><td>0.2</td><td>Jan</td></tr>\n",
       "    <tr><td class='row_index'>5</td><td>1.6</td><td>Electronics</td><td>1003</td><td>19.44</td><td>3</td><td>0</td><td>Jan</td></tr>\n",
       "    <tr><td class='row_index'>6</td><td>1.7</td><td>Apparels</td><td>1001</td><td>12.78</td><td>3</td><td>0</td><td>Jan</td></tr>\n",
       "    <tr><td class='row_index'>7</td><td>1.8</td><td>Apparels</td><td>1001</td><td>2573.82</td><td>9</td><td>0</td><td>Jan</td></tr>\n",
       "    <tr><td class='row_index'>8</td><td>1.9</td><td>Apparels</td><td>1001</td><td>300</td><td>10</td><td>0.5</td><td>Jan</td></tr>\n",
       "  </tbody>\n",
       "  </table>\n",
       "  <div class='footer'>\n",
       "    <div class='frame_dimensions'>9 rows &times; 7 columns</div>\n",
       "  </div>\n",
       "</div>\n"
      ],
      "text/plain": [
       "<Frame#7f9830157660 9x7>"
      ]
     },
     "execution_count": 4,
     "metadata": {},
     "output_type": "execute_result"
    }
   ],
   "source": [
    "orders_jan = data[1]\n",
    "orders_jan.head()"
   ]
  },
  {
   "cell_type": "code",
   "execution_count": 5,
   "id": "dca2a1bd",
   "metadata": {
    "execution": {
     "iopub.execute_input": "2021-07-25T04:18:24.641232Z",
     "iopub.status.busy": "2021-07-25T04:18:24.640713Z",
     "iopub.status.idle": "2021-07-25T04:18:24.644739Z",
     "shell.execute_reply": "2021-07-25T04:18:24.644209Z",
     "shell.execute_reply.started": "2021-07-21T19:52:20.774268Z"
    },
    "papermill": {
     "duration": 0.030604,
     "end_time": "2021-07-25T04:18:24.644851",
     "exception": false,
     "start_time": "2021-07-25T04:18:24.614247",
     "status": "completed"
    },
    "tags": []
   },
   "outputs": [
    {
     "data": {
      "text/html": [
       "<div class='datatable'>\n",
       "  <table class='frame'>\n",
       "  <thead>\n",
       "    <tr class='colnames'><td class='row_index'></td><th>Order ID</th><th>Category</th><th>Category ID</th><th>Sales</th><th>Quantity</th><th>Discount</th><th>Month</th></tr>\n",
       "    <tr class='coltypes'><td class='row_index'></td><td class='float' title='float64'>&#x25AA;&#x25AA;&#x25AA;&#x25AA;&#x25AA;&#x25AA;&#x25AA;&#x25AA;</td><td class='str' title='str32'>&#x25AA;&#x25AA;&#x25AA;&#x25AA;</td><td class='int' title='int32'>&#x25AA;&#x25AA;&#x25AA;&#x25AA;</td><td class='int' title='int32'>&#x25AA;&#x25AA;&#x25AA;&#x25AA;</td><td class='int' title='int32'>&#x25AA;&#x25AA;&#x25AA;&#x25AA;</td><td class='float' title='float64'>&#x25AA;&#x25AA;&#x25AA;&#x25AA;&#x25AA;&#x25AA;&#x25AA;&#x25AA;</td><td class='str' title='str32'>&#x25AA;&#x25AA;&#x25AA;&#x25AA;</td></tr>\n",
       "  </thead>\n",
       "  <tbody>\n",
       "    <tr><td class='row_index'>0</td><td>2.1</td><td>Flowers</td><td>1004</td><td>75</td><td>15</td><td>0.2</td><td>Feb</td></tr>\n",
       "    <tr><td class='row_index'>1</td><td>2.2</td><td>International Cuisine</td><td>1005</td><td>65</td><td>23</td><td>0.2</td><td>Feb</td></tr>\n",
       "    <tr><td class='row_index'>2</td><td>2.3</td><td>Paper Products </td><td>1006</td><td>115</td><td>100</td><td>0.8</td><td>Feb</td></tr>\n",
       "    <tr><td class='row_index'>3</td><td>2.4</td><td>Gift cards</td><td>1005</td><td>236</td><td>565</td><td>0.2</td><td>Feb</td></tr>\n",
       "    <tr><td class='row_index'>4</td><td>2.5</td><td>Pet Care</td><td>1007</td><td>78</td><td>8</td><td>0</td><td>Feb</td></tr>\n",
       "    <tr><td class='row_index'>5</td><td>2.6</td><td>Pharmacy</td><td>1008</td><td>45</td><td>9</td><td>0</td><td>Feb</td></tr>\n",
       "    <tr><td class='row_index'>6</td><td>2.7</td><td>Grocery</td><td>1009</td><td>12</td><td>9</td><td>0</td><td>Feb</td></tr>\n",
       "    <tr><td class='row_index'>7</td><td>2.8</td><td>Pet Care</td><td>1007</td><td>56</td><td>2</td><td>0</td><td>Feb</td></tr>\n",
       "    <tr><td class='row_index'>8</td><td>2.9</td><td>Pharmacy</td><td>1008</td><td>300</td><td>10</td><td>0.5</td><td>Feb</td></tr>\n",
       "  </tbody>\n",
       "  </table>\n",
       "  <div class='footer'>\n",
       "    <div class='frame_dimensions'>9 rows &times; 7 columns</div>\n",
       "  </div>\n",
       "</div>\n"
      ],
      "text/plain": [
       "<Frame#7f98301bbfc0 9x7>"
      ]
     },
     "execution_count": 5,
     "metadata": {},
     "output_type": "execute_result"
    }
   ],
   "source": [
    "orders_feb = data[0]\n",
    "orders_feb.head()"
   ]
  },
  {
   "cell_type": "code",
   "execution_count": 6,
   "id": "49ea2eb0",
   "metadata": {
    "execution": {
     "iopub.execute_input": "2021-07-25T04:18:24.695730Z",
     "iopub.status.busy": "2021-07-25T04:18:24.695169Z",
     "iopub.status.idle": "2021-07-25T04:18:24.699076Z",
     "shell.execute_reply": "2021-07-25T04:18:24.698567Z",
     "shell.execute_reply.started": "2021-07-21T19:52:20.787779Z"
    },
    "papermill": {
     "duration": 0.03117,
     "end_time": "2021-07-25T04:18:24.699225",
     "exception": false,
     "start_time": "2021-07-25T04:18:24.668055",
     "status": "completed"
    },
    "tags": []
   },
   "outputs": [
    {
     "data": {
      "text/html": [
       "<div class='datatable'>\n",
       "  <table class='frame'>\n",
       "  <thead>\n",
       "    <tr class='colnames'><td class='row_index'></td><th>Order ID</th><th>Category</th><th>Category ID</th><th>Sales</th><th>Quantity</th><th>Discount</th><th>Month</th></tr>\n",
       "    <tr class='coltypes'><td class='row_index'></td><td class='float' title='float64'>&#x25AA;&#x25AA;&#x25AA;&#x25AA;&#x25AA;&#x25AA;&#x25AA;&#x25AA;</td><td class='str' title='str32'>&#x25AA;&#x25AA;&#x25AA;&#x25AA;</td><td class='int' title='int32'>&#x25AA;&#x25AA;&#x25AA;&#x25AA;</td><td class='float' title='float64'>&#x25AA;&#x25AA;&#x25AA;&#x25AA;&#x25AA;&#x25AA;&#x25AA;&#x25AA;</td><td class='int' title='int32'>&#x25AA;&#x25AA;&#x25AA;&#x25AA;</td><td class='float' title='float64'>&#x25AA;&#x25AA;&#x25AA;&#x25AA;&#x25AA;&#x25AA;&#x25AA;&#x25AA;</td><td class='str' title='str32'>&#x25AA;&#x25AA;&#x25AA;&#x25AA;</td></tr>\n",
       "  </thead>\n",
       "  <tbody>\n",
       "    <tr><td class='row_index'>0</td><td>3.1</td><td>Flowers</td><td>1004</td><td>32</td><td>45</td><td>0.3</td><td>March</td></tr>\n",
       "    <tr><td class='row_index'>1</td><td>3.2</td><td>International Cuisine</td><td>1005</td><td>160</td><td>4</td><td>0.2</td><td>March</td></tr>\n",
       "    <tr><td class='row_index'>2</td><td>3.3</td><td>Pet Care</td><td>1009</td><td>130</td><td>89</td><td>0.3</td><td>March</td></tr>\n",
       "    <tr><td class='row_index'>3</td><td>3.4</td><td>International Cuisine</td><td>1005</td><td>3.5</td><td>12</td><td>0.9</td><td>March</td></tr>\n",
       "    <tr><td class='row_index'>4</td><td>3.5</td><td>Paper Products </td><td>1006</td><td>35</td><td>4</td><td>0.2</td><td>March</td></tr>\n",
       "    <tr><td class='row_index'>5</td><td>3.6</td><td>Flowers</td><td>1004</td><td>16</td><td>78</td><td>0</td><td>March</td></tr>\n",
       "    <tr><td class='row_index'>6</td><td>3.7</td><td>Paper Products </td><td>1006</td><td>89</td><td>3</td><td>0.5</td><td>March</td></tr>\n",
       "    <tr><td class='row_index'>7</td><td>3.8</td><td>Pharmacy</td><td>1008</td><td>2573.8</td><td>1</td><td>0</td><td>March</td></tr>\n",
       "    <tr><td class='row_index'>8</td><td>3.9</td><td>Apparels</td><td>1003</td><td>610</td><td>2</td><td>0.5</td><td>March</td></tr>\n",
       "  </tbody>\n",
       "  </table>\n",
       "  <div class='footer'>\n",
       "    <div class='frame_dimensions'>9 rows &times; 7 columns</div>\n",
       "  </div>\n",
       "</div>\n"
      ],
      "text/plain": [
       "<Frame#7f9830157120 9x7>"
      ]
     },
     "execution_count": 6,
     "metadata": {},
     "output_type": "execute_result"
    }
   ],
   "source": [
    "orders_mar = data[2]\n",
    "orders_mar.head()"
   ]
  },
  {
   "cell_type": "code",
   "execution_count": 7,
   "id": "2b9e8699",
   "metadata": {
    "execution": {
     "iopub.execute_input": "2021-07-25T04:18:24.751099Z",
     "iopub.status.busy": "2021-07-25T04:18:24.750570Z",
     "iopub.status.idle": "2021-07-25T04:18:24.754525Z",
     "shell.execute_reply": "2021-07-25T04:18:24.753992Z",
     "shell.execute_reply.started": "2021-07-21T19:52:20.800776Z"
    },
    "papermill": {
     "duration": 0.031723,
     "end_time": "2021-07-25T04:18:24.754643",
     "exception": false,
     "start_time": "2021-07-25T04:18:24.722920",
     "status": "completed"
    },
    "tags": []
   },
   "outputs": [
    {
     "data": {
      "text/html": [
       "<div class='datatable'>\n",
       "  <table class='frame'>\n",
       "  <thead>\n",
       "    <tr class='colnames'><td class='row_index'></td><th>Number of Records</th><th>Order ID</th><th>Updated Order Returns</th><th>Return ID</th></tr>\n",
       "    <tr class='coltypes'><td class='row_index'></td><td class='int' title='int32'>&#x25AA;&#x25AA;&#x25AA;&#x25AA;</td><td class='float' title='float64'>&#x25AA;&#x25AA;&#x25AA;&#x25AA;&#x25AA;&#x25AA;&#x25AA;&#x25AA;</td><td class='str' title='str32'>&#x25AA;&#x25AA;&#x25AA;&#x25AA;</td><td class='str' title='str32'>&#x25AA;&#x25AA;&#x25AA;&#x25AA;</td></tr>\n",
       "  </thead>\n",
       "  <tbody>\n",
       "    <tr><td class='row_index'>0</td><td>1</td><td>1.1</td><td>Inaccurate</td><td>R001</td></tr>\n",
       "    <tr><td class='row_index'>1</td><td>10</td><td>1.2</td><td>Late Delivery</td><td>R002</td></tr>\n",
       "    <tr><td class='row_index'>2</td><td>1</td><td>1.3</td><td>Product Damaged</td><td>R003</td></tr>\n",
       "    <tr><td class='row_index'>3</td><td>1</td><td>1.4</td><td>Incorrect Products Delivered</td><td>R004</td></tr>\n",
       "    <tr><td class='row_index'>4</td><td>8</td><td>1.5</td><td>Description Inaccurate</td><td>R005</td></tr>\n",
       "    <tr><td class='row_index'>5</td><td>1</td><td>1.6</td><td>Description Inaccurate</td><td>R005</td></tr>\n",
       "    <tr><td class='row_index'>6</td><td>1</td><td>1.7</td><td>Customer Dissatified With Product</td><td>R006</td></tr>\n",
       "    <tr><td class='row_index'>7</td><td>14</td><td>1.8</td><td>Customer Dissatified</td><td>R007</td></tr>\n",
       "    <tr><td class='row_index'>8</td><td>1</td><td>1.9</td><td>Description Inaccurate</td><td>R005</td></tr>\n",
       "    <tr><td class='row_index'>9</td><td>10</td><td>2.1</td><td>Customer Dissatified With Product</td><td>R006</td></tr>\n",
       "  </tbody>\n",
       "  </table>\n",
       "  <div class='footer'>\n",
       "    <div class='frame_dimensions'>10 rows &times; 4 columns</div>\n",
       "  </div>\n",
       "</div>\n"
      ],
      "text/plain": [
       "<Frame#7f9830157270 10x4>"
      ]
     },
     "execution_count": 7,
     "metadata": {},
     "output_type": "execute_result"
    }
   ],
   "source": [
    "returns = data[3]\n",
    "returns.head()"
   ]
  },
  {
   "cell_type": "code",
   "execution_count": 8,
   "id": "3dc488e9",
   "metadata": {
    "execution": {
     "iopub.execute_input": "2021-07-25T04:18:24.807091Z",
     "iopub.status.busy": "2021-07-25T04:18:24.806253Z",
     "iopub.status.idle": "2021-07-25T04:18:24.810243Z",
     "shell.execute_reply": "2021-07-25T04:18:24.809779Z",
     "shell.execute_reply.started": "2021-07-21T19:52:20.813928Z"
    },
    "papermill": {
     "duration": 0.032075,
     "end_time": "2021-07-25T04:18:24.810364",
     "exception": false,
     "start_time": "2021-07-25T04:18:24.778289",
     "status": "completed"
    },
    "tags": []
   },
   "outputs": [
    {
     "data": {
      "text/html": [
       "<div class='datatable'>\n",
       "  <table class='frame'>\n",
       "  <thead>\n",
       "    <tr class='colnames'><td class='row_index'></td><th>Person</th><th>Category ID</th><th>Return ID</th><th>Region</th></tr>\n",
       "    <tr class='coltypes'><td class='row_index'></td><td class='str' title='str32'>&#x25AA;&#x25AA;&#x25AA;&#x25AA;</td><td class='int' title='int32'>&#x25AA;&#x25AA;&#x25AA;&#x25AA;</td><td class='str' title='str32'>&#x25AA;&#x25AA;&#x25AA;&#x25AA;</td><td class='str' title='str32'>&#x25AA;&#x25AA;&#x25AA;&#x25AA;</td></tr>\n",
       "  </thead>\n",
       "  <tbody>\n",
       "    <tr><td class='row_index'>0</td><td>Amy</td><td>1001</td><td>R004</td><td>West</td></tr>\n",
       "    <tr><td class='row_index'>1</td><td>Max</td><td>1002</td><td>R001</td><td>East</td></tr>\n",
       "    <tr><td class='row_index'>2</td><td>William</td><td>1007</td><td>R003</td><td>Central</td></tr>\n",
       "    <tr><td class='row_index'>3</td><td>Nancy</td><td>1004</td><td>R006</td><td>South</td></tr>\n",
       "    <tr><td class='row_index'>4</td><td>Isabella</td><td>1001</td><td>R006</td><td>West</td></tr>\n",
       "    <tr><td class='row_index'>5</td><td>Tom</td><td>1001</td><td>R005</td><td>East</td></tr>\n",
       "    <tr><td class='row_index'>6</td><td>Mary</td><td>1007</td><td>R005</td><td>South</td></tr>\n",
       "    <tr><td class='row_index'>7</td><td>Carlos</td><td>1008</td><td>R006</td><td>West</td></tr>\n",
       "    <tr><td class='row_index'>8</td><td>Kimi</td><td>1003</td><td>R002</td><td>East</td></tr>\n",
       "    <tr><td class='row_index'>9</td><td>Lando</td><td>1002</td><td>R003</td><td>Central</td></tr>\n",
       "  </tbody>\n",
       "  </table>\n",
       "  <div class='footer'>\n",
       "    <div class='frame_dimensions'>10 rows &times; 4 columns</div>\n",
       "  </div>\n",
       "</div>\n"
      ],
      "text/plain": [
       "<Frame#7f9830157f00 10x4>"
      ]
     },
     "execution_count": 8,
     "metadata": {},
     "output_type": "execute_result"
    }
   ],
   "source": [
    "users = data[4]\n",
    "users.head()"
   ]
  },
  {
   "cell_type": "markdown",
   "id": "9e996ad3",
   "metadata": {
    "papermill": {
     "duration": 0.023737,
     "end_time": "2021-07-25T04:18:24.858081",
     "exception": false,
     "start_time": "2021-07-25T04:18:24.834344",
     "status": "completed"
    },
    "tags": []
   },
   "source": [
    "**Exercise 63: Append all rows of `orders_jan`, `orders_feb` and `orders_mar` into a single frame and assign it to `orders_all`**"
   ]
  },
  {
   "cell_type": "code",
   "execution_count": 9,
   "id": "e727cee9",
   "metadata": {
    "execution": {
     "iopub.execute_input": "2021-07-25T04:18:24.911530Z",
     "iopub.status.busy": "2021-07-25T04:18:24.910935Z",
     "iopub.status.idle": "2021-07-25T04:18:24.913501Z",
     "shell.execute_reply": "2021-07-25T04:18:24.914043Z",
     "shell.execute_reply.started": "2021-07-21T19:52:20.828686Z"
    },
    "papermill": {
     "duration": 0.031905,
     "end_time": "2021-07-25T04:18:24.914194",
     "exception": false,
     "start_time": "2021-07-25T04:18:24.882289",
     "status": "completed"
    },
    "tags": []
   },
   "outputs": [
    {
     "data": {
      "text/html": [
       "<div class='datatable'>\n",
       "  <table class='frame'>\n",
       "  <thead>\n",
       "    <tr class='colnames'><td class='row_index'></td><th>Order ID</th><th>Category</th><th>Category ID</th><th>Sales</th><th>Quantity</th><th>Discount</th><th>Month</th></tr>\n",
       "    <tr class='coltypes'><td class='row_index'></td><td class='float' title='float64'>&#x25AA;&#x25AA;&#x25AA;&#x25AA;&#x25AA;&#x25AA;&#x25AA;&#x25AA;</td><td class='str' title='str32'>&#x25AA;&#x25AA;&#x25AA;&#x25AA;</td><td class='int' title='int32'>&#x25AA;&#x25AA;&#x25AA;&#x25AA;</td><td class='float' title='float64'>&#x25AA;&#x25AA;&#x25AA;&#x25AA;&#x25AA;&#x25AA;&#x25AA;&#x25AA;</td><td class='int' title='int32'>&#x25AA;&#x25AA;&#x25AA;&#x25AA;</td><td class='float' title='float64'>&#x25AA;&#x25AA;&#x25AA;&#x25AA;&#x25AA;&#x25AA;&#x25AA;&#x25AA;</td><td class='str' title='str32'>&#x25AA;&#x25AA;&#x25AA;&#x25AA;</td></tr>\n",
       "  </thead>\n",
       "  <tbody>\n",
       "    <tr><td class='row_index'>0</td><td>1.1</td><td>Apparels</td><td>1001</td><td>89</td><td>2</td><td>0.2</td><td>Jan</td></tr>\n",
       "    <tr><td class='row_index'>1</td><td>1.2</td><td>Electronics</td><td>1003</td><td>65</td><td>87</td><td>0.2</td><td>Jan</td></tr>\n",
       "    <tr><td class='row_index'>2</td><td>1.3</td><td>Cosmetics</td><td>1002</td><td>272.74</td><td>3</td><td>0.2</td><td>Jan</td></tr>\n",
       "    <tr><td class='row_index'>3</td><td>1.4</td><td>Apparels</td><td>1001</td><td>3.54</td><td>2</td><td>0.8</td><td>Jan</td></tr>\n",
       "    <tr><td class='row_index'>4</td><td>1.5</td><td>Cosmetics</td><td>1002</td><td>19.54</td><td>3</td><td>0.2</td><td>Jan</td></tr>\n",
       "    <tr><td class='row_index'>5</td><td>1.6</td><td>Electronics</td><td>1003</td><td>19.44</td><td>3</td><td>0</td><td>Jan</td></tr>\n",
       "    <tr><td class='row_index'>6</td><td>1.7</td><td>Apparels</td><td>1001</td><td>12.78</td><td>3</td><td>0</td><td>Jan</td></tr>\n",
       "    <tr><td class='row_index'>7</td><td>1.8</td><td>Apparels</td><td>1001</td><td>2573.82</td><td>9</td><td>0</td><td>Jan</td></tr>\n",
       "    <tr><td class='row_index'>8</td><td>1.9</td><td>Apparels</td><td>1001</td><td>300</td><td>10</td><td>0.5</td><td>Jan</td></tr>\n",
       "    <tr><td class='row_index'>9</td><td>2.1</td><td>Flowers</td><td>1004</td><td>75</td><td>15</td><td>0.2</td><td>Feb</td></tr>\n",
       "  </tbody>\n",
       "  </table>\n",
       "  <div class='footer'>\n",
       "    <div class='frame_dimensions'>10 rows &times; 7 columns</div>\n",
       "  </div>\n",
       "</div>\n"
      ],
      "text/plain": [
       "<Frame#7f9830157360 10x7>"
      ]
     },
     "execution_count": 9,
     "metadata": {},
     "output_type": "execute_result"
    }
   ],
   "source": [
    "orders_all = dt.rbind(orders_jan, orders_feb, orders_mar)\n",
    "orders_all.head()"
   ]
  },
  {
   "cell_type": "markdown",
   "id": "1b608e8d",
   "metadata": {
    "papermill": {
     "duration": 0.024293,
     "end_time": "2021-07-25T04:18:24.963257",
     "exception": false,
     "start_time": "2021-07-25T04:18:24.938964",
     "status": "completed"
    },
    "tags": []
   },
   "source": [
    "**Exercise 64: Join `orders_all` to `returns` on `Order ID` and assign it to `sales`**"
   ]
  },
  {
   "cell_type": "code",
   "execution_count": 10,
   "id": "6d4333e5",
   "metadata": {
    "execution": {
     "iopub.execute_input": "2021-07-25T04:18:25.015020Z",
     "iopub.status.busy": "2021-07-25T04:18:25.014509Z",
     "iopub.status.idle": "2021-07-25T04:18:25.026822Z",
     "shell.execute_reply": "2021-07-25T04:18:25.027608Z",
     "shell.execute_reply.started": "2021-07-21T19:52:20.842218Z"
    },
    "papermill": {
     "duration": 0.039808,
     "end_time": "2021-07-25T04:18:25.027782",
     "exception": false,
     "start_time": "2021-07-25T04:18:24.987974",
     "status": "completed"
    },
    "tags": []
   },
   "outputs": [
    {
     "data": {
      "text/html": [
       "<div class='datatable'>\n",
       "  <table class='frame'>\n",
       "  <thead>\n",
       "    <tr class='colnames'><td class='row_index'></td><th>Number of Records</th><th>Order ID</th><th>Updated Order Returns</th><th>Return ID</th><th>Category</th><th>Category ID</th><th>Sales</th><th>Quantity</th><th>Discount</th><th>Month</th></tr>\n",
       "    <tr class='coltypes'><td class='row_index'></td><td class='int' title='int32'>&#x25AA;&#x25AA;&#x25AA;&#x25AA;</td><td class='float' title='float64'>&#x25AA;&#x25AA;&#x25AA;&#x25AA;&#x25AA;&#x25AA;&#x25AA;&#x25AA;</td><td class='str' title='str32'>&#x25AA;&#x25AA;&#x25AA;&#x25AA;</td><td class='str' title='str32'>&#x25AA;&#x25AA;&#x25AA;&#x25AA;</td><td class='str' title='str32'>&#x25AA;&#x25AA;&#x25AA;&#x25AA;</td><td class='int' title='int32'>&#x25AA;&#x25AA;&#x25AA;&#x25AA;</td><td class='float' title='float64'>&#x25AA;&#x25AA;&#x25AA;&#x25AA;&#x25AA;&#x25AA;&#x25AA;&#x25AA;</td><td class='int' title='int32'>&#x25AA;&#x25AA;&#x25AA;&#x25AA;</td><td class='float' title='float64'>&#x25AA;&#x25AA;&#x25AA;&#x25AA;&#x25AA;&#x25AA;&#x25AA;&#x25AA;</td><td class='str' title='str32'>&#x25AA;&#x25AA;&#x25AA;&#x25AA;</td></tr>\n",
       "  </thead>\n",
       "  <tbody>\n",
       "    <tr><td class='row_index'>0</td><td>1</td><td>1.1</td><td>Inaccurate</td><td>R001</td><td>Apparels</td><td>1001</td><td>89</td><td>2</td><td>0.2</td><td>Jan</td></tr>\n",
       "    <tr><td class='row_index'>1</td><td>10</td><td>1.2</td><td>Late Delivery</td><td>R002</td><td>Electronics</td><td>1003</td><td>65</td><td>87</td><td>0.2</td><td>Jan</td></tr>\n",
       "    <tr><td class='row_index'>2</td><td>1</td><td>1.3</td><td>Product Damaged</td><td>R003</td><td>Cosmetics</td><td>1002</td><td>272.74</td><td>3</td><td>0.2</td><td>Jan</td></tr>\n",
       "    <tr><td class='row_index'>3</td><td>1</td><td>1.4</td><td>Incorrect Products Delivered</td><td>R004</td><td>Apparels</td><td>1001</td><td>3.54</td><td>2</td><td>0.8</td><td>Jan</td></tr>\n",
       "    <tr><td class='row_index'>4</td><td>8</td><td>1.5</td><td>Description Inaccurate</td><td>R005</td><td>Cosmetics</td><td>1002</td><td>19.54</td><td>3</td><td>0.2</td><td>Jan</td></tr>\n",
       "    <tr><td class='row_index'>5</td><td>1</td><td>1.6</td><td>Description Inaccurate</td><td>R005</td><td>Electronics</td><td>1003</td><td>19.44</td><td>3</td><td>0</td><td>Jan</td></tr>\n",
       "    <tr><td class='row_index'>6</td><td>1</td><td>1.7</td><td>Customer Dissatified With Product</td><td>R006</td><td>Apparels</td><td>1001</td><td>12.78</td><td>3</td><td>0</td><td>Jan</td></tr>\n",
       "    <tr><td class='row_index'>7</td><td>14</td><td>1.8</td><td>Customer Dissatified</td><td>R007</td><td>Apparels</td><td>1001</td><td>2573.82</td><td>9</td><td>0</td><td>Jan</td></tr>\n",
       "    <tr><td class='row_index'>8</td><td>1</td><td>1.9</td><td>Description Inaccurate</td><td>R005</td><td>Apparels</td><td>1001</td><td>300</td><td>10</td><td>0.5</td><td>Jan</td></tr>\n",
       "    <tr><td class='row_index'>9</td><td>10</td><td>2.1</td><td>Customer Dissatified With Product</td><td>R006</td><td>Flowers</td><td>1004</td><td>75</td><td>15</td><td>0.2</td><td>Feb</td></tr>\n",
       "  </tbody>\n",
       "  </table>\n",
       "  <div class='footer'>\n",
       "    <div class='frame_dimensions'>10 rows &times; 10 columns</div>\n",
       "  </div>\n",
       "</div>\n"
      ],
      "text/plain": [
       "<Frame#7f9830171060 10x10>"
      ]
     },
     "execution_count": 10,
     "metadata": {},
     "output_type": "execute_result"
    }
   ],
   "source": [
    "orders_all.key = 'Order ID'\n",
    "sales = returns[:, :, dt.join(orders_all)]\n",
    "sales.head()"
   ]
  },
  {
   "cell_type": "markdown",
   "id": "4c3d539c",
   "metadata": {
    "papermill": {
     "duration": 0.024879,
     "end_time": "2021-07-25T04:18:25.081104",
     "exception": false,
     "start_time": "2021-07-25T04:18:25.056225",
     "status": "completed"
    },
    "tags": []
   },
   "source": [
    "**Exercise 65: Update `users` by joining `sales` to it on `Return ID` and `Category ID`**"
   ]
  },
  {
   "cell_type": "code",
   "execution_count": 11,
   "id": "62a7d13f",
   "metadata": {
    "execution": {
     "iopub.execute_input": "2021-07-25T04:18:25.142128Z",
     "iopub.status.busy": "2021-07-25T04:18:25.141502Z",
     "iopub.status.idle": "2021-07-25T04:18:25.145452Z",
     "shell.execute_reply": "2021-07-25T04:18:25.145933Z",
     "shell.execute_reply.started": "2021-07-21T19:52:20.862838Z"
    },
    "papermill": {
     "duration": 0.039676,
     "end_time": "2021-07-25T04:18:25.146101",
     "exception": false,
     "start_time": "2021-07-25T04:18:25.106425",
     "status": "completed"
    },
    "tags": []
   },
   "outputs": [
    {
     "data": {
      "text/html": [
       "<div class='datatable'>\n",
       "  <table class='frame'>\n",
       "  <thead>\n",
       "    <tr class='colnames'><td class='row_index'></td><th>Person</th><th>Category ID</th><th>Return ID</th><th>Region</th><th>Number of Records</th><th>Order ID</th><th>Updated Order Returns</th><th>Category</th><th>Sales</th><th>Quantity</th><th>Discount</th><th>Month</th></tr>\n",
       "    <tr class='coltypes'><td class='row_index'></td><td class='str' title='str32'>&#x25AA;&#x25AA;&#x25AA;&#x25AA;</td><td class='int' title='int32'>&#x25AA;&#x25AA;&#x25AA;&#x25AA;</td><td class='str' title='str32'>&#x25AA;&#x25AA;&#x25AA;&#x25AA;</td><td class='str' title='str32'>&#x25AA;&#x25AA;&#x25AA;&#x25AA;</td><td class='int' title='int32'>&#x25AA;&#x25AA;&#x25AA;&#x25AA;</td><td class='float' title='float64'>&#x25AA;&#x25AA;&#x25AA;&#x25AA;&#x25AA;&#x25AA;&#x25AA;&#x25AA;</td><td class='str' title='str32'>&#x25AA;&#x25AA;&#x25AA;&#x25AA;</td><td class='str' title='str32'>&#x25AA;&#x25AA;&#x25AA;&#x25AA;</td><td class='float' title='float64'>&#x25AA;&#x25AA;&#x25AA;&#x25AA;&#x25AA;&#x25AA;&#x25AA;&#x25AA;</td><td class='int' title='int32'>&#x25AA;&#x25AA;&#x25AA;&#x25AA;</td><td class='float' title='float64'>&#x25AA;&#x25AA;&#x25AA;&#x25AA;&#x25AA;&#x25AA;&#x25AA;&#x25AA;</td><td class='str' title='str32'>&#x25AA;&#x25AA;&#x25AA;&#x25AA;</td></tr>\n",
       "  </thead>\n",
       "  <tbody>\n",
       "    <tr><td class='row_index'>0</td><td>Amy</td><td>1001</td><td>R004</td><td>West</td><td>1</td><td>1.4</td><td>Incorrect Products Delivered</td><td>Apparels</td><td>3.54</td><td>2</td><td>0.8</td><td>Jan</td></tr>\n",
       "    <tr><td class='row_index'>1</td><td>Max</td><td>1002</td><td>R001</td><td>East</td><td><span class=na>NA</span></td><td><span class=na>NA</span></td><td><span class=na>NA</span></td><td><span class=na>NA</span></td><td><span class=na>NA</span></td><td><span class=na>NA</span></td><td><span class=na>NA</span></td><td><span class=na>NA</span></td></tr>\n",
       "    <tr><td class='row_index'>2</td><td>William</td><td>1007</td><td>R003</td><td>Central</td><td>1</td><td>2.8</td><td>Product Damaged</td><td>Pet Care</td><td>56</td><td>2</td><td>0</td><td>Feb</td></tr>\n",
       "    <tr><td class='row_index'>3</td><td>Nancy</td><td>1004</td><td>R006</td><td>South</td><td>10</td><td>2.1</td><td>Customer Dissatified With Product</td><td>Flowers</td><td>75</td><td>15</td><td>0.2</td><td>Feb</td></tr>\n",
       "    <tr><td class='row_index'>4</td><td>Isabella</td><td>1001</td><td>R006</td><td>West</td><td>1</td><td>1.7</td><td>Customer Dissatified With Product</td><td>Apparels</td><td>12.78</td><td>3</td><td>0</td><td>Jan</td></tr>\n",
       "    <tr><td class='row_index'>5</td><td>Tom</td><td>1001</td><td>R005</td><td>East</td><td>1</td><td>1.9</td><td>Description Inaccurate</td><td>Apparels</td><td>300</td><td>10</td><td>0.5</td><td>Jan</td></tr>\n",
       "    <tr><td class='row_index'>6</td><td>Mary</td><td>1007</td><td>R005</td><td>South</td><td>1</td><td>2.5</td><td>Description Inaccurate</td><td>Pet Care</td><td>78</td><td>8</td><td>0</td><td>Feb</td></tr>\n",
       "    <tr><td class='row_index'>7</td><td>Carlos</td><td>1008</td><td>R006</td><td>West</td><td>1</td><td>2.6</td><td>Customer Dissatified With Product</td><td>Pharmacy</td><td>45</td><td>9</td><td>0</td><td>Feb</td></tr>\n",
       "    <tr><td class='row_index'>8</td><td>Kimi</td><td>1003</td><td>R002</td><td>East</td><td>10</td><td>1.2</td><td>Late Delivery</td><td>Electronics</td><td>65</td><td>87</td><td>0.2</td><td>Jan</td></tr>\n",
       "    <tr><td class='row_index'>9</td><td>Lando</td><td>1002</td><td>R003</td><td>Central</td><td>1</td><td>1.3</td><td>Product Damaged</td><td>Cosmetics</td><td>272.74</td><td>3</td><td>0.2</td><td>Jan</td></tr>\n",
       "  </tbody>\n",
       "  </table>\n",
       "  <div class='footer'>\n",
       "    <div class='frame_dimensions'>10 rows &times; 12 columns</div>\n",
       "  </div>\n",
       "</div>\n"
      ],
      "text/plain": [
       "<Frame#7f983100ca80 10x12>"
      ]
     },
     "execution_count": 11,
     "metadata": {},
     "output_type": "execute_result"
    }
   ],
   "source": [
    "sales.key = ['Return ID', 'Category ID']\n",
    "users = users[:, :, dt.join(sales)]\n",
    "users.head()"
   ]
  },
  {
   "cell_type": "markdown",
   "id": "5e76e8c0",
   "metadata": {
    "papermill": {
     "duration": 0.025309,
     "end_time": "2021-07-25T04:18:25.199672",
     "exception": false,
     "start_time": "2021-07-25T04:18:25.174363",
     "status": "completed"
    },
    "tags": []
   },
   "source": [
    "**Exercise 66: Display the Categories that had orders in Jan or Mar**"
   ]
  },
  {
   "cell_type": "code",
   "execution_count": 12,
   "id": "c852b0c9",
   "metadata": {
    "execution": {
     "iopub.execute_input": "2021-07-25T04:18:25.258387Z",
     "iopub.status.busy": "2021-07-25T04:18:25.257676Z",
     "iopub.status.idle": "2021-07-25T04:18:25.260644Z",
     "shell.execute_reply": "2021-07-25T04:18:25.258966Z",
     "shell.execute_reply.started": "2021-07-21T19:59:20.997219Z"
    },
    "papermill": {
     "duration": 0.035346,
     "end_time": "2021-07-25T04:18:25.260785",
     "exception": false,
     "start_time": "2021-07-25T04:18:25.225439",
     "status": "completed"
    },
    "tags": []
   },
   "outputs": [
    {
     "data": {
      "text/html": [
       "<div class='datatable'>\n",
       "  <table class='frame'>\n",
       "  <thead>\n",
       "    <tr class='colnames'><td class='row_index'></td><th>Category</th></tr>\n",
       "    <tr class='coltypes'><td class='row_index'></td><td class='str' title='str32'>&#x25AA;&#x25AA;&#x25AA;&#x25AA;</td></tr>\n",
       "  </thead>\n",
       "  <tbody>\n",
       "    <tr><td class='row_index'>0</td><td>Apparels</td></tr>\n",
       "    <tr><td class='row_index'>1</td><td>Cosmetics</td></tr>\n",
       "    <tr><td class='row_index'>2</td><td>Electronics</td></tr>\n",
       "    <tr><td class='row_index'>3</td><td>Flowers</td></tr>\n",
       "    <tr><td class='row_index'>4</td><td>International Cuisine</td></tr>\n",
       "    <tr><td class='row_index'>5</td><td>Paper Products </td></tr>\n",
       "    <tr><td class='row_index'>6</td><td>Pet Care</td></tr>\n",
       "    <tr><td class='row_index'>7</td><td>Pharmacy</td></tr>\n",
       "  </tbody>\n",
       "  </table>\n",
       "  <div class='footer'>\n",
       "    <div class='frame_dimensions'>8 rows &times; 1 column</div>\n",
       "  </div>\n",
       "</div>\n"
      ],
      "text/plain": [
       "<Frame#7f9830171210 8x1>"
      ]
     },
     "execution_count": 12,
     "metadata": {},
     "output_type": "execute_result"
    }
   ],
   "source": [
    "dt.union(orders_jan['Category'], orders_mar['Category'])"
   ]
  },
  {
   "cell_type": "markdown",
   "id": "0463a0d5",
   "metadata": {
    "papermill": {
     "duration": 0.025977,
     "end_time": "2021-07-25T04:18:25.315234",
     "exception": false,
     "start_time": "2021-07-25T04:18:25.289257",
     "status": "completed"
    },
    "tags": []
   },
   "source": [
    "**Exercise 67: Display the Categories that had orders in each of the three months**"
   ]
  },
  {
   "cell_type": "code",
   "execution_count": 13,
   "id": "e0465f91",
   "metadata": {
    "execution": {
     "iopub.execute_input": "2021-07-25T04:18:25.374310Z",
     "iopub.status.busy": "2021-07-25T04:18:25.373595Z",
     "iopub.status.idle": "2021-07-25T04:18:25.376508Z",
     "shell.execute_reply": "2021-07-25T04:18:25.374896Z",
     "shell.execute_reply.started": "2021-07-21T19:52:20.875026Z"
    },
    "papermill": {
     "duration": 0.035641,
     "end_time": "2021-07-25T04:18:25.376647",
     "exception": false,
     "start_time": "2021-07-25T04:18:25.341006",
     "status": "completed"
    },
    "tags": []
   },
   "outputs": [
    {
     "data": {
      "text/html": [
       "<div class='datatable'>\n",
       "  <table class='frame'>\n",
       "  <thead>\n",
       "    <tr class='colnames'><td class='row_index'></td><th>Category</th></tr>\n",
       "    <tr class='coltypes'><td class='row_index'></td><td class='str' title='str32'>&#x25AA;&#x25AA;&#x25AA;&#x25AA;</td></tr>\n",
       "  </thead>\n",
       "  <tbody>\n",
       "  </tbody>\n",
       "  </table>\n",
       "  <div class='footer'>\n",
       "    <div class='frame_dimensions'>0 rows &times; 1 column</div>\n",
       "  </div>\n",
       "</div>\n"
      ],
      "text/plain": [
       "<Frame#7f9830171450 0x1>"
      ]
     },
     "execution_count": 13,
     "metadata": {},
     "output_type": "execute_result"
    }
   ],
   "source": [
    "dt.intersect(orders_jan['Category'], orders_feb['Category'], orders_mar['Category'])"
   ]
  },
  {
   "cell_type": "markdown",
   "id": "8301abdb",
   "metadata": {
    "papermill": {
     "duration": 0.025554,
     "end_time": "2021-07-25T04:18:25.431098",
     "exception": false,
     "start_time": "2021-07-25T04:18:25.405544",
     "status": "completed"
    },
    "tags": []
   },
   "source": [
    "**Exercise 68: Display the Categories that had orders only in Jan but not in Feb and Mar**"
   ]
  },
  {
   "cell_type": "code",
   "execution_count": 14,
   "id": "59bac2e1",
   "metadata": {
    "execution": {
     "iopub.execute_input": "2021-07-25T04:18:25.490150Z",
     "iopub.status.busy": "2021-07-25T04:18:25.489428Z",
     "iopub.status.idle": "2021-07-25T04:18:25.492322Z",
     "shell.execute_reply": "2021-07-25T04:18:25.490739Z",
     "shell.execute_reply.started": "2021-07-21T19:56:10.33348Z"
    },
    "papermill": {
     "duration": 0.035545,
     "end_time": "2021-07-25T04:18:25.492460",
     "exception": false,
     "start_time": "2021-07-25T04:18:25.456915",
     "status": "completed"
    },
    "tags": []
   },
   "outputs": [
    {
     "data": {
      "text/html": [
       "<div class='datatable'>\n",
       "  <table class='frame'>\n",
       "  <thead>\n",
       "    <tr class='colnames'><td class='row_index'></td><th>Category</th></tr>\n",
       "    <tr class='coltypes'><td class='row_index'></td><td class='str' title='str32'>&#x25AA;&#x25AA;&#x25AA;&#x25AA;</td></tr>\n",
       "  </thead>\n",
       "  <tbody>\n",
       "    <tr><td class='row_index'>0</td><td>Cosmetics</td></tr>\n",
       "    <tr><td class='row_index'>1</td><td>Electronics</td></tr>\n",
       "  </tbody>\n",
       "  </table>\n",
       "  <div class='footer'>\n",
       "    <div class='frame_dimensions'>2 rows &times; 1 column</div>\n",
       "  </div>\n",
       "</div>\n"
      ],
      "text/plain": [
       "<Frame#7f9830171990 2x1>"
      ]
     },
     "execution_count": 14,
     "metadata": {},
     "output_type": "execute_result"
    }
   ],
   "source": [
    "dt.setdiff(orders_jan['Category'], orders_feb['Category'], orders_mar['Category'])"
   ]
  },
  {
   "cell_type": "markdown",
   "id": "1a9ec7c9",
   "metadata": {
    "papermill": {
     "duration": 0.026425,
     "end_time": "2021-07-25T04:18:25.547943",
     "exception": false,
     "start_time": "2021-07-25T04:18:25.521518",
     "status": "completed"
    },
    "tags": []
   },
   "source": [
    "**Exercise 69: Display the Categories that had orders in either of the three months but never together**"
   ]
  },
  {
   "cell_type": "code",
   "execution_count": 15,
   "id": "98f72d0d",
   "metadata": {
    "execution": {
     "iopub.execute_input": "2021-07-25T04:18:25.605757Z",
     "iopub.status.busy": "2021-07-25T04:18:25.604921Z",
     "iopub.status.idle": "2021-07-25T04:18:25.608487Z",
     "shell.execute_reply": "2021-07-25T04:18:25.608949Z",
     "shell.execute_reply.started": "2021-07-21T19:57:48.275438Z"
    },
    "papermill": {
     "duration": 0.034936,
     "end_time": "2021-07-25T04:18:25.609108",
     "exception": false,
     "start_time": "2021-07-25T04:18:25.574172",
     "status": "completed"
    },
    "tags": []
   },
   "outputs": [
    {
     "data": {
      "text/html": [
       "<div class='datatable'>\n",
       "  <table class='frame'>\n",
       "  <thead>\n",
       "    <tr class='colnames'><td class='row_index'></td><th>Category</th></tr>\n",
       "    <tr class='coltypes'><td class='row_index'></td><td class='str' title='str32'>&#x25AA;&#x25AA;&#x25AA;&#x25AA;</td></tr>\n",
       "  </thead>\n",
       "  <tbody>\n",
       "    <tr><td class='row_index'>0</td><td>Cosmetics</td></tr>\n",
       "    <tr><td class='row_index'>1</td><td>Electronics</td></tr>\n",
       "    <tr><td class='row_index'>2</td><td>Gift cards</td></tr>\n",
       "    <tr><td class='row_index'>3</td><td>Grocery</td></tr>\n",
       "  </tbody>\n",
       "  </table>\n",
       "  <div class='footer'>\n",
       "    <div class='frame_dimensions'>4 rows &times; 1 column</div>\n",
       "  </div>\n",
       "</div>\n"
      ],
      "text/plain": [
       "<Frame#7f9830171b10 4x1>"
      ]
     },
     "execution_count": 15,
     "metadata": {},
     "output_type": "execute_result"
    }
   ],
   "source": [
    "dt.symdiff(orders_jan['Category'], orders_feb['Category'], orders_mar['Category'])"
   ]
  },
  {
   "cell_type": "markdown",
   "id": "40f3a01c",
   "metadata": {
    "papermill": {
     "duration": 0.025877,
     "end_time": "2021-07-25T04:18:25.665028",
     "exception": false,
     "start_time": "2021-07-25T04:18:25.639151",
     "status": "completed"
    },
    "tags": []
   },
   "source": [
    "**Exercise 70: One-hot encode the column `Region` in `users`, assign it to `ohe_region` and append it back to `users`**"
   ]
  },
  {
   "cell_type": "code",
   "execution_count": 16,
   "id": "50b2b3fb",
   "metadata": {
    "execution": {
     "iopub.execute_input": "2021-07-25T04:18:25.726107Z",
     "iopub.status.busy": "2021-07-25T04:18:25.725368Z",
     "iopub.status.idle": "2021-07-25T04:18:25.728300Z",
     "shell.execute_reply": "2021-07-25T04:18:25.726695Z",
     "shell.execute_reply.started": "2021-07-21T20:09:29.806639Z"
    },
    "papermill": {
     "duration": 0.037318,
     "end_time": "2021-07-25T04:18:25.728436",
     "exception": false,
     "start_time": "2021-07-25T04:18:25.691118",
     "status": "completed"
    },
    "tags": []
   },
   "outputs": [
    {
     "data": {
      "text/html": [
       "<div class='datatable'>\n",
       "  <table class='frame'>\n",
       "  <thead>\n",
       "    <tr class='colnames'><td class='row_index'></td><th>West</th><th>East</th><th>Central</th><th>South</th></tr>\n",
       "    <tr class='coltypes'><td class='row_index'></td><td class='bool' title='bool8'>&#x25AA;</td><td class='bool' title='bool8'>&#x25AA;</td><td class='bool' title='bool8'>&#x25AA;</td><td class='bool' title='bool8'>&#x25AA;</td></tr>\n",
       "  </thead>\n",
       "  <tbody>\n",
       "    <tr><td class='row_index'>0</td><td>1</td><td>0</td><td>0</td><td>0</td></tr>\n",
       "    <tr><td class='row_index'>1</td><td>0</td><td>1</td><td>0</td><td>0</td></tr>\n",
       "    <tr><td class='row_index'>2</td><td>0</td><td>0</td><td>1</td><td>0</td></tr>\n",
       "    <tr><td class='row_index'>3</td><td>0</td><td>0</td><td>0</td><td>1</td></tr>\n",
       "    <tr><td class='row_index'>4</td><td>1</td><td>0</td><td>0</td><td>0</td></tr>\n",
       "    <tr><td class='row_index'>5</td><td>0</td><td>1</td><td>0</td><td>0</td></tr>\n",
       "    <tr><td class='row_index'>6</td><td>0</td><td>0</td><td>0</td><td>1</td></tr>\n",
       "    <tr><td class='row_index'>7</td><td>1</td><td>0</td><td>0</td><td>0</td></tr>\n",
       "    <tr><td class='row_index'>8</td><td>0</td><td>1</td><td>0</td><td>0</td></tr>\n",
       "    <tr><td class='row_index'>9</td><td>0</td><td>0</td><td>1</td><td>0</td></tr>\n",
       "  </tbody>\n",
       "  </table>\n",
       "  <div class='footer'>\n",
       "    <div class='frame_dimensions'>10 rows &times; 4 columns</div>\n",
       "  </div>\n",
       "</div>\n"
      ],
      "text/plain": [
       "<Frame#7f9830171b70 10x4>"
      ]
     },
     "execution_count": 16,
     "metadata": {},
     "output_type": "execute_result"
    }
   ],
   "source": [
    "ohe_region = dt.str.split_into_nhot(users['Region'])\n",
    "ohe_region.head()"
   ]
  },
  {
   "cell_type": "code",
   "execution_count": 17,
   "id": "6b70db7d",
   "metadata": {
    "execution": {
     "iopub.execute_input": "2021-07-25T04:18:25.790104Z",
     "iopub.status.busy": "2021-07-25T04:18:25.789335Z",
     "iopub.status.idle": "2021-07-25T04:18:25.792443Z",
     "shell.execute_reply": "2021-07-25T04:18:25.792916Z",
     "shell.execute_reply.started": "2021-07-21T20:09:42.742566Z"
    },
    "papermill": {
     "duration": 0.035088,
     "end_time": "2021-07-25T04:18:25.793062",
     "exception": false,
     "start_time": "2021-07-25T04:18:25.757974",
     "status": "completed"
    },
    "tags": []
   },
   "outputs": [
    {
     "data": {
      "text/html": [
       "<div class='datatable'>\n",
       "  <table class='frame'>\n",
       "  <thead>\n",
       "    <tr class='colnames'><td class='row_index'></td><th>Person</th><th>Category ID</th><th>Return ID</th><th>Region</th><th>Number of Records</th><th>Order ID</th><th>Updated Order Returns</th><th>Category</th><th>Sales</th><th>Quantity</th><th class='vellipsis'>&hellip;</th><th>Month</th><th>West</th><th>East</th><th>Central</th><th>South</th></tr>\n",
       "    <tr class='coltypes'><td class='row_index'></td><td class='str' title='str32'>&#x25AA;&#x25AA;&#x25AA;&#x25AA;</td><td class='int' title='int32'>&#x25AA;&#x25AA;&#x25AA;&#x25AA;</td><td class='str' title='str32'>&#x25AA;&#x25AA;&#x25AA;&#x25AA;</td><td class='str' title='str32'>&#x25AA;&#x25AA;&#x25AA;&#x25AA;</td><td class='int' title='int32'>&#x25AA;&#x25AA;&#x25AA;&#x25AA;</td><td class='float' title='float64'>&#x25AA;&#x25AA;&#x25AA;&#x25AA;&#x25AA;&#x25AA;&#x25AA;&#x25AA;</td><td class='str' title='str32'>&#x25AA;&#x25AA;&#x25AA;&#x25AA;</td><td class='str' title='str32'>&#x25AA;&#x25AA;&#x25AA;&#x25AA;</td><td class='float' title='float64'>&#x25AA;&#x25AA;&#x25AA;&#x25AA;&#x25AA;&#x25AA;&#x25AA;&#x25AA;</td><td class='int' title='int32'>&#x25AA;&#x25AA;&#x25AA;&#x25AA;</td><td></td><td class='str' title='str32'>&#x25AA;&#x25AA;&#x25AA;&#x25AA;</td><td class='bool' title='bool8'>&#x25AA;</td><td class='bool' title='bool8'>&#x25AA;</td><td class='bool' title='bool8'>&#x25AA;</td><td class='bool' title='bool8'>&#x25AA;</td></tr>\n",
       "  </thead>\n",
       "  <tbody>\n",
       "    <tr><td class='row_index'>0</td><td>Amy</td><td>1001</td><td>R004</td><td>West</td><td>1</td><td>1.4</td><td>Incorrect Products Delivered</td><td>Apparels</td><td>3.54</td><td>2</td><td class=vellipsis>&hellip;</td><td>Jan</td><td>1</td><td>0</td><td>0</td><td>0</td></tr>\n",
       "    <tr><td class='row_index'>1</td><td>Max</td><td>1002</td><td>R001</td><td>East</td><td><span class=na>NA</span></td><td><span class=na>NA</span></td><td><span class=na>NA</span></td><td><span class=na>NA</span></td><td><span class=na>NA</span></td><td><span class=na>NA</span></td><td class=vellipsis>&hellip;</td><td><span class=na>NA</span></td><td>0</td><td>1</td><td>0</td><td>0</td></tr>\n",
       "    <tr><td class='row_index'>2</td><td>William</td><td>1007</td><td>R003</td><td>Central</td><td>1</td><td>2.8</td><td>Product Damaged</td><td>Pet Care</td><td>56</td><td>2</td><td class=vellipsis>&hellip;</td><td>Feb</td><td>0</td><td>0</td><td>1</td><td>0</td></tr>\n",
       "    <tr><td class='row_index'>3</td><td>Nancy</td><td>1004</td><td>R006</td><td>South</td><td>10</td><td>2.1</td><td>Customer Dissatified With Product</td><td>Flowers</td><td>75</td><td>15</td><td class=vellipsis>&hellip;</td><td>Feb</td><td>0</td><td>0</td><td>0</td><td>1</td></tr>\n",
       "    <tr><td class='row_index'>4</td><td>Isabella</td><td>1001</td><td>R006</td><td>West</td><td>1</td><td>1.7</td><td>Customer Dissatified With Product</td><td>Apparels</td><td>12.78</td><td>3</td><td class=vellipsis>&hellip;</td><td>Jan</td><td>1</td><td>0</td><td>0</td><td>0</td></tr>\n",
       "    <tr><td class='row_index'>5</td><td>Tom</td><td>1001</td><td>R005</td><td>East</td><td>1</td><td>1.9</td><td>Description Inaccurate</td><td>Apparels</td><td>300</td><td>10</td><td class=vellipsis>&hellip;</td><td>Jan</td><td>0</td><td>1</td><td>0</td><td>0</td></tr>\n",
       "    <tr><td class='row_index'>6</td><td>Mary</td><td>1007</td><td>R005</td><td>South</td><td>1</td><td>2.5</td><td>Description Inaccurate</td><td>Pet Care</td><td>78</td><td>8</td><td class=vellipsis>&hellip;</td><td>Feb</td><td>0</td><td>0</td><td>0</td><td>1</td></tr>\n",
       "    <tr><td class='row_index'>7</td><td>Carlos</td><td>1008</td><td>R006</td><td>West</td><td>1</td><td>2.6</td><td>Customer Dissatified With Product</td><td>Pharmacy</td><td>45</td><td>9</td><td class=vellipsis>&hellip;</td><td>Feb</td><td>1</td><td>0</td><td>0</td><td>0</td></tr>\n",
       "    <tr><td class='row_index'>8</td><td>Kimi</td><td>1003</td><td>R002</td><td>East</td><td>10</td><td>1.2</td><td>Late Delivery</td><td>Electronics</td><td>65</td><td>87</td><td class=vellipsis>&hellip;</td><td>Jan</td><td>0</td><td>1</td><td>0</td><td>0</td></tr>\n",
       "    <tr><td class='row_index'>9</td><td>Lando</td><td>1002</td><td>R003</td><td>Central</td><td>1</td><td>1.3</td><td>Product Damaged</td><td>Cosmetics</td><td>272.74</td><td>3</td><td class=vellipsis>&hellip;</td><td>Jan</td><td>0</td><td>0</td><td>1</td><td>0</td></tr>\n",
       "  </tbody>\n",
       "  </table>\n",
       "  <div class='footer'>\n",
       "    <div class='frame_dimensions'>10 rows &times; 16 columns</div>\n",
       "  </div>\n",
       "</div>\n"
      ],
      "text/plain": [
       "<Frame#7f9830171cf0 10x16>"
      ]
     },
     "execution_count": 17,
     "metadata": {},
     "output_type": "execute_result"
    }
   ],
   "source": [
    "users.cbind(ohe_region)\n",
    "users.head()"
   ]
  },
  {
   "cell_type": "markdown",
   "id": "c8689b3e",
   "metadata": {
    "papermill": {
     "duration": 0.027098,
     "end_time": "2021-07-25T04:18:25.847329",
     "exception": false,
     "start_time": "2021-07-25T04:18:25.820231",
     "status": "completed"
    },
    "tags": []
   },
   "source": [
    "✅ This completes Set 7: Multiple Frames (Exercises 61-70) of **DatatableTon**: *💯 datatable exercises*\n",
    "\n",
    "#### Set 08 • Time Series • Intermediate • Exercises 71-80\n",
    "\n",
    "| Style | Colab | Kaggle | Binder | GitHub |\n",
    "| ----- | ----- | ------ | ------ | ------ |\n",
    "| Exercises | [![Open in Colab](https://img.shields.io/static/v1?label=&message=Open%20in%20Colab&labelColor=grey&color=blue&logo=google-colab)](https://colab.research.google.com/github/vopani/datatableton/blob/main/notebooks/08_time_series_exercises.ipynb) | [![Open in Kaggle](https://img.shields.io/static/v1?label=&message=Open%20in%20Kaggle&labelColor=grey&color=blue&logo=kaggle)](https://www.kaggle.com/rohanrao/datatableton-time-series-exercises) | [![Open in Binder](https://img.shields.io/static/v1?label=&message=Open%20in%20Binder&labelColor=grey&color=blue&logo=data:image/png;base64,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)](https://mybinder.org/v2/gh/vopani/datatableton/main?filepath=notebooks%2F08_time_series_exercises.ipynb) | [![Open in GitHub](https://img.shields.io/static/v1?label=&message=Open%20in%20GitHub&labelColor=grey&color=blue&logo=github)](https://github.com/vopani/datatableton/blob/main/notebooks/08_time_series_exercises.ipynb) |\n",
    "| Solutions | [![Open in Colab](https://img.shields.io/static/v1?label=&message=Open%20in%20Colab&labelColor=grey&color=blue&logo=google-colab)](https://colab.research.google.com/github/vopani/datatableton/blob/main/notebooks/08_time_series_solutions.ipynb) | [![Open in Kaggle](https://img.shields.io/static/v1?label=&message=Open%20in%20Kaggle&labelColor=grey&color=blue&logo=kaggle)](https://www.kaggle.com/rohanrao/datatableton-time-series-solutions) | [![Open in Binder](https://img.shields.io/static/v1?label=&message=Open%20in%20Binder&labelColor=grey&color=blue&logo=data:image/png;base64,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)](https://mybinder.org/v2/gh/vopani/datatableton/main?filepath=notebooks%2F08_time_series_solutions.ipynb) | [![Open in GitHub](https://img.shields.io/static/v1?label=&message=Open%20in%20GitHub&labelColor=grey&color=blue&logo=github)](https://github.com/vopani/datatableton/blob/main/notebooks/08_time_series_solutions.ipynb) |\n",
    "\n",
    "You can find all the exercises and solutions on [GitHub](https://github.com/vopani/datatableton#exercises-)"
   ]
  }
 ],
 "metadata": {
  "kernelspec": {
   "display_name": "Python 3",
   "language": "python",
   "name": "python3"
  },
  "language_info": {
   "codemirror_mode": {
    "name": "ipython",
    "version": 3
   },
   "file_extension": ".py",
   "mimetype": "text/x-python",
   "name": "python",
   "nbconvert_exporter": "python",
   "pygments_lexer": "ipython3",
   "version": "3.7.10"
  },
  "papermill": {
   "default_parameters": {},
   "duration": 38.522554,
   "end_time": "2021-07-25T04:18:26.382559",
   "environment_variables": {},
   "exception": null,
   "input_path": "__notebook__.ipynb",
   "output_path": "__notebook__.ipynb",
   "parameters": {},
   "start_time": "2021-07-25T04:17:47.860005",
   "version": "2.3.3"
  }
 },
 "nbformat": 4,
 "nbformat_minor": 5
}
