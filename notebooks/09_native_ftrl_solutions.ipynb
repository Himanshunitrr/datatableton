{
 "cells": [
  {
   "cell_type": "markdown",
   "id": "f333a989",
   "metadata": {
    "_cell_guid": "b1076dfc-b9ad-4769-8c92-a6c4dae69d19",
    "_uuid": "8f2839f25d086af736a60e9eeb907d3b93b6e0e5",
    "papermill": {
     "duration": 0.021929,
     "end_time": "2021-07-28T06:10:09.010731",
     "exception": false,
     "start_time": "2021-07-28T06:10:08.988802",
     "status": "completed"
    },
    "tags": []
   },
   "source": [
    "<center>\n",
    "    <h1>DatatableTon</h1>\n",
    "    💯 datatable exercises\n",
    "    <br>\n",
    "    <br>\n",
    "    <a href='https://github.com/vopani/datatableton/blob/master/LICENSE'>\n",
    "        <img src='https://img.shields.io/badge/license-Apache%202.0-blue.svg?logo=apache'>\n",
    "    </a>\n",
    "    <a href='https://github.com/vopani/datatableton'>\n",
    "        <img src='https://img.shields.io/github/stars/vopani/datatableton?color=yellowgreen&logo=github'>\n",
    "    </a>\n",
    "    <a href='https://twitter.com/vopani'>\n",
    "        <img src='https://img.shields.io/twitter/follow/vopani'>\n",
    "    </a>\n",
    "</center>"
   ]
  },
  {
   "cell_type": "markdown",
   "id": "d07f189f",
   "metadata": {
    "papermill": {
     "duration": 0.021229,
     "end_time": "2021-07-28T06:10:09.055486",
     "exception": false,
     "start_time": "2021-07-28T06:10:09.034257",
     "status": "completed"
    },
    "tags": []
   },
   "source": [
    "<center>\n",
    "    This is Set 9: Native Models (Exercises 81-90) of <b>DatatableTon</b>: <i>💯 datatable exercises</i>\n",
    "    <br>\n",
    "    You can find all the exercises and solutions on <a href=\"https://github.com/vopani/datatableton#exercises-\">GitHub</a>\n",
    "</center>"
   ]
  },
  {
   "cell_type": "markdown",
   "id": "fbe40302",
   "metadata": {
    "papermill": {
     "duration": 0.020502,
     "end_time": "2021-07-28T06:10:09.097628",
     "exception": false,
     "start_time": "2021-07-28T06:10:09.077126",
     "status": "completed"
    },
    "tags": []
   },
   "source": [
    "**Prerequisites**\n",
    "* The `datatable` package should be upgraded to the latest version (or v1.0.0+).\n",
    "* The sample dataset [1% sample of KDD Cup 2012 (CTR Prediction)](https://www.openml.org/d/1219) from openml will be used for the exercises."
   ]
  },
  {
   "cell_type": "code",
   "execution_count": 1,
   "id": "250fcb32",
   "metadata": {
    "_kg_hide-output": true,
    "execution": {
     "iopub.execute_input": "2021-07-28T06:10:09.152971Z",
     "iopub.status.busy": "2021-07-28T06:10:09.152290Z",
     "iopub.status.idle": "2021-07-28T06:10:47.680016Z",
     "shell.execute_reply": "2021-07-28T06:10:47.679177Z",
     "shell.execute_reply.started": "2021-07-26T10:03:10.473916Z"
    },
    "papermill": {
     "duration": 38.562003,
     "end_time": "2021-07-28T06:10:47.680211",
     "exception": false,
     "start_time": "2021-07-28T06:10:09.118208",
     "status": "completed"
    },
    "tags": []
   },
   "outputs": [
    {
     "name": "stdout",
     "output_type": "stream",
     "text": [
      "Requirement already satisfied: pip in /opt/conda/lib/python3.7/site-packages (21.1.2)\r\n",
      "Collecting pip\r\n",
      "  Downloading pip-21.2.1-py3-none-any.whl (1.6 MB)\r\n",
      "\u001b[K     |████████████████████████████████| 1.6 MB 594 kB/s \r\n",
      "\u001b[?25hInstalling collected packages: pip\r\n",
      "  Attempting uninstall: pip\r\n",
      "    Found existing installation: pip 21.1.2\r\n",
      "    Uninstalling pip-21.1.2:\r\n",
      "      Successfully uninstalled pip-21.1.2\r\n",
      "Successfully installed pip-21.2.1\r\n",
      "\u001b[33mWARNING: Running pip as root will break packages and permissions. You should install packages reliably by using venv: https://pip.pypa.io/warnings/venv\u001b[0m\r\n",
      "Requirement already satisfied: datatable in /opt/conda/lib/python3.7/site-packages (1.0.0)\r\n",
      "\u001b[33mWARNING: Running pip as the 'root' user can result in broken permissions and conflicting behaviour with the system package manager. It is recommended to use a virtual environment instead: https://pip.pypa.io/warnings/venv\u001b[0m\r\n",
      "--2021-07-28 06:10:46--  https://www.openml.org/data/get_csv/183151/kdd_ctr.csv\r\n",
      "Resolving www.openml.org (www.openml.org)... 131.155.11.11\r\n",
      "Connecting to www.openml.org (www.openml.org)|131.155.11.11|:443... connected.\r\n",
      "HTTP request sent, awaiting response... 200 OK\r\n",
      "Length: unspecified [text/plain]\r\n",
      "Saving to: ‘kdd_ctr.csv’\r\n",
      "\r\n",
      "kdd_ctr.csv             [      <=>           ]  27.50M  23.4MB/s    in 1.2s    \r\n",
      "\r\n",
      "2021-07-28 06:10:47 (23.4 MB/s) - ‘kdd_ctr.csv’ saved [28837031]\r\n",
      "\r\n"
     ]
    }
   ],
   "source": [
    "!python3 -m pip install -U pip\n",
    "!python3 -m pip install -U datatable\n",
    "!wget https://www.openml.org/data/get_csv/183151/kdd_ctr.csv"
   ]
  },
  {
   "cell_type": "code",
   "execution_count": 2,
   "id": "167f5886",
   "metadata": {
    "execution": {
     "iopub.execute_input": "2021-07-28T06:10:47.751836Z",
     "iopub.status.busy": "2021-07-28T06:10:47.751118Z",
     "iopub.status.idle": "2021-07-28T06:10:48.180186Z",
     "shell.execute_reply": "2021-07-28T06:10:48.181418Z",
     "shell.execute_reply.started": "2021-07-26T10:03:53.383450Z"
    },
    "papermill": {
     "duration": 0.470146,
     "end_time": "2021-07-28T06:10:48.181654",
     "exception": false,
     "start_time": "2021-07-28T06:10:47.711508",
     "status": "completed"
    },
    "tags": []
   },
   "outputs": [
    {
     "data": {
      "text/html": [
       "<style type='text/css'>\n",
       ".datatable table.frame { margin-bottom: 0; }\n",
       ".datatable table.frame thead { border-bottom: none; }\n",
       ".datatable table.frame tr.coltypes td {  color: #FFFFFF;  line-height: 6px;  padding: 0 0.5em;}\n",
       ".datatable .bool    { background: #DDDD99; }\n",
       ".datatable .object  { background: #565656; }\n",
       ".datatable .int     { background: #5D9E5D; }\n",
       ".datatable .float   { background: #4040CC; }\n",
       ".datatable .str     { background: #CC4040; }\n",
       ".datatable .time    { background: #40CC40; }\n",
       ".datatable .row_index {  background: var(--jp-border-color3);  border-right: 1px solid var(--jp-border-color0);  color: var(--jp-ui-font-color3);  font-size: 9px;}\n",
       ".datatable .frame tbody td { text-align: left; }\n",
       ".datatable .frame tr.coltypes .row_index {  background: var(--jp-border-color0);}\n",
       ".datatable th:nth-child(2) { padding-left: 12px; }\n",
       ".datatable .hellipsis {  color: var(--jp-cell-editor-border-color);}\n",
       ".datatable .vellipsis {  background: var(--jp-layout-color0);  color: var(--jp-cell-editor-border-color);}\n",
       ".datatable .na {  color: var(--jp-cell-editor-border-color);  font-size: 80%;}\n",
       ".datatable .sp {  opacity: 0.25;}\n",
       ".datatable .footer { font-size: 9px; }\n",
       ".datatable .frame_dimensions {  background: var(--jp-border-color3);  border-top: 1px solid var(--jp-border-color0);  color: var(--jp-ui-font-color3);  display: inline-block;  opacity: 0.6;  padding: 1px 10px 1px 5px;}\n",
       "</style>\n"
      ],
      "text/plain": [
       "<IPython.core.display.HTML object>"
      ]
     },
     "metadata": {},
     "output_type": "display_data"
    },
    {
     "data": {
      "text/html": [
       "<div class='datatable'>\n",
       "  <table class='frame'>\n",
       "  <thead>\n",
       "    <tr class='colnames'><td class='row_index'></td><th>click</th><th>impression</th><th>url_hash</th><th>ad_id</th><th>advertiser_id</th><th>depth</th><th>position</th><th>query_id</th><th>keyword_id</th><th>title_id</th><th>description_id</th><th>user_id</th></tr>\n",
       "    <tr class='coltypes'><td class='row_index'></td><td class='bool' title='bool8'>&#x25AA;</td><td class='int' title='int32'>&#x25AA;&#x25AA;&#x25AA;&#x25AA;</td><td class='float' title='float64'>&#x25AA;&#x25AA;&#x25AA;&#x25AA;&#x25AA;&#x25AA;&#x25AA;&#x25AA;</td><td class='int' title='int32'>&#x25AA;&#x25AA;&#x25AA;&#x25AA;</td><td class='int' title='int32'>&#x25AA;&#x25AA;&#x25AA;&#x25AA;</td><td class='int' title='int32'>&#x25AA;&#x25AA;&#x25AA;&#x25AA;</td><td class='int' title='int32'>&#x25AA;&#x25AA;&#x25AA;&#x25AA;</td><td class='int' title='int32'>&#x25AA;&#x25AA;&#x25AA;&#x25AA;</td><td class='int' title='int32'>&#x25AA;&#x25AA;&#x25AA;&#x25AA;</td><td class='int' title='int32'>&#x25AA;&#x25AA;&#x25AA;&#x25AA;</td><td class='int' title='int32'>&#x25AA;&#x25AA;&#x25AA;&#x25AA;</td><td class='int' title='int32'>&#x25AA;&#x25AA;&#x25AA;&#x25AA;</td></tr>\n",
       "  </thead>\n",
       "  <tbody>\n",
       "    <tr><td class='row_index'>0</td><td>0</td><td>1</td><td>1.071e+19</td><td>8343295</td><td>11700</td><td>3</td><td>3</td><td>7702266</td><td>21264</td><td>27892</td><td>1559</td><td>0</td></tr>\n",
       "    <tr><td class='row_index'>1</td><td>1</td><td>1</td><td>1.73639e+19</td><td>20017077</td><td>23798</td><td>1</td><td>1</td><td>93079</td><td>35498</td><td>4</td><td>36476</td><td>562934</td></tr>\n",
       "    <tr><td class='row_index'>2</td><td>0</td><td>1</td><td>8.91547e+18</td><td>21348354</td><td>36654</td><td>1</td><td>1</td><td>10981</td><td>19975</td><td>36105</td><td>33292</td><td>11621116</td></tr>\n",
       "    <tr><td class='row_index'>3</td><td>0</td><td>1</td><td>4.42669e+18</td><td>20366086</td><td>33280</td><td>3</td><td>3</td><td>0</td><td>5942</td><td>4057</td><td>4390</td><td>8778348</td></tr>\n",
       "    <tr><td class='row_index'>4</td><td>0</td><td>1</td><td>1.15726e+19</td><td>6803526</td><td>10790</td><td>2</td><td>1</td><td>9881978</td><td>60593</td><td>25242</td><td>1679</td><td>12118311</td></tr>\n",
       "    <tr><td class='row_index'>5</td><td>1</td><td>1</td><td>2.82758e+17</td><td>21186478</td><td>35793</td><td>2</td><td>1</td><td>163315</td><td>4871</td><td>3257</td><td>1153</td><td>2886008</td></tr>\n",
       "    <tr><td class='row_index'>6</td><td>0</td><td>1</td><td>8.8139e+18</td><td>20886690</td><td>34840</td><td>2</td><td>2</td><td>316</td><td>543</td><td>2206</td><td>2888</td><td>7589739</td></tr>\n",
       "    <tr><td class='row_index'>7</td><td>0</td><td>1</td><td>3.81103e+18</td><td>21367376</td><td>20667</td><td>3</td><td>2</td><td>2601439</td><td>118</td><td>9594</td><td>9705</td><td>579253</td></tr>\n",
       "    <tr><td class='row_index'>8</td><td>0</td><td>1</td><td>9.80684e+18</td><td>21811752</td><td>37737</td><td>3</td><td>2</td><td>1631</td><td>333</td><td>841</td><td>2175</td><td>5277279</td></tr>\n",
       "    <tr><td class='row_index'>9</td><td>1</td><td>1</td><td>1.43404e+19</td><td>9027213</td><td>23808</td><td>2</td><td>1</td><td>5</td><td>1</td><td>0</td><td>0</td><td>11808635</td></tr>\n",
       "    <tr><td class='row_index'>10</td><td>0</td><td>1</td><td>1.15485e+19</td><td>21188630</td><td>17432</td><td>3</td><td>3</td><td>54485</td><td>20526</td><td>680977</td><td>621442</td><td>329865</td></tr>\n",
       "    <tr><td class='row_index'>11</td><td>1</td><td>3</td><td>1.20579e+19</td><td>20170434</td><td>27961</td><td>1</td><td>1</td><td>16554377</td><td>63355</td><td>106189</td><td>100521</td><td>1378623</td></tr>\n",
       "    <tr><td class='row_index'>12</td><td>0</td><td>1</td><td>2.35282e+18</td><td>10362063</td><td>28873</td><td>2</td><td>1</td><td>3203</td><td>38</td><td>1150</td><td>1129</td><td>5864198</td></tr>\n",
       "    <tr><td class='row_index'>13</td><td>0</td><td>1</td><td>5.12068e+18</td><td>8676724</td><td>1268</td><td>1</td><td>1</td><td>1330</td><td>40</td><td>45</td><td>13</td><td>16760230</td></tr>\n",
       "    <tr><td class='row_index'>14</td><td>0</td><td>1</td><td>5.58965e+18</td><td>20950936</td><td>35067</td><td>1</td><td>1</td><td>637</td><td>9563</td><td>8908</td><td>42</td><td>19015059</td></tr>\n",
       "    <tr><td class='row_index'>&#x22EE;</td><td class='hellipsis'>&#x22EE;</td><td class='hellipsis'>&#x22EE;</td><td class='hellipsis'>&#x22EE;</td><td class='hellipsis'>&#x22EE;</td><td class='hellipsis'>&#x22EE;</td><td class='hellipsis'>&#x22EE;</td><td class='hellipsis'>&#x22EE;</td><td class='hellipsis'>&#x22EE;</td><td class='hellipsis'>&#x22EE;</td><td class='hellipsis'>&#x22EE;</td><td class='hellipsis'>&#x22EE;</td><td class='hellipsis'>&#x22EE;</td></tr>\n",
       "    <tr><td class='row_index'>399,477</td><td>0</td><td>1</td><td>2.95046e+18</td><td>3405979</td><td>4613</td><td>2</td><td>1</td><td>1914</td><td>1681</td><td>65853</td><td>77289</td><td>11811980</td></tr>\n",
       "    <tr><td class='row_index'>399,478</td><td>0</td><td>1</td><td>1.73639e+19</td><td>20017083</td><td>23798</td><td>1</td><td>1</td><td>172673</td><td>1645</td><td>1418</td><td>1678</td><td>10027694</td></tr>\n",
       "    <tr><td class='row_index'>399,479</td><td>1</td><td>2</td><td>5.85125e+18</td><td>10421215</td><td>28698</td><td>2</td><td>2</td><td>1238</td><td>3230</td><td>512144</td><td>37399</td><td>0</td></tr>\n",
       "    <tr><td class='row_index'>399,480</td><td>0</td><td>1</td><td>5.88003e+18</td><td>4832693</td><td>15994</td><td>3</td><td>3</td><td>2242779</td><td>3054</td><td>167005</td><td>55548</td><td>0</td></tr>\n",
       "    <tr><td class='row_index'>399,481</td><td>0</td><td>1</td><td>1.43404e+19</td><td>4757453</td><td>23777</td><td>3</td><td>3</td><td>40982</td><td>10394</td><td>179968</td><td>152955</td><td>75532</td></tr>\n",
       "  </tbody>\n",
       "  </table>\n",
       "  <div class='footer'>\n",
       "    <div class='frame_dimensions'>399,482 rows &times; 12 columns</div>\n",
       "  </div>\n",
       "</div>\n"
      ],
      "text/plain": [
       "<Frame#7f0b2a7c4690 399482x12>"
      ]
     },
     "execution_count": 2,
     "metadata": {},
     "output_type": "execute_result"
    }
   ],
   "source": [
    "import datatable as dt\n",
    "\n",
    "data = dt.fread('kdd_ctr.csv', fill=True)[1:,:]\n",
    "data"
   ]
  },
  {
   "cell_type": "markdown",
   "id": "01755b29",
   "metadata": {
    "papermill": {
     "duration": 0.032568,
     "end_time": "2021-07-28T06:10:48.267544",
     "exception": false,
     "start_time": "2021-07-28T06:10:48.234976",
     "status": "completed"
    },
    "tags": []
   },
   "source": [
    "**Exercise 81: Initialize a FTRL model `model_ftrl`**"
   ]
  },
  {
   "cell_type": "code",
   "execution_count": 3,
   "id": "e79e455c",
   "metadata": {
    "execution": {
     "iopub.execute_input": "2021-07-28T06:10:48.338520Z",
     "iopub.status.busy": "2021-07-28T06:10:48.337459Z",
     "iopub.status.idle": "2021-07-28T06:10:48.345961Z",
     "shell.execute_reply": "2021-07-28T06:10:48.345220Z",
     "shell.execute_reply.started": "2021-07-26T10:07:59.418265Z"
    },
    "papermill": {
     "duration": 0.046221,
     "end_time": "2021-07-28T06:10:48.346112",
     "exception": false,
     "start_time": "2021-07-28T06:10:48.299891",
     "status": "completed"
    },
    "tags": []
   },
   "outputs": [
    {
     "data": {
      "text/plain": [
       "<datatable.models.Ftrl at 0x7f0b2a73af30>"
      ]
     },
     "execution_count": 3,
     "metadata": {},
     "output_type": "execute_result"
    }
   ],
   "source": [
    "from datatable.models import Ftrl\n",
    "\n",
    "model_ftrl = Ftrl()\n",
    "model_ftrl"
   ]
  },
  {
   "cell_type": "markdown",
   "id": "f96ee42b",
   "metadata": {
    "papermill": {
     "duration": 0.031872,
     "end_time": "2021-07-28T06:10:48.412187",
     "exception": false,
     "start_time": "2021-07-28T06:10:48.380315",
     "status": "completed"
    },
    "tags": []
   },
   "source": [
    "**Exercise 82: Display the hyperparameters of `model_ftrl`**"
   ]
  },
  {
   "cell_type": "code",
   "execution_count": 4,
   "id": "0707f6df",
   "metadata": {
    "execution": {
     "iopub.execute_input": "2021-07-28T06:10:48.483491Z",
     "iopub.status.busy": "2021-07-28T06:10:48.482749Z",
     "iopub.status.idle": "2021-07-28T06:10:48.487008Z",
     "shell.execute_reply": "2021-07-28T06:10:48.487703Z",
     "shell.execute_reply.started": "2021-07-26T10:12:53.662442Z"
    },
    "papermill": {
     "duration": 0.042515,
     "end_time": "2021-07-28T06:10:48.487901",
     "exception": false,
     "start_time": "2021-07-28T06:10:48.445386",
     "status": "completed"
    },
    "tags": []
   },
   "outputs": [
    {
     "data": {
      "text/plain": [
       "FtrlParams(alpha=0.005, beta=1.0, lambda1=0.0, lambda2=0.0, nbins=1000000, mantissa_nbits=10, nepochs=1.0, double_precision=False, negative_class=False, interactions=None, model_type='auto')"
      ]
     },
     "execution_count": 4,
     "metadata": {},
     "output_type": "execute_result"
    }
   ],
   "source": [
    "model_ftrl.params"
   ]
  },
  {
   "cell_type": "markdown",
   "id": "4f9f9849",
   "metadata": {
    "papermill": {
     "duration": 0.031219,
     "end_time": "2021-07-28T06:10:48.550513",
     "exception": false,
     "start_time": "2021-07-28T06:10:48.519294",
     "status": "completed"
    },
    "tags": []
   },
   "source": [
    "**Exercise 83: Split `data` into `train_data` consisting of the first 75% of rows and `valid_data` consisting of the last 25% of rows**"
   ]
  },
  {
   "cell_type": "code",
   "execution_count": 5,
   "id": "c0afd91e",
   "metadata": {
    "execution": {
     "iopub.execute_input": "2021-07-28T06:10:48.620295Z",
     "iopub.status.busy": "2021-07-28T06:10:48.619573Z",
     "iopub.status.idle": "2021-07-28T06:10:48.627372Z",
     "shell.execute_reply": "2021-07-28T06:10:48.627983Z",
     "shell.execute_reply.started": "2021-07-26T10:08:05.202565Z"
    },
    "papermill": {
     "duration": 0.045739,
     "end_time": "2021-07-28T06:10:48.628186",
     "exception": false,
     "start_time": "2021-07-28T06:10:48.582447",
     "status": "completed"
    },
    "tags": []
   },
   "outputs": [
    {
     "data": {
      "text/plain": [
       "(299612, 12)"
      ]
     },
     "execution_count": 5,
     "metadata": {},
     "output_type": "execute_result"
    }
   ],
   "source": [
    "train_data = data[:round(data.nrows * 0.75), :]\n",
    "train_data.shape"
   ]
  },
  {
   "cell_type": "code",
   "execution_count": 6,
   "id": "327c137f",
   "metadata": {
    "execution": {
     "iopub.execute_input": "2021-07-28T06:10:48.698270Z",
     "iopub.status.busy": "2021-07-28T06:10:48.697652Z",
     "iopub.status.idle": "2021-07-28T06:10:48.703113Z",
     "shell.execute_reply": "2021-07-28T06:10:48.703709Z",
     "shell.execute_reply.started": "2021-07-26T10:08:05.810837Z"
    },
    "papermill": {
     "duration": 0.043051,
     "end_time": "2021-07-28T06:10:48.703886",
     "exception": false,
     "start_time": "2021-07-28T06:10:48.660835",
     "status": "completed"
    },
    "tags": []
   },
   "outputs": [
    {
     "data": {
      "text/plain": [
       "(99870, 12)"
      ]
     },
     "execution_count": 6,
     "metadata": {},
     "output_type": "execute_result"
    }
   ],
   "source": [
    "valid_data = data[round(data.nrows * 0.75):, :]\n",
    "valid_data.shape"
   ]
  },
  {
   "cell_type": "markdown",
   "id": "78d03128",
   "metadata": {
    "papermill": {
     "duration": 0.032124,
     "end_time": "2021-07-28T06:10:48.768183",
     "exception": false,
     "start_time": "2021-07-28T06:10:48.736059",
     "status": "completed"
    },
    "tags": []
   },
   "source": [
    "**Exercise 84: Assign the target variable `click` to `train_target` from `train_data` and `valid_target` from `valid_data` and drop the columns `url_hash` and `click` from `train_data` and `valid_data`**"
   ]
  },
  {
   "cell_type": "code",
   "execution_count": 7,
   "id": "44869b7c",
   "metadata": {
    "execution": {
     "iopub.execute_input": "2021-07-28T06:10:48.838243Z",
     "iopub.status.busy": "2021-07-28T06:10:48.837577Z",
     "iopub.status.idle": "2021-07-28T06:10:48.842868Z",
     "shell.execute_reply": "2021-07-28T06:10:48.843402Z",
     "shell.execute_reply.started": "2021-07-26T10:08:28.654474Z"
    },
    "papermill": {
     "duration": 0.043473,
     "end_time": "2021-07-28T06:10:48.843579",
     "exception": false,
     "start_time": "2021-07-28T06:10:48.800106",
     "status": "completed"
    },
    "tags": []
   },
   "outputs": [
    {
     "data": {
      "text/html": [
       "<div class='datatable'>\n",
       "  <table class='frame'>\n",
       "  <thead>\n",
       "    <tr class='colnames'><td class='row_index'></td><th>click</th></tr>\n",
       "    <tr class='coltypes'><td class='row_index'></td><td class='bool' title='bool8'>&#x25AA;</td></tr>\n",
       "  </thead>\n",
       "  <tbody>\n",
       "    <tr><td class='row_index'>0</td><td>0</td></tr>\n",
       "    <tr><td class='row_index'>1</td><td>1</td></tr>\n",
       "    <tr><td class='row_index'>2</td><td>0</td></tr>\n",
       "    <tr><td class='row_index'>3</td><td>0</td></tr>\n",
       "    <tr><td class='row_index'>4</td><td>0</td></tr>\n",
       "    <tr><td class='row_index'>5</td><td>1</td></tr>\n",
       "    <tr><td class='row_index'>6</td><td>0</td></tr>\n",
       "    <tr><td class='row_index'>7</td><td>0</td></tr>\n",
       "    <tr><td class='row_index'>8</td><td>0</td></tr>\n",
       "    <tr><td class='row_index'>9</td><td>1</td></tr>\n",
       "  </tbody>\n",
       "  </table>\n",
       "  <div class='footer'>\n",
       "    <div class='frame_dimensions'>10 rows &times; 1 column</div>\n",
       "  </div>\n",
       "</div>\n"
      ],
      "text/plain": [
       "<Frame#7f0b29ecb870 10x1>"
      ]
     },
     "execution_count": 7,
     "metadata": {},
     "output_type": "execute_result"
    }
   ],
   "source": [
    "train_target = train_data['click']\n",
    "train_target.head()"
   ]
  },
  {
   "cell_type": "code",
   "execution_count": 8,
   "id": "f0342fa9",
   "metadata": {
    "execution": {
     "iopub.execute_input": "2021-07-28T06:10:48.912385Z",
     "iopub.status.busy": "2021-07-28T06:10:48.911667Z",
     "iopub.status.idle": "2021-07-28T06:10:48.917598Z",
     "shell.execute_reply": "2021-07-28T06:10:48.917018Z",
     "shell.execute_reply.started": "2021-07-26T10:08:29.181764Z"
    },
    "papermill": {
     "duration": 0.040948,
     "end_time": "2021-07-28T06:10:48.917766",
     "exception": false,
     "start_time": "2021-07-28T06:10:48.876818",
     "status": "completed"
    },
    "tags": []
   },
   "outputs": [
    {
     "data": {
      "text/html": [
       "<div class='datatable'>\n",
       "  <table class='frame'>\n",
       "  <thead>\n",
       "    <tr class='colnames'><td class='row_index'></td><th>click</th></tr>\n",
       "    <tr class='coltypes'><td class='row_index'></td><td class='bool' title='bool8'>&#x25AA;</td></tr>\n",
       "  </thead>\n",
       "  <tbody>\n",
       "    <tr><td class='row_index'>0</td><td>0</td></tr>\n",
       "    <tr><td class='row_index'>1</td><td>0</td></tr>\n",
       "    <tr><td class='row_index'>2</td><td>0</td></tr>\n",
       "    <tr><td class='row_index'>3</td><td>0</td></tr>\n",
       "    <tr><td class='row_index'>4</td><td>1</td></tr>\n",
       "    <tr><td class='row_index'>5</td><td>0</td></tr>\n",
       "    <tr><td class='row_index'>6</td><td>0</td></tr>\n",
       "    <tr><td class='row_index'>7</td><td>0</td></tr>\n",
       "    <tr><td class='row_index'>8</td><td>0</td></tr>\n",
       "    <tr><td class='row_index'>9</td><td>1</td></tr>\n",
       "  </tbody>\n",
       "  </table>\n",
       "  <div class='footer'>\n",
       "    <div class='frame_dimensions'>10 rows &times; 1 column</div>\n",
       "  </div>\n",
       "</div>\n"
      ],
      "text/plain": [
       "<Frame#7f0b29ecbf00 10x1>"
      ]
     },
     "execution_count": 8,
     "metadata": {},
     "output_type": "execute_result"
    }
   ],
   "source": [
    "valid_target = valid_data['click']\n",
    "valid_target.head()"
   ]
  },
  {
   "cell_type": "code",
   "execution_count": 9,
   "id": "2d5ee2ac",
   "metadata": {
    "execution": {
     "iopub.execute_input": "2021-07-28T06:10:48.997899Z",
     "iopub.status.busy": "2021-07-28T06:10:48.996945Z",
     "iopub.status.idle": "2021-07-28T06:10:49.000221Z",
     "shell.execute_reply": "2021-07-28T06:10:49.000696Z",
     "shell.execute_reply.started": "2021-07-26T10:08:34.458014Z"
    },
    "papermill": {
     "duration": 0.049629,
     "end_time": "2021-07-28T06:10:49.000880",
     "exception": false,
     "start_time": "2021-07-28T06:10:48.951251",
     "status": "completed"
    },
    "tags": []
   },
   "outputs": [
    {
     "data": {
      "text/html": [
       "<div class='datatable'>\n",
       "  <table class='frame'>\n",
       "  <thead>\n",
       "    <tr class='colnames'><td class='row_index'></td><th>impression</th><th>ad_id</th><th>advertiser_id</th><th>depth</th><th>position</th><th>query_id</th><th>keyword_id</th><th>title_id</th><th>description_id</th><th>user_id</th></tr>\n",
       "    <tr class='coltypes'><td class='row_index'></td><td class='int' title='int32'>&#x25AA;&#x25AA;&#x25AA;&#x25AA;</td><td class='int' title='int32'>&#x25AA;&#x25AA;&#x25AA;&#x25AA;</td><td class='int' title='int32'>&#x25AA;&#x25AA;&#x25AA;&#x25AA;</td><td class='int' title='int32'>&#x25AA;&#x25AA;&#x25AA;&#x25AA;</td><td class='int' title='int32'>&#x25AA;&#x25AA;&#x25AA;&#x25AA;</td><td class='int' title='int32'>&#x25AA;&#x25AA;&#x25AA;&#x25AA;</td><td class='int' title='int32'>&#x25AA;&#x25AA;&#x25AA;&#x25AA;</td><td class='int' title='int32'>&#x25AA;&#x25AA;&#x25AA;&#x25AA;</td><td class='int' title='int32'>&#x25AA;&#x25AA;&#x25AA;&#x25AA;</td><td class='int' title='int32'>&#x25AA;&#x25AA;&#x25AA;&#x25AA;</td></tr>\n",
       "  </thead>\n",
       "  <tbody>\n",
       "    <tr><td class='row_index'>0</td><td>1</td><td>8343295</td><td>11700</td><td>3</td><td>3</td><td>7702266</td><td>21264</td><td>27892</td><td>1559</td><td>0</td></tr>\n",
       "    <tr><td class='row_index'>1</td><td>1</td><td>20017077</td><td>23798</td><td>1</td><td>1</td><td>93079</td><td>35498</td><td>4</td><td>36476</td><td>562934</td></tr>\n",
       "    <tr><td class='row_index'>2</td><td>1</td><td>21348354</td><td>36654</td><td>1</td><td>1</td><td>10981</td><td>19975</td><td>36105</td><td>33292</td><td>11621116</td></tr>\n",
       "    <tr><td class='row_index'>3</td><td>1</td><td>20366086</td><td>33280</td><td>3</td><td>3</td><td>0</td><td>5942</td><td>4057</td><td>4390</td><td>8778348</td></tr>\n",
       "    <tr><td class='row_index'>4</td><td>1</td><td>6803526</td><td>10790</td><td>2</td><td>1</td><td>9881978</td><td>60593</td><td>25242</td><td>1679</td><td>12118311</td></tr>\n",
       "    <tr><td class='row_index'>5</td><td>1</td><td>21186478</td><td>35793</td><td>2</td><td>1</td><td>163315</td><td>4871</td><td>3257</td><td>1153</td><td>2886008</td></tr>\n",
       "    <tr><td class='row_index'>6</td><td>1</td><td>20886690</td><td>34840</td><td>2</td><td>2</td><td>316</td><td>543</td><td>2206</td><td>2888</td><td>7589739</td></tr>\n",
       "    <tr><td class='row_index'>7</td><td>1</td><td>21367376</td><td>20667</td><td>3</td><td>2</td><td>2601439</td><td>118</td><td>9594</td><td>9705</td><td>579253</td></tr>\n",
       "    <tr><td class='row_index'>8</td><td>1</td><td>21811752</td><td>37737</td><td>3</td><td>2</td><td>1631</td><td>333</td><td>841</td><td>2175</td><td>5277279</td></tr>\n",
       "    <tr><td class='row_index'>9</td><td>1</td><td>9027213</td><td>23808</td><td>2</td><td>1</td><td>5</td><td>1</td><td>0</td><td>0</td><td>11808635</td></tr>\n",
       "  </tbody>\n",
       "  </table>\n",
       "  <div class='footer'>\n",
       "    <div class='frame_dimensions'>10 rows &times; 10 columns</div>\n",
       "  </div>\n",
       "</div>\n"
      ],
      "text/plain": [
       "<Frame#7f0b29ecbd80 10x10>"
      ]
     },
     "execution_count": 9,
     "metadata": {},
     "output_type": "execute_result"
    }
   ],
   "source": [
    "del train_data[:, ['url_hash', 'click']]\n",
    "train_data.head()"
   ]
  },
  {
   "cell_type": "code",
   "execution_count": 10,
   "id": "5d0abe8e",
   "metadata": {
    "execution": {
     "iopub.execute_input": "2021-07-28T06:10:49.077947Z",
     "iopub.status.busy": "2021-07-28T06:10:49.077177Z",
     "iopub.status.idle": "2021-07-28T06:10:49.082986Z",
     "shell.execute_reply": "2021-07-28T06:10:49.083562Z",
     "shell.execute_reply.started": "2021-07-26T10:08:39.298171Z"
    },
    "papermill": {
     "duration": 0.043596,
     "end_time": "2021-07-28T06:10:49.083742",
     "exception": false,
     "start_time": "2021-07-28T06:10:49.040146",
     "status": "completed"
    },
    "tags": []
   },
   "outputs": [
    {
     "data": {
      "text/html": [
       "<div class='datatable'>\n",
       "  <table class='frame'>\n",
       "  <thead>\n",
       "    <tr class='colnames'><td class='row_index'></td><th>impression</th><th>ad_id</th><th>advertiser_id</th><th>depth</th><th>position</th><th>query_id</th><th>keyword_id</th><th>title_id</th><th>description_id</th><th>user_id</th></tr>\n",
       "    <tr class='coltypes'><td class='row_index'></td><td class='int' title='int32'>&#x25AA;&#x25AA;&#x25AA;&#x25AA;</td><td class='int' title='int32'>&#x25AA;&#x25AA;&#x25AA;&#x25AA;</td><td class='int' title='int32'>&#x25AA;&#x25AA;&#x25AA;&#x25AA;</td><td class='int' title='int32'>&#x25AA;&#x25AA;&#x25AA;&#x25AA;</td><td class='int' title='int32'>&#x25AA;&#x25AA;&#x25AA;&#x25AA;</td><td class='int' title='int32'>&#x25AA;&#x25AA;&#x25AA;&#x25AA;</td><td class='int' title='int32'>&#x25AA;&#x25AA;&#x25AA;&#x25AA;</td><td class='int' title='int32'>&#x25AA;&#x25AA;&#x25AA;&#x25AA;</td><td class='int' title='int32'>&#x25AA;&#x25AA;&#x25AA;&#x25AA;</td><td class='int' title='int32'>&#x25AA;&#x25AA;&#x25AA;&#x25AA;</td></tr>\n",
       "  </thead>\n",
       "  <tbody>\n",
       "    <tr><td class='row_index'>0</td><td>1</td><td>21104237</td><td>29683</td><td>2</td><td>2</td><td>10689741</td><td>11495</td><td>43449</td><td>1704</td><td>11631003</td></tr>\n",
       "    <tr><td class='row_index'>1</td><td>1</td><td>21162526</td><td>1325</td><td>2</td><td>1</td><td>15</td><td>10</td><td>24</td><td>25</td><td>2220103</td></tr>\n",
       "    <tr><td class='row_index'>2</td><td>1</td><td>9027613</td><td>23808</td><td>2</td><td>1</td><td>2940</td><td>692</td><td>138</td><td>198</td><td>11428948</td></tr>\n",
       "    <tr><td class='row_index'>3</td><td>1</td><td>21866030</td><td>385</td><td>3</td><td>1</td><td>3801572</td><td>742504</td><td>2551939</td><td>1725632</td><td>1927769</td></tr>\n",
       "    <tr><td class='row_index'>4</td><td>1</td><td>10397715</td><td>27354</td><td>3</td><td>1</td><td>41805</td><td>15602</td><td>675726</td><td>315253</td><td>340926</td></tr>\n",
       "    <tr><td class='row_index'>5</td><td>1</td><td>21264083</td><td>36307</td><td>2</td><td>1</td><td>2491</td><td>2723</td><td>502995</td><td>228073</td><td>0</td></tr>\n",
       "    <tr><td class='row_index'>6</td><td>1</td><td>1000515</td><td>2714</td><td>3</td><td>3</td><td>349332</td><td>4075</td><td>3106</td><td>3835</td><td>0</td></tr>\n",
       "    <tr><td class='row_index'>7</td><td>1</td><td>21362188</td><td>36729</td><td>1</td><td>1</td><td>14198118</td><td>647</td><td>2046</td><td>2265</td><td>376316</td></tr>\n",
       "    <tr><td class='row_index'>8</td><td>2</td><td>3048011</td><td>23782</td><td>1</td><td>1</td><td>28487</td><td>484</td><td>322</td><td>463</td><td>31285</td></tr>\n",
       "    <tr><td class='row_index'>9</td><td>1</td><td>7098654</td><td>19581</td><td>2</td><td>1</td><td>2974680</td><td>60887</td><td>512601</td><td>576993</td><td>4984469</td></tr>\n",
       "  </tbody>\n",
       "  </table>\n",
       "  <div class='footer'>\n",
       "    <div class='frame_dimensions'>10 rows &times; 10 columns</div>\n",
       "  </div>\n",
       "</div>\n"
      ],
      "text/plain": [
       "<Frame#7f0b29ecba50 10x10>"
      ]
     },
     "execution_count": 10,
     "metadata": {},
     "output_type": "execute_result"
    }
   ],
   "source": [
    "del valid_data[:, ['url_hash', 'click']]\n",
    "valid_data.head()"
   ]
  },
  {
   "cell_type": "markdown",
   "id": "30b0220d",
   "metadata": {
    "papermill": {
     "duration": 0.033159,
     "end_time": "2021-07-28T06:10:49.150376",
     "exception": false,
     "start_time": "2021-07-28T06:10:49.117217",
     "status": "completed"
    },
    "tags": []
   },
   "source": [
    "**Exercise 85: Train `model_ftrl` using `train_data` and `train_target`**"
   ]
  },
  {
   "cell_type": "code",
   "execution_count": 11,
   "id": "17296494",
   "metadata": {
    "execution": {
     "iopub.execute_input": "2021-07-28T06:10:49.224018Z",
     "iopub.status.busy": "2021-07-28T06:10:49.223344Z",
     "iopub.status.idle": "2021-07-28T06:10:49.358848Z",
     "shell.execute_reply": "2021-07-28T06:10:49.359782Z",
     "shell.execute_reply.started": "2021-07-26T10:08:52.346923Z"
    },
    "papermill": {
     "duration": 0.172676,
     "end_time": "2021-07-28T06:10:49.359992",
     "exception": false,
     "start_time": "2021-07-28T06:10:49.187316",
     "status": "completed"
    },
    "tags": []
   },
   "outputs": [
    {
     "data": {
      "text/plain": [
       "<datatable.models.Ftrl at 0x7f0b2a73af30>"
      ]
     },
     "execution_count": 11,
     "metadata": {},
     "output_type": "execute_result"
    }
   ],
   "source": [
    "model_ftrl.fit(train_data, train_target)\n",
    "model_ftrl"
   ]
  },
  {
   "cell_type": "markdown",
   "id": "19f53e6e",
   "metadata": {
    "papermill": {
     "duration": 0.035896,
     "end_time": "2021-07-28T06:10:49.439035",
     "exception": false,
     "start_time": "2021-07-28T06:10:49.403139",
     "status": "completed"
    },
    "tags": []
   },
   "source": [
    "**Exercise 86: Assign the feature importances of `model_ftrl` to `model_ftrl_fimp`**"
   ]
  },
  {
   "cell_type": "code",
   "execution_count": 12,
   "id": "8d54f455",
   "metadata": {
    "execution": {
     "iopub.execute_input": "2021-07-28T06:10:49.516902Z",
     "iopub.status.busy": "2021-07-28T06:10:49.515679Z",
     "iopub.status.idle": "2021-07-28T06:10:49.519863Z",
     "shell.execute_reply": "2021-07-28T06:10:49.517785Z",
     "shell.execute_reply.started": "2021-07-26T10:09:59.090216Z"
    },
    "papermill": {
     "duration": 0.047661,
     "end_time": "2021-07-28T06:10:49.520035",
     "exception": false,
     "start_time": "2021-07-28T06:10:49.472374",
     "status": "completed"
    },
    "tags": []
   },
   "outputs": [
    {
     "data": {
      "text/html": [
       "<div class='datatable'>\n",
       "  <table class='frame'>\n",
       "  <thead>\n",
       "    <tr class='colnames'><td class='row_index'></td><th>feature_name</th><th>feature_importance</th></tr>\n",
       "    <tr class='coltypes'><td class='row_index'></td><td class='str' title='str32'>&#x25AA;&#x25AA;&#x25AA;&#x25AA;</td><td class='float' title='float32'>&#x25AA;&#x25AA;&#x25AA;&#x25AA;</td></tr>\n",
       "  </thead>\n",
       "  <tbody>\n",
       "    <tr><td class='row_index'>0</td><td>impression</td><td>1</td></tr>\n",
       "    <tr><td class='row_index'>1</td><td>ad_id</td><td>0.0141208</td></tr>\n",
       "    <tr><td class='row_index'>2</td><td>advertiser_id</td><td>0.077217</td></tr>\n",
       "    <tr><td class='row_index'>3</td><td>depth</td><td>0.678396</td></tr>\n",
       "    <tr><td class='row_index'>4</td><td>position</td><td>0.719804</td></tr>\n",
       "    <tr><td class='row_index'>5</td><td>query_id</td><td>0.0126542</td></tr>\n",
       "    <tr><td class='row_index'>6</td><td>keyword_id</td><td>0.0172789</td></tr>\n",
       "    <tr><td class='row_index'>7</td><td>title_id</td><td>0.010158</td></tr>\n",
       "    <tr><td class='row_index'>8</td><td>description_id</td><td>0.01296</td></tr>\n",
       "    <tr><td class='row_index'>9</td><td>user_id</td><td>0.181911</td></tr>\n",
       "  </tbody>\n",
       "  </table>\n",
       "  <div class='footer'>\n",
       "    <div class='frame_dimensions'>10 rows &times; 2 columns</div>\n",
       "  </div>\n",
       "</div>\n"
      ],
      "text/plain": [
       "<Frame#7f0b2a73ad50 10x2>"
      ]
     },
     "execution_count": 12,
     "metadata": {},
     "output_type": "execute_result"
    }
   ],
   "source": [
    "model_ftrl_fimp = model_ftrl.feature_importances\n",
    "model_ftrl_fimp"
   ]
  },
  {
   "cell_type": "markdown",
   "id": "8ddf7473",
   "metadata": {
    "papermill": {
     "duration": 0.034632,
     "end_time": "2021-07-28T06:10:49.601537",
     "exception": false,
     "start_time": "2021-07-28T06:10:49.566905",
     "status": "completed"
    },
    "tags": []
   },
   "source": [
    "**Exercise 87: Use `model_ftrl` to predict on `valid_data` and assign the predictions to `preds_ftrl`**"
   ]
  },
  {
   "cell_type": "code",
   "execution_count": 13,
   "id": "17657bc4",
   "metadata": {
    "execution": {
     "iopub.execute_input": "2021-07-28T06:10:49.712311Z",
     "iopub.status.busy": "2021-07-28T06:10:49.711271Z",
     "iopub.status.idle": "2021-07-28T06:10:49.717639Z",
     "shell.execute_reply": "2021-07-28T06:10:49.717032Z",
     "shell.execute_reply.started": "2021-07-26T10:10:52.660901Z"
    },
    "papermill": {
     "duration": 0.082202,
     "end_time": "2021-07-28T06:10:49.717809",
     "exception": false,
     "start_time": "2021-07-28T06:10:49.635607",
     "status": "completed"
    },
    "tags": []
   },
   "outputs": [
    {
     "data": {
      "text/html": [
       "<div class='datatable'>\n",
       "  <table class='frame'>\n",
       "  <thead>\n",
       "    <tr class='colnames'><td class='row_index'></td><th>False</th><th>True</th></tr>\n",
       "    <tr class='coltypes'><td class='row_index'></td><td class='float' title='float32'>&#x25AA;&#x25AA;&#x25AA;&#x25AA;</td><td class='float' title='float32'>&#x25AA;&#x25AA;&#x25AA;&#x25AA;</td></tr>\n",
       "  </thead>\n",
       "  <tbody>\n",
       "    <tr><td class='row_index'>0</td><td>0.841137</td><td>0.158863</td></tr>\n",
       "    <tr><td class='row_index'>1</td><td>0.755281</td><td>0.244719</td></tr>\n",
       "    <tr><td class='row_index'>2</td><td>0.781361</td><td>0.218639</td></tr>\n",
       "    <tr><td class='row_index'>3</td><td>0.824949</td><td>0.175051</td></tr>\n",
       "    <tr><td class='row_index'>4</td><td>0.823703</td><td>0.176297</td></tr>\n",
       "    <tr><td class='row_index'>5</td><td>0.859376</td><td>0.140624</td></tr>\n",
       "    <tr><td class='row_index'>6</td><td>0.904565</td><td>0.0954348</td></tr>\n",
       "    <tr><td class='row_index'>7</td><td>0.806923</td><td>0.193077</td></tr>\n",
       "    <tr><td class='row_index'>8</td><td>0.645189</td><td>0.354811</td></tr>\n",
       "    <tr><td class='row_index'>9</td><td>0.791894</td><td>0.208106</td></tr>\n",
       "    <tr><td class='row_index'>10</td><td>0.836223</td><td>0.163777</td></tr>\n",
       "    <tr><td class='row_index'>11</td><td>0.907247</td><td>0.0927527</td></tr>\n",
       "    <tr><td class='row_index'>12</td><td>0.893052</td><td>0.106948</td></tr>\n",
       "    <tr><td class='row_index'>13</td><td>0.813729</td><td>0.186271</td></tr>\n",
       "    <tr><td class='row_index'>14</td><td>0.786804</td><td>0.213196</td></tr>\n",
       "    <tr><td class='row_index'>&#x22EE;</td><td class='hellipsis'>&#x22EE;</td><td class='hellipsis'>&#x22EE;</td></tr>\n",
       "    <tr><td class='row_index'>99,865</td><td>0.790003</td><td>0.209997</td></tr>\n",
       "    <tr><td class='row_index'>99,866</td><td>0.805343</td><td>0.194657</td></tr>\n",
       "    <tr><td class='row_index'>99,867</td><td>0.842599</td><td>0.157401</td></tr>\n",
       "    <tr><td class='row_index'>99,868</td><td>0.906167</td><td>0.0938333</td></tr>\n",
       "    <tr><td class='row_index'>99,869</td><td>0.87534</td><td>0.12466</td></tr>\n",
       "  </tbody>\n",
       "  </table>\n",
       "  <div class='footer'>\n",
       "    <div class='frame_dimensions'>99,870 rows &times; 2 columns</div>\n",
       "  </div>\n",
       "</div>\n"
      ],
      "text/plain": [
       "<Frame#7f0b29ecbd20 99870x2>"
      ]
     },
     "execution_count": 13,
     "metadata": {},
     "output_type": "execute_result"
    }
   ],
   "source": [
    "preds_ftrl = model_ftrl.predict(valid_data)\n",
    "preds_ftrl"
   ]
  },
  {
   "cell_type": "markdown",
   "id": "b4ff1d28",
   "metadata": {
    "papermill": {
     "duration": 0.036148,
     "end_time": "2021-07-28T06:10:49.798416",
     "exception": false,
     "start_time": "2021-07-28T06:10:49.762268",
     "status": "completed"
    },
    "tags": []
   },
   "source": [
    "**Exercise 88: Calculate the mean absolute error of `preds_ftrl` with `valid_target`**"
   ]
  },
  {
   "cell_type": "code",
   "execution_count": 14,
   "id": "5527cf21",
   "metadata": {
    "execution": {
     "iopub.execute_input": "2021-07-28T06:10:49.888093Z",
     "iopub.status.busy": "2021-07-28T06:10:49.887209Z",
     "iopub.status.idle": "2021-07-28T06:10:49.890920Z",
     "shell.execute_reply": "2021-07-28T06:10:49.891539Z",
     "shell.execute_reply.started": "2021-07-26T10:11:42.131083Z"
    },
    "papermill": {
     "duration": 0.059123,
     "end_time": "2021-07-28T06:10:49.891727",
     "exception": false,
     "start_time": "2021-07-28T06:10:49.832604",
     "status": "completed"
    },
    "tags": []
   },
   "outputs": [
    {
     "data": {
      "text/plain": [
       "0.2725558280944824"
      ]
     },
     "execution_count": 14,
     "metadata": {},
     "output_type": "execute_result"
    }
   ],
   "source": [
    "preds = dt.cbind(preds_ftrl, valid_target)\n",
    "preds[:, dt.mean(dt.math.abs(dt.f.click - dt.f['True']))][0, 0]"
   ]
  },
  {
   "cell_type": "markdown",
   "id": "c18edfc7",
   "metadata": {
    "papermill": {
     "duration": 0.038164,
     "end_time": "2021-07-28T06:10:49.967109",
     "exception": false,
     "start_time": "2021-07-28T06:10:49.928945",
     "status": "completed"
    },
    "tags": []
   },
   "source": [
    "**Exercise 89: Train a new FTRL model `model_ftrl_2` with `lambda2=1.2`, `nepochs=5` and `double_precision=True` using `train_data` and `train_target`**"
   ]
  },
  {
   "cell_type": "code",
   "execution_count": 15,
   "id": "48d8a1bd",
   "metadata": {
    "execution": {
     "iopub.execute_input": "2021-07-28T06:10:50.046291Z",
     "iopub.status.busy": "2021-07-28T06:10:50.045226Z",
     "iopub.status.idle": "2021-07-28T06:10:50.714065Z",
     "shell.execute_reply": "2021-07-28T06:10:50.715131Z",
     "shell.execute_reply.started": "2021-07-26T10:12:00.913762Z"
    },
    "papermill": {
     "duration": 0.709163,
     "end_time": "2021-07-28T06:10:50.715590",
     "exception": false,
     "start_time": "2021-07-28T06:10:50.006427",
     "status": "completed"
    },
    "tags": []
   },
   "outputs": [
    {
     "data": {
      "text/plain": [
       "<datatable.models.Ftrl at 0x7f0b2908e3f0>"
      ]
     },
     "execution_count": 15,
     "metadata": {},
     "output_type": "execute_result"
    }
   ],
   "source": [
    "model_ftrl_2 = Ftrl(lambda2=1.2, nepochs=5, double_precision=True)\n",
    "model_ftrl_2.fit(train_data, train_target)\n",
    "model_ftrl_2"
   ]
  },
  {
   "cell_type": "markdown",
   "id": "3de91b60",
   "metadata": {
    "papermill": {
     "duration": 0.034548,
     "end_time": "2021-07-28T06:10:50.800774",
     "exception": false,
     "start_time": "2021-07-28T06:10:50.766226",
     "status": "completed"
    },
    "tags": []
   },
   "source": [
    "**Exercise 90: Train a new FTRL model `model_ftrl_cv` with `alpha=0.01` and `nepochs=3` over 5-fold cross-validation using all features in `data` and assign the cross-validated predictions along with the target variable `click` to `preds_ftrl_cv`**"
   ]
  },
  {
   "cell_type": "code",
   "execution_count": 16,
   "id": "c47a757f",
   "metadata": {
    "execution": {
     "iopub.execute_input": "2021-07-28T06:10:51.322666Z",
     "iopub.status.busy": "2021-07-28T06:10:51.321725Z",
     "iopub.status.idle": "2021-07-28T06:10:53.192730Z",
     "shell.execute_reply": "2021-07-28T06:10:53.193859Z",
     "shell.execute_reply.started": "2021-07-19T09:03:14.58146Z"
    },
    "papermill": {
     "duration": 2.358714,
     "end_time": "2021-07-28T06:10:53.194101",
     "exception": false,
     "start_time": "2021-07-28T06:10:50.835387",
     "status": "completed"
    },
    "tags": []
   },
   "outputs": [
    {
     "data": {
      "text/html": [
       "<div class='datatable'>\n",
       "  <table class='frame'>\n",
       "  <thead>\n",
       "    <tr class='colnames'><td class='row_index'></td><th>False</th><th>True</th><th>click</th></tr>\n",
       "    <tr class='coltypes'><td class='row_index'></td><td class='float' title='float32'>&#x25AA;&#x25AA;&#x25AA;&#x25AA;</td><td class='float' title='float32'>&#x25AA;&#x25AA;&#x25AA;&#x25AA;</td><td class='bool' title='bool8'>&#x25AA;</td></tr>\n",
       "  </thead>\n",
       "  <tbody>\n",
       "    <tr><td class='row_index'>0</td><td>0.946135</td><td>0.0538645</td><td>0</td></tr>\n",
       "    <tr><td class='row_index'>1</td><td>0.805797</td><td>0.194203</td><td>1</td></tr>\n",
       "    <tr><td class='row_index'>2</td><td>0.815915</td><td>0.184085</td><td>0</td></tr>\n",
       "    <tr><td class='row_index'>3</td><td>0.955378</td><td>0.0446224</td><td>0</td></tr>\n",
       "    <tr><td class='row_index'>4</td><td>0.785628</td><td>0.214372</td><td>0</td></tr>\n",
       "    <tr><td class='row_index'>5</td><td>0.756479</td><td>0.243521</td><td>1</td></tr>\n",
       "    <tr><td class='row_index'>6</td><td>0.842439</td><td>0.157561</td><td>0</td></tr>\n",
       "    <tr><td class='row_index'>7</td><td>0.912787</td><td>0.0872127</td><td>0</td></tr>\n",
       "    <tr><td class='row_index'>8</td><td>0.900922</td><td>0.0990777</td><td>0</td></tr>\n",
       "    <tr><td class='row_index'>9</td><td>0.727039</td><td>0.272961</td><td>1</td></tr>\n",
       "    <tr><td class='row_index'>10</td><td>0.906536</td><td>0.0934643</td><td>0</td></tr>\n",
       "    <tr><td class='row_index'>11</td><td>0.763431</td><td>0.236569</td><td>1</td></tr>\n",
       "    <tr><td class='row_index'>12</td><td>0.78352</td><td>0.21648</td><td>0</td></tr>\n",
       "    <tr><td class='row_index'>13</td><td>0.882463</td><td>0.117537</td><td>0</td></tr>\n",
       "    <tr><td class='row_index'>14</td><td>0.807594</td><td>0.192406</td><td>0</td></tr>\n",
       "    <tr><td class='row_index'>&#x22EE;</td><td class='hellipsis'>&#x22EE;</td><td class='hellipsis'>&#x22EE;</td><td class='hellipsis'>&#x22EE;</td></tr>\n",
       "    <tr><td class='row_index'>399,477</td><td>0.763762</td><td>0.236238</td><td>0</td></tr>\n",
       "    <tr><td class='row_index'>399,478</td><td>0.808446</td><td>0.191554</td><td>0</td></tr>\n",
       "    <tr><td class='row_index'>399,479</td><td>0.851883</td><td>0.148117</td><td>1</td></tr>\n",
       "    <tr><td class='row_index'>399,480</td><td>0.942946</td><td>0.0570538</td><td>0</td></tr>\n",
       "    <tr><td class='row_index'>399,481</td><td>0.917941</td><td>0.0820593</td><td>0</td></tr>\n",
       "  </tbody>\n",
       "  </table>\n",
       "  <div class='footer'>\n",
       "    <div class='frame_dimensions'>399,482 rows &times; 3 columns</div>\n",
       "  </div>\n",
       "</div>\n"
      ],
      "text/plain": [
       "<Frame#7f0b29ecbcf0 399482x3>"
      ]
     },
     "execution_count": 16,
     "metadata": {},
     "output_type": "execute_result"
    }
   ],
   "source": [
    "from datatable.models import kfold\n",
    "\n",
    "preds_ftrl_cv = dt.Frame()\n",
    "\n",
    "for (train_idx, valid_idx) in kfold(nrows=data.nrows, nsplits=5):\n",
    "    train_data = data[train_idx, [col for col in data.names if col != 'click']]\n",
    "    valid_data = data[valid_idx, [col for col in data.names if col != 'click']]\n",
    "    train_target = data[train_idx, 'click']\n",
    "    valid_target = data[valid_idx, 'click']\n",
    "\n",
    "    model_ftrl_cv = Ftrl(alpha=0.01, nepochs=3)\n",
    "    model_ftrl_cv.fit(train_data, train_target)\n",
    "    preds_ftrl = model_ftrl_cv.predict(valid_data)\n",
    "    preds_ftrl.cbind(valid_target)\n",
    "\n",
    "    preds_ftrl_cv.rbind(preds_ftrl)\n",
    "\n",
    "preds_ftrl_cv"
   ]
  },
  {
   "cell_type": "markdown",
   "id": "ec55957b",
   "metadata": {
    "papermill": {
     "duration": 0.036063,
     "end_time": "2021-07-28T06:10:53.276570",
     "exception": false,
     "start_time": "2021-07-28T06:10:53.240507",
     "status": "completed"
    },
    "tags": []
   },
   "source": [
    "<center>\n",
    "    ✅ This completes Set 9: Native Models (Exercises 81-90) of <b>DatatableTon</b>: <i>💯 datatable exercises</i>\n",
    "    <br>\n",
    "    Set 10 is coming soon!\n",
    "    <br>\n",
    "    <br>\n",
    "    You can find all the exercises and solutions on <a href=\"https://github.com/vopani/datatableton#exercises-\">GitHub</a>\n",
    "</center>"
   ]
  }
 ],
 "metadata": {
  "kernelspec": {
   "display_name": "Python 3",
   "language": "python",
   "name": "python3"
  },
  "language_info": {
   "codemirror_mode": {
    "name": "ipython",
    "version": 3
   },
   "file_extension": ".py",
   "mimetype": "text/x-python",
   "name": "python",
   "nbconvert_exporter": "python",
   "pygments_lexer": "ipython3",
   "version": "3.7.10"
  },
  "papermill": {
   "default_parameters": {},
   "duration": 54.981315,
   "end_time": "2021-07-28T06:10:54.754080",
   "environment_variables": {},
   "exception": null,
   "input_path": "__notebook__.ipynb",
   "output_path": "__notebook__.ipynb",
   "parameters": {},
   "start_time": "2021-07-28T06:09:59.772765",
   "version": "2.3.3"
  }
 },
 "nbformat": 4,
 "nbformat_minor": 5
}
