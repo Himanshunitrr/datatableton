{
 "cells": [
  {
   "cell_type": "markdown",
   "id": "57019d36",
   "metadata": {
    "_cell_guid": "b1076dfc-b9ad-4769-8c92-a6c4dae69d19",
    "_uuid": "8f2839f25d086af736a60e9eeb907d3b93b6e0e5",
    "papermill": {
     "duration": 0.016943,
     "end_time": "2021-07-25T04:17:50.239375",
     "exception": false,
     "start_time": "2021-07-25T04:17:50.222432",
     "status": "completed"
    },
    "tags": []
   },
   "source": [
    "<center>\n",
    "    <h1>DatatableTon</h1>\n",
    "    💯 datatable exercises\n",
    "    <br>\n",
    "    <br>\n",
    "    <a href='https://github.com/vopani/datatableton/blob/master/LICENSE'>\n",
    "        <img src='https://img.shields.io/badge/license-Apache%202.0-blue.svg?logo=apache'>\n",
    "    </a>\n",
    "    <a href='https://github.com/vopani/datatableton'>\n",
    "        <img src='https://img.shields.io/github/stars/vopani/datatableton?color=yellowgreen&logo=github'>\n",
    "    </a>\n",
    "    <a href='https://twitter.com/vopani'>\n",
    "        <img src='https://img.shields.io/twitter/follow/vopani'>\n",
    "    </a>\n",
    "</center>"
   ]
  },
  {
   "cell_type": "markdown",
   "id": "681f728b",
   "metadata": {
    "papermill": {
     "duration": 0.015355,
     "end_time": "2021-07-25T04:17:50.272966",
     "exception": false,
     "start_time": "2021-07-25T04:17:50.257611",
     "status": "completed"
    },
    "tags": []
   },
   "source": [
    "<center>\n",
    "    This is Set 7: Multiple Frames (Exercises 61-70) of <b>DatatableTon</b>: <i>💯 datatable exercises</i>\n",
    "    <br>\n",
    "    You can find all the exercises and solutions on <a href=\"https://github.com/vopani/datatableton#exercises-\">GitHub</a>\n",
    "</center>"
   ]
  },
  {
   "cell_type": "markdown",
   "id": "cbfbde9c",
   "metadata": {
    "papermill": {
     "duration": 0.015391,
     "end_time": "2021-07-25T04:17:50.305646",
     "exception": false,
     "start_time": "2021-07-25T04:17:50.290255",
     "status": "completed"
    },
    "tags": []
   },
   "source": [
    "**Prerequisites**\n",
    "* The `datatable` package should be upgraded to the latest version (or v1.0.0+).\n",
    "* The sample dataset [datatableton_sample.zip](https://github.com/vopani/datatableton/blob/main/data/datatableton_sample.zip) will be used for the exercises."
   ]
  },
  {
   "cell_type": "code",
   "execution_count": 1,
   "id": "9da2d92e",
   "metadata": {
    "_kg_hide-output": true,
    "execution": {
     "iopub.execute_input": "2021-07-25T04:17:50.362801Z",
     "iopub.status.busy": "2021-07-25T04:17:50.350302Z",
     "iopub.status.idle": "2021-07-25T04:18:21.730351Z",
     "shell.execute_reply": "2021-07-25T04:18:21.729701Z",
     "shell.execute_reply.started": "2021-07-21T19:51:43.26081Z"
    },
    "papermill": {
     "duration": 31.408887,
     "end_time": "2021-07-25T04:18:21.730538",
     "exception": false,
     "start_time": "2021-07-25T04:17:50.321651",
     "status": "completed"
    },
    "tags": []
   },
   "outputs": [
    {
     "name": "stdout",
     "output_type": "stream",
     "text": [
      "Requirement already satisfied: pip in /opt/conda/lib/python3.7/site-packages (21.1.2)\r\n",
      "Collecting pip\r\n",
      "  Downloading pip-21.1.3-py3-none-any.whl (1.5 MB)\r\n",
      "\u001b[K     |████████████████████████████████| 1.5 MB 4.5 MB/s \r\n",
      "\u001b[?25hInstalling collected packages: pip\r\n",
      "  Attempting uninstall: pip\r\n",
      "    Found existing installation: pip 21.1.2\r\n",
      "    Uninstalling pip-21.1.2:\r\n",
      "      Successfully uninstalled pip-21.1.2\r\n",
      "Successfully installed pip-21.1.3\r\n",
      "\u001b[33mWARNING: Running pip as root will break packages and permissions. You should install packages reliably by using venv: https://pip.pypa.io/warnings/venv\u001b[0m\r\n",
      "Requirement already satisfied: datatable in /opt/conda/lib/python3.7/site-packages (1.0.0)\r\n",
      "\u001b[33mWARNING: Running pip as the 'root' user can result in broken permissions and conflicting behaviour with the system package manager. It is recommended to use a virtual environment instead: https://pip.pypa.io/warnings/venv\u001b[0m\r\n",
      "--2021-07-25 04:18:21--  https://raw.githubusercontent.com/vopani/datatableton/main/data/datatableton_sample.zip\r\n",
      "Resolving raw.githubusercontent.com (raw.githubusercontent.com)... 185.199.108.133, 185.199.111.133, 185.199.109.133, ...\r\n",
      "Connecting to raw.githubusercontent.com (raw.githubusercontent.com)|185.199.108.133|:443... connected.\r\n",
      "HTTP request sent, awaiting response... 200 OK\r\n",
      "Length: 3834 (3.7K) [application/zip]\r\n",
      "Saving to: ‘datatableton_sample.zip’\r\n",
      "\r\n",
      "datatableton_sample 100%[===================>]   3.74K  --.-KB/s    in 0s      \r\n",
      "\r\n",
      "2021-07-25 04:18:21 (48.7 MB/s) - ‘datatableton_sample.zip’ saved [3834/3834]\r\n",
      "\r\n"
     ]
    }
   ],
   "source": [
    "!python3 -m pip install -U pip\n",
    "!python3 -m pip install -U datatable\n",
    "!wget https://raw.githubusercontent.com/vopani/datatableton/main/data/datatableton_sample.zip"
   ]
  },
  {
   "cell_type": "code",
   "execution_count": 2,
   "id": "90672194",
   "metadata": {
    "execution": {
     "iopub.execute_input": "2021-07-25T04:18:21.775403Z",
     "iopub.status.busy": "2021-07-25T04:18:21.774460Z",
     "iopub.status.idle": "2021-07-25T04:18:21.957267Z",
     "shell.execute_reply": "2021-07-25T04:18:21.957771Z",
     "shell.execute_reply.started": "2021-07-21T19:52:20.500128Z"
    },
    "papermill": {
     "duration": 0.207763,
     "end_time": "2021-07-25T04:18:21.957944",
     "exception": false,
     "start_time": "2021-07-25T04:18:21.750181",
     "status": "completed"
    },
    "tags": []
   },
   "outputs": [
    {
     "data": {
      "text/html": [
       "<style type='text/css'>\n",
       ".datatable table.frame { margin-bottom: 0; }\n",
       ".datatable table.frame thead { border-bottom: none; }\n",
       ".datatable table.frame tr.coltypes td {  color: #FFFFFF;  line-height: 6px;  padding: 0 0.5em;}\n",
       ".datatable .bool    { background: #DDDD99; }\n",
       ".datatable .object  { background: #565656; }\n",
       ".datatable .int     { background: #5D9E5D; }\n",
       ".datatable .float   { background: #4040CC; }\n",
       ".datatable .str     { background: #CC4040; }\n",
       ".datatable .time    { background: #40CC40; }\n",
       ".datatable .row_index {  background: var(--jp-border-color3);  border-right: 1px solid var(--jp-border-color0);  color: var(--jp-ui-font-color3);  font-size: 9px;}\n",
       ".datatable .frame tbody td { text-align: left; }\n",
       ".datatable .frame tr.coltypes .row_index {  background: var(--jp-border-color0);}\n",
       ".datatable th:nth-child(2) { padding-left: 12px; }\n",
       ".datatable .hellipsis {  color: var(--jp-cell-editor-border-color);}\n",
       ".datatable .vellipsis {  background: var(--jp-layout-color0);  color: var(--jp-cell-editor-border-color);}\n",
       ".datatable .na {  color: var(--jp-cell-editor-border-color);  font-size: 80%;}\n",
       ".datatable .sp {  opacity: 0.25;}\n",
       ".datatable .footer { font-size: 9px; }\n",
       ".datatable .frame_dimensions {  background: var(--jp-border-color3);  border-top: 1px solid var(--jp-border-color0);  color: var(--jp-ui-font-color3);  display: inline-block;  opacity: 0.6;  padding: 1px 10px 1px 5px;}\n",
       "</style>\n"
      ],
      "text/plain": [
       "<IPython.core.display.HTML object>"
      ]
     },
     "metadata": {},
     "output_type": "display_data"
    }
   ],
   "source": [
    "import datatable as dt"
   ]
  },
  {
   "cell_type": "markdown",
   "id": "52406c94",
   "metadata": {
    "papermill": {
     "duration": 0.01969,
     "end_time": "2021-07-25T04:18:21.997796",
     "exception": false,
     "start_time": "2021-07-25T04:18:21.978106",
     "status": "completed"
    },
    "tags": []
   },
   "source": [
    "**Exercise 61: Read all the files together from `datatableton_sample.zip`, assign the list of frames to `data` and print the name of each file**"
   ]
  },
  {
   "cell_type": "code",
   "execution_count": null,
   "id": "3066fa49",
   "metadata": {
    "execution": {
     "iopub.execute_input": "2021-07-21T20:16:52.353789Z",
     "iopub.status.busy": "2021-07-21T20:16:52.352878Z",
     "iopub.status.idle": "2021-07-21T20:16:52.36895Z",
     "shell.execute_reply": "2021-07-21T20:16:52.368393Z",
     "shell.execute_reply.started": "2021-07-21T19:52:20.742917Z"
    },
    "papermill": {
     "duration": 0.019965,
     "end_time": "2021-07-25T04:18:22.037770",
     "exception": false,
     "start_time": "2021-07-25T04:18:22.017805",
     "status": "completed"
    },
    "tags": []
   },
   "outputs": [],
   "source": []
  },
  {
   "cell_type": "markdown",
   "id": "5ba87bd7",
   "metadata": {
    "papermill": {
     "duration": 0.020618,
     "end_time": "2021-07-25T04:18:22.078592",
     "exception": false,
     "start_time": "2021-07-25T04:18:22.057974",
     "status": "completed"
    },
    "tags": []
   },
   "source": [
    "**Exercise 62: Assign the frames `orders_jan.csv`, `orders_feb.csv`, `orders_mar.csv`, `returns.csv` and `users.csv` in `data` to individual frames `orders_jan`, `orders_feb`, `orders_mar`, `returns` and `users` respectively and display the head of each frame**"
   ]
  },
  {
   "cell_type": "code",
   "execution_count": null,
   "id": "484a3ac7",
   "metadata": {
    "execution": {
     "iopub.execute_input": "2021-07-21T20:16:52.487281Z",
     "iopub.status.busy": "2021-07-21T20:16:52.486475Z",
     "iopub.status.idle": "2021-07-21T20:16:52.490227Z",
     "shell.execute_reply": "2021-07-21T20:16:52.490706Z",
     "shell.execute_reply.started": "2021-07-21T19:52:20.764564Z"
    },
    "papermill": {
     "duration": 0.019664,
     "end_time": "2021-07-25T04:18:22.118002",
     "exception": false,
     "start_time": "2021-07-25T04:18:22.098338",
     "status": "completed"
    },
    "tags": []
   },
   "outputs": [],
   "source": []
  },
  {
   "cell_type": "code",
   "execution_count": null,
   "id": "dfe08e70",
   "metadata": {
    "execution": {
     "iopub.execute_input": "2021-07-21T20:16:52.55427Z",
     "iopub.status.busy": "2021-07-21T20:16:52.553572Z",
     "iopub.status.idle": "2021-07-21T20:16:52.558278Z",
     "shell.execute_reply": "2021-07-21T20:16:52.557737Z",
     "shell.execute_reply.started": "2021-07-21T19:52:20.774268Z"
    },
    "papermill": {
     "duration": 0.019679,
     "end_time": "2021-07-25T04:18:22.157576",
     "exception": false,
     "start_time": "2021-07-25T04:18:22.137897",
     "status": "completed"
    },
    "tags": []
   },
   "outputs": [],
   "source": []
  },
  {
   "cell_type": "code",
   "execution_count": null,
   "id": "2da6dbec",
   "metadata": {
    "execution": {
     "iopub.execute_input": "2021-07-21T20:16:52.621905Z",
     "iopub.status.busy": "2021-07-21T20:16:52.621203Z",
     "iopub.status.idle": "2021-07-21T20:16:52.625823Z",
     "shell.execute_reply": "2021-07-21T20:16:52.625272Z",
     "shell.execute_reply.started": "2021-07-21T19:52:20.787779Z"
    },
    "papermill": {
     "duration": 0.019396,
     "end_time": "2021-07-25T04:18:22.196803",
     "exception": false,
     "start_time": "2021-07-25T04:18:22.177407",
     "status": "completed"
    },
    "tags": []
   },
   "outputs": [],
   "source": []
  },
  {
   "cell_type": "code",
   "execution_count": null,
   "id": "a159edfe",
   "metadata": {
    "execution": {
     "iopub.execute_input": "2021-07-21T20:16:52.69032Z",
     "iopub.status.busy": "2021-07-21T20:16:52.689576Z",
     "iopub.status.idle": "2021-07-21T20:16:52.693564Z",
     "shell.execute_reply": "2021-07-21T20:16:52.692917Z",
     "shell.execute_reply.started": "2021-07-21T19:52:20.800776Z"
    },
    "papermill": {
     "duration": 0.019611,
     "end_time": "2021-07-25T04:18:22.236402",
     "exception": false,
     "start_time": "2021-07-25T04:18:22.216791",
     "status": "completed"
    },
    "tags": []
   },
   "outputs": [],
   "source": []
  },
  {
   "cell_type": "code",
   "execution_count": null,
   "id": "6cc6fb6d",
   "metadata": {
    "execution": {
     "iopub.execute_input": "2021-07-21T20:16:52.758675Z",
     "iopub.status.busy": "2021-07-21T20:16:52.757963Z",
     "iopub.status.idle": "2021-07-21T20:16:52.760871Z",
     "shell.execute_reply": "2021-07-21T20:16:52.761401Z",
     "shell.execute_reply.started": "2021-07-21T19:52:20.813928Z"
    },
    "papermill": {
     "duration": 0.019613,
     "end_time": "2021-07-25T04:18:22.276102",
     "exception": false,
     "start_time": "2021-07-25T04:18:22.256489",
     "status": "completed"
    },
    "tags": []
   },
   "outputs": [],
   "source": []
  },
  {
   "cell_type": "markdown",
   "id": "2a9bf2ec",
   "metadata": {
    "papermill": {
     "duration": 0.019877,
     "end_time": "2021-07-25T04:18:22.315676",
     "exception": false,
     "start_time": "2021-07-25T04:18:22.295799",
     "status": "completed"
    },
    "tags": []
   },
   "source": [
    "**Exercise 63: Append all rows of `orders_jan`, `orders_feb` and `orders_mar` into a single frame and assign it to `orders_all`**"
   ]
  },
  {
   "cell_type": "code",
   "execution_count": null,
   "id": "5700df40",
   "metadata": {
    "execution": {
     "iopub.execute_input": "2021-07-21T20:16:52.88268Z",
     "iopub.status.busy": "2021-07-21T20:16:52.882007Z",
     "iopub.status.idle": "2021-07-21T20:16:52.88823Z",
     "shell.execute_reply": "2021-07-21T20:16:52.887713Z",
     "shell.execute_reply.started": "2021-07-21T19:52:20.828686Z"
    },
    "papermill": {
     "duration": 0.019408,
     "end_time": "2021-07-25T04:18:22.354638",
     "exception": false,
     "start_time": "2021-07-25T04:18:22.335230",
     "status": "completed"
    },
    "tags": []
   },
   "outputs": [],
   "source": []
  },
  {
   "cell_type": "markdown",
   "id": "43cf98d4",
   "metadata": {
    "papermill": {
     "duration": 0.019438,
     "end_time": "2021-07-25T04:18:22.393898",
     "exception": false,
     "start_time": "2021-07-25T04:18:22.374460",
     "status": "completed"
    },
    "tags": []
   },
   "source": [
    "**Exercise 64: Join `orders_all` to `returns` on `Order ID` and assign it to `sales`**"
   ]
  },
  {
   "cell_type": "code",
   "execution_count": null,
   "id": "dbccb6c5",
   "metadata": {
    "execution": {
     "iopub.execute_input": "2021-07-21T20:16:53.018613Z",
     "iopub.status.busy": "2021-07-21T20:16:53.017736Z",
     "iopub.status.idle": "2021-07-21T20:16:53.0253Z",
     "shell.execute_reply": "2021-07-21T20:16:53.026193Z",
     "shell.execute_reply.started": "2021-07-21T19:52:20.842218Z"
    },
    "papermill": {
     "duration": 0.019617,
     "end_time": "2021-07-25T04:18:22.433235",
     "exception": false,
     "start_time": "2021-07-25T04:18:22.413618",
     "status": "completed"
    },
    "tags": []
   },
   "outputs": [],
   "source": []
  },
  {
   "cell_type": "markdown",
   "id": "8df0ed57",
   "metadata": {
    "papermill": {
     "duration": 0.019762,
     "end_time": "2021-07-25T04:18:22.472872",
     "exception": false,
     "start_time": "2021-07-25T04:18:22.453110",
     "status": "completed"
    },
    "tags": []
   },
   "source": [
    "**Exercise 65: Update `users` by joining `sales` to it on `Return ID` and `Category ID`**"
   ]
  },
  {
   "cell_type": "code",
   "execution_count": null,
   "id": "13b6452c",
   "metadata": {
    "execution": {
     "iopub.execute_input": "2021-07-21T20:16:53.171522Z",
     "iopub.status.busy": "2021-07-21T20:16:53.170762Z",
     "iopub.status.idle": "2021-07-21T20:16:53.175661Z",
     "shell.execute_reply": "2021-07-21T20:16:53.176171Z",
     "shell.execute_reply.started": "2021-07-21T19:52:20.862838Z"
    },
    "papermill": {
     "duration": 0.019581,
     "end_time": "2021-07-25T04:18:22.512234",
     "exception": false,
     "start_time": "2021-07-25T04:18:22.492653",
     "status": "completed"
    },
    "tags": []
   },
   "outputs": [],
   "source": []
  },
  {
   "cell_type": "markdown",
   "id": "48d03f0a",
   "metadata": {
    "papermill": {
     "duration": 0.019736,
     "end_time": "2021-07-25T04:18:22.551924",
     "exception": false,
     "start_time": "2021-07-25T04:18:22.532188",
     "status": "completed"
    },
    "tags": []
   },
   "source": [
    "**Exercise 66: Display the Categories that had orders in Jan or Mar**"
   ]
  },
  {
   "cell_type": "code",
   "execution_count": null,
   "id": "76a98688",
   "metadata": {
    "execution": {
     "iopub.execute_input": "2021-07-21T20:16:53.319463Z",
     "iopub.status.busy": "2021-07-21T20:16:53.318513Z",
     "iopub.status.idle": "2021-07-21T20:16:53.322351Z",
     "shell.execute_reply": "2021-07-21T20:16:53.320146Z",
     "shell.execute_reply.started": "2021-07-21T19:59:20.997219Z"
    },
    "papermill": {
     "duration": 0.019513,
     "end_time": "2021-07-25T04:18:22.591357",
     "exception": false,
     "start_time": "2021-07-25T04:18:22.571844",
     "status": "completed"
    },
    "tags": []
   },
   "outputs": [],
   "source": []
  },
  {
   "cell_type": "markdown",
   "id": "d07ffe7c",
   "metadata": {
    "papermill": {
     "duration": 0.019528,
     "end_time": "2021-07-25T04:18:22.630713",
     "exception": false,
     "start_time": "2021-07-25T04:18:22.611185",
     "status": "completed"
    },
    "tags": []
   },
   "source": [
    "**Exercise 67: Display the Categories that had orders in each of the three months**"
   ]
  },
  {
   "cell_type": "code",
   "execution_count": null,
   "id": "10c3b102",
   "metadata": {
    "execution": {
     "iopub.execute_input": "2021-07-21T20:16:53.472392Z",
     "iopub.status.busy": "2021-07-21T20:16:53.471406Z",
     "iopub.status.idle": "2021-07-21T20:16:53.47519Z",
     "shell.execute_reply": "2021-07-21T20:16:53.473098Z",
     "shell.execute_reply.started": "2021-07-21T19:52:20.875026Z"
    },
    "papermill": {
     "duration": 0.01943,
     "end_time": "2021-07-25T04:18:22.670009",
     "exception": false,
     "start_time": "2021-07-25T04:18:22.650579",
     "status": "completed"
    },
    "tags": []
   },
   "outputs": [],
   "source": []
  },
  {
   "cell_type": "markdown",
   "id": "ad104211",
   "metadata": {
    "papermill": {
     "duration": 0.020465,
     "end_time": "2021-07-25T04:18:22.710340",
     "exception": false,
     "start_time": "2021-07-25T04:18:22.689875",
     "status": "completed"
    },
    "tags": []
   },
   "source": [
    "**Exercise 68: Display the Categories that had orders only in Jan but not in Feb and Mar**"
   ]
  },
  {
   "cell_type": "code",
   "execution_count": null,
   "id": "7e4a1c75",
   "metadata": {
    "execution": {
     "iopub.execute_input": "2021-07-21T20:16:53.626262Z",
     "iopub.status.busy": "2021-07-21T20:16:53.625506Z",
     "iopub.status.idle": "2021-07-21T20:16:53.630482Z",
     "shell.execute_reply": "2021-07-21T20:16:53.630984Z",
     "shell.execute_reply.started": "2021-07-21T19:56:10.33348Z"
    },
    "papermill": {
     "duration": 0.019524,
     "end_time": "2021-07-25T04:18:22.749844",
     "exception": false,
     "start_time": "2021-07-25T04:18:22.730320",
     "status": "completed"
    },
    "tags": []
   },
   "outputs": [],
   "source": []
  },
  {
   "cell_type": "markdown",
   "id": "9aeb1333",
   "metadata": {
    "papermill": {
     "duration": 0.019546,
     "end_time": "2021-07-25T04:18:22.789258",
     "exception": false,
     "start_time": "2021-07-25T04:18:22.769712",
     "status": "completed"
    },
    "tags": []
   },
   "source": [
    "**Exercise 69: Display the Categories that had orders in either of the three months but never together**"
   ]
  },
  {
   "cell_type": "code",
   "execution_count": null,
   "id": "8e23174d",
   "metadata": {
    "execution": {
     "iopub.execute_input": "2021-07-21T20:16:53.777726Z",
     "iopub.status.busy": "2021-07-21T20:16:53.776999Z",
     "iopub.status.idle": "2021-07-21T20:16:53.781822Z",
     "shell.execute_reply": "2021-07-21T20:16:53.782343Z",
     "shell.execute_reply.started": "2021-07-21T19:57:48.275438Z"
    },
    "papermill": {
     "duration": 0.01976,
     "end_time": "2021-07-25T04:18:22.828782",
     "exception": false,
     "start_time": "2021-07-25T04:18:22.809022",
     "status": "completed"
    },
    "tags": []
   },
   "outputs": [],
   "source": []
  },
  {
   "cell_type": "markdown",
   "id": "5631a82f",
   "metadata": {
    "papermill": {
     "duration": 0.019605,
     "end_time": "2021-07-25T04:18:22.868839",
     "exception": false,
     "start_time": "2021-07-25T04:18:22.849234",
     "status": "completed"
    },
    "tags": []
   },
   "source": [
    "**Exercise 70: One-hot encode the column `Region` in `users`, assign it to `ohe_region` and append it back to `users`**"
   ]
  },
  {
   "cell_type": "code",
   "execution_count": null,
   "id": "1b70a8f2",
   "metadata": {
    "execution": {
     "iopub.execute_input": "2021-07-21T20:16:53.930926Z",
     "iopub.status.busy": "2021-07-21T20:16:53.930202Z",
     "iopub.status.idle": "2021-07-21T20:16:53.935071Z",
     "shell.execute_reply": "2021-07-21T20:16:53.935589Z",
     "shell.execute_reply.started": "2021-07-21T20:09:29.806639Z"
    },
    "papermill": {
     "duration": 0.019707,
     "end_time": "2021-07-25T04:18:22.908484",
     "exception": false,
     "start_time": "2021-07-25T04:18:22.888777",
     "status": "completed"
    },
    "tags": []
   },
   "outputs": [],
   "source": []
  },
  {
   "cell_type": "code",
   "execution_count": null,
   "id": "4db8b691",
   "metadata": {
    "execution": {
     "iopub.execute_input": "2021-07-21T20:16:54.017504Z",
     "iopub.status.busy": "2021-07-21T20:16:54.016787Z",
     "iopub.status.idle": "2021-07-21T20:16:54.019716Z",
     "shell.execute_reply": "2021-07-21T20:16:54.02026Z",
     "shell.execute_reply.started": "2021-07-21T20:09:42.742566Z"
    },
    "papermill": {
     "duration": 0.019452,
     "end_time": "2021-07-25T04:18:22.947910",
     "exception": false,
     "start_time": "2021-07-25T04:18:22.928458",
     "status": "completed"
    },
    "tags": []
   },
   "outputs": [],
   "source": []
  },
  {
   "cell_type": "markdown",
   "id": "0634d883",
   "metadata": {
    "papermill": {
     "duration": 0.019941,
     "end_time": "2021-07-25T04:18:22.987851",
     "exception": false,
     "start_time": "2021-07-25T04:18:22.967910",
     "status": "completed"
    },
    "tags": []
   },
   "source": [
    "✅ This completes Set 7: Multiple Frames (Exercises 61-70) of **DatatableTon**: *💯 datatable exercises*\n",
    "\n",
    "#### Set 08 • Time Series • Intermediate • Exercises 71-80\n",
    "\n",
    "| Style | Colab | Kaggle | Binder | GitHub |\n",
    "| ----- | ----- | ------ | ------ | ------ |\n",
    "| Exercises | [![Open in Colab](https://img.shields.io/static/v1?label=&message=Open%20in%20Colab&labelColor=grey&color=blue&logo=google-colab)](https://colab.research.google.com/github/vopani/datatableton/blob/main/notebooks/08_time_series_exercises.ipynb) | [![Open in Kaggle](https://img.shields.io/static/v1?label=&message=Open%20in%20Kaggle&labelColor=grey&color=blue&logo=kaggle)](https://www.kaggle.com/rohanrao/datatableton-time-series-exercises) | [![Open in Binder](https://img.shields.io/static/v1?label=&message=Open%20in%20Binder&labelColor=grey&color=blue&logo=data:image/png;base64,iVBORw0KGgoAAAANSUhEUgAAAFkAAABZCAMAAABi1XidAAAB8lBMVEX///9XmsrmZYH1olJXmsr1olJXmsrmZYH1olJXmsr1olJXmsrmZYH1olL1olJXmsr1olJXmsrmZYH1olL1olJXmsrmZYH1olJXmsr1olL1olJXmsrmZYH1olL1olJXmsrmZYH1olL1olL0nFf1olJXmsrmZYH1olJXmsq8dZb1olJXmsrmZYH1olJXmspXmspXmsr1olL1olJXmsrmZYH1olJXmsr1olL1olJXmsrmZYH1olL1olLeaIVXmsrmZYH1olL1olL1olJXmsrmZYH1olLna31Xmsr1olJXmsr1olJXmsrmZYH1olLqoVr1olJXmsr1olJXmsrmZYH1olL1olKkfaPobXvviGabgadXmsqThKuofKHmZ4Dobnr1olJXmsr1olJXmspXmsr1olJXmsrfZ4TuhWn1olL1olJXmsqBi7X1olJXmspZmslbmMhbmsdemsVfl8ZgmsNim8Jpk8F0m7R4m7F5nLB6jbh7jbiDirOEibOGnKaMhq+PnaCVg6qWg6qegKaff6WhnpKofKGtnomxeZy3noG6dZi+n3vCcpPDcpPGn3bLb4/Mb47UbIrVa4rYoGjdaIbeaIXhoWHmZYHobXvpcHjqdHXreHLroVrsfG/uhGnuh2bwj2Hxk17yl1vzmljzm1j0nlX1olL3AJXWAAAAbXRSTlMAEBAQHx8gICAuLjAwMDw9PUBAQEpQUFBXV1hgYGBkcHBwcXl8gICAgoiIkJCQlJicnJ2goKCmqK+wsLC4usDAwMjP0NDQ1NbW3Nzg4ODi5+3v8PDw8/T09PX29vb39/f5+fr7+/z8/Pz9/v7+zczCxgAABC5JREFUeAHN1ul3k0UUBvCb1CTVpmpaitAGSLSpSuKCLWpbTKNJFGlcSMAFF63iUmRccNG6gLbuxkXU66JAUef/9LSpmXnyLr3T5AO/rzl5zj137p136BISy44fKJXuGN/d19PUfYeO67Znqtf2KH33Id1psXoFdW30sPZ1sMvs2D060AHqws4FHeJojLZqnw53cmfvg+XR8mC0OEjuxrXEkX5ydeVJLVIlV0e10PXk5k7dYeHu7Cj1j+49uKg7uLU61tGLw1lq27ugQYlclHC4bgv7VQ+TAyj5Zc/UjsPvs1sd5cWryWObtvWT2EPa4rtnWW3JkpjggEpbOsPr7F7EyNewtpBIslA7p43HCsnwooXTEc3UmPmCNn5lrqTJxy6nRmcavGZVt/3Da2pD5NHvsOHJCrdc1G2r3DITpU7yic7w/7Rxnjc0kt5GC4djiv2Sz3Fb2iEZg41/ddsFDoyuYrIkmFehz0HR2thPgQqMyQYb2OtB0WxsZ3BeG3+wpRb1vzl2UYBog8FfGhttFKjtAclnZYrRo9ryG9uG/FZQU4AEg8ZE9LjGMzTmqKXPLnlWVnIlQQTvxJf8ip7VgjZjyVPrjw1te5otM7RmP7xm+sK2Gv9I8Gi++BRbEkR9EBw8zRUcKxwp73xkaLiqQb+kGduJTNHG72zcW9LoJgqQxpP3/Tj//c3yB0tqzaml05/+orHLksVO+95kX7/7qgJvnjlrfr2Ggsyx0eoy9uPzN5SPd86aXggOsEKW2Prz7du3VID3/tzs/sSRs2w7ovVHKtjrX2pd7ZMlTxAYfBAL9jiDwfLkq55Tm7ifhMlTGPyCAs7RFRhn47JnlcB9RM5T97ASuZXIcVNuUDIndpDbdsfrqsOppeXl5Y+XVKdjFCTh+zGaVuj0d9zy05PPK3QzBamxdwtTCrzyg/2Rvf2EstUjordGwa/kx9mSJLr8mLLtCW8HHGJc2R5hS219IiF6PnTusOqcMl57gm0Z8kanKMAQg0qSyuZfn7zItsbGyO9QlnxY0eCuD1XL2ys/MsrQhltE7Ug0uFOzufJFE2PxBo/YAx8XPPdDwWN0MrDRYIZF0mSMKCNHgaIVFoBbNoLJ7tEQDKxGF0kcLQimojCZopv0OkNOyWCCg9XMVAi7ARJzQdM2QUh0gmBozjc3Skg6dSBRqDGYSUOu66Zg+I2fNZs/M3/f/Grl/XnyF1Gw3VKCez0PN5IUfFLqvgUN4C0qNqYs5YhPL+aVZYDE4IpUk57oSFnJm4FyCqqOE0jhY2SMyLFoo56zyo6becOS5UVDdj7Vih0zp+tcMhwRpBeLyqtIjlJKAIZSbI8SGSF3k0pA3mR5tHuwPFoa7N7reoq2bqCsAk1HqCu5uvI1n6JuRXI+S1Mco54YmYTwcn6Aeic+kssXi8XpXC4V3t7/ADuTNKaQJdScAAAAAElFTkSuQmCC)](https://mybinder.org/v2/gh/vopani/datatableton/main?filepath=notebooks%2F08_time_series_exercises.ipynb) | [![Open in GitHub](https://img.shields.io/static/v1?label=&message=Open%20in%20GitHub&labelColor=grey&color=blue&logo=github)](https://github.com/vopani/datatableton/blob/main/notebooks/08_time_series_exercises.ipynb) |\n",
    "| Solutions | [![Open in Colab](https://img.shields.io/static/v1?label=&message=Open%20in%20Colab&labelColor=grey&color=blue&logo=google-colab)](https://colab.research.google.com/github/vopani/datatableton/blob/main/notebooks/08_time_series_solutions.ipynb) | [![Open in Kaggle](https://img.shields.io/static/v1?label=&message=Open%20in%20Kaggle&labelColor=grey&color=blue&logo=kaggle)](https://www.kaggle.com/rohanrao/datatableton-time-series-solutions) | [![Open in Binder](https://img.shields.io/static/v1?label=&message=Open%20in%20Binder&labelColor=grey&color=blue&logo=data:image/png;base64,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)](https://mybinder.org/v2/gh/vopani/datatableton/main?filepath=notebooks%2F08_time_series_solutions.ipynb) | [![Open in GitHub](https://img.shields.io/static/v1?label=&message=Open%20in%20GitHub&labelColor=grey&color=blue&logo=github)](https://github.com/vopani/datatableton/blob/main/notebooks/08_time_series_solutions.ipynb) |\n",
    "\n",
    "You can find all the exercises and solutions on [GitHub](https://github.com/vopani/datatableton#exercises-)"
   ]
  }
 ],
 "metadata": {
  "kernelspec": {
   "display_name": "Python 3",
   "language": "python",
   "name": "python3"
  },
  "language_info": {
   "codemirror_mode": {
    "name": "ipython",
    "version": 3
   },
   "file_extension": ".py",
   "mimetype": "text/x-python",
   "name": "python",
   "nbconvert_exporter": "python",
   "pygments_lexer": "ipython3",
   "version": "3.7.10"
  },
  "papermill": {
   "default_parameters": {},
   "duration": 40.838231,
   "end_time": "2021-07-25T04:18:23.617283",
   "environment_variables": {},
   "exception": null,
   "input_path": "__notebook__.ipynb",
   "output_path": "__notebook__.ipynb",
   "parameters": {},
   "start_time": "2021-07-25T04:17:42.779052",
   "version": "2.3.3"
  }
 },
 "nbformat": 4,
 "nbformat_minor": 5
}
