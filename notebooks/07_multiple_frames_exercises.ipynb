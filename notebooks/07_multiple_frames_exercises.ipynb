{
 "cells": [
  {
   "cell_type": "markdown",
   "id": "1c7fb644",
   "metadata": {
    "_cell_guid": "b1076dfc-b9ad-4769-8c92-a6c4dae69d19",
    "_uuid": "8f2839f25d086af736a60e9eeb907d3b93b6e0e5",
    "papermill": {
     "duration": 0.021571,
     "end_time": "2021-07-22T05:31:31.770666",
     "exception": false,
     "start_time": "2021-07-22T05:31:31.749095",
     "status": "completed"
    },
    "tags": []
   },
   "source": [
    "<center>\n",
    "    <h1>DatatableTon</h1>\n",
    "    💯 datatable exercises\n",
    "    <br>\n",
    "    <br>\n",
    "    <a href='https://github.com/vopani/datatableton/blob/master/LICENSE'>\n",
    "        <img src='https://img.shields.io/badge/license-Apache%202.0-blue.svg?logo=apache'>\n",
    "    </a>\n",
    "    <a href='https://github.com/vopani/datatableton'>\n",
    "        <img src='https://img.shields.io/github/stars/vopani/datatableton?color=yellowgreen&logo=github'>\n",
    "    </a>\n",
    "    <a href='https://twitter.com/vopani'>\n",
    "        <img src='https://img.shields.io/twitter/follow/vopani'>\n",
    "    </a>\n",
    "</center>"
   ]
  },
  {
   "cell_type": "markdown",
   "id": "eecfde3e",
   "metadata": {
    "papermill": {
     "duration": 0.020466,
     "end_time": "2021-07-22T05:31:31.813679",
     "exception": false,
     "start_time": "2021-07-22T05:31:31.793213",
     "status": "completed"
    },
    "tags": []
   },
   "source": [
    "<center>\n",
    "    This is Set 7: Multiple Frames (Exercises 61-70) of <b>DatatableTon</b>: <i>💯 datatable exercises</i>\n",
    "    <br>\n",
    "    You can find all the exercises and solutions on <a href=\"https://github.com/vopani/datatableton#exercises-\">GitHub</a>\n",
    "</center>"
   ]
  },
  {
   "cell_type": "markdown",
   "id": "cba538c8",
   "metadata": {
    "papermill": {
     "duration": 0.020163,
     "end_time": "2021-07-22T05:31:31.854264",
     "exception": false,
     "start_time": "2021-07-22T05:31:31.834101",
     "status": "completed"
    },
    "tags": []
   },
   "source": [
    "**Prerequisites**\n",
    "* The `datatable` package should be upgraded to the latest version (or v1.0.0+).\n",
    "* The sample dataset [datatableton_sample.zip](https://github.com/vopani/datatableton/blob/main/data/datatableton_sample.zip) will be used for the exercises."
   ]
  },
  {
   "cell_type": "code",
   "execution_count": 1,
   "id": "60624fab",
   "metadata": {
    "_kg_hide-output": true,
    "execution": {
     "iopub.execute_input": "2021-07-22T05:31:31.901544Z",
     "iopub.status.busy": "2021-07-22T05:31:31.900325Z",
     "iopub.status.idle": "2021-07-22T05:32:09.735408Z",
     "shell.execute_reply": "2021-07-22T05:32:09.734596Z",
     "shell.execute_reply.started": "2021-07-21T19:51:43.260810Z"
    },
    "papermill": {
     "duration": 37.85996,
     "end_time": "2021-07-22T05:32:09.735647",
     "exception": false,
     "start_time": "2021-07-22T05:31:31.875687",
     "status": "completed"
    },
    "tags": []
   },
   "outputs": [
    {
     "name": "stdout",
     "output_type": "stream",
     "text": [
      "Requirement already satisfied: pip in /opt/conda/lib/python3.7/site-packages (21.1.2)\r\n",
      "Collecting pip\r\n",
      "  Downloading pip-21.1.3-py3-none-any.whl (1.5 MB)\r\n",
      "\u001b[K     |████████████████████████████████| 1.5 MB 390 kB/s \r\n",
      "\u001b[?25hInstalling collected packages: pip\r\n",
      "  Attempting uninstall: pip\r\n",
      "    Found existing installation: pip 21.1.2\r\n",
      "    Uninstalling pip-21.1.2:\r\n",
      "      Successfully uninstalled pip-21.1.2\r\n",
      "Successfully installed pip-21.1.3\r\n",
      "\u001b[33mWARNING: Running pip as root will break packages and permissions. You should install packages reliably by using venv: https://pip.pypa.io/warnings/venv\u001b[0m\r\n",
      "Requirement already satisfied: datatable in /opt/conda/lib/python3.7/site-packages (1.0.0)\r\n",
      "\u001b[33mWARNING: Running pip as the 'root' user can result in broken permissions and conflicting behaviour with the system package manager. It is recommended to use a virtual environment instead: https://pip.pypa.io/warnings/venv\u001b[0m\r\n",
      "--2021-07-22 05:32:08--  https://raw.githubusercontent.com/vopani/datatableton/main/data/datatableton_sample.zip\r\n",
      "Resolving raw.githubusercontent.com (raw.githubusercontent.com)... 185.199.108.133, 185.199.111.133, 185.199.110.133, ...\r\n",
      "Connecting to raw.githubusercontent.com (raw.githubusercontent.com)|185.199.108.133|:443... connected.\r\n",
      "HTTP request sent, awaiting response... 200 OK\r\n",
      "Length: 3834 (3.7K) [application/zip]\r\n",
      "Saving to: ‘datatableton_sample.zip’\r\n",
      "\r\n",
      "datatableton_sample 100%[===================>]   3.74K  --.-KB/s    in 0s      \r\n",
      "\r\n",
      "2021-07-22 05:32:09 (26.0 MB/s) - ‘datatableton_sample.zip’ saved [3834/3834]\r\n",
      "\r\n"
     ]
    }
   ],
   "source": [
    "!python3 -m pip install -U pip\n",
    "!python3 -m pip install -U datatable\n",
    "!wget https://raw.githubusercontent.com/vopani/datatableton/main/data/datatableton_sample.zip"
   ]
  },
  {
   "cell_type": "code",
   "execution_count": 2,
   "id": "c4dac610",
   "metadata": {
    "execution": {
     "iopub.execute_input": "2021-07-22T05:32:09.805805Z",
     "iopub.status.busy": "2021-07-22T05:32:09.804656Z",
     "iopub.status.idle": "2021-07-22T05:32:10.002944Z",
     "shell.execute_reply": "2021-07-22T05:32:10.003467Z",
     "shell.execute_reply.started": "2021-07-21T19:52:20.500128Z"
    },
    "papermill": {
     "duration": 0.23646,
     "end_time": "2021-07-22T05:32:10.003690",
     "exception": false,
     "start_time": "2021-07-22T05:32:09.767230",
     "status": "completed"
    },
    "tags": []
   },
   "outputs": [
    {
     "data": {
      "text/html": [
       "<style type='text/css'>\n",
       ".datatable table.frame { margin-bottom: 0; }\n",
       ".datatable table.frame thead { border-bottom: none; }\n",
       ".datatable table.frame tr.coltypes td {  color: #FFFFFF;  line-height: 6px;  padding: 0 0.5em;}\n",
       ".datatable .bool    { background: #DDDD99; }\n",
       ".datatable .object  { background: #565656; }\n",
       ".datatable .int     { background: #5D9E5D; }\n",
       ".datatable .float   { background: #4040CC; }\n",
       ".datatable .str     { background: #CC4040; }\n",
       ".datatable .time    { background: #40CC40; }\n",
       ".datatable .row_index {  background: var(--jp-border-color3);  border-right: 1px solid var(--jp-border-color0);  color: var(--jp-ui-font-color3);  font-size: 9px;}\n",
       ".datatable .frame tbody td { text-align: left; }\n",
       ".datatable .frame tr.coltypes .row_index {  background: var(--jp-border-color0);}\n",
       ".datatable th:nth-child(2) { padding-left: 12px; }\n",
       ".datatable .hellipsis {  color: var(--jp-cell-editor-border-color);}\n",
       ".datatable .vellipsis {  background: var(--jp-layout-color0);  color: var(--jp-cell-editor-border-color);}\n",
       ".datatable .na {  color: var(--jp-cell-editor-border-color);  font-size: 80%;}\n",
       ".datatable .sp {  opacity: 0.25;}\n",
       ".datatable .footer { font-size: 9px; }\n",
       ".datatable .frame_dimensions {  background: var(--jp-border-color3);  border-top: 1px solid var(--jp-border-color0);  color: var(--jp-ui-font-color3);  display: inline-block;  opacity: 0.6;  padding: 1px 10px 1px 5px;}\n",
       "</style>\n"
      ],
      "text/plain": [
       "<IPython.core.display.HTML object>"
      ]
     },
     "metadata": {},
     "output_type": "display_data"
    }
   ],
   "source": [
    "import datatable as dt"
   ]
  },
  {
   "cell_type": "markdown",
   "id": "a4b59aa3",
   "metadata": {
    "papermill": {
     "duration": 0.030366,
     "end_time": "2021-07-22T05:32:10.064781",
     "exception": false,
     "start_time": "2021-07-22T05:32:10.034415",
     "status": "completed"
    },
    "tags": []
   },
   "source": [
    "**Exercise 61: Read all the files together from `datatableton_sample.zip`, assign the list of frames to `data` and print the name of each file**"
   ]
  },
  {
   "cell_type": "code",
   "execution_count": null,
   "id": "6098ac9f",
   "metadata": {
    "execution": {
     "iopub.execute_input": "2021-07-21T20:16:52.353789Z",
     "iopub.status.busy": "2021-07-21T20:16:52.352878Z",
     "iopub.status.idle": "2021-07-21T20:16:52.368950Z",
     "shell.execute_reply": "2021-07-21T20:16:52.368393Z",
     "shell.execute_reply.started": "2021-07-21T19:52:20.742917Z"
    },
    "papermill": {
     "duration": 0.03122,
     "end_time": "2021-07-22T05:32:10.126408",
     "exception": false,
     "start_time": "2021-07-22T05:32:10.095188",
     "status": "completed"
    },
    "tags": []
   },
   "outputs": [],
   "source": []
  },
  {
   "cell_type": "markdown",
   "id": "2f18c8ea",
   "metadata": {
    "papermill": {
     "duration": 0.029926,
     "end_time": "2021-07-22T05:32:10.187420",
     "exception": false,
     "start_time": "2021-07-22T05:32:10.157494",
     "status": "completed"
    },
    "tags": []
   },
   "source": [
    "**Exercise 62: Assign the frames `orders_jan.csv`, `orders_feb.csv`, `orders_mar.csv`, `returns.csv` and `users.csv` in `data` to individual frames `orders_jan`, `orders_feb`, `orders_mar`, `returns` and `users` respectively and display the head of each frame**"
   ]
  },
  {
   "cell_type": "code",
   "execution_count": null,
   "id": "0a2d1730",
   "metadata": {
    "execution": {
     "iopub.execute_input": "2021-07-21T20:16:52.487281Z",
     "iopub.status.busy": "2021-07-21T20:16:52.486475Z",
     "iopub.status.idle": "2021-07-21T20:16:52.490227Z",
     "shell.execute_reply": "2021-07-21T20:16:52.490706Z",
     "shell.execute_reply.started": "2021-07-21T19:52:20.764564Z"
    },
    "papermill": {
     "duration": 0.030035,
     "end_time": "2021-07-22T05:32:10.248117",
     "exception": false,
     "start_time": "2021-07-22T05:32:10.218082",
     "status": "completed"
    },
    "tags": []
   },
   "outputs": [],
   "source": []
  },
  {
   "cell_type": "code",
   "execution_count": null,
   "id": "d3990b47",
   "metadata": {
    "execution": {
     "iopub.execute_input": "2021-07-21T20:16:52.554270Z",
     "iopub.status.busy": "2021-07-21T20:16:52.553572Z",
     "iopub.status.idle": "2021-07-21T20:16:52.558278Z",
     "shell.execute_reply": "2021-07-21T20:16:52.557737Z",
     "shell.execute_reply.started": "2021-07-21T19:52:20.774268Z"
    },
    "papermill": {
     "duration": 0.030477,
     "end_time": "2021-07-22T05:32:10.309238",
     "exception": false,
     "start_time": "2021-07-22T05:32:10.278761",
     "status": "completed"
    },
    "tags": []
   },
   "outputs": [],
   "source": []
  },
  {
   "cell_type": "code",
   "execution_count": null,
   "id": "ebb87600",
   "metadata": {
    "execution": {
     "iopub.execute_input": "2021-07-21T20:16:52.621905Z",
     "iopub.status.busy": "2021-07-21T20:16:52.621203Z",
     "iopub.status.idle": "2021-07-21T20:16:52.625823Z",
     "shell.execute_reply": "2021-07-21T20:16:52.625272Z",
     "shell.execute_reply.started": "2021-07-21T19:52:20.787779Z"
    },
    "papermill": {
     "duration": 0.030119,
     "end_time": "2021-07-22T05:32:10.370158",
     "exception": false,
     "start_time": "2021-07-22T05:32:10.340039",
     "status": "completed"
    },
    "tags": []
   },
   "outputs": [],
   "source": []
  },
  {
   "cell_type": "code",
   "execution_count": null,
   "id": "3d45e7d5",
   "metadata": {
    "execution": {
     "iopub.execute_input": "2021-07-21T20:16:52.690320Z",
     "iopub.status.busy": "2021-07-21T20:16:52.689576Z",
     "iopub.status.idle": "2021-07-21T20:16:52.693564Z",
     "shell.execute_reply": "2021-07-21T20:16:52.692917Z",
     "shell.execute_reply.started": "2021-07-21T19:52:20.800776Z"
    },
    "papermill": {
     "duration": 0.031035,
     "end_time": "2021-07-22T05:32:10.431822",
     "exception": false,
     "start_time": "2021-07-22T05:32:10.400787",
     "status": "completed"
    },
    "tags": []
   },
   "outputs": [],
   "source": []
  },
  {
   "cell_type": "code",
   "execution_count": null,
   "id": "156905d6",
   "metadata": {
    "execution": {
     "iopub.execute_input": "2021-07-21T20:16:52.758675Z",
     "iopub.status.busy": "2021-07-21T20:16:52.757963Z",
     "iopub.status.idle": "2021-07-21T20:16:52.760871Z",
     "shell.execute_reply": "2021-07-21T20:16:52.761401Z",
     "shell.execute_reply.started": "2021-07-21T19:52:20.813928Z"
    },
    "papermill": {
     "duration": 0.03067,
     "end_time": "2021-07-22T05:32:10.493754",
     "exception": false,
     "start_time": "2021-07-22T05:32:10.463084",
     "status": "completed"
    },
    "tags": []
   },
   "outputs": [],
   "source": []
  },
  {
   "cell_type": "markdown",
   "id": "1440c395",
   "metadata": {
    "papermill": {
     "duration": 0.030746,
     "end_time": "2021-07-22T05:32:10.555729",
     "exception": false,
     "start_time": "2021-07-22T05:32:10.524983",
     "status": "completed"
    },
    "tags": []
   },
   "source": [
    "**Exercise 63: Append all rows of `orders_jan`, `orders_feb` and `orders_mar` into a single frame and assign it to `orders_all`**"
   ]
  },
  {
   "cell_type": "code",
   "execution_count": null,
   "id": "708537de",
   "metadata": {
    "execution": {
     "iopub.execute_input": "2021-07-21T20:16:52.882680Z",
     "iopub.status.busy": "2021-07-21T20:16:52.882007Z",
     "iopub.status.idle": "2021-07-21T20:16:52.888230Z",
     "shell.execute_reply": "2021-07-21T20:16:52.887713Z",
     "shell.execute_reply.started": "2021-07-21T19:52:20.828686Z"
    },
    "papermill": {
     "duration": 0.030514,
     "end_time": "2021-07-22T05:32:10.618380",
     "exception": false,
     "start_time": "2021-07-22T05:32:10.587866",
     "status": "completed"
    },
    "tags": []
   },
   "outputs": [],
   "source": []
  },
  {
   "cell_type": "markdown",
   "id": "1e52f98a",
   "metadata": {
    "papermill": {
     "duration": 0.030825,
     "end_time": "2021-07-22T05:32:10.679804",
     "exception": false,
     "start_time": "2021-07-22T05:32:10.648979",
     "status": "completed"
    },
    "tags": []
   },
   "source": [
    "**Exercise 64: Join `orders_all` to `returns` on `Order ID` and assign it to `sales`**"
   ]
  },
  {
   "cell_type": "code",
   "execution_count": null,
   "id": "c6df1e3d",
   "metadata": {
    "execution": {
     "iopub.execute_input": "2021-07-21T20:16:53.018613Z",
     "iopub.status.busy": "2021-07-21T20:16:53.017736Z",
     "iopub.status.idle": "2021-07-21T20:16:53.025300Z",
     "shell.execute_reply": "2021-07-21T20:16:53.026193Z",
     "shell.execute_reply.started": "2021-07-21T19:52:20.842218Z"
    },
    "papermill": {
     "duration": 0.029928,
     "end_time": "2021-07-22T05:32:10.740066",
     "exception": false,
     "start_time": "2021-07-22T05:32:10.710138",
     "status": "completed"
    },
    "tags": []
   },
   "outputs": [],
   "source": []
  },
  {
   "cell_type": "markdown",
   "id": "f69343b0",
   "metadata": {
    "papermill": {
     "duration": 0.030215,
     "end_time": "2021-07-22T05:32:10.801112",
     "exception": false,
     "start_time": "2021-07-22T05:32:10.770897",
     "status": "completed"
    },
    "tags": []
   },
   "source": [
    "**Exercise 65: Update `users` by joining `sales` to it on `Return ID` and `Category ID`**"
   ]
  },
  {
   "cell_type": "code",
   "execution_count": null,
   "id": "fe2faffd",
   "metadata": {
    "execution": {
     "iopub.execute_input": "2021-07-21T20:16:53.171522Z",
     "iopub.status.busy": "2021-07-21T20:16:53.170762Z",
     "iopub.status.idle": "2021-07-21T20:16:53.175661Z",
     "shell.execute_reply": "2021-07-21T20:16:53.176171Z",
     "shell.execute_reply.started": "2021-07-21T19:52:20.862838Z"
    },
    "papermill": {
     "duration": 0.030096,
     "end_time": "2021-07-22T05:32:10.861502",
     "exception": false,
     "start_time": "2021-07-22T05:32:10.831406",
     "status": "completed"
    },
    "tags": []
   },
   "outputs": [],
   "source": []
  },
  {
   "cell_type": "markdown",
   "id": "71e2c416",
   "metadata": {
    "papermill": {
     "duration": 0.030052,
     "end_time": "2021-07-22T05:32:10.921962",
     "exception": false,
     "start_time": "2021-07-22T05:32:10.891910",
     "status": "completed"
    },
    "tags": []
   },
   "source": [
    "**Exercise 66: Display the Categories that had orders in Jan or Mar**"
   ]
  },
  {
   "cell_type": "code",
   "execution_count": null,
   "id": "41920064",
   "metadata": {
    "execution": {
     "iopub.execute_input": "2021-07-21T20:16:53.319463Z",
     "iopub.status.busy": "2021-07-21T20:16:53.318513Z",
     "iopub.status.idle": "2021-07-21T20:16:53.322351Z",
     "shell.execute_reply": "2021-07-21T20:16:53.320146Z",
     "shell.execute_reply.started": "2021-07-21T19:59:20.997219Z"
    },
    "papermill": {
     "duration": 0.030848,
     "end_time": "2021-07-22T05:32:10.983271",
     "exception": false,
     "start_time": "2021-07-22T05:32:10.952423",
     "status": "completed"
    },
    "tags": []
   },
   "outputs": [],
   "source": []
  },
  {
   "cell_type": "markdown",
   "id": "4446cf6e",
   "metadata": {
    "papermill": {
     "duration": 0.030258,
     "end_time": "2021-07-22T05:32:11.044067",
     "exception": false,
     "start_time": "2021-07-22T05:32:11.013809",
     "status": "completed"
    },
    "tags": []
   },
   "source": [
    "**Exercise 67: Display the Categories that had orders in each of the three months**"
   ]
  },
  {
   "cell_type": "code",
   "execution_count": null,
   "id": "cb86c784",
   "metadata": {
    "execution": {
     "iopub.execute_input": "2021-07-21T20:16:53.472392Z",
     "iopub.status.busy": "2021-07-21T20:16:53.471406Z",
     "iopub.status.idle": "2021-07-21T20:16:53.475190Z",
     "shell.execute_reply": "2021-07-21T20:16:53.473098Z",
     "shell.execute_reply.started": "2021-07-21T19:52:20.875026Z"
    },
    "papermill": {
     "duration": 0.031042,
     "end_time": "2021-07-22T05:32:11.105631",
     "exception": false,
     "start_time": "2021-07-22T05:32:11.074589",
     "status": "completed"
    },
    "tags": []
   },
   "outputs": [],
   "source": []
  },
  {
   "cell_type": "markdown",
   "id": "07133b5f",
   "metadata": {
    "papermill": {
     "duration": 0.030491,
     "end_time": "2021-07-22T05:32:11.167360",
     "exception": false,
     "start_time": "2021-07-22T05:32:11.136869",
     "status": "completed"
    },
    "tags": []
   },
   "source": [
    "**Exercise 68: Display the Categories that had orders only in Jan but not in Feb and Mar**"
   ]
  },
  {
   "cell_type": "code",
   "execution_count": null,
   "id": "a973ae9a",
   "metadata": {
    "execution": {
     "iopub.execute_input": "2021-07-21T20:16:53.626262Z",
     "iopub.status.busy": "2021-07-21T20:16:53.625506Z",
     "iopub.status.idle": "2021-07-21T20:16:53.630482Z",
     "shell.execute_reply": "2021-07-21T20:16:53.630984Z",
     "shell.execute_reply.started": "2021-07-21T19:56:10.333480Z"
    },
    "papermill": {
     "duration": 0.030317,
     "end_time": "2021-07-22T05:32:11.228518",
     "exception": false,
     "start_time": "2021-07-22T05:32:11.198201",
     "status": "completed"
    },
    "tags": []
   },
   "outputs": [],
   "source": []
  },
  {
   "cell_type": "markdown",
   "id": "3d84e6c5",
   "metadata": {
    "papermill": {
     "duration": 0.030355,
     "end_time": "2021-07-22T05:32:11.289300",
     "exception": false,
     "start_time": "2021-07-22T05:32:11.258945",
     "status": "completed"
    },
    "tags": []
   },
   "source": [
    "**Exercise 69: Display the Categories that had orders in either of the three months but never together**"
   ]
  },
  {
   "cell_type": "code",
   "execution_count": null,
   "id": "fb596b1e",
   "metadata": {
    "execution": {
     "iopub.execute_input": "2021-07-21T20:16:53.777726Z",
     "iopub.status.busy": "2021-07-21T20:16:53.776999Z",
     "iopub.status.idle": "2021-07-21T20:16:53.781822Z",
     "shell.execute_reply": "2021-07-21T20:16:53.782343Z",
     "shell.execute_reply.started": "2021-07-21T19:57:48.275438Z"
    },
    "papermill": {
     "duration": 0.029907,
     "end_time": "2021-07-22T05:32:11.349641",
     "exception": false,
     "start_time": "2021-07-22T05:32:11.319734",
     "status": "completed"
    },
    "tags": []
   },
   "outputs": [],
   "source": []
  },
  {
   "cell_type": "markdown",
   "id": "9d268f74",
   "metadata": {
    "papermill": {
     "duration": 0.029988,
     "end_time": "2021-07-22T05:32:11.410068",
     "exception": false,
     "start_time": "2021-07-22T05:32:11.380080",
     "status": "completed"
    },
    "tags": []
   },
   "source": [
    "**Exercise 70: One-Hot encode the column `Region` in `users`, assign it to `ohe_region` and append it back to `users`**"
   ]
  },
  {
   "cell_type": "code",
   "execution_count": null,
   "id": "3208993e",
   "metadata": {
    "execution": {
     "iopub.execute_input": "2021-07-21T20:16:53.930926Z",
     "iopub.status.busy": "2021-07-21T20:16:53.930202Z",
     "iopub.status.idle": "2021-07-21T20:16:53.935071Z",
     "shell.execute_reply": "2021-07-21T20:16:53.935589Z",
     "shell.execute_reply.started": "2021-07-21T20:09:29.806639Z"
    },
    "papermill": {
     "duration": 0.030072,
     "end_time": "2021-07-22T05:32:11.470667",
     "exception": false,
     "start_time": "2021-07-22T05:32:11.440595",
     "status": "completed"
    },
    "tags": []
   },
   "outputs": [],
   "source": []
  },
  {
   "cell_type": "code",
   "execution_count": null,
   "id": "62291929",
   "metadata": {
    "execution": {
     "iopub.execute_input": "2021-07-21T20:16:54.017504Z",
     "iopub.status.busy": "2021-07-21T20:16:54.016787Z",
     "iopub.status.idle": "2021-07-21T20:16:54.019716Z",
     "shell.execute_reply": "2021-07-21T20:16:54.020260Z",
     "shell.execute_reply.started": "2021-07-21T20:09:42.742566Z"
    },
    "papermill": {
     "duration": 0.030081,
     "end_time": "2021-07-22T05:32:11.531096",
     "exception": false,
     "start_time": "2021-07-22T05:32:11.501015",
     "status": "completed"
    },
    "tags": []
   },
   "outputs": [],
   "source": []
  },
  {
   "cell_type": "markdown",
   "id": "384d0601",
   "metadata": {
    "papermill": {
     "duration": 0.030787,
     "end_time": "2021-07-22T05:32:11.592294",
     "exception": false,
     "start_time": "2021-07-22T05:32:11.561507",
     "status": "completed"
    },
    "tags": []
   },
   "source": [
    "<center>\n",
    "    ✅ This completes Set 7: Multiple Frames (Exercises 61-70) of <b>DatatableTon</b>: <i>💯 datatable exercises</i>\n",
    "    <br>\n",
    "    Set 8 is coming soon!\n",
    "    <br>\n",
    "    <br>\n",
    "    You can find all the exercises and solutions on <a href=\"https://github.com/vopani/datatableton#exercises-\">GitHub</a>\n",
    "</center>"
   ]
  }
 ],
 "metadata": {
  "kernelspec": {
   "display_name": "Python 3",
   "language": "python",
   "name": "python3"
  },
  "language_info": {
   "codemirror_mode": {
    "name": "ipython",
    "version": 3
   },
   "file_extension": ".py",
   "mimetype": "text/x-python",
   "name": "python",
   "nbconvert_exporter": "python",
   "pygments_lexer": "ipython3",
   "version": "3.7.10"
  },
  "papermill": {
   "default_parameters": {},
   "duration": 48.552066,
   "end_time": "2021-07-22T05:32:12.333350",
   "environment_variables": {},
   "exception": null,
   "input_path": "__notebook__.ipynb",
   "output_path": "__notebook__.ipynb",
   "parameters": {},
   "start_time": "2021-07-22T05:31:23.781284",
   "version": "2.3.3"
  }
 },
 "nbformat": 4,
 "nbformat_minor": 5
}
