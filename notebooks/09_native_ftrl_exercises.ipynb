{
 "cells": [
  {
   "cell_type": "markdown",
   "id": "6e0fb579",
   "metadata": {
    "_cell_guid": "b1076dfc-b9ad-4769-8c92-a6c4dae69d19",
    "_uuid": "8f2839f25d086af736a60e9eeb907d3b93b6e0e5",
    "papermill": {
     "duration": 0.021577,
     "end_time": "2021-07-28T06:15:03.628152",
     "exception": false,
     "start_time": "2021-07-28T06:15:03.606575",
     "status": "completed"
    },
    "tags": []
   },
   "source": [
    "<center>\n",
    "    <h1>DatatableTon</h1>\n",
    "    💯 datatable exercises\n",
    "    <br>\n",
    "    <br>\n",
    "    <a href='https://github.com/vopani/datatableton/blob/master/LICENSE'>\n",
    "        <img src='https://img.shields.io/badge/license-Apache%202.0-blue.svg?logo=apache'>\n",
    "    </a>\n",
    "    <a href='https://github.com/vopani/datatableton'>\n",
    "        <img src='https://img.shields.io/github/stars/vopani/datatableton?color=yellowgreen&logo=github'>\n",
    "    </a>\n",
    "    <a href='https://twitter.com/vopani'>\n",
    "        <img src='https://img.shields.io/twitter/follow/vopani'>\n",
    "    </a>\n",
    "</center>"
   ]
  },
  {
   "cell_type": "markdown",
   "id": "6c4741b1",
   "metadata": {
    "papermill": {
     "duration": 0.026191,
     "end_time": "2021-07-28T06:15:03.677340",
     "exception": false,
     "start_time": "2021-07-28T06:15:03.651149",
     "status": "completed"
    },
    "tags": []
   },
   "source": [
    "<center>\n",
    "    This is Set 9: Native Models (Exercises 81-90) of <b>DatatableTon</b>: <i>💯 datatable exercises</i>\n",
    "    <br>\n",
    "    You can find all the exercises and solutions on <a href=\"https://github.com/vopani/datatableton#exercises-\">GitHub</a>\n",
    "</center>"
   ]
  },
  {
   "cell_type": "markdown",
   "id": "d6e141f4",
   "metadata": {
    "papermill": {
     "duration": 0.022906,
     "end_time": "2021-07-28T06:15:03.725378",
     "exception": false,
     "start_time": "2021-07-28T06:15:03.702472",
     "status": "completed"
    },
    "tags": []
   },
   "source": [
    "**Prerequisites**\n",
    "* The `datatable` package should be upgraded to the latest version (or v1.0.0+).\n",
    "* The sample dataset [1% sample of KDD Cup 2012 (CTR Prediction)](https://www.openml.org/d/1219) from openml will be used for the exercises."
   ]
  },
  {
   "cell_type": "code",
   "execution_count": 1,
   "id": "16807fc5",
   "metadata": {
    "_kg_hide-output": true,
    "execution": {
     "iopub.execute_input": "2021-07-28T06:15:03.779977Z",
     "iopub.status.busy": "2021-07-28T06:15:03.778681Z",
     "iopub.status.idle": "2021-07-28T06:15:42.355751Z",
     "shell.execute_reply": "2021-07-28T06:15:42.354995Z",
     "shell.execute_reply.started": "2021-07-26T10:03:10.473916Z"
    },
    "papermill": {
     "duration": 38.606045,
     "end_time": "2021-07-28T06:15:42.355971",
     "exception": false,
     "start_time": "2021-07-28T06:15:03.749926",
     "status": "completed"
    },
    "tags": []
   },
   "outputs": [
    {
     "name": "stdout",
     "output_type": "stream",
     "text": [
      "Requirement already satisfied: pip in /opt/conda/lib/python3.7/site-packages (21.1.2)\r\n",
      "Collecting pip\r\n",
      "  Downloading pip-21.2.1-py3-none-any.whl (1.6 MB)\r\n",
      "\u001b[K     |████████████████████████████████| 1.6 MB 1.1 MB/s \r\n",
      "\u001b[?25hInstalling collected packages: pip\r\n",
      "  Attempting uninstall: pip\r\n",
      "    Found existing installation: pip 21.1.2\r\n",
      "    Uninstalling pip-21.1.2:\r\n",
      "      Successfully uninstalled pip-21.1.2\r\n",
      "Successfully installed pip-21.2.1\r\n",
      "\u001b[33mWARNING: Running pip as root will break packages and permissions. You should install packages reliably by using venv: https://pip.pypa.io/warnings/venv\u001b[0m\r\n",
      "Requirement already satisfied: datatable in /opt/conda/lib/python3.7/site-packages (1.0.0)\r\n",
      "\u001b[33mWARNING: Running pip as the 'root' user can result in broken permissions and conflicting behaviour with the system package manager. It is recommended to use a virtual environment instead: https://pip.pypa.io/warnings/venv\u001b[0m\r\n",
      "--2021-07-28 06:15:39--  https://www.openml.org/data/get_csv/183151/kdd_ctr.csv\r\n",
      "Resolving www.openml.org (www.openml.org)... 131.155.11.11\r\n",
      "Connecting to www.openml.org (www.openml.org)|131.155.11.11|:443... connected.\r\n",
      "HTTP request sent, awaiting response... 200 OK\r\n",
      "Length: unspecified [text/plain]\r\n",
      "Saving to: ‘kdd_ctr.csv’\r\n",
      "\r\n",
      "kdd_ctr.csv             [         <=>        ]  27.50M  12.2MB/s    in 2.3s    \r\n",
      "\r\n",
      "2021-07-28 06:15:42 (12.2 MB/s) - ‘kdd_ctr.csv’ saved [28837031]\r\n",
      "\r\n"
     ]
    }
   ],
   "source": [
    "!python3 -m pip install -U pip\n",
    "!python3 -m pip install -U datatable\n",
    "!wget https://www.openml.org/data/get_csv/183151/kdd_ctr.csv"
   ]
  },
  {
   "cell_type": "code",
   "execution_count": 2,
   "id": "9ee775ef",
   "metadata": {
    "execution": {
     "iopub.execute_input": "2021-07-28T06:15:42.423194Z",
     "iopub.status.busy": "2021-07-28T06:15:42.422454Z",
     "iopub.status.idle": "2021-07-28T06:15:42.728276Z",
     "shell.execute_reply": "2021-07-28T06:15:42.728911Z",
     "shell.execute_reply.started": "2021-07-26T10:03:53.383450Z"
    },
    "papermill": {
     "duration": 0.342877,
     "end_time": "2021-07-28T06:15:42.729133",
     "exception": false,
     "start_time": "2021-07-28T06:15:42.386256",
     "status": "completed"
    },
    "tags": []
   },
   "outputs": [
    {
     "data": {
      "text/html": [
       "<style type='text/css'>\n",
       ".datatable table.frame { margin-bottom: 0; }\n",
       ".datatable table.frame thead { border-bottom: none; }\n",
       ".datatable table.frame tr.coltypes td {  color: #FFFFFF;  line-height: 6px;  padding: 0 0.5em;}\n",
       ".datatable .bool    { background: #DDDD99; }\n",
       ".datatable .object  { background: #565656; }\n",
       ".datatable .int     { background: #5D9E5D; }\n",
       ".datatable .float   { background: #4040CC; }\n",
       ".datatable .str     { background: #CC4040; }\n",
       ".datatable .time    { background: #40CC40; }\n",
       ".datatable .row_index {  background: var(--jp-border-color3);  border-right: 1px solid var(--jp-border-color0);  color: var(--jp-ui-font-color3);  font-size: 9px;}\n",
       ".datatable .frame tbody td { text-align: left; }\n",
       ".datatable .frame tr.coltypes .row_index {  background: var(--jp-border-color0);}\n",
       ".datatable th:nth-child(2) { padding-left: 12px; }\n",
       ".datatable .hellipsis {  color: var(--jp-cell-editor-border-color);}\n",
       ".datatable .vellipsis {  background: var(--jp-layout-color0);  color: var(--jp-cell-editor-border-color);}\n",
       ".datatable .na {  color: var(--jp-cell-editor-border-color);  font-size: 80%;}\n",
       ".datatable .sp {  opacity: 0.25;}\n",
       ".datatable .footer { font-size: 9px; }\n",
       ".datatable .frame_dimensions {  background: var(--jp-border-color3);  border-top: 1px solid var(--jp-border-color0);  color: var(--jp-ui-font-color3);  display: inline-block;  opacity: 0.6;  padding: 1px 10px 1px 5px;}\n",
       "</style>\n"
      ],
      "text/plain": [
       "<IPython.core.display.HTML object>"
      ]
     },
     "metadata": {},
     "output_type": "display_data"
    },
    {
     "data": {
      "text/html": [
       "<div class='datatable'>\n",
       "  <table class='frame'>\n",
       "  <thead>\n",
       "    <tr class='colnames'><td class='row_index'></td><th>click</th><th>impression</th><th>url_hash</th><th>ad_id</th><th>advertiser_id</th><th>depth</th><th>position</th><th>query_id</th><th>keyword_id</th><th>title_id</th><th>description_id</th><th>user_id</th></tr>\n",
       "    <tr class='coltypes'><td class='row_index'></td><td class='bool' title='bool8'>&#x25AA;</td><td class='int' title='int32'>&#x25AA;&#x25AA;&#x25AA;&#x25AA;</td><td class='float' title='float64'>&#x25AA;&#x25AA;&#x25AA;&#x25AA;&#x25AA;&#x25AA;&#x25AA;&#x25AA;</td><td class='int' title='int32'>&#x25AA;&#x25AA;&#x25AA;&#x25AA;</td><td class='int' title='int32'>&#x25AA;&#x25AA;&#x25AA;&#x25AA;</td><td class='int' title='int32'>&#x25AA;&#x25AA;&#x25AA;&#x25AA;</td><td class='int' title='int32'>&#x25AA;&#x25AA;&#x25AA;&#x25AA;</td><td class='int' title='int32'>&#x25AA;&#x25AA;&#x25AA;&#x25AA;</td><td class='int' title='int32'>&#x25AA;&#x25AA;&#x25AA;&#x25AA;</td><td class='int' title='int32'>&#x25AA;&#x25AA;&#x25AA;&#x25AA;</td><td class='int' title='int32'>&#x25AA;&#x25AA;&#x25AA;&#x25AA;</td><td class='int' title='int32'>&#x25AA;&#x25AA;&#x25AA;&#x25AA;</td></tr>\n",
       "  </thead>\n",
       "  <tbody>\n",
       "    <tr><td class='row_index'>0</td><td>0</td><td>1</td><td>1.071e+19</td><td>8343295</td><td>11700</td><td>3</td><td>3</td><td>7702266</td><td>21264</td><td>27892</td><td>1559</td><td>0</td></tr>\n",
       "    <tr><td class='row_index'>1</td><td>1</td><td>1</td><td>1.73639e+19</td><td>20017077</td><td>23798</td><td>1</td><td>1</td><td>93079</td><td>35498</td><td>4</td><td>36476</td><td>562934</td></tr>\n",
       "    <tr><td class='row_index'>2</td><td>0</td><td>1</td><td>8.91547e+18</td><td>21348354</td><td>36654</td><td>1</td><td>1</td><td>10981</td><td>19975</td><td>36105</td><td>33292</td><td>11621116</td></tr>\n",
       "    <tr><td class='row_index'>3</td><td>0</td><td>1</td><td>4.42669e+18</td><td>20366086</td><td>33280</td><td>3</td><td>3</td><td>0</td><td>5942</td><td>4057</td><td>4390</td><td>8778348</td></tr>\n",
       "    <tr><td class='row_index'>4</td><td>0</td><td>1</td><td>1.15726e+19</td><td>6803526</td><td>10790</td><td>2</td><td>1</td><td>9881978</td><td>60593</td><td>25242</td><td>1679</td><td>12118311</td></tr>\n",
       "    <tr><td class='row_index'>5</td><td>1</td><td>1</td><td>2.82758e+17</td><td>21186478</td><td>35793</td><td>2</td><td>1</td><td>163315</td><td>4871</td><td>3257</td><td>1153</td><td>2886008</td></tr>\n",
       "    <tr><td class='row_index'>6</td><td>0</td><td>1</td><td>8.8139e+18</td><td>20886690</td><td>34840</td><td>2</td><td>2</td><td>316</td><td>543</td><td>2206</td><td>2888</td><td>7589739</td></tr>\n",
       "    <tr><td class='row_index'>7</td><td>0</td><td>1</td><td>3.81103e+18</td><td>21367376</td><td>20667</td><td>3</td><td>2</td><td>2601439</td><td>118</td><td>9594</td><td>9705</td><td>579253</td></tr>\n",
       "    <tr><td class='row_index'>8</td><td>0</td><td>1</td><td>9.80684e+18</td><td>21811752</td><td>37737</td><td>3</td><td>2</td><td>1631</td><td>333</td><td>841</td><td>2175</td><td>5277279</td></tr>\n",
       "    <tr><td class='row_index'>9</td><td>1</td><td>1</td><td>1.43404e+19</td><td>9027213</td><td>23808</td><td>2</td><td>1</td><td>5</td><td>1</td><td>0</td><td>0</td><td>11808635</td></tr>\n",
       "    <tr><td class='row_index'>10</td><td>0</td><td>1</td><td>1.15485e+19</td><td>21188630</td><td>17432</td><td>3</td><td>3</td><td>54485</td><td>20526</td><td>680977</td><td>621442</td><td>329865</td></tr>\n",
       "    <tr><td class='row_index'>11</td><td>1</td><td>3</td><td>1.20579e+19</td><td>20170434</td><td>27961</td><td>1</td><td>1</td><td>16554377</td><td>63355</td><td>106189</td><td>100521</td><td>1378623</td></tr>\n",
       "    <tr><td class='row_index'>12</td><td>0</td><td>1</td><td>2.35282e+18</td><td>10362063</td><td>28873</td><td>2</td><td>1</td><td>3203</td><td>38</td><td>1150</td><td>1129</td><td>5864198</td></tr>\n",
       "    <tr><td class='row_index'>13</td><td>0</td><td>1</td><td>5.12068e+18</td><td>8676724</td><td>1268</td><td>1</td><td>1</td><td>1330</td><td>40</td><td>45</td><td>13</td><td>16760230</td></tr>\n",
       "    <tr><td class='row_index'>14</td><td>0</td><td>1</td><td>5.58965e+18</td><td>20950936</td><td>35067</td><td>1</td><td>1</td><td>637</td><td>9563</td><td>8908</td><td>42</td><td>19015059</td></tr>\n",
       "    <tr><td class='row_index'>&#x22EE;</td><td class='hellipsis'>&#x22EE;</td><td class='hellipsis'>&#x22EE;</td><td class='hellipsis'>&#x22EE;</td><td class='hellipsis'>&#x22EE;</td><td class='hellipsis'>&#x22EE;</td><td class='hellipsis'>&#x22EE;</td><td class='hellipsis'>&#x22EE;</td><td class='hellipsis'>&#x22EE;</td><td class='hellipsis'>&#x22EE;</td><td class='hellipsis'>&#x22EE;</td><td class='hellipsis'>&#x22EE;</td><td class='hellipsis'>&#x22EE;</td></tr>\n",
       "    <tr><td class='row_index'>399,477</td><td>0</td><td>1</td><td>2.95046e+18</td><td>3405979</td><td>4613</td><td>2</td><td>1</td><td>1914</td><td>1681</td><td>65853</td><td>77289</td><td>11811980</td></tr>\n",
       "    <tr><td class='row_index'>399,478</td><td>0</td><td>1</td><td>1.73639e+19</td><td>20017083</td><td>23798</td><td>1</td><td>1</td><td>172673</td><td>1645</td><td>1418</td><td>1678</td><td>10027694</td></tr>\n",
       "    <tr><td class='row_index'>399,479</td><td>1</td><td>2</td><td>5.85125e+18</td><td>10421215</td><td>28698</td><td>2</td><td>2</td><td>1238</td><td>3230</td><td>512144</td><td>37399</td><td>0</td></tr>\n",
       "    <tr><td class='row_index'>399,480</td><td>0</td><td>1</td><td>5.88003e+18</td><td>4832693</td><td>15994</td><td>3</td><td>3</td><td>2242779</td><td>3054</td><td>167005</td><td>55548</td><td>0</td></tr>\n",
       "    <tr><td class='row_index'>399,481</td><td>0</td><td>1</td><td>1.43404e+19</td><td>4757453</td><td>23777</td><td>3</td><td>3</td><td>40982</td><td>10394</td><td>179968</td><td>152955</td><td>75532</td></tr>\n",
       "  </tbody>\n",
       "  </table>\n",
       "  <div class='footer'>\n",
       "    <div class='frame_dimensions'>399,482 rows &times; 12 columns</div>\n",
       "  </div>\n",
       "</div>\n"
      ],
      "text/plain": [
       "<Frame#7f1d9a6fee40 399482x12>"
      ]
     },
     "execution_count": 2,
     "metadata": {},
     "output_type": "execute_result"
    }
   ],
   "source": [
    "import datatable as dt\n",
    "\n",
    "data = dt.fread('kdd_ctr.csv', fill=True)[1:,:]\n",
    "data"
   ]
  },
  {
   "cell_type": "markdown",
   "id": "b3ea3964",
   "metadata": {
    "papermill": {
     "duration": 0.033452,
     "end_time": "2021-07-28T06:15:42.808644",
     "exception": false,
     "start_time": "2021-07-28T06:15:42.775192",
     "status": "completed"
    },
    "tags": []
   },
   "source": [
    "**Exercise 81: Initialize a FTRL model `model_ftrl`**"
   ]
  },
  {
   "cell_type": "code",
   "execution_count": null,
   "id": "107c2b69",
   "metadata": {
    "execution": {
     "iopub.execute_input": "2021-07-28T06:10:48.338520Z",
     "iopub.status.busy": "2021-07-28T06:10:48.337459Z",
     "iopub.status.idle": "2021-07-28T06:10:48.345961Z",
     "shell.execute_reply": "2021-07-28T06:10:48.345220Z",
     "shell.execute_reply.started": "2021-07-26T10:07:59.418265Z"
    },
    "papermill": {
     "duration": 0.032436,
     "end_time": "2021-07-28T06:15:42.872542",
     "exception": false,
     "start_time": "2021-07-28T06:15:42.840106",
     "status": "completed"
    },
    "tags": []
   },
   "outputs": [],
   "source": []
  },
  {
   "cell_type": "markdown",
   "id": "22338729",
   "metadata": {
    "papermill": {
     "duration": 0.030887,
     "end_time": "2021-07-28T06:15:42.934849",
     "exception": false,
     "start_time": "2021-07-28T06:15:42.903962",
     "status": "completed"
    },
    "tags": []
   },
   "source": [
    "**Exercise 82: Display the hyperparameters of `model_ftrl`**"
   ]
  },
  {
   "cell_type": "code",
   "execution_count": null,
   "id": "e5943323",
   "metadata": {
    "execution": {
     "iopub.execute_input": "2021-07-28T06:10:48.483491Z",
     "iopub.status.busy": "2021-07-28T06:10:48.482749Z",
     "iopub.status.idle": "2021-07-28T06:10:48.487008Z",
     "shell.execute_reply": "2021-07-28T06:10:48.487703Z",
     "shell.execute_reply.started": "2021-07-26T10:12:53.662442Z"
    },
    "papermill": {
     "duration": 0.031189,
     "end_time": "2021-07-28T06:15:42.997433",
     "exception": false,
     "start_time": "2021-07-28T06:15:42.966244",
     "status": "completed"
    },
    "tags": []
   },
   "outputs": [],
   "source": []
  },
  {
   "cell_type": "markdown",
   "id": "fb2fd24e",
   "metadata": {
    "papermill": {
     "duration": 0.031518,
     "end_time": "2021-07-28T06:15:43.060347",
     "exception": false,
     "start_time": "2021-07-28T06:15:43.028829",
     "status": "completed"
    },
    "tags": []
   },
   "source": [
    "**Exercise 83: Split `data` into `train_data` consisting of the first 75% of rows and `valid_data` consisting of the last 25% of rows**"
   ]
  },
  {
   "cell_type": "code",
   "execution_count": null,
   "id": "e2b41ad9",
   "metadata": {
    "execution": {
     "iopub.execute_input": "2021-07-28T06:10:48.620295Z",
     "iopub.status.busy": "2021-07-28T06:10:48.619573Z",
     "iopub.status.idle": "2021-07-28T06:10:48.627372Z",
     "shell.execute_reply": "2021-07-28T06:10:48.627983Z",
     "shell.execute_reply.started": "2021-07-26T10:08:05.202565Z"
    },
    "papermill": {
     "duration": 0.031719,
     "end_time": "2021-07-28T06:15:43.123206",
     "exception": false,
     "start_time": "2021-07-28T06:15:43.091487",
     "status": "completed"
    },
    "tags": []
   },
   "outputs": [],
   "source": []
  },
  {
   "cell_type": "code",
   "execution_count": null,
   "id": "97278e57",
   "metadata": {
    "execution": {
     "iopub.execute_input": "2021-07-28T06:10:48.698270Z",
     "iopub.status.busy": "2021-07-28T06:10:48.697652Z",
     "iopub.status.idle": "2021-07-28T06:10:48.703113Z",
     "shell.execute_reply": "2021-07-28T06:10:48.703709Z",
     "shell.execute_reply.started": "2021-07-26T10:08:05.810837Z"
    },
    "papermill": {
     "duration": 0.030773,
     "end_time": "2021-07-28T06:15:43.185088",
     "exception": false,
     "start_time": "2021-07-28T06:15:43.154315",
     "status": "completed"
    },
    "tags": []
   },
   "outputs": [],
   "source": []
  },
  {
   "cell_type": "markdown",
   "id": "365ca54d",
   "metadata": {
    "papermill": {
     "duration": 0.031668,
     "end_time": "2021-07-28T06:15:43.248283",
     "exception": false,
     "start_time": "2021-07-28T06:15:43.216615",
     "status": "completed"
    },
    "tags": []
   },
   "source": [
    "**Exercise 84: Assign the target variable `click` to `train_target` from `train_data` and `valid_target` from `valid_data` and drop the columns `url_hash` and `click` from `train_data` and `valid_data`**"
   ]
  },
  {
   "cell_type": "code",
   "execution_count": null,
   "id": "68249b18",
   "metadata": {
    "execution": {
     "iopub.execute_input": "2021-07-28T06:10:48.838243Z",
     "iopub.status.busy": "2021-07-28T06:10:48.837577Z",
     "iopub.status.idle": "2021-07-28T06:10:48.842868Z",
     "shell.execute_reply": "2021-07-28T06:10:48.843402Z",
     "shell.execute_reply.started": "2021-07-26T10:08:28.654474Z"
    },
    "papermill": {
     "duration": 0.030972,
     "end_time": "2021-07-28T06:15:43.310799",
     "exception": false,
     "start_time": "2021-07-28T06:15:43.279827",
     "status": "completed"
    },
    "tags": []
   },
   "outputs": [],
   "source": []
  },
  {
   "cell_type": "code",
   "execution_count": null,
   "id": "8afeab59",
   "metadata": {
    "execution": {
     "iopub.execute_input": "2021-07-28T06:10:48.912385Z",
     "iopub.status.busy": "2021-07-28T06:10:48.911667Z",
     "iopub.status.idle": "2021-07-28T06:10:48.917598Z",
     "shell.execute_reply": "2021-07-28T06:10:48.917018Z",
     "shell.execute_reply.started": "2021-07-26T10:08:29.181764Z"
    },
    "papermill": {
     "duration": 0.031482,
     "end_time": "2021-07-28T06:15:43.373757",
     "exception": false,
     "start_time": "2021-07-28T06:15:43.342275",
     "status": "completed"
    },
    "tags": []
   },
   "outputs": [],
   "source": []
  },
  {
   "cell_type": "code",
   "execution_count": null,
   "id": "c5bb3165",
   "metadata": {
    "execution": {
     "iopub.execute_input": "2021-07-28T06:10:48.997899Z",
     "iopub.status.busy": "2021-07-28T06:10:48.996945Z",
     "iopub.status.idle": "2021-07-28T06:10:49.000221Z",
     "shell.execute_reply": "2021-07-28T06:10:49.000696Z",
     "shell.execute_reply.started": "2021-07-26T10:08:34.458014Z"
    },
    "papermill": {
     "duration": 0.032567,
     "end_time": "2021-07-28T06:15:43.441044",
     "exception": false,
     "start_time": "2021-07-28T06:15:43.408477",
     "status": "completed"
    },
    "tags": []
   },
   "outputs": [],
   "source": []
  },
  {
   "cell_type": "code",
   "execution_count": null,
   "id": "5ce0d15f",
   "metadata": {
    "execution": {
     "iopub.execute_input": "2021-07-28T06:10:49.077947Z",
     "iopub.status.busy": "2021-07-28T06:10:49.077177Z",
     "iopub.status.idle": "2021-07-28T06:10:49.082986Z",
     "shell.execute_reply": "2021-07-28T06:10:49.083562Z",
     "shell.execute_reply.started": "2021-07-26T10:08:39.298171Z"
    },
    "papermill": {
     "duration": 0.031395,
     "end_time": "2021-07-28T06:15:43.504614",
     "exception": false,
     "start_time": "2021-07-28T06:15:43.473219",
     "status": "completed"
    },
    "tags": []
   },
   "outputs": [],
   "source": []
  },
  {
   "cell_type": "markdown",
   "id": "d689bfb3",
   "metadata": {
    "papermill": {
     "duration": 0.031956,
     "end_time": "2021-07-28T06:15:43.568305",
     "exception": false,
     "start_time": "2021-07-28T06:15:43.536349",
     "status": "completed"
    },
    "tags": []
   },
   "source": [
    "**Exercise 85: Train `model_ftrl` using `train_data` and `train_target`**"
   ]
  },
  {
   "cell_type": "code",
   "execution_count": null,
   "id": "ab56e3db",
   "metadata": {
    "execution": {
     "iopub.execute_input": "2021-07-28T06:10:49.224018Z",
     "iopub.status.busy": "2021-07-28T06:10:49.223344Z",
     "iopub.status.idle": "2021-07-28T06:10:49.358848Z",
     "shell.execute_reply": "2021-07-28T06:10:49.359782Z",
     "shell.execute_reply.started": "2021-07-26T10:08:52.346923Z"
    },
    "papermill": {
     "duration": 0.031218,
     "end_time": "2021-07-28T06:15:43.631437",
     "exception": false,
     "start_time": "2021-07-28T06:15:43.600219",
     "status": "completed"
    },
    "tags": []
   },
   "outputs": [],
   "source": []
  },
  {
   "cell_type": "markdown",
   "id": "9c581d6d",
   "metadata": {
    "papermill": {
     "duration": 0.031702,
     "end_time": "2021-07-28T06:15:43.695539",
     "exception": false,
     "start_time": "2021-07-28T06:15:43.663837",
     "status": "completed"
    },
    "tags": []
   },
   "source": [
    "**Exercise 86: Assign the feature importances of `model_ftrl` to `model_ftrl_fimp`**"
   ]
  },
  {
   "cell_type": "code",
   "execution_count": null,
   "id": "b3c0a2d0",
   "metadata": {
    "execution": {
     "iopub.execute_input": "2021-07-28T06:10:49.516902Z",
     "iopub.status.busy": "2021-07-28T06:10:49.515679Z",
     "iopub.status.idle": "2021-07-28T06:10:49.519863Z",
     "shell.execute_reply": "2021-07-28T06:10:49.517785Z",
     "shell.execute_reply.started": "2021-07-26T10:09:59.090216Z"
    },
    "papermill": {
     "duration": 0.031991,
     "end_time": "2021-07-28T06:15:43.759587",
     "exception": false,
     "start_time": "2021-07-28T06:15:43.727596",
     "status": "completed"
    },
    "tags": []
   },
   "outputs": [],
   "source": []
  },
  {
   "cell_type": "markdown",
   "id": "28149dfb",
   "metadata": {
    "papermill": {
     "duration": 0.030945,
     "end_time": "2021-07-28T06:15:43.823402",
     "exception": false,
     "start_time": "2021-07-28T06:15:43.792457",
     "status": "completed"
    },
    "tags": []
   },
   "source": [
    "**Exercise 87: Use `model_ftrl` to predict on `valid_data` and assign the predictions to `preds_ftrl`**"
   ]
  },
  {
   "cell_type": "code",
   "execution_count": null,
   "id": "f1d08e3d",
   "metadata": {
    "execution": {
     "iopub.execute_input": "2021-07-28T06:10:49.712311Z",
     "iopub.status.busy": "2021-07-28T06:10:49.711271Z",
     "iopub.status.idle": "2021-07-28T06:10:49.717639Z",
     "shell.execute_reply": "2021-07-28T06:10:49.717032Z",
     "shell.execute_reply.started": "2021-07-26T10:10:52.660901Z"
    },
    "papermill": {
     "duration": 0.030774,
     "end_time": "2021-07-28T06:15:43.885524",
     "exception": false,
     "start_time": "2021-07-28T06:15:43.854750",
     "status": "completed"
    },
    "tags": []
   },
   "outputs": [],
   "source": []
  },
  {
   "cell_type": "markdown",
   "id": "c93025b6",
   "metadata": {
    "papermill": {
     "duration": 0.030878,
     "end_time": "2021-07-28T06:15:43.947881",
     "exception": false,
     "start_time": "2021-07-28T06:15:43.917003",
     "status": "completed"
    },
    "tags": []
   },
   "source": [
    "**Exercise 88: Calculate the mean absolute error of `preds_ftrl` with `valid_target`**"
   ]
  },
  {
   "cell_type": "code",
   "execution_count": null,
   "id": "10422127",
   "metadata": {
    "execution": {
     "iopub.execute_input": "2021-07-28T06:10:49.888093Z",
     "iopub.status.busy": "2021-07-28T06:10:49.887209Z",
     "iopub.status.idle": "2021-07-28T06:10:49.890920Z",
     "shell.execute_reply": "2021-07-28T06:10:49.891539Z",
     "shell.execute_reply.started": "2021-07-26T10:11:42.131083Z"
    },
    "papermill": {
     "duration": 0.03088,
     "end_time": "2021-07-28T06:15:44.010212",
     "exception": false,
     "start_time": "2021-07-28T06:15:43.979332",
     "status": "completed"
    },
    "tags": []
   },
   "outputs": [],
   "source": []
  },
  {
   "cell_type": "markdown",
   "id": "ee5ee234",
   "metadata": {
    "papermill": {
     "duration": 0.031218,
     "end_time": "2021-07-28T06:15:44.073412",
     "exception": false,
     "start_time": "2021-07-28T06:15:44.042194",
     "status": "completed"
    },
    "tags": []
   },
   "source": [
    "**Exercise 89: Train a new FTRL model `model_ftrl_2` with `lambda2=1.2`, `nepochs=5` and `double_precision=True` using `train_data` and `train_target`**"
   ]
  },
  {
   "cell_type": "code",
   "execution_count": null,
   "id": "8903092a",
   "metadata": {
    "execution": {
     "iopub.execute_input": "2021-07-28T06:10:50.046291Z",
     "iopub.status.busy": "2021-07-28T06:10:50.045226Z",
     "iopub.status.idle": "2021-07-28T06:10:50.714065Z",
     "shell.execute_reply": "2021-07-28T06:10:50.715131Z",
     "shell.execute_reply.started": "2021-07-26T10:12:00.913762Z"
    },
    "papermill": {
     "duration": 0.031248,
     "end_time": "2021-07-28T06:15:44.137357",
     "exception": false,
     "start_time": "2021-07-28T06:15:44.106109",
     "status": "completed"
    },
    "tags": []
   },
   "outputs": [],
   "source": []
  },
  {
   "cell_type": "markdown",
   "id": "7bcec84c",
   "metadata": {
    "papermill": {
     "duration": 0.031053,
     "end_time": "2021-07-28T06:15:44.200202",
     "exception": false,
     "start_time": "2021-07-28T06:15:44.169149",
     "status": "completed"
    },
    "tags": []
   },
   "source": [
    "**Exercise 90: Train a new FTRL model `model_ftrl_cv` with `alpha=0.01` and `nepochs=3` over 5-fold cross-validation using all features in `data` and assign the cross-validated predictions along with the target variable `click` to `preds_ftrl_cv`**"
   ]
  },
  {
   "cell_type": "code",
   "execution_count": null,
   "id": "0495007a",
   "metadata": {
    "execution": {
     "iopub.execute_input": "2021-07-28T06:10:51.322666Z",
     "iopub.status.busy": "2021-07-28T06:10:51.321725Z",
     "iopub.status.idle": "2021-07-28T06:10:53.192730Z",
     "shell.execute_reply": "2021-07-28T06:10:53.193859Z",
     "shell.execute_reply.started": "2021-07-19T09:03:14.58146Z"
    },
    "papermill": {
     "duration": 0.031107,
     "end_time": "2021-07-28T06:15:44.263201",
     "exception": false,
     "start_time": "2021-07-28T06:15:44.232094",
     "status": "completed"
    },
    "tags": []
   },
   "outputs": [],
   "source": []
  },
  {
   "cell_type": "markdown",
   "id": "dcd328ec",
   "metadata": {
    "papermill": {
     "duration": 0.031187,
     "end_time": "2021-07-28T06:15:44.325977",
     "exception": false,
     "start_time": "2021-07-28T06:15:44.294790",
     "status": "completed"
    },
    "tags": []
   },
   "source": [
    "<center>\n",
    "    ✅ This completes Set 9: Native Models (Exercises 81-90) of <b>DatatableTon</b>: <i>💯 datatable exercises</i>\n",
    "    <br>\n",
    "    Set 10 is coming soon!\n",
    "    <br>\n",
    "    <br>\n",
    "    You can find all the exercises and solutions on <a href=\"https://github.com/vopani/datatableton#exercises-\">GitHub</a>\n",
    "</center>"
   ]
  }
 ],
 "metadata": {
  "kernelspec": {
   "display_name": "Python 3",
   "language": "python",
   "name": "python3"
  },
  "language_info": {
   "codemirror_mode": {
    "name": "ipython",
    "version": 3
   },
   "file_extension": ".py",
   "mimetype": "text/x-python",
   "name": "python",
   "nbconvert_exporter": "python",
   "pygments_lexer": "ipython3",
   "version": "3.7.10"
  },
  "papermill": {
   "default_parameters": {},
   "duration": 50.912015,
   "end_time": "2021-07-28T06:15:45.773135",
   "environment_variables": {},
   "exception": null,
   "input_path": "__notebook__.ipynb",
   "output_path": "__notebook__.ipynb",
   "parameters": {},
   "start_time": "2021-07-28T06:14:54.861120",
   "version": "2.3.3"
  }
 },
 "nbformat": 4,
 "nbformat_minor": 5
}
