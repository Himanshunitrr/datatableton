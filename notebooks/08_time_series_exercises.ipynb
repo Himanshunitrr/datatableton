{
 "cells": [
  {
   "cell_type": "markdown",
   "id": "db151049",
   "metadata": {
    "_cell_guid": "b1076dfc-b9ad-4769-8c92-a6c4dae69d19",
    "_uuid": "8f2839f25d086af736a60e9eeb907d3b93b6e0e5",
    "papermill": {
     "duration": 0.019635,
     "end_time": "2021-07-25T04:21:30.028648",
     "exception": false,
     "start_time": "2021-07-25T04:21:30.009013",
     "status": "completed"
    },
    "tags": []
   },
   "source": [
    "<center>\n",
    "    <h1>DatatableTon</h1>\n",
    "    💯 datatable exercises\n",
    "    <br>\n",
    "    <br>\n",
    "    <a href='https://github.com/vopani/datatableton/blob/master/LICENSE'>\n",
    "        <img src='https://img.shields.io/badge/license-Apache%202.0-blue.svg?logo=apache'>\n",
    "    </a>\n",
    "    <a href='https://github.com/vopani/datatableton'>\n",
    "        <img src='https://img.shields.io/github/stars/vopani/datatableton?color=yellowgreen&logo=github'>\n",
    "    </a>\n",
    "    <a href='https://twitter.com/vopani'>\n",
    "        <img src='https://img.shields.io/twitter/follow/vopani'>\n",
    "    </a>\n",
    "</center>"
   ]
  },
  {
   "cell_type": "markdown",
   "id": "0b6c6d78",
   "metadata": {
    "papermill": {
     "duration": 0.016919,
     "end_time": "2021-07-25T04:21:30.064179",
     "exception": false,
     "start_time": "2021-07-25T04:21:30.047260",
     "status": "completed"
    },
    "tags": []
   },
   "source": [
    "<center>\n",
    "    This is Set 8: Time (Exercises 71-80) of <b>DatatableTon</b>: <i>💯 datatable exercises</i>\n",
    "    <br>\n",
    "    You can find all the exercises and solutions on <a href=\"https://github.com/vopani/datatableton#exercises-\">GitHub</a>\n",
    "</center>"
   ]
  },
  {
   "cell_type": "markdown",
   "id": "99533f5e",
   "metadata": {
    "papermill": {
     "duration": 0.017132,
     "end_time": "2021-07-25T04:21:30.098650",
     "exception": false,
     "start_time": "2021-07-25T04:21:30.081518",
     "status": "completed"
    },
    "tags": []
   },
   "source": [
    "**Prerequisites**\n",
    "* The `datatable` package should be upgraded to the latest version (or v1.0.0+).\n",
    "* The sample dataset [datatableton_sample.csv](https://github.com/vopani/datatableton/blob/main/data/datatableton_sample.csv) will be used for the exercises."
   ]
  },
  {
   "cell_type": "code",
   "execution_count": 1,
   "id": "9ba3241d",
   "metadata": {
    "_kg_hide-output": true,
    "execution": {
     "iopub.execute_input": "2021-07-25T04:21:30.139148Z",
     "iopub.status.busy": "2021-07-25T04:21:30.137372Z",
     "iopub.status.idle": "2021-07-25T04:22:06.733715Z",
     "shell.execute_reply": "2021-07-25T04:22:06.733007Z"
    },
    "papermill": {
     "duration": 36.617938,
     "end_time": "2021-07-25T04:22:06.733913",
     "exception": false,
     "start_time": "2021-07-25T04:21:30.115975",
     "status": "completed"
    },
    "tags": []
   },
   "outputs": [
    {
     "name": "stdout",
     "output_type": "stream",
     "text": [
      "Requirement already satisfied: pip in /opt/conda/lib/python3.7/site-packages (21.1.2)\r\n",
      "Collecting pip\r\n",
      "  Downloading pip-21.1.3-py3-none-any.whl (1.5 MB)\r\n",
      "\u001b[K     |████████████████████████████████| 1.5 MB 896 kB/s \r\n",
      "\u001b[?25hInstalling collected packages: pip\r\n",
      "  Attempting uninstall: pip\r\n",
      "    Found existing installation: pip 21.1.2\r\n",
      "    Uninstalling pip-21.1.2:\r\n",
      "      Successfully uninstalled pip-21.1.2\r\n",
      "Successfully installed pip-21.1.3\r\n",
      "\u001b[33mWARNING: Running pip as root will break packages and permissions. You should install packages reliably by using venv: https://pip.pypa.io/warnings/venv\u001b[0m\r\n",
      "Requirement already satisfied: datatable in /opt/conda/lib/python3.7/site-packages (1.0.0)\r\n",
      "\u001b[33mWARNING: Running pip as the 'root' user can result in broken permissions and conflicting behaviour with the system package manager. It is recommended to use a virtual environment instead: https://pip.pypa.io/warnings/venv\u001b[0m\r\n",
      "--2021-07-25 04:22:06--  https://raw.githubusercontent.com/vopani/datatableton/main/data/datatableton_sample.csv\r\n",
      "Resolving raw.githubusercontent.com (raw.githubusercontent.com)... 185.199.110.133, 185.199.108.133, 185.199.111.133, ...\r\n",
      "Connecting to raw.githubusercontent.com (raw.githubusercontent.com)|185.199.110.133|:443... connected.\r\n",
      "HTTP request sent, awaiting response... 200 OK\r\n",
      "Length: 940 [text/plain]\r\n",
      "Saving to: ‘datatableton_sample.csv’\r\n",
      "\r\n",
      "datatableton_sample 100%[===================>]     940  --.-KB/s    in 0s      \r\n",
      "\r\n",
      "2021-07-25 04:22:06 (34.2 MB/s) - ‘datatableton_sample.csv’ saved [940/940]\r\n",
      "\r\n"
     ]
    }
   ],
   "source": [
    "!python3 -m pip install -U pip\n",
    "!python3 -m pip install -U datatable\n",
    "!wget https://raw.githubusercontent.com/vopani/datatableton/main/data/datatableton_sample.csv"
   ]
  },
  {
   "cell_type": "code",
   "execution_count": 2,
   "id": "da533e1a",
   "metadata": {
    "execution": {
     "iopub.execute_input": "2021-07-25T04:22:06.786966Z",
     "iopub.status.busy": "2021-07-25T04:22:06.785996Z",
     "iopub.status.idle": "2021-07-25T04:22:07.028619Z",
     "shell.execute_reply": "2021-07-25T04:22:07.027969Z",
     "shell.execute_reply.started": "2021-07-10T07:32:37.006903Z"
    },
    "papermill": {
     "duration": 0.27151,
     "end_time": "2021-07-25T04:22:07.028762",
     "exception": false,
     "start_time": "2021-07-25T04:22:06.757252",
     "status": "completed"
    },
    "tags": []
   },
   "outputs": [
    {
     "data": {
      "text/html": [
       "<style type='text/css'>\n",
       ".datatable table.frame { margin-bottom: 0; }\n",
       ".datatable table.frame thead { border-bottom: none; }\n",
       ".datatable table.frame tr.coltypes td {  color: #FFFFFF;  line-height: 6px;  padding: 0 0.5em;}\n",
       ".datatable .bool    { background: #DDDD99; }\n",
       ".datatable .object  { background: #565656; }\n",
       ".datatable .int     { background: #5D9E5D; }\n",
       ".datatable .float   { background: #4040CC; }\n",
       ".datatable .str     { background: #CC4040; }\n",
       ".datatable .time    { background: #40CC40; }\n",
       ".datatable .row_index {  background: var(--jp-border-color3);  border-right: 1px solid var(--jp-border-color0);  color: var(--jp-ui-font-color3);  font-size: 9px;}\n",
       ".datatable .frame tbody td { text-align: left; }\n",
       ".datatable .frame tr.coltypes .row_index {  background: var(--jp-border-color0);}\n",
       ".datatable th:nth-child(2) { padding-left: 12px; }\n",
       ".datatable .hellipsis {  color: var(--jp-cell-editor-border-color);}\n",
       ".datatable .vellipsis {  background: var(--jp-layout-color0);  color: var(--jp-cell-editor-border-color);}\n",
       ".datatable .na {  color: var(--jp-cell-editor-border-color);  font-size: 80%;}\n",
       ".datatable .sp {  opacity: 0.25;}\n",
       ".datatable .footer { font-size: 9px; }\n",
       ".datatable .frame_dimensions {  background: var(--jp-border-color3);  border-top: 1px solid var(--jp-border-color0);  color: var(--jp-ui-font-color3);  display: inline-block;  opacity: 0.6;  padding: 1px 10px 1px 5px;}\n",
       "</style>\n"
      ],
      "text/plain": [
       "<IPython.core.display.HTML object>"
      ]
     },
     "metadata": {},
     "output_type": "display_data"
    },
    {
     "data": {
      "text/html": [
       "<div class='datatable'>\n",
       "  <table class='frame'>\n",
       "  <thead>\n",
       "    <tr class='colnames'><td class='row_index'></td><th>timestamp</th><th>user</th><th>product</th><th>price</th><th>quantity</th></tr>\n",
       "    <tr class='coltypes'><td class='row_index'></td><td class='time' title='time64'>&#x25AA;&#x25AA;&#x25AA;&#x25AA;&#x25AA;&#x25AA;&#x25AA;&#x25AA;</td><td class='str' title='str32'>&#x25AA;&#x25AA;&#x25AA;&#x25AA;</td><td class='str' title='str32'>&#x25AA;&#x25AA;&#x25AA;&#x25AA;</td><td class='float' title='float64'>&#x25AA;&#x25AA;&#x25AA;&#x25AA;&#x25AA;&#x25AA;&#x25AA;&#x25AA;</td><td class='int' title='int32'>&#x25AA;&#x25AA;&#x25AA;&#x25AA;</td></tr>\n",
       "  </thead>\n",
       "  <tbody>\n",
       "    <tr><td class='row_index'>0</td><td>2017-01-01<span class=sp>T</span>13:22:41</td><td>U1</td><td>Eggs</td><td>2.3</td><td>2</td></tr>\n",
       "    <tr><td class='row_index'>1</td><td>2017-05-22<span class=sp>T</span>09:54:21</td><td>U2</td><td>Bread</td><td>0.6</td><td>2</td></tr>\n",
       "    <tr><td class='row_index'>2</td><td>2018-11-09<span class=sp>T</span>15:00:01</td><td>U3</td><td>Banana</td><td>0.7</td><td>1</td></tr>\n",
       "    <tr><td class='row_index'>3</td><td>2018-12-24<span class=sp>T</span>23:03:33</td><td>U1</td><td>Water</td><td>0.2</td><td>1</td></tr>\n",
       "    <tr><td class='row_index'>4</td><td>2019-03-03<span class=sp>T</span>06:21:58</td><td>U4</td><td>Eggs</td><td>2.3</td><td>2</td></tr>\n",
       "    <tr><td class='row_index'>5</td><td>2019-06-17<span class=sp>T</span>16:13:39</td><td>U5</td><td>Grapes</td><td>1.5</td><td>1</td></tr>\n",
       "    <tr><td class='row_index'>6</td><td>2019-07-28<span class=sp>T</span>21:03:11</td><td>U5</td><td>Bread</td><td>0.6</td><td>1</td></tr>\n",
       "    <tr><td class='row_index'>7</td><td>2019-12-05<span class=sp>T</span>04:15:42</td><td>U1</td><td>Banana</td><td>0.7</td><td>2</td></tr>\n",
       "    <tr><td class='row_index'>8</td><td>2020-02-02<span class=sp>T</span>03:45:34</td><td>U3</td><td>Banana</td><td>0.7</td><td>1</td></tr>\n",
       "    <tr><td class='row_index'>9</td><td>2020-03-05<span class=sp>T</span>07:09:12</td><td>U4</td><td>Grapes</td><td>1.5</td><td>1</td></tr>\n",
       "    <tr><td class='row_index'>10</td><td>2020-03-22<span class=sp>T</span>19:29:38</td><td>U1</td><td>Water</td><td>0.2</td><td>1</td></tr>\n",
       "    <tr><td class='row_index'>11</td><td>2020-03-30<span class=sp>T</span>09:44:30</td><td>U4</td><td>Water</td><td>0.2</td><td>1</td></tr>\n",
       "    <tr><td class='row_index'>12</td><td>2020-04-01<span class=sp>T</span>13:21:41</td><td>U1</td><td>Banana</td><td>0.7</td><td>2</td></tr>\n",
       "    <tr><td class='row_index'>13</td><td>2020-07-08<span class=sp>T</span>11:45:25</td><td>U2</td><td>Grapes</td><td>1.5</td><td>1</td></tr>\n",
       "    <tr><td class='row_index'>14</td><td>2020-11-19<span class=sp>T</span>18:51:22</td><td>U5</td><td>Water</td><td>0.2</td><td>1</td></tr>\n",
       "    <tr><td class='row_index'>15</td><td>2020-12-03<span class=sp>T</span>16:23:48</td><td>U3</td><td>Banana</td><td>0.5</td><td>3</td></tr>\n",
       "    <tr><td class='row_index'>16</td><td>2021-02-03<span class=sp>T</span>01:14:40</td><td>U5</td><td>Eggs</td><td>2.1</td><td>4</td></tr>\n",
       "    <tr><td class='row_index'>17</td><td>2021-05-26<span class=sp>T</span>22:42:15</td><td>U3</td><td>Bread</td><td>0.6</td><td>1</td></tr>\n",
       "    <tr><td class='row_index'>18</td><td>2021-06-14<span class=sp>T</span>15:49:28</td><td>U4</td><td>Eggs</td><td>2.3</td><td>2</td></tr>\n",
       "    <tr><td class='row_index'>19</td><td>2021-07-01<span class=sp>T</span>04:37:31</td><td>U4</td><td>Water</td><td>0.3</td><td>1</td></tr>\n",
       "  </tbody>\n",
       "  </table>\n",
       "  <div class='footer'>\n",
       "    <div class='frame_dimensions'>20 rows &times; 5 columns</div>\n",
       "  </div>\n",
       "</div>\n"
      ],
      "text/plain": [
       "<Frame#7f9bf99381e0 20x5>"
      ]
     },
     "execution_count": 2,
     "metadata": {},
     "output_type": "execute_result"
    }
   ],
   "source": [
    "import datatable as dt\n",
    "\n",
    "data = dt.fread('datatableton_sample.csv')\n",
    "del data[:, ['age', 'category']]\n",
    "\n",
    "data"
   ]
  },
  {
   "cell_type": "markdown",
   "id": "453fbe89",
   "metadata": {
    "papermill": {
     "duration": 0.024561,
     "end_time": "2021-07-25T04:22:07.078001",
     "exception": false,
     "start_time": "2021-07-25T04:22:07.053440",
     "status": "completed"
    },
    "tags": []
   },
   "source": [
    "**Exercise 71: Extract the date from `timestamp` and add it as a column `date` in `data`**"
   ]
  },
  {
   "cell_type": "code",
   "execution_count": null,
   "id": "2a91fcc8",
   "metadata": {
    "execution": {
     "iopub.execute_input": "2021-07-25T04:18:55.336462Z",
     "iopub.status.busy": "2021-07-25T04:18:55.335747Z",
     "iopub.status.idle": "2021-07-25T04:18:55.340157Z",
     "shell.execute_reply": "2021-07-25T04:18:55.339617Z",
     "shell.execute_reply.started": "2021-07-10T07:32:45.700223Z"
    },
    "papermill": {
     "duration": 0.024094,
     "end_time": "2021-07-25T04:22:07.127516",
     "exception": false,
     "start_time": "2021-07-25T04:22:07.103422",
     "status": "completed"
    },
    "tags": []
   },
   "outputs": [],
   "source": []
  },
  {
   "cell_type": "markdown",
   "id": "2e865944",
   "metadata": {
    "papermill": {
     "duration": 0.025451,
     "end_time": "2021-07-25T04:22:07.177719",
     "exception": false,
     "start_time": "2021-07-25T04:22:07.152268",
     "status": "completed"
    },
    "tags": []
   },
   "source": [
    "**Exercise 72: Extract the year, month, day and day-of-week from `date` and add them as new columns `year`, `month`, `day` and `day_of_week` in `data`**"
   ]
  },
  {
   "cell_type": "code",
   "execution_count": null,
   "id": "47b1e24d",
   "metadata": {
    "execution": {
     "iopub.execute_input": "2021-07-25T04:18:55.452988Z",
     "iopub.status.busy": "2021-07-25T04:18:55.452303Z",
     "iopub.status.idle": "2021-07-25T04:18:55.457108Z",
     "shell.execute_reply": "2021-07-25T04:18:55.456573Z",
     "shell.execute_reply.started": "2021-07-10T07:32:54.581770Z"
    },
    "papermill": {
     "duration": 0.02416,
     "end_time": "2021-07-25T04:22:07.226423",
     "exception": false,
     "start_time": "2021-07-25T04:22:07.202263",
     "status": "completed"
    },
    "tags": []
   },
   "outputs": [],
   "source": []
  },
  {
   "cell_type": "markdown",
   "id": "fcc65db7",
   "metadata": {
    "papermill": {
     "duration": 0.024058,
     "end_time": "2021-07-25T04:22:07.275066",
     "exception": false,
     "start_time": "2021-07-25T04:22:07.251008",
     "status": "completed"
    },
    "tags": []
   },
   "source": [
    "**Exercise 73: Extract the hour, minute and second from `timestamp` and add them as new columns `hour`, `minute` and `second` in `data`**"
   ]
  },
  {
   "cell_type": "code",
   "execution_count": null,
   "id": "75689b26",
   "metadata": {
    "execution": {
     "iopub.execute_input": "2021-07-25T04:18:55.572643Z",
     "iopub.status.busy": "2021-07-25T04:18:55.571958Z",
     "iopub.status.idle": "2021-07-25T04:18:55.577155Z",
     "shell.execute_reply": "2021-07-25T04:18:55.576474Z",
     "shell.execute_reply.started": "2021-07-10T07:33:04.025822Z"
    },
    "papermill": {
     "duration": 0.02479,
     "end_time": "2021-07-25T04:22:07.327370",
     "exception": false,
     "start_time": "2021-07-25T04:22:07.302580",
     "status": "completed"
    },
    "tags": []
   },
   "outputs": [],
   "source": []
  },
  {
   "cell_type": "markdown",
   "id": "a0da5616",
   "metadata": {
    "papermill": {
     "duration": 0.024227,
     "end_time": "2021-07-25T04:22:07.376611",
     "exception": false,
     "start_time": "2021-07-25T04:22:07.352384",
     "status": "completed"
    },
    "tags": []
   },
   "source": [
    "**Exercise 74: Create a date column `date_new` in `data` using the `year`, `month` and `day` columns**"
   ]
  },
  {
   "cell_type": "code",
   "execution_count": null,
   "id": "6c9dabf7",
   "metadata": {
    "execution": {
     "iopub.execute_input": "2021-07-25T04:18:55.691220Z",
     "iopub.status.busy": "2021-07-25T04:18:55.690364Z",
     "iopub.status.idle": "2021-07-25T04:18:55.695809Z",
     "shell.execute_reply": "2021-07-25T04:18:55.695241Z",
     "shell.execute_reply.started": "2021-07-10T07:33:13.028877Z"
    },
    "papermill": {
     "duration": 0.02438,
     "end_time": "2021-07-25T04:22:07.425717",
     "exception": false,
     "start_time": "2021-07-25T04:22:07.401337",
     "status": "completed"
    },
    "tags": []
   },
   "outputs": [],
   "source": []
  },
  {
   "cell_type": "markdown",
   "id": "06274b9d",
   "metadata": {
    "papermill": {
     "duration": 0.02468,
     "end_time": "2021-07-25T04:22:07.475079",
     "exception": false,
     "start_time": "2021-07-25T04:22:07.450399",
     "status": "completed"
    },
    "tags": []
   },
   "source": [
    "**Exercise 75: Create a time column `time_new` in `data` using the `year`, `month`, `day`, `hour`, `minute` and `second` columns**"
   ]
  },
  {
   "cell_type": "code",
   "execution_count": null,
   "id": "32694268",
   "metadata": {
    "execution": {
     "iopub.execute_input": "2021-07-25T04:18:55.816264Z",
     "iopub.status.busy": "2021-07-25T04:18:55.815432Z",
     "iopub.status.idle": "2021-07-25T04:18:55.819072Z",
     "shell.execute_reply": "2021-07-25T04:18:55.818489Z",
     "shell.execute_reply.started": "2021-07-10T07:33:17.386004Z"
    },
    "papermill": {
     "duration": 0.024492,
     "end_time": "2021-07-25T04:22:07.525567",
     "exception": false,
     "start_time": "2021-07-25T04:22:07.501075",
     "status": "completed"
    },
    "tags": []
   },
   "outputs": [],
   "source": []
  },
  {
   "cell_type": "markdown",
   "id": "09bbe7f4",
   "metadata": {
    "papermill": {
     "duration": 0.025345,
     "end_time": "2021-07-25T04:22:07.576007",
     "exception": false,
     "start_time": "2021-07-25T04:22:07.550662",
     "status": "completed"
    },
    "tags": []
   },
   "source": [
    "**Exercise 76: Create a lead variable of `product` with shift of 2 called `next_product_2` in `data`**"
   ]
  },
  {
   "cell_type": "code",
   "execution_count": null,
   "id": "ecbacd3e",
   "metadata": {
    "execution": {
     "iopub.execute_input": "2021-07-25T04:18:55.941821Z",
     "iopub.status.busy": "2021-07-25T04:18:55.941141Z",
     "iopub.status.idle": "2021-07-25T04:18:55.945420Z",
     "shell.execute_reply": "2021-07-25T04:18:55.944866Z",
     "shell.execute_reply.started": "2021-07-10T07:33:32.478569Z"
    },
    "papermill": {
     "duration": 0.024755,
     "end_time": "2021-07-25T04:22:07.625827",
     "exception": false,
     "start_time": "2021-07-25T04:22:07.601072",
     "status": "completed"
    },
    "tags": []
   },
   "outputs": [],
   "source": []
  },
  {
   "cell_type": "markdown",
   "id": "46be3ef1",
   "metadata": {
    "papermill": {
     "duration": 0.025924,
     "end_time": "2021-07-25T04:22:07.676670",
     "exception": false,
     "start_time": "2021-07-25T04:22:07.650746",
     "status": "completed"
    },
    "tags": []
   },
   "source": [
    "**Exercise 77: Create a lag variable of `date` with single shift called `previous_date` in `data`**"
   ]
  },
  {
   "cell_type": "code",
   "execution_count": null,
   "id": "9d1f24b3",
   "metadata": {
    "execution": {
     "iopub.execute_input": "2021-07-25T04:18:56.063296Z",
     "iopub.status.busy": "2021-07-25T04:18:56.062674Z",
     "iopub.status.idle": "2021-07-25T04:18:56.069226Z",
     "shell.execute_reply": "2021-07-25T04:18:56.069760Z",
     "shell.execute_reply.started": "2021-07-10T07:33:50.934701Z"
    },
    "papermill": {
     "duration": 0.025572,
     "end_time": "2021-07-25T04:22:07.727071",
     "exception": false,
     "start_time": "2021-07-25T04:22:07.701499",
     "status": "completed"
    },
    "tags": []
   },
   "outputs": [],
   "source": []
  },
  {
   "cell_type": "markdown",
   "id": "365528a5",
   "metadata": {
    "papermill": {
     "duration": 0.024324,
     "end_time": "2021-07-25T04:22:07.778124",
     "exception": false,
     "start_time": "2021-07-25T04:22:07.753800",
     "status": "completed"
    },
    "tags": []
   },
   "source": [
    "**Exercise 78: Create a lag variable of `timestamp` by `user` with single shift called `previous_user_time` in `data`**"
   ]
  },
  {
   "cell_type": "code",
   "execution_count": null,
   "id": "73cd8fc9",
   "metadata": {
    "execution": {
     "iopub.execute_input": "2021-07-25T04:18:56.192335Z",
     "iopub.status.busy": "2021-07-25T04:18:56.191681Z",
     "iopub.status.idle": "2021-07-25T04:18:56.204370Z",
     "shell.execute_reply": "2021-07-25T04:18:56.204919Z",
     "shell.execute_reply.started": "2021-07-10T07:34:13.546335Z"
    },
    "papermill": {
     "duration": 0.024624,
     "end_time": "2021-07-25T04:22:07.827720",
     "exception": false,
     "start_time": "2021-07-25T04:22:07.803096",
     "status": "completed"
    },
    "tags": []
   },
   "outputs": [],
   "source": []
  },
  {
   "cell_type": "markdown",
   "id": "6b4cab4d",
   "metadata": {
    "papermill": {
     "duration": 0.024406,
     "end_time": "2021-07-25T04:22:07.877178",
     "exception": false,
     "start_time": "2021-07-25T04:22:07.852772",
     "status": "completed"
    },
    "tags": []
   },
   "source": [
    "**Exercise 79: Create a column `date_diff` which is the difference between `date` and `previous_date` in days**"
   ]
  },
  {
   "cell_type": "code",
   "execution_count": null,
   "id": "bcf56cfa",
   "metadata": {
    "execution": {
     "iopub.execute_input": "2021-07-25T04:18:56.345728Z",
     "iopub.status.busy": "2021-07-25T04:18:56.344735Z",
     "iopub.status.idle": "2021-07-25T04:18:56.347988Z",
     "shell.execute_reply": "2021-07-25T04:18:56.348538Z",
     "shell.execute_reply.started": "2021-07-10T07:34:34.941222Z"
    },
    "papermill": {
     "duration": 0.025451,
     "end_time": "2021-07-25T04:22:07.927495",
     "exception": false,
     "start_time": "2021-07-25T04:22:07.902044",
     "status": "completed"
    },
    "tags": []
   },
   "outputs": [],
   "source": []
  },
  {
   "cell_type": "markdown",
   "id": "bf73a905",
   "metadata": {
    "papermill": {
     "duration": 0.024668,
     "end_time": "2021-07-25T04:22:07.977404",
     "exception": false,
     "start_time": "2021-07-25T04:22:07.952736",
     "status": "completed"
    },
    "tags": []
   },
   "source": [
    "**Exercise 80: Create a column `time_diff` which is the difference between `timestamp` and `previous_user_time` in seconds**"
   ]
  },
  {
   "cell_type": "code",
   "execution_count": null,
   "id": "24de4bdc",
   "metadata": {
    "execution": {
     "iopub.execute_input": "2021-07-25T04:18:56.475162Z",
     "iopub.status.busy": "2021-07-25T04:18:56.474472Z",
     "iopub.status.idle": "2021-07-25T04:18:56.482683Z",
     "shell.execute_reply": "2021-07-25T04:18:56.481862Z",
     "shell.execute_reply.started": "2021-07-10T07:36:05.508181Z"
    },
    "papermill": {
     "duration": 0.024766,
     "end_time": "2021-07-25T04:22:08.027141",
     "exception": false,
     "start_time": "2021-07-25T04:22:08.002375",
     "status": "completed"
    },
    "tags": []
   },
   "outputs": [],
   "source": []
  },
  {
   "cell_type": "markdown",
   "id": "1e514ada",
   "metadata": {
    "papermill": {
     "duration": 0.024461,
     "end_time": "2021-07-25T04:22:08.076672",
     "exception": false,
     "start_time": "2021-07-25T04:22:08.052211",
     "status": "completed"
    },
    "tags": []
   },
   "source": [
    "<center>\n",
    "    ✅ This completes Set 8: Time Series (Exercises 71-80) of <b>DatatableTon</b>: <i>💯 datatable exercises</i>\n",
    "    <br>\n",
    "    Set 9 is coming soon!\n",
    "    <br>\n",
    "    <br>\n",
    "    You can find all the exercises and solutions on <a href=\"https://github.com/vopani/datatableton#exercises-\">GitHub</a>\n",
    "</center>"
   ]
  }
 ],
 "metadata": {
  "kernelspec": {
   "display_name": "Python 3",
   "language": "python",
   "name": "python3"
  },
  "language_info": {
   "codemirror_mode": {
    "name": "ipython",
    "version": 3
   },
   "file_extension": ".py",
   "mimetype": "text/x-python",
   "name": "python",
   "nbconvert_exporter": "python",
   "pygments_lexer": "ipython3",
   "version": "3.7.10"
  },
  "papermill": {
   "default_parameters": {},
   "duration": 47.576336,
   "end_time": "2021-07-25T04:22:08.812917",
   "environment_variables": {},
   "exception": null,
   "input_path": "__notebook__.ipynb",
   "output_path": "__notebook__.ipynb",
   "parameters": {},
   "start_time": "2021-07-25T04:21:21.236581",
   "version": "2.3.3"
  }
 },
 "nbformat": 4,
 "nbformat_minor": 5
}
