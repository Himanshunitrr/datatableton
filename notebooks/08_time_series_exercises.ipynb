{
 "cells": [
  {
   "cell_type": "markdown",
   "id": "3b122418",
   "metadata": {
    "_cell_guid": "b1076dfc-b9ad-4769-8c92-a6c4dae69d19",
    "_uuid": "8f2839f25d086af736a60e9eeb907d3b93b6e0e5",
    "papermill": {
     "duration": 0.018452,
     "end_time": "2021-07-28T06:16:34.486983",
     "exception": false,
     "start_time": "2021-07-28T06:16:34.468531",
     "status": "completed"
    },
    "tags": []
   },
   "source": [
    "<center>\n",
    "    <h1>DatatableTon</h1>\n",
    "    💯 datatable exercises\n",
    "    <br>\n",
    "    <br>\n",
    "    <a href='https://github.com/vopani/datatableton/blob/master/LICENSE'>\n",
    "        <img src='https://img.shields.io/badge/license-Apache%202.0-blue.svg?logo=apache'>\n",
    "    </a>\n",
    "    <a href='https://github.com/vopani/datatableton'>\n",
    "        <img src='https://img.shields.io/github/stars/vopani/datatableton?color=yellowgreen&logo=github'>\n",
    "    </a>\n",
    "    <a href='https://twitter.com/vopani'>\n",
    "        <img src='https://img.shields.io/twitter/follow/vopani'>\n",
    "    </a>\n",
    "</center>"
   ]
  },
  {
   "cell_type": "markdown",
   "id": "401b4337",
   "metadata": {
    "papermill": {
     "duration": 0.017095,
     "end_time": "2021-07-28T06:16:34.523095",
     "exception": false,
     "start_time": "2021-07-28T06:16:34.506000",
     "status": "completed"
    },
    "tags": []
   },
   "source": [
    "<center>\n",
    "    This is Set 8: Time (Exercises 71-80) of <b>DatatableTon</b>: <i>💯 datatable exercises</i>\n",
    "    <br>\n",
    "    You can find all the exercises and solutions on <a href=\"https://github.com/vopani/datatableton#exercises-\">GitHub</a>\n",
    "</center>"
   ]
  },
  {
   "cell_type": "markdown",
   "id": "b34ebcc9",
   "metadata": {
    "papermill": {
     "duration": 0.016792,
     "end_time": "2021-07-28T06:16:34.557372",
     "exception": false,
     "start_time": "2021-07-28T06:16:34.540580",
     "status": "completed"
    },
    "tags": []
   },
   "source": [
    "**Prerequisites**\n",
    "* The `datatable` package should be upgraded to the latest version (or v1.0.0+).\n",
    "* The sample dataset [datatableton_sample.csv](https://github.com/vopani/datatableton/blob/main/data/datatableton_sample.csv) will be used for the exercises."
   ]
  },
  {
   "cell_type": "code",
   "execution_count": 1,
   "id": "3238a0bb",
   "metadata": {
    "_kg_hide-output": true,
    "execution": {
     "iopub.execute_input": "2021-07-28T06:16:34.597857Z",
     "iopub.status.busy": "2021-07-28T06:16:34.596097Z",
     "iopub.status.idle": "2021-07-28T06:17:05.916852Z",
     "shell.execute_reply": "2021-07-28T06:17:05.915991Z"
    },
    "papermill": {
     "duration": 31.342418,
     "end_time": "2021-07-28T06:17:05.917074",
     "exception": false,
     "start_time": "2021-07-28T06:16:34.574656",
     "status": "completed"
    },
    "tags": []
   },
   "outputs": [
    {
     "name": "stdout",
     "output_type": "stream",
     "text": [
      "Requirement already satisfied: pip in /opt/conda/lib/python3.7/site-packages (21.1.2)\r\n",
      "Collecting pip\r\n",
      "  Downloading pip-21.2.1-py3-none-any.whl (1.6 MB)\r\n",
      "\u001b[K     |████████████████████████████████| 1.6 MB 833 kB/s \r\n",
      "\u001b[?25hInstalling collected packages: pip\r\n",
      "  Attempting uninstall: pip\r\n",
      "    Found existing installation: pip 21.1.2\r\n",
      "    Uninstalling pip-21.1.2:\r\n",
      "      Successfully uninstalled pip-21.1.2\r\n",
      "Successfully installed pip-21.2.1\r\n",
      "\u001b[33mWARNING: Running pip as root will break packages and permissions. You should install packages reliably by using venv: https://pip.pypa.io/warnings/venv\u001b[0m\r\n",
      "Requirement already satisfied: datatable in /opt/conda/lib/python3.7/site-packages (1.0.0)\r\n",
      "\u001b[33mWARNING: Running pip as the 'root' user can result in broken permissions and conflicting behaviour with the system package manager. It is recommended to use a virtual environment instead: https://pip.pypa.io/warnings/venv\u001b[0m\r\n",
      "--2021-07-28 06:17:05--  https://raw.githubusercontent.com/vopani/datatableton/main/data/datatableton_sample.csv\r\n",
      "Resolving raw.githubusercontent.com (raw.githubusercontent.com)... 185.199.108.133, 185.199.110.133, 185.199.109.133, ...\r\n",
      "Connecting to raw.githubusercontent.com (raw.githubusercontent.com)|185.199.108.133|:443... connected.\r\n",
      "HTTP request sent, awaiting response... 200 OK\r\n",
      "Length: 940 [text/plain]\r\n",
      "Saving to: ‘datatableton_sample.csv’\r\n",
      "\r\n",
      "datatableton_sample 100%[===================>]     940  --.-KB/s    in 0s      \r\n",
      "\r\n",
      "2021-07-28 06:17:05 (34.5 MB/s) - ‘datatableton_sample.csv’ saved [940/940]\r\n",
      "\r\n"
     ]
    }
   ],
   "source": [
    "!python3 -m pip install -U pip\n",
    "!python3 -m pip install -U datatable\n",
    "!wget https://raw.githubusercontent.com/vopani/datatableton/main/data/datatableton_sample.csv"
   ]
  },
  {
   "cell_type": "code",
   "execution_count": 2,
   "id": "24ba8a59",
   "metadata": {
    "execution": {
     "iopub.execute_input": "2021-07-28T06:17:05.971436Z",
     "iopub.status.busy": "2021-07-28T06:17:05.970800Z",
     "iopub.status.idle": "2021-07-28T06:17:06.162521Z",
     "shell.execute_reply": "2021-07-28T06:17:06.161988Z",
     "shell.execute_reply.started": "2021-07-10T07:32:37.006903Z"
    },
    "papermill": {
     "duration": 0.220966,
     "end_time": "2021-07-28T06:17:06.162654",
     "exception": false,
     "start_time": "2021-07-28T06:17:05.941688",
     "status": "completed"
    },
    "tags": []
   },
   "outputs": [
    {
     "data": {
      "text/html": [
       "<style type='text/css'>\n",
       ".datatable table.frame { margin-bottom: 0; }\n",
       ".datatable table.frame thead { border-bottom: none; }\n",
       ".datatable table.frame tr.coltypes td {  color: #FFFFFF;  line-height: 6px;  padding: 0 0.5em;}\n",
       ".datatable .bool    { background: #DDDD99; }\n",
       ".datatable .object  { background: #565656; }\n",
       ".datatable .int     { background: #5D9E5D; }\n",
       ".datatable .float   { background: #4040CC; }\n",
       ".datatable .str     { background: #CC4040; }\n",
       ".datatable .time    { background: #40CC40; }\n",
       ".datatable .row_index {  background: var(--jp-border-color3);  border-right: 1px solid var(--jp-border-color0);  color: var(--jp-ui-font-color3);  font-size: 9px;}\n",
       ".datatable .frame tbody td { text-align: left; }\n",
       ".datatable .frame tr.coltypes .row_index {  background: var(--jp-border-color0);}\n",
       ".datatable th:nth-child(2) { padding-left: 12px; }\n",
       ".datatable .hellipsis {  color: var(--jp-cell-editor-border-color);}\n",
       ".datatable .vellipsis {  background: var(--jp-layout-color0);  color: var(--jp-cell-editor-border-color);}\n",
       ".datatable .na {  color: var(--jp-cell-editor-border-color);  font-size: 80%;}\n",
       ".datatable .sp {  opacity: 0.25;}\n",
       ".datatable .footer { font-size: 9px; }\n",
       ".datatable .frame_dimensions {  background: var(--jp-border-color3);  border-top: 1px solid var(--jp-border-color0);  color: var(--jp-ui-font-color3);  display: inline-block;  opacity: 0.6;  padding: 1px 10px 1px 5px;}\n",
       "</style>\n"
      ],
      "text/plain": [
       "<IPython.core.display.HTML object>"
      ]
     },
     "metadata": {},
     "output_type": "display_data"
    },
    {
     "data": {
      "text/html": [
       "<div class='datatable'>\n",
       "  <table class='frame'>\n",
       "  <thead>\n",
       "    <tr class='colnames'><td class='row_index'></td><th>timestamp</th><th>user</th><th>product</th><th>price</th><th>quantity</th></tr>\n",
       "    <tr class='coltypes'><td class='row_index'></td><td class='time' title='time64'>&#x25AA;&#x25AA;&#x25AA;&#x25AA;&#x25AA;&#x25AA;&#x25AA;&#x25AA;</td><td class='str' title='str32'>&#x25AA;&#x25AA;&#x25AA;&#x25AA;</td><td class='str' title='str32'>&#x25AA;&#x25AA;&#x25AA;&#x25AA;</td><td class='float' title='float64'>&#x25AA;&#x25AA;&#x25AA;&#x25AA;&#x25AA;&#x25AA;&#x25AA;&#x25AA;</td><td class='int' title='int32'>&#x25AA;&#x25AA;&#x25AA;&#x25AA;</td></tr>\n",
       "  </thead>\n",
       "  <tbody>\n",
       "    <tr><td class='row_index'>0</td><td>2017-01-01<span class=sp>T</span>13:22:41</td><td>U1</td><td>Eggs</td><td>2.3</td><td>2</td></tr>\n",
       "    <tr><td class='row_index'>1</td><td>2017-05-22<span class=sp>T</span>09:54:21</td><td>U2</td><td>Bread</td><td>0.6</td><td>2</td></tr>\n",
       "    <tr><td class='row_index'>2</td><td>2018-11-09<span class=sp>T</span>15:00:01</td><td>U3</td><td>Banana</td><td>0.7</td><td>1</td></tr>\n",
       "    <tr><td class='row_index'>3</td><td>2018-12-24<span class=sp>T</span>23:03:33</td><td>U1</td><td>Water</td><td>0.2</td><td>1</td></tr>\n",
       "    <tr><td class='row_index'>4</td><td>2019-03-03<span class=sp>T</span>06:21:58</td><td>U4</td><td>Eggs</td><td>2.3</td><td>2</td></tr>\n",
       "    <tr><td class='row_index'>5</td><td>2019-06-17<span class=sp>T</span>16:13:39</td><td>U5</td><td>Grapes</td><td>1.5</td><td>1</td></tr>\n",
       "    <tr><td class='row_index'>6</td><td>2019-07-28<span class=sp>T</span>21:03:11</td><td>U5</td><td>Bread</td><td>0.6</td><td>1</td></tr>\n",
       "    <tr><td class='row_index'>7</td><td>2019-12-05<span class=sp>T</span>04:15:42</td><td>U1</td><td>Banana</td><td>0.7</td><td>2</td></tr>\n",
       "    <tr><td class='row_index'>8</td><td>2020-02-02<span class=sp>T</span>03:45:34</td><td>U3</td><td>Banana</td><td>0.7</td><td>1</td></tr>\n",
       "    <tr><td class='row_index'>9</td><td>2020-03-05<span class=sp>T</span>07:09:12</td><td>U4</td><td>Grapes</td><td>1.5</td><td>1</td></tr>\n",
       "    <tr><td class='row_index'>10</td><td>2020-03-22<span class=sp>T</span>19:29:38</td><td>U1</td><td>Water</td><td>0.2</td><td>1</td></tr>\n",
       "    <tr><td class='row_index'>11</td><td>2020-03-30<span class=sp>T</span>09:44:30</td><td>U4</td><td>Water</td><td>0.2</td><td>1</td></tr>\n",
       "    <tr><td class='row_index'>12</td><td>2020-04-01<span class=sp>T</span>13:21:41</td><td>U1</td><td>Banana</td><td>0.7</td><td>2</td></tr>\n",
       "    <tr><td class='row_index'>13</td><td>2020-07-08<span class=sp>T</span>11:45:25</td><td>U2</td><td>Grapes</td><td>1.5</td><td>1</td></tr>\n",
       "    <tr><td class='row_index'>14</td><td>2020-11-19<span class=sp>T</span>18:51:22</td><td>U5</td><td>Water</td><td>0.2</td><td>1</td></tr>\n",
       "    <tr><td class='row_index'>15</td><td>2020-12-03<span class=sp>T</span>16:23:48</td><td>U3</td><td>Banana</td><td>0.5</td><td>3</td></tr>\n",
       "    <tr><td class='row_index'>16</td><td>2021-02-03<span class=sp>T</span>01:14:40</td><td>U5</td><td>Eggs</td><td>2.1</td><td>4</td></tr>\n",
       "    <tr><td class='row_index'>17</td><td>2021-05-26<span class=sp>T</span>22:42:15</td><td>U3</td><td>Bread</td><td>0.6</td><td>1</td></tr>\n",
       "    <tr><td class='row_index'>18</td><td>2021-06-14<span class=sp>T</span>15:49:28</td><td>U4</td><td>Eggs</td><td>2.3</td><td>2</td></tr>\n",
       "    <tr><td class='row_index'>19</td><td>2021-07-01<span class=sp>T</span>04:37:31</td><td>U4</td><td>Water</td><td>0.3</td><td>1</td></tr>\n",
       "  </tbody>\n",
       "  </table>\n",
       "  <div class='footer'>\n",
       "    <div class='frame_dimensions'>20 rows &times; 5 columns</div>\n",
       "  </div>\n",
       "</div>\n"
      ],
      "text/plain": [
       "<Frame#7f54054b3510 20x5>"
      ]
     },
     "execution_count": 2,
     "metadata": {},
     "output_type": "execute_result"
    }
   ],
   "source": [
    "import datatable as dt\n",
    "\n",
    "data = dt.fread('datatableton_sample.csv')\n",
    "del data[:, ['age', 'category']]\n",
    "\n",
    "data"
   ]
  },
  {
   "cell_type": "markdown",
   "id": "1e171ed3",
   "metadata": {
    "papermill": {
     "duration": 0.025212,
     "end_time": "2021-07-28T06:17:06.213016",
     "exception": false,
     "start_time": "2021-07-28T06:17:06.187804",
     "status": "completed"
    },
    "tags": []
   },
   "source": [
    "**Exercise 71: Extract the date from `timestamp` and add it as a column `date` in `data`**"
   ]
  },
  {
   "cell_type": "code",
   "execution_count": null,
   "id": "b24f047d",
   "metadata": {
    "execution": {
     "iopub.execute_input": "2021-07-25T04:18:55.336462Z",
     "iopub.status.busy": "2021-07-25T04:18:55.335747Z",
     "iopub.status.idle": "2021-07-25T04:18:55.340157Z",
     "shell.execute_reply": "2021-07-25T04:18:55.339617Z",
     "shell.execute_reply.started": "2021-07-10T07:32:45.700223Z"
    },
    "papermill": {
     "duration": 0.025654,
     "end_time": "2021-07-28T06:17:06.264019",
     "exception": false,
     "start_time": "2021-07-28T06:17:06.238365",
     "status": "completed"
    },
    "tags": []
   },
   "outputs": [],
   "source": []
  },
  {
   "cell_type": "markdown",
   "id": "f903c71c",
   "metadata": {
    "papermill": {
     "duration": 0.024917,
     "end_time": "2021-07-28T06:17:06.314484",
     "exception": false,
     "start_time": "2021-07-28T06:17:06.289567",
     "status": "completed"
    },
    "tags": []
   },
   "source": [
    "**Exercise 72: Extract the year, month, day and day-of-week from `date` and add them as new columns `year`, `month`, `day` and `day_of_week` in `data`**"
   ]
  },
  {
   "cell_type": "code",
   "execution_count": null,
   "id": "237dc474",
   "metadata": {
    "execution": {
     "iopub.execute_input": "2021-07-25T04:18:55.452988Z",
     "iopub.status.busy": "2021-07-25T04:18:55.452303Z",
     "iopub.status.idle": "2021-07-25T04:18:55.457108Z",
     "shell.execute_reply": "2021-07-25T04:18:55.456573Z",
     "shell.execute_reply.started": "2021-07-10T07:32:54.58177Z"
    },
    "papermill": {
     "duration": 0.024726,
     "end_time": "2021-07-28T06:17:06.364680",
     "exception": false,
     "start_time": "2021-07-28T06:17:06.339954",
     "status": "completed"
    },
    "tags": []
   },
   "outputs": [],
   "source": []
  },
  {
   "cell_type": "markdown",
   "id": "43afbeee",
   "metadata": {
    "papermill": {
     "duration": 0.025289,
     "end_time": "2021-07-28T06:17:06.415351",
     "exception": false,
     "start_time": "2021-07-28T06:17:06.390062",
     "status": "completed"
    },
    "tags": []
   },
   "source": [
    "**Exercise 73: Extract the hour, minute and second from `timestamp` and add them as new columns `hour`, `minute` and `second` in `data`**"
   ]
  },
  {
   "cell_type": "code",
   "execution_count": null,
   "id": "d63ab110",
   "metadata": {
    "execution": {
     "iopub.execute_input": "2021-07-25T04:18:55.572643Z",
     "iopub.status.busy": "2021-07-25T04:18:55.571958Z",
     "iopub.status.idle": "2021-07-25T04:18:55.577155Z",
     "shell.execute_reply": "2021-07-25T04:18:55.576474Z",
     "shell.execute_reply.started": "2021-07-10T07:33:04.025822Z"
    },
    "papermill": {
     "duration": 0.026348,
     "end_time": "2021-07-28T06:17:06.467095",
     "exception": false,
     "start_time": "2021-07-28T06:17:06.440747",
     "status": "completed"
    },
    "tags": []
   },
   "outputs": [],
   "source": []
  },
  {
   "cell_type": "markdown",
   "id": "26c63214",
   "metadata": {
    "papermill": {
     "duration": 0.025641,
     "end_time": "2021-07-28T06:17:06.518597",
     "exception": false,
     "start_time": "2021-07-28T06:17:06.492956",
     "status": "completed"
    },
    "tags": []
   },
   "source": [
    "**Exercise 74: Create a date column `date_new` in `data` using the `year`, `month` and `day` columns**"
   ]
  },
  {
   "cell_type": "code",
   "execution_count": null,
   "id": "541d2bf1",
   "metadata": {
    "execution": {
     "iopub.execute_input": "2021-07-25T04:18:55.69122Z",
     "iopub.status.busy": "2021-07-25T04:18:55.690364Z",
     "iopub.status.idle": "2021-07-25T04:18:55.695809Z",
     "shell.execute_reply": "2021-07-25T04:18:55.695241Z",
     "shell.execute_reply.started": "2021-07-10T07:33:13.028877Z"
    },
    "papermill": {
     "duration": 0.025535,
     "end_time": "2021-07-28T06:17:06.570435",
     "exception": false,
     "start_time": "2021-07-28T06:17:06.544900",
     "status": "completed"
    },
    "tags": []
   },
   "outputs": [],
   "source": []
  },
  {
   "cell_type": "markdown",
   "id": "10198652",
   "metadata": {
    "papermill": {
     "duration": 0.025327,
     "end_time": "2021-07-28T06:17:06.621384",
     "exception": false,
     "start_time": "2021-07-28T06:17:06.596057",
     "status": "completed"
    },
    "tags": []
   },
   "source": [
    "**Exercise 75: Create a time column `time_new` in `data` using the `year`, `month`, `day`, `hour`, `minute` and `second` columns**"
   ]
  },
  {
   "cell_type": "code",
   "execution_count": null,
   "id": "eb72cbca",
   "metadata": {
    "execution": {
     "iopub.execute_input": "2021-07-25T04:18:55.816264Z",
     "iopub.status.busy": "2021-07-25T04:18:55.815432Z",
     "iopub.status.idle": "2021-07-25T04:18:55.819072Z",
     "shell.execute_reply": "2021-07-25T04:18:55.818489Z",
     "shell.execute_reply.started": "2021-07-10T07:33:17.386004Z"
    },
    "papermill": {
     "duration": 0.024774,
     "end_time": "2021-07-28T06:17:06.671967",
     "exception": false,
     "start_time": "2021-07-28T06:17:06.647193",
     "status": "completed"
    },
    "tags": []
   },
   "outputs": [],
   "source": []
  },
  {
   "cell_type": "markdown",
   "id": "f8152cc6",
   "metadata": {
    "papermill": {
     "duration": 0.025467,
     "end_time": "2021-07-28T06:17:06.722997",
     "exception": false,
     "start_time": "2021-07-28T06:17:06.697530",
     "status": "completed"
    },
    "tags": []
   },
   "source": [
    "**Exercise 76: Create a lead variable of `product` with shift of 2 called `next_product_2` in `data`**"
   ]
  },
  {
   "cell_type": "code",
   "execution_count": null,
   "id": "6b21d879",
   "metadata": {
    "execution": {
     "iopub.execute_input": "2021-07-25T04:18:55.941821Z",
     "iopub.status.busy": "2021-07-25T04:18:55.941141Z",
     "iopub.status.idle": "2021-07-25T04:18:55.94542Z",
     "shell.execute_reply": "2021-07-25T04:18:55.944866Z",
     "shell.execute_reply.started": "2021-07-10T07:33:32.478569Z"
    },
    "papermill": {
     "duration": 0.025502,
     "end_time": "2021-07-28T06:17:06.774186",
     "exception": false,
     "start_time": "2021-07-28T06:17:06.748684",
     "status": "completed"
    },
    "tags": []
   },
   "outputs": [],
   "source": []
  },
  {
   "cell_type": "markdown",
   "id": "16e426a3",
   "metadata": {
    "papermill": {
     "duration": 0.025289,
     "end_time": "2021-07-28T06:17:06.824984",
     "exception": false,
     "start_time": "2021-07-28T06:17:06.799695",
     "status": "completed"
    },
    "tags": []
   },
   "source": [
    "**Exercise 77: Create a lag variable of `date` with single shift called `previous_date` in `data`**"
   ]
  },
  {
   "cell_type": "code",
   "execution_count": null,
   "id": "d754b4d3",
   "metadata": {
    "execution": {
     "iopub.execute_input": "2021-07-25T04:18:56.063296Z",
     "iopub.status.busy": "2021-07-25T04:18:56.062674Z",
     "iopub.status.idle": "2021-07-25T04:18:56.069226Z",
     "shell.execute_reply": "2021-07-25T04:18:56.06976Z",
     "shell.execute_reply.started": "2021-07-10T07:33:50.934701Z"
    },
    "papermill": {
     "duration": 0.02475,
     "end_time": "2021-07-28T06:17:06.875100",
     "exception": false,
     "start_time": "2021-07-28T06:17:06.850350",
     "status": "completed"
    },
    "tags": []
   },
   "outputs": [],
   "source": []
  },
  {
   "cell_type": "markdown",
   "id": "ced402db",
   "metadata": {
    "papermill": {
     "duration": 0.025248,
     "end_time": "2021-07-28T06:17:06.925720",
     "exception": false,
     "start_time": "2021-07-28T06:17:06.900472",
     "status": "completed"
    },
    "tags": []
   },
   "source": [
    "**Exercise 78: Create a lag variable of `timestamp` by `user` with single shift called `previous_user_time` in `data`**"
   ]
  },
  {
   "cell_type": "code",
   "execution_count": null,
   "id": "873a088f",
   "metadata": {
    "execution": {
     "iopub.execute_input": "2021-07-25T04:18:56.192335Z",
     "iopub.status.busy": "2021-07-25T04:18:56.191681Z",
     "iopub.status.idle": "2021-07-25T04:18:56.20437Z",
     "shell.execute_reply": "2021-07-25T04:18:56.204919Z",
     "shell.execute_reply.started": "2021-07-10T07:34:13.546335Z"
    },
    "papermill": {
     "duration": 0.024859,
     "end_time": "2021-07-28T06:17:06.976999",
     "exception": false,
     "start_time": "2021-07-28T06:17:06.952140",
     "status": "completed"
    },
    "tags": []
   },
   "outputs": [],
   "source": []
  },
  {
   "cell_type": "markdown",
   "id": "f3cc7292",
   "metadata": {
    "papermill": {
     "duration": 0.025289,
     "end_time": "2021-07-28T06:17:07.028803",
     "exception": false,
     "start_time": "2021-07-28T06:17:07.003514",
     "status": "completed"
    },
    "tags": []
   },
   "source": [
    "**Exercise 79: Create a column `date_diff` which is the difference between `date` and `previous_date` in days**"
   ]
  },
  {
   "cell_type": "code",
   "execution_count": null,
   "id": "f6e69105",
   "metadata": {
    "execution": {
     "iopub.execute_input": "2021-07-25T04:18:56.345728Z",
     "iopub.status.busy": "2021-07-25T04:18:56.344735Z",
     "iopub.status.idle": "2021-07-25T04:18:56.347988Z",
     "shell.execute_reply": "2021-07-25T04:18:56.348538Z",
     "shell.execute_reply.started": "2021-07-10T07:34:34.941222Z"
    },
    "papermill": {
     "duration": 0.025031,
     "end_time": "2021-07-28T06:17:07.079548",
     "exception": false,
     "start_time": "2021-07-28T06:17:07.054517",
     "status": "completed"
    },
    "tags": []
   },
   "outputs": [],
   "source": []
  },
  {
   "cell_type": "markdown",
   "id": "38daf802",
   "metadata": {
    "papermill": {
     "duration": 0.024938,
     "end_time": "2021-07-28T06:17:07.129459",
     "exception": false,
     "start_time": "2021-07-28T06:17:07.104521",
     "status": "completed"
    },
    "tags": []
   },
   "source": [
    "**Exercise 80: Create a column `time_diff` which is the difference between `timestamp` and `previous_user_time` in seconds**"
   ]
  },
  {
   "cell_type": "code",
   "execution_count": null,
   "id": "4a1a6e26",
   "metadata": {
    "execution": {
     "iopub.execute_input": "2021-07-25T04:18:56.475162Z",
     "iopub.status.busy": "2021-07-25T04:18:56.474472Z",
     "iopub.status.idle": "2021-07-25T04:18:56.482683Z",
     "shell.execute_reply": "2021-07-25T04:18:56.481862Z",
     "shell.execute_reply.started": "2021-07-10T07:36:05.508181Z"
    },
    "papermill": {
     "duration": 0.024803,
     "end_time": "2021-07-28T06:17:07.179692",
     "exception": false,
     "start_time": "2021-07-28T06:17:07.154889",
     "status": "completed"
    },
    "tags": []
   },
   "outputs": [],
   "source": []
  },
  {
   "cell_type": "markdown",
   "id": "4145be7a",
   "metadata": {
    "papermill": {
     "duration": 0.025168,
     "end_time": "2021-07-28T06:17:07.230045",
     "exception": false,
     "start_time": "2021-07-28T06:17:07.204877",
     "status": "completed"
    },
    "tags": []
   },
   "source": [
    "✅ This completes Set 8: Time Series (Exercises 71-80) of **DatatableTon**: *💯 datatable exercises*\n",
    "\n",
    "#### Set 09 • Native FTRL • Expert • Exercises 81-90\n",
    "\n",
    "| Style | Colab | Kaggle | Binder | GitHub |\n",
    "| ----- | ----- | ------ | ------ | ------ |\n",
    "| Exercises | [![Open in Colab](https://img.shields.io/static/v1?label=&message=Open%20in%20Colab&labelColor=grey&color=blue&logo=google-colab)](https://colab.research.google.com/github/vopani/datatableton/blob/main/notebooks/09_native_ftrl_exercises.ipynb) | [![Open in Kaggle](https://img.shields.io/static/v1?label=&message=Open%20in%20Kaggle&labelColor=grey&color=blue&logo=kaggle)](https://www.kaggle.com/rohanrao/datatableton-native-ftrl-exercises) | [![Open in Binder](https://img.shields.io/static/v1?label=&message=Open%20in%20Binder&labelColor=grey&color=blue&logo=data:image/png;base64,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)](https://mybinder.org/v2/gh/vopani/datatableton/main?filepath=notebooks%2F09_native_ftrl_exercises.ipynb) | [![Open in GitHub](https://img.shields.io/static/v1?label=&message=Open%20in%20GitHub&labelColor=grey&color=blue&logo=github)](https://github.com/vopani/datatableton/blob/main/notebooks/09_native_ftrl_exercises.ipynb) |\n",
    "| Solutions | [![Open in Colab](https://img.shields.io/static/v1?label=&message=Open%20in%20Colab&labelColor=grey&color=blue&logo=google-colab)](https://colab.research.google.com/github/vopani/datatableton/blob/main/notebooks/09_native_ftrl_solutions.ipynb) | [![Open in Kaggle](https://img.shields.io/static/v1?label=&message=Open%20in%20Kaggle&labelColor=grey&color=blue&logo=kaggle)](https://www.kaggle.com/rohanrao/datatableton-native-ftrl-solutions) | [![Open in Binder](https://img.shields.io/static/v1?label=&message=Open%20in%20Binder&labelColor=grey&color=blue&logo=data:image/png;base64,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)](https://mybinder.org/v2/gh/vopani/datatableton/main?filepath=notebooks%2F09_native_ftrl_solutions.ipynb) | [![Open in GitHub](https://img.shields.io/static/v1?label=&message=Open%20in%20GitHub&labelColor=grey&color=blue&logo=github)](https://github.com/vopani/datatableton/blob/main/notebooks/09_native_ftrl_solutions.ipynb) |\n",
    "\n",
    "You can find all the exercises and solutions on [GitHub](https://github.com/vopani/datatableton#exercises-)"
   ]
  }
 ],
 "metadata": {
  "kernelspec": {
   "display_name": "Python 3",
   "language": "python",
   "name": "python3"
  },
  "language_info": {
   "codemirror_mode": {
    "name": "ipython",
    "version": 3
   },
   "file_extension": ".py",
   "mimetype": "text/x-python",
   "name": "python",
   "nbconvert_exporter": "python",
   "pygments_lexer": "ipython3",
   "version": "3.7.10"
  },
  "papermill": {
   "default_parameters": {},
   "duration": 41.776283,
   "end_time": "2021-07-28T06:17:08.545633",
   "environment_variables": {},
   "exception": null,
   "input_path": "__notebook__.ipynb",
   "output_path": "__notebook__.ipynb",
   "parameters": {},
   "start_time": "2021-07-28T06:16:26.769350",
   "version": "2.3.3"
  }
 },
 "nbformat": 4,
 "nbformat_minor": 5
}
