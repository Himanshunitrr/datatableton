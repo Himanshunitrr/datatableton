{
 "cells": [
  {
   "cell_type": "markdown",
   "id": "b864c8d3",
   "metadata": {
    "_cell_guid": "b1076dfc-b9ad-4769-8c92-a6c4dae69d19",
    "_uuid": "8f2839f25d086af736a60e9eeb907d3b93b6e0e5",
    "papermill": {
     "duration": 0.019508,
     "end_time": "2021-07-28T06:16:50.438111",
     "exception": false,
     "start_time": "2021-07-28T06:16:50.418603",
     "status": "completed"
    },
    "tags": []
   },
   "source": [
    "<center>\n",
    "    <h1>DatatableTon</h1>\n",
    "    💯 datatable exercises\n",
    "    <br>\n",
    "    <br>\n",
    "    <a href='https://github.com/vopani/datatableton/blob/master/LICENSE'>\n",
    "        <img src='https://img.shields.io/badge/license-Apache%202.0-blue.svg?logo=apache'>\n",
    "    </a>\n",
    "    <a href='https://github.com/vopani/datatableton'>\n",
    "        <img src='https://img.shields.io/github/stars/vopani/datatableton?color=yellowgreen&logo=github'>\n",
    "    </a>\n",
    "    <a href='https://twitter.com/vopani'>\n",
    "        <img src='https://img.shields.io/twitter/follow/vopani'>\n",
    "    </a>\n",
    "</center>"
   ]
  },
  {
   "cell_type": "markdown",
   "id": "da699796",
   "metadata": {
    "papermill": {
     "duration": 0.016965,
     "end_time": "2021-07-28T06:16:50.472904",
     "exception": false,
     "start_time": "2021-07-28T06:16:50.455939",
     "status": "completed"
    },
    "tags": []
   },
   "source": [
    "<center>\n",
    "    This is Set 8: Time (Exercises 71-80) of <b>DatatableTon</b>: <i>💯 datatable exercises</i>\n",
    "    <br>\n",
    "    You can find all the exercises and solutions on <a href=\"https://github.com/vopani/datatableton#exercises-\">GitHub</a>\n",
    "</center>"
   ]
  },
  {
   "cell_type": "markdown",
   "id": "37ffbeaf",
   "metadata": {
    "papermill": {
     "duration": 0.016777,
     "end_time": "2021-07-28T06:16:50.507115",
     "exception": false,
     "start_time": "2021-07-28T06:16:50.490338",
     "status": "completed"
    },
    "tags": []
   },
   "source": [
    "**Prerequisites**\n",
    "* The `datatable` package should be upgraded to the latest version (or v1.0.0+).\n",
    "* The sample dataset [datatableton_sample.csv](https://github.com/vopani/datatableton/blob/main/data/datatableton_sample.csv) will be used for the exercises."
   ]
  },
  {
   "cell_type": "code",
   "execution_count": 1,
   "id": "399b1a11",
   "metadata": {
    "_kg_hide-output": true,
    "execution": {
     "iopub.execute_input": "2021-07-28T06:16:50.547281Z",
     "iopub.status.busy": "2021-07-28T06:16:50.545819Z",
     "iopub.status.idle": "2021-07-28T06:17:26.538292Z",
     "shell.execute_reply": "2021-07-28T06:17:26.538851Z"
    },
    "papermill": {
     "duration": 36.014855,
     "end_time": "2021-07-28T06:17:26.539165",
     "exception": false,
     "start_time": "2021-07-28T06:16:50.524310",
     "status": "completed"
    },
    "tags": []
   },
   "outputs": [
    {
     "name": "stdout",
     "output_type": "stream",
     "text": [
      "Requirement already satisfied: pip in /opt/conda/lib/python3.7/site-packages (21.1.2)\r\n",
      "Collecting pip\r\n",
      "  Downloading pip-21.2.1-py3-none-any.whl (1.6 MB)\r\n",
      "\u001b[K     |████████████████████████████████| 1.6 MB 1.1 MB/s \r\n",
      "\u001b[?25hInstalling collected packages: pip\r\n",
      "  Attempting uninstall: pip\r\n",
      "    Found existing installation: pip 21.1.2\r\n",
      "    Uninstalling pip-21.1.2:\r\n",
      "      Successfully uninstalled pip-21.1.2\r\n",
      "Successfully installed pip-21.2.1\r\n",
      "\u001b[33mWARNING: Running pip as root will break packages and permissions. You should install packages reliably by using venv: https://pip.pypa.io/warnings/venv\u001b[0m\r\n",
      "Requirement already satisfied: datatable in /opt/conda/lib/python3.7/site-packages (1.0.0)\r\n",
      "\u001b[33mWARNING: Running pip as the 'root' user can result in broken permissions and conflicting behaviour with the system package manager. It is recommended to use a virtual environment instead: https://pip.pypa.io/warnings/venv\u001b[0m\r\n",
      "--2021-07-28 06:17:26--  https://raw.githubusercontent.com/vopani/datatableton/main/data/datatableton_sample.csv\r\n",
      "Resolving raw.githubusercontent.com (raw.githubusercontent.com)... 185.199.110.133, 185.199.111.133, 185.199.109.133, ...\r\n",
      "Connecting to raw.githubusercontent.com (raw.githubusercontent.com)|185.199.110.133|:443... connected.\r\n",
      "HTTP request sent, awaiting response... 200 OK\r\n",
      "Length: 940 [text/plain]\r\n",
      "Saving to: ‘datatableton_sample.csv’\r\n",
      "\r\n",
      "datatableton_sample 100%[===================>]     940  --.-KB/s    in 0s      \r\n",
      "\r\n",
      "2021-07-28 06:17:26 (33.8 MB/s) - ‘datatableton_sample.csv’ saved [940/940]\r\n",
      "\r\n"
     ]
    }
   ],
   "source": [
    "!python3 -m pip install -U pip\n",
    "!python3 -m pip install -U datatable\n",
    "!wget https://raw.githubusercontent.com/vopani/datatableton/main/data/datatableton_sample.csv"
   ]
  },
  {
   "cell_type": "code",
   "execution_count": 2,
   "id": "26dfae0d",
   "metadata": {
    "execution": {
     "iopub.execute_input": "2021-07-28T06:17:26.591858Z",
     "iopub.status.busy": "2021-07-28T06:17:26.591182Z",
     "iopub.status.idle": "2021-07-28T06:17:26.798211Z",
     "shell.execute_reply": "2021-07-28T06:17:26.798707Z",
     "shell.execute_reply.started": "2021-07-10T07:32:37.006903Z"
    },
    "papermill": {
     "duration": 0.235807,
     "end_time": "2021-07-28T06:17:26.798891",
     "exception": false,
     "start_time": "2021-07-28T06:17:26.563084",
     "status": "completed"
    },
    "tags": []
   },
   "outputs": [
    {
     "data": {
      "text/html": [
       "<style type='text/css'>\n",
       ".datatable table.frame { margin-bottom: 0; }\n",
       ".datatable table.frame thead { border-bottom: none; }\n",
       ".datatable table.frame tr.coltypes td {  color: #FFFFFF;  line-height: 6px;  padding: 0 0.5em;}\n",
       ".datatable .bool    { background: #DDDD99; }\n",
       ".datatable .object  { background: #565656; }\n",
       ".datatable .int     { background: #5D9E5D; }\n",
       ".datatable .float   { background: #4040CC; }\n",
       ".datatable .str     { background: #CC4040; }\n",
       ".datatable .time    { background: #40CC40; }\n",
       ".datatable .row_index {  background: var(--jp-border-color3);  border-right: 1px solid var(--jp-border-color0);  color: var(--jp-ui-font-color3);  font-size: 9px;}\n",
       ".datatable .frame tbody td { text-align: left; }\n",
       ".datatable .frame tr.coltypes .row_index {  background: var(--jp-border-color0);}\n",
       ".datatable th:nth-child(2) { padding-left: 12px; }\n",
       ".datatable .hellipsis {  color: var(--jp-cell-editor-border-color);}\n",
       ".datatable .vellipsis {  background: var(--jp-layout-color0);  color: var(--jp-cell-editor-border-color);}\n",
       ".datatable .na {  color: var(--jp-cell-editor-border-color);  font-size: 80%;}\n",
       ".datatable .sp {  opacity: 0.25;}\n",
       ".datatable .footer { font-size: 9px; }\n",
       ".datatable .frame_dimensions {  background: var(--jp-border-color3);  border-top: 1px solid var(--jp-border-color0);  color: var(--jp-ui-font-color3);  display: inline-block;  opacity: 0.6;  padding: 1px 10px 1px 5px;}\n",
       "</style>\n"
      ],
      "text/plain": [
       "<IPython.core.display.HTML object>"
      ]
     },
     "metadata": {},
     "output_type": "display_data"
    },
    {
     "data": {
      "text/html": [
       "<div class='datatable'>\n",
       "  <table class='frame'>\n",
       "  <thead>\n",
       "    <tr class='colnames'><td class='row_index'></td><th>timestamp</th><th>user</th><th>product</th><th>price</th><th>quantity</th></tr>\n",
       "    <tr class='coltypes'><td class='row_index'></td><td class='time' title='time64'>&#x25AA;&#x25AA;&#x25AA;&#x25AA;&#x25AA;&#x25AA;&#x25AA;&#x25AA;</td><td class='str' title='str32'>&#x25AA;&#x25AA;&#x25AA;&#x25AA;</td><td class='str' title='str32'>&#x25AA;&#x25AA;&#x25AA;&#x25AA;</td><td class='float' title='float64'>&#x25AA;&#x25AA;&#x25AA;&#x25AA;&#x25AA;&#x25AA;&#x25AA;&#x25AA;</td><td class='int' title='int32'>&#x25AA;&#x25AA;&#x25AA;&#x25AA;</td></tr>\n",
       "  </thead>\n",
       "  <tbody>\n",
       "    <tr><td class='row_index'>0</td><td>2017-01-01<span class=sp>T</span>13:22:41</td><td>U1</td><td>Eggs</td><td>2.3</td><td>2</td></tr>\n",
       "    <tr><td class='row_index'>1</td><td>2017-05-22<span class=sp>T</span>09:54:21</td><td>U2</td><td>Bread</td><td>0.6</td><td>2</td></tr>\n",
       "    <tr><td class='row_index'>2</td><td>2018-11-09<span class=sp>T</span>15:00:01</td><td>U3</td><td>Banana</td><td>0.7</td><td>1</td></tr>\n",
       "    <tr><td class='row_index'>3</td><td>2018-12-24<span class=sp>T</span>23:03:33</td><td>U1</td><td>Water</td><td>0.2</td><td>1</td></tr>\n",
       "    <tr><td class='row_index'>4</td><td>2019-03-03<span class=sp>T</span>06:21:58</td><td>U4</td><td>Eggs</td><td>2.3</td><td>2</td></tr>\n",
       "    <tr><td class='row_index'>5</td><td>2019-06-17<span class=sp>T</span>16:13:39</td><td>U5</td><td>Grapes</td><td>1.5</td><td>1</td></tr>\n",
       "    <tr><td class='row_index'>6</td><td>2019-07-28<span class=sp>T</span>21:03:11</td><td>U5</td><td>Bread</td><td>0.6</td><td>1</td></tr>\n",
       "    <tr><td class='row_index'>7</td><td>2019-12-05<span class=sp>T</span>04:15:42</td><td>U1</td><td>Banana</td><td>0.7</td><td>2</td></tr>\n",
       "    <tr><td class='row_index'>8</td><td>2020-02-02<span class=sp>T</span>03:45:34</td><td>U3</td><td>Banana</td><td>0.7</td><td>1</td></tr>\n",
       "    <tr><td class='row_index'>9</td><td>2020-03-05<span class=sp>T</span>07:09:12</td><td>U4</td><td>Grapes</td><td>1.5</td><td>1</td></tr>\n",
       "    <tr><td class='row_index'>10</td><td>2020-03-22<span class=sp>T</span>19:29:38</td><td>U1</td><td>Water</td><td>0.2</td><td>1</td></tr>\n",
       "    <tr><td class='row_index'>11</td><td>2020-03-30<span class=sp>T</span>09:44:30</td><td>U4</td><td>Water</td><td>0.2</td><td>1</td></tr>\n",
       "    <tr><td class='row_index'>12</td><td>2020-04-01<span class=sp>T</span>13:21:41</td><td>U1</td><td>Banana</td><td>0.7</td><td>2</td></tr>\n",
       "    <tr><td class='row_index'>13</td><td>2020-07-08<span class=sp>T</span>11:45:25</td><td>U2</td><td>Grapes</td><td>1.5</td><td>1</td></tr>\n",
       "    <tr><td class='row_index'>14</td><td>2020-11-19<span class=sp>T</span>18:51:22</td><td>U5</td><td>Water</td><td>0.2</td><td>1</td></tr>\n",
       "    <tr><td class='row_index'>15</td><td>2020-12-03<span class=sp>T</span>16:23:48</td><td>U3</td><td>Banana</td><td>0.5</td><td>3</td></tr>\n",
       "    <tr><td class='row_index'>16</td><td>2021-02-03<span class=sp>T</span>01:14:40</td><td>U5</td><td>Eggs</td><td>2.1</td><td>4</td></tr>\n",
       "    <tr><td class='row_index'>17</td><td>2021-05-26<span class=sp>T</span>22:42:15</td><td>U3</td><td>Bread</td><td>0.6</td><td>1</td></tr>\n",
       "    <tr><td class='row_index'>18</td><td>2021-06-14<span class=sp>T</span>15:49:28</td><td>U4</td><td>Eggs</td><td>2.3</td><td>2</td></tr>\n",
       "    <tr><td class='row_index'>19</td><td>2021-07-01<span class=sp>T</span>04:37:31</td><td>U4</td><td>Water</td><td>0.3</td><td>1</td></tr>\n",
       "  </tbody>\n",
       "  </table>\n",
       "  <div class='footer'>\n",
       "    <div class='frame_dimensions'>20 rows &times; 5 columns</div>\n",
       "  </div>\n",
       "</div>\n"
      ],
      "text/plain": [
       "<Frame#7f7debca23c0 20x5>"
      ]
     },
     "execution_count": 2,
     "metadata": {},
     "output_type": "execute_result"
    }
   ],
   "source": [
    "import datatable as dt\n",
    "\n",
    "data = dt.fread('datatableton_sample.csv')\n",
    "del data[:, ['age', 'category']]\n",
    "\n",
    "data"
   ]
  },
  {
   "cell_type": "markdown",
   "id": "abc45638",
   "metadata": {
    "papermill": {
     "duration": 0.025049,
     "end_time": "2021-07-28T06:17:26.848973",
     "exception": false,
     "start_time": "2021-07-28T06:17:26.823924",
     "status": "completed"
    },
    "tags": []
   },
   "source": [
    "**Exercise 71: Extract the date from `timestamp` and add it as a column `date` in `data`**"
   ]
  },
  {
   "cell_type": "code",
   "execution_count": 3,
   "id": "0476ec43",
   "metadata": {
    "execution": {
     "iopub.execute_input": "2021-07-28T06:17:26.903326Z",
     "iopub.status.busy": "2021-07-28T06:17:26.902667Z",
     "iopub.status.idle": "2021-07-28T06:17:26.908928Z",
     "shell.execute_reply": "2021-07-28T06:17:26.909447Z",
     "shell.execute_reply.started": "2021-07-10T07:32:45.700223Z"
    },
    "papermill": {
     "duration": 0.035774,
     "end_time": "2021-07-28T06:17:26.909628",
     "exception": false,
     "start_time": "2021-07-28T06:17:26.873854",
     "status": "completed"
    },
    "tags": []
   },
   "outputs": [
    {
     "data": {
      "text/html": [
       "<div class='datatable'>\n",
       "  <table class='frame'>\n",
       "  <thead>\n",
       "    <tr class='colnames'><td class='row_index'></td><th>timestamp</th><th>user</th><th>product</th><th>price</th><th>quantity</th><th>date</th></tr>\n",
       "    <tr class='coltypes'><td class='row_index'></td><td class='time' title='time64'>&#x25AA;&#x25AA;&#x25AA;&#x25AA;&#x25AA;&#x25AA;&#x25AA;&#x25AA;</td><td class='str' title='str32'>&#x25AA;&#x25AA;&#x25AA;&#x25AA;</td><td class='str' title='str32'>&#x25AA;&#x25AA;&#x25AA;&#x25AA;</td><td class='float' title='float64'>&#x25AA;&#x25AA;&#x25AA;&#x25AA;&#x25AA;&#x25AA;&#x25AA;&#x25AA;</td><td class='int' title='int32'>&#x25AA;&#x25AA;&#x25AA;&#x25AA;</td><td class='time' title='date32'>&#x25AA;&#x25AA;&#x25AA;&#x25AA;</td></tr>\n",
       "  </thead>\n",
       "  <tbody>\n",
       "    <tr><td class='row_index'>0</td><td>2017-01-01<span class=sp>T</span>13:22:41</td><td>U1</td><td>Eggs</td><td>2.3</td><td>2</td><td>2017-01-01</td></tr>\n",
       "    <tr><td class='row_index'>1</td><td>2017-05-22<span class=sp>T</span>09:54:21</td><td>U2</td><td>Bread</td><td>0.6</td><td>2</td><td>2017-05-22</td></tr>\n",
       "    <tr><td class='row_index'>2</td><td>2018-11-09<span class=sp>T</span>15:00:01</td><td>U3</td><td>Banana</td><td>0.7</td><td>1</td><td>2018-11-09</td></tr>\n",
       "    <tr><td class='row_index'>3</td><td>2018-12-24<span class=sp>T</span>23:03:33</td><td>U1</td><td>Water</td><td>0.2</td><td>1</td><td>2018-12-24</td></tr>\n",
       "    <tr><td class='row_index'>4</td><td>2019-03-03<span class=sp>T</span>06:21:58</td><td>U4</td><td>Eggs</td><td>2.3</td><td>2</td><td>2019-03-03</td></tr>\n",
       "    <tr><td class='row_index'>5</td><td>2019-06-17<span class=sp>T</span>16:13:39</td><td>U5</td><td>Grapes</td><td>1.5</td><td>1</td><td>2019-06-17</td></tr>\n",
       "    <tr><td class='row_index'>6</td><td>2019-07-28<span class=sp>T</span>21:03:11</td><td>U5</td><td>Bread</td><td>0.6</td><td>1</td><td>2019-07-28</td></tr>\n",
       "    <tr><td class='row_index'>7</td><td>2019-12-05<span class=sp>T</span>04:15:42</td><td>U1</td><td>Banana</td><td>0.7</td><td>2</td><td>2019-12-05</td></tr>\n",
       "    <tr><td class='row_index'>8</td><td>2020-02-02<span class=sp>T</span>03:45:34</td><td>U3</td><td>Banana</td><td>0.7</td><td>1</td><td>2020-02-02</td></tr>\n",
       "    <tr><td class='row_index'>9</td><td>2020-03-05<span class=sp>T</span>07:09:12</td><td>U4</td><td>Grapes</td><td>1.5</td><td>1</td><td>2020-03-05</td></tr>\n",
       "    <tr><td class='row_index'>10</td><td>2020-03-22<span class=sp>T</span>19:29:38</td><td>U1</td><td>Water</td><td>0.2</td><td>1</td><td>2020-03-22</td></tr>\n",
       "    <tr><td class='row_index'>11</td><td>2020-03-30<span class=sp>T</span>09:44:30</td><td>U4</td><td>Water</td><td>0.2</td><td>1</td><td>2020-03-30</td></tr>\n",
       "    <tr><td class='row_index'>12</td><td>2020-04-01<span class=sp>T</span>13:21:41</td><td>U1</td><td>Banana</td><td>0.7</td><td>2</td><td>2020-04-01</td></tr>\n",
       "    <tr><td class='row_index'>13</td><td>2020-07-08<span class=sp>T</span>11:45:25</td><td>U2</td><td>Grapes</td><td>1.5</td><td>1</td><td>2020-07-08</td></tr>\n",
       "    <tr><td class='row_index'>14</td><td>2020-11-19<span class=sp>T</span>18:51:22</td><td>U5</td><td>Water</td><td>0.2</td><td>1</td><td>2020-11-19</td></tr>\n",
       "    <tr><td class='row_index'>15</td><td>2020-12-03<span class=sp>T</span>16:23:48</td><td>U3</td><td>Banana</td><td>0.5</td><td>3</td><td>2020-12-03</td></tr>\n",
       "    <tr><td class='row_index'>16</td><td>2021-02-03<span class=sp>T</span>01:14:40</td><td>U5</td><td>Eggs</td><td>2.1</td><td>4</td><td>2021-02-03</td></tr>\n",
       "    <tr><td class='row_index'>17</td><td>2021-05-26<span class=sp>T</span>22:42:15</td><td>U3</td><td>Bread</td><td>0.6</td><td>1</td><td>2021-05-26</td></tr>\n",
       "    <tr><td class='row_index'>18</td><td>2021-06-14<span class=sp>T</span>15:49:28</td><td>U4</td><td>Eggs</td><td>2.3</td><td>2</td><td>2021-06-14</td></tr>\n",
       "    <tr><td class='row_index'>19</td><td>2021-07-01<span class=sp>T</span>04:37:31</td><td>U4</td><td>Water</td><td>0.3</td><td>1</td><td>2021-07-01</td></tr>\n",
       "  </tbody>\n",
       "  </table>\n",
       "  <div class='footer'>\n",
       "    <div class='frame_dimensions'>20 rows &times; 6 columns</div>\n",
       "  </div>\n",
       "</div>\n"
      ],
      "text/plain": [
       "<Frame#7f7debca23c0 20x6>"
      ]
     },
     "execution_count": 3,
     "metadata": {},
     "output_type": "execute_result"
    }
   ],
   "source": [
    "data['date'] = dt.as_type(dt.f.timestamp, 'date')\n",
    "data"
   ]
  },
  {
   "cell_type": "markdown",
   "id": "8bfaf20a",
   "metadata": {
    "papermill": {
     "duration": 0.025896,
     "end_time": "2021-07-28T06:17:26.961005",
     "exception": false,
     "start_time": "2021-07-28T06:17:26.935109",
     "status": "completed"
    },
    "tags": []
   },
   "source": [
    "**Exercise 72: Extract the year, month, day and day-of-week from `date` and add them as new columns `year`, `month`, `day` and `day_of_week` in `data`**"
   ]
  },
  {
   "cell_type": "code",
   "execution_count": 4,
   "id": "a4018cef",
   "metadata": {
    "execution": {
     "iopub.execute_input": "2021-07-28T06:17:27.015521Z",
     "iopub.status.busy": "2021-07-28T06:17:27.014782Z",
     "iopub.status.idle": "2021-07-28T06:17:27.024470Z",
     "shell.execute_reply": "2021-07-28T06:17:27.023803Z",
     "shell.execute_reply.started": "2021-07-10T07:32:54.58177Z"
    },
    "papermill": {
     "duration": 0.03823,
     "end_time": "2021-07-28T06:17:27.024786",
     "exception": false,
     "start_time": "2021-07-28T06:17:26.986556",
     "status": "completed"
    },
    "tags": []
   },
   "outputs": [
    {
     "data": {
      "text/html": [
       "<div class='datatable'>\n",
       "  <table class='frame'>\n",
       "  <thead>\n",
       "    <tr class='colnames'><td class='row_index'></td><th>timestamp</th><th>user</th><th>product</th><th>price</th><th>quantity</th><th>date</th><th>year</th><th>month</th><th>day</th><th>day_of_week</th></tr>\n",
       "    <tr class='coltypes'><td class='row_index'></td><td class='time' title='time64'>&#x25AA;&#x25AA;&#x25AA;&#x25AA;&#x25AA;&#x25AA;&#x25AA;&#x25AA;</td><td class='str' title='str32'>&#x25AA;&#x25AA;&#x25AA;&#x25AA;</td><td class='str' title='str32'>&#x25AA;&#x25AA;&#x25AA;&#x25AA;</td><td class='float' title='float64'>&#x25AA;&#x25AA;&#x25AA;&#x25AA;&#x25AA;&#x25AA;&#x25AA;&#x25AA;</td><td class='int' title='int32'>&#x25AA;&#x25AA;&#x25AA;&#x25AA;</td><td class='time' title='date32'>&#x25AA;&#x25AA;&#x25AA;&#x25AA;</td><td class='int' title='int32'>&#x25AA;&#x25AA;&#x25AA;&#x25AA;</td><td class='int' title='int32'>&#x25AA;&#x25AA;&#x25AA;&#x25AA;</td><td class='int' title='int32'>&#x25AA;&#x25AA;&#x25AA;&#x25AA;</td><td class='int' title='int32'>&#x25AA;&#x25AA;&#x25AA;&#x25AA;</td></tr>\n",
       "  </thead>\n",
       "  <tbody>\n",
       "    <tr><td class='row_index'>0</td><td>2017-01-01<span class=sp>T</span>13:22:41</td><td>U1</td><td>Eggs</td><td>2.3</td><td>2</td><td>2017-01-01</td><td>2017</td><td>1</td><td>1</td><td>7</td></tr>\n",
       "    <tr><td class='row_index'>1</td><td>2017-05-22<span class=sp>T</span>09:54:21</td><td>U2</td><td>Bread</td><td>0.6</td><td>2</td><td>2017-05-22</td><td>2017</td><td>5</td><td>22</td><td>1</td></tr>\n",
       "    <tr><td class='row_index'>2</td><td>2018-11-09<span class=sp>T</span>15:00:01</td><td>U3</td><td>Banana</td><td>0.7</td><td>1</td><td>2018-11-09</td><td>2018</td><td>11</td><td>9</td><td>5</td></tr>\n",
       "    <tr><td class='row_index'>3</td><td>2018-12-24<span class=sp>T</span>23:03:33</td><td>U1</td><td>Water</td><td>0.2</td><td>1</td><td>2018-12-24</td><td>2018</td><td>12</td><td>24</td><td>1</td></tr>\n",
       "    <tr><td class='row_index'>4</td><td>2019-03-03<span class=sp>T</span>06:21:58</td><td>U4</td><td>Eggs</td><td>2.3</td><td>2</td><td>2019-03-03</td><td>2019</td><td>3</td><td>3</td><td>7</td></tr>\n",
       "    <tr><td class='row_index'>5</td><td>2019-06-17<span class=sp>T</span>16:13:39</td><td>U5</td><td>Grapes</td><td>1.5</td><td>1</td><td>2019-06-17</td><td>2019</td><td>6</td><td>17</td><td>1</td></tr>\n",
       "    <tr><td class='row_index'>6</td><td>2019-07-28<span class=sp>T</span>21:03:11</td><td>U5</td><td>Bread</td><td>0.6</td><td>1</td><td>2019-07-28</td><td>2019</td><td>7</td><td>28</td><td>7</td></tr>\n",
       "    <tr><td class='row_index'>7</td><td>2019-12-05<span class=sp>T</span>04:15:42</td><td>U1</td><td>Banana</td><td>0.7</td><td>2</td><td>2019-12-05</td><td>2019</td><td>12</td><td>5</td><td>4</td></tr>\n",
       "    <tr><td class='row_index'>8</td><td>2020-02-02<span class=sp>T</span>03:45:34</td><td>U3</td><td>Banana</td><td>0.7</td><td>1</td><td>2020-02-02</td><td>2020</td><td>2</td><td>2</td><td>7</td></tr>\n",
       "    <tr><td class='row_index'>9</td><td>2020-03-05<span class=sp>T</span>07:09:12</td><td>U4</td><td>Grapes</td><td>1.5</td><td>1</td><td>2020-03-05</td><td>2020</td><td>3</td><td>5</td><td>4</td></tr>\n",
       "    <tr><td class='row_index'>10</td><td>2020-03-22<span class=sp>T</span>19:29:38</td><td>U1</td><td>Water</td><td>0.2</td><td>1</td><td>2020-03-22</td><td>2020</td><td>3</td><td>22</td><td>7</td></tr>\n",
       "    <tr><td class='row_index'>11</td><td>2020-03-30<span class=sp>T</span>09:44:30</td><td>U4</td><td>Water</td><td>0.2</td><td>1</td><td>2020-03-30</td><td>2020</td><td>3</td><td>30</td><td>1</td></tr>\n",
       "    <tr><td class='row_index'>12</td><td>2020-04-01<span class=sp>T</span>13:21:41</td><td>U1</td><td>Banana</td><td>0.7</td><td>2</td><td>2020-04-01</td><td>2020</td><td>4</td><td>1</td><td>3</td></tr>\n",
       "    <tr><td class='row_index'>13</td><td>2020-07-08<span class=sp>T</span>11:45:25</td><td>U2</td><td>Grapes</td><td>1.5</td><td>1</td><td>2020-07-08</td><td>2020</td><td>7</td><td>8</td><td>3</td></tr>\n",
       "    <tr><td class='row_index'>14</td><td>2020-11-19<span class=sp>T</span>18:51:22</td><td>U5</td><td>Water</td><td>0.2</td><td>1</td><td>2020-11-19</td><td>2020</td><td>11</td><td>19</td><td>4</td></tr>\n",
       "    <tr><td class='row_index'>15</td><td>2020-12-03<span class=sp>T</span>16:23:48</td><td>U3</td><td>Banana</td><td>0.5</td><td>3</td><td>2020-12-03</td><td>2020</td><td>12</td><td>3</td><td>4</td></tr>\n",
       "    <tr><td class='row_index'>16</td><td>2021-02-03<span class=sp>T</span>01:14:40</td><td>U5</td><td>Eggs</td><td>2.1</td><td>4</td><td>2021-02-03</td><td>2021</td><td>2</td><td>3</td><td>3</td></tr>\n",
       "    <tr><td class='row_index'>17</td><td>2021-05-26<span class=sp>T</span>22:42:15</td><td>U3</td><td>Bread</td><td>0.6</td><td>1</td><td>2021-05-26</td><td>2021</td><td>5</td><td>26</td><td>3</td></tr>\n",
       "    <tr><td class='row_index'>18</td><td>2021-06-14<span class=sp>T</span>15:49:28</td><td>U4</td><td>Eggs</td><td>2.3</td><td>2</td><td>2021-06-14</td><td>2021</td><td>6</td><td>14</td><td>1</td></tr>\n",
       "    <tr><td class='row_index'>19</td><td>2021-07-01<span class=sp>T</span>04:37:31</td><td>U4</td><td>Water</td><td>0.3</td><td>1</td><td>2021-07-01</td><td>2021</td><td>7</td><td>1</td><td>4</td></tr>\n",
       "  </tbody>\n",
       "  </table>\n",
       "  <div class='footer'>\n",
       "    <div class='frame_dimensions'>20 rows &times; 10 columns</div>\n",
       "  </div>\n",
       "</div>\n"
      ],
      "text/plain": [
       "<Frame#7f7debca23c0 20x10>"
      ]
     },
     "execution_count": 4,
     "metadata": {},
     "output_type": "execute_result"
    }
   ],
   "source": [
    "data['year'] = dt.time.year(dt.f.date)\n",
    "data['month'] = dt.time.month(dt.f.date)\n",
    "data['day'] = dt.time.day(dt.f.date)\n",
    "data['day_of_week'] = dt.time.day_of_week(dt.f.date)\n",
    "data"
   ]
  },
  {
   "cell_type": "markdown",
   "id": "605870b2",
   "metadata": {
    "papermill": {
     "duration": 0.027047,
     "end_time": "2021-07-28T06:17:27.078424",
     "exception": false,
     "start_time": "2021-07-28T06:17:27.051377",
     "status": "completed"
    },
    "tags": []
   },
   "source": [
    "**Exercise 73: Extract the hour, minute and second from `timestamp` and add them as new columns `hour`, `minute` and `second` in `data`**"
   ]
  },
  {
   "cell_type": "code",
   "execution_count": 5,
   "id": "6c23ee91",
   "metadata": {
    "execution": {
     "iopub.execute_input": "2021-07-28T06:17:27.141262Z",
     "iopub.status.busy": "2021-07-28T06:17:27.140274Z",
     "iopub.status.idle": "2021-07-28T06:17:27.144009Z",
     "shell.execute_reply": "2021-07-28T06:17:27.144517Z",
     "shell.execute_reply.started": "2021-07-10T07:33:04.025822Z"
    },
    "papermill": {
     "duration": 0.037778,
     "end_time": "2021-07-28T06:17:27.144728",
     "exception": false,
     "start_time": "2021-07-28T06:17:27.106950",
     "status": "completed"
    },
    "tags": []
   },
   "outputs": [
    {
     "data": {
      "text/html": [
       "<div class='datatable'>\n",
       "  <table class='frame'>\n",
       "  <thead>\n",
       "    <tr class='colnames'><td class='row_index'></td><th>timestamp</th><th>user</th><th>product</th><th>price</th><th>quantity</th><th>date</th><th>year</th><th>month</th><th>day</th><th>day_of_week</th><th>hour</th><th>minute</th><th>second</th></tr>\n",
       "    <tr class='coltypes'><td class='row_index'></td><td class='time' title='time64'>&#x25AA;&#x25AA;&#x25AA;&#x25AA;&#x25AA;&#x25AA;&#x25AA;&#x25AA;</td><td class='str' title='str32'>&#x25AA;&#x25AA;&#x25AA;&#x25AA;</td><td class='str' title='str32'>&#x25AA;&#x25AA;&#x25AA;&#x25AA;</td><td class='float' title='float64'>&#x25AA;&#x25AA;&#x25AA;&#x25AA;&#x25AA;&#x25AA;&#x25AA;&#x25AA;</td><td class='int' title='int32'>&#x25AA;&#x25AA;&#x25AA;&#x25AA;</td><td class='time' title='date32'>&#x25AA;&#x25AA;&#x25AA;&#x25AA;</td><td class='int' title='int32'>&#x25AA;&#x25AA;&#x25AA;&#x25AA;</td><td class='int' title='int32'>&#x25AA;&#x25AA;&#x25AA;&#x25AA;</td><td class='int' title='int32'>&#x25AA;&#x25AA;&#x25AA;&#x25AA;</td><td class='int' title='int32'>&#x25AA;&#x25AA;&#x25AA;&#x25AA;</td><td class='int' title='int32'>&#x25AA;&#x25AA;&#x25AA;&#x25AA;</td><td class='int' title='int32'>&#x25AA;&#x25AA;&#x25AA;&#x25AA;</td><td class='int' title='int32'>&#x25AA;&#x25AA;&#x25AA;&#x25AA;</td></tr>\n",
       "  </thead>\n",
       "  <tbody>\n",
       "    <tr><td class='row_index'>0</td><td>2017-01-01<span class=sp>T</span>13:22:41</td><td>U1</td><td>Eggs</td><td>2.3</td><td>2</td><td>2017-01-01</td><td>2017</td><td>1</td><td>1</td><td>7</td><td>13</td><td>22</td><td>41</td></tr>\n",
       "    <tr><td class='row_index'>1</td><td>2017-05-22<span class=sp>T</span>09:54:21</td><td>U2</td><td>Bread</td><td>0.6</td><td>2</td><td>2017-05-22</td><td>2017</td><td>5</td><td>22</td><td>1</td><td>9</td><td>54</td><td>21</td></tr>\n",
       "    <tr><td class='row_index'>2</td><td>2018-11-09<span class=sp>T</span>15:00:01</td><td>U3</td><td>Banana</td><td>0.7</td><td>1</td><td>2018-11-09</td><td>2018</td><td>11</td><td>9</td><td>5</td><td>15</td><td>0</td><td>1</td></tr>\n",
       "    <tr><td class='row_index'>3</td><td>2018-12-24<span class=sp>T</span>23:03:33</td><td>U1</td><td>Water</td><td>0.2</td><td>1</td><td>2018-12-24</td><td>2018</td><td>12</td><td>24</td><td>1</td><td>23</td><td>3</td><td>33</td></tr>\n",
       "    <tr><td class='row_index'>4</td><td>2019-03-03<span class=sp>T</span>06:21:58</td><td>U4</td><td>Eggs</td><td>2.3</td><td>2</td><td>2019-03-03</td><td>2019</td><td>3</td><td>3</td><td>7</td><td>6</td><td>21</td><td>58</td></tr>\n",
       "    <tr><td class='row_index'>5</td><td>2019-06-17<span class=sp>T</span>16:13:39</td><td>U5</td><td>Grapes</td><td>1.5</td><td>1</td><td>2019-06-17</td><td>2019</td><td>6</td><td>17</td><td>1</td><td>16</td><td>13</td><td>39</td></tr>\n",
       "    <tr><td class='row_index'>6</td><td>2019-07-28<span class=sp>T</span>21:03:11</td><td>U5</td><td>Bread</td><td>0.6</td><td>1</td><td>2019-07-28</td><td>2019</td><td>7</td><td>28</td><td>7</td><td>21</td><td>3</td><td>11</td></tr>\n",
       "    <tr><td class='row_index'>7</td><td>2019-12-05<span class=sp>T</span>04:15:42</td><td>U1</td><td>Banana</td><td>0.7</td><td>2</td><td>2019-12-05</td><td>2019</td><td>12</td><td>5</td><td>4</td><td>4</td><td>15</td><td>42</td></tr>\n",
       "    <tr><td class='row_index'>8</td><td>2020-02-02<span class=sp>T</span>03:45:34</td><td>U3</td><td>Banana</td><td>0.7</td><td>1</td><td>2020-02-02</td><td>2020</td><td>2</td><td>2</td><td>7</td><td>3</td><td>45</td><td>34</td></tr>\n",
       "    <tr><td class='row_index'>9</td><td>2020-03-05<span class=sp>T</span>07:09:12</td><td>U4</td><td>Grapes</td><td>1.5</td><td>1</td><td>2020-03-05</td><td>2020</td><td>3</td><td>5</td><td>4</td><td>7</td><td>9</td><td>12</td></tr>\n",
       "    <tr><td class='row_index'>10</td><td>2020-03-22<span class=sp>T</span>19:29:38</td><td>U1</td><td>Water</td><td>0.2</td><td>1</td><td>2020-03-22</td><td>2020</td><td>3</td><td>22</td><td>7</td><td>19</td><td>29</td><td>38</td></tr>\n",
       "    <tr><td class='row_index'>11</td><td>2020-03-30<span class=sp>T</span>09:44:30</td><td>U4</td><td>Water</td><td>0.2</td><td>1</td><td>2020-03-30</td><td>2020</td><td>3</td><td>30</td><td>1</td><td>9</td><td>44</td><td>30</td></tr>\n",
       "    <tr><td class='row_index'>12</td><td>2020-04-01<span class=sp>T</span>13:21:41</td><td>U1</td><td>Banana</td><td>0.7</td><td>2</td><td>2020-04-01</td><td>2020</td><td>4</td><td>1</td><td>3</td><td>13</td><td>21</td><td>41</td></tr>\n",
       "    <tr><td class='row_index'>13</td><td>2020-07-08<span class=sp>T</span>11:45:25</td><td>U2</td><td>Grapes</td><td>1.5</td><td>1</td><td>2020-07-08</td><td>2020</td><td>7</td><td>8</td><td>3</td><td>11</td><td>45</td><td>25</td></tr>\n",
       "    <tr><td class='row_index'>14</td><td>2020-11-19<span class=sp>T</span>18:51:22</td><td>U5</td><td>Water</td><td>0.2</td><td>1</td><td>2020-11-19</td><td>2020</td><td>11</td><td>19</td><td>4</td><td>18</td><td>51</td><td>22</td></tr>\n",
       "    <tr><td class='row_index'>15</td><td>2020-12-03<span class=sp>T</span>16:23:48</td><td>U3</td><td>Banana</td><td>0.5</td><td>3</td><td>2020-12-03</td><td>2020</td><td>12</td><td>3</td><td>4</td><td>16</td><td>23</td><td>48</td></tr>\n",
       "    <tr><td class='row_index'>16</td><td>2021-02-03<span class=sp>T</span>01:14:40</td><td>U5</td><td>Eggs</td><td>2.1</td><td>4</td><td>2021-02-03</td><td>2021</td><td>2</td><td>3</td><td>3</td><td>1</td><td>14</td><td>40</td></tr>\n",
       "    <tr><td class='row_index'>17</td><td>2021-05-26<span class=sp>T</span>22:42:15</td><td>U3</td><td>Bread</td><td>0.6</td><td>1</td><td>2021-05-26</td><td>2021</td><td>5</td><td>26</td><td>3</td><td>22</td><td>42</td><td>15</td></tr>\n",
       "    <tr><td class='row_index'>18</td><td>2021-06-14<span class=sp>T</span>15:49:28</td><td>U4</td><td>Eggs</td><td>2.3</td><td>2</td><td>2021-06-14</td><td>2021</td><td>6</td><td>14</td><td>1</td><td>15</td><td>49</td><td>28</td></tr>\n",
       "    <tr><td class='row_index'>19</td><td>2021-07-01<span class=sp>T</span>04:37:31</td><td>U4</td><td>Water</td><td>0.3</td><td>1</td><td>2021-07-01</td><td>2021</td><td>7</td><td>1</td><td>4</td><td>4</td><td>37</td><td>31</td></tr>\n",
       "  </tbody>\n",
       "  </table>\n",
       "  <div class='footer'>\n",
       "    <div class='frame_dimensions'>20 rows &times; 13 columns</div>\n",
       "  </div>\n",
       "</div>\n"
      ],
      "text/plain": [
       "<Frame#7f7debca23c0 20x13>"
      ]
     },
     "execution_count": 5,
     "metadata": {},
     "output_type": "execute_result"
    }
   ],
   "source": [
    "data['hour'] = dt.time.hour(dt.f.timestamp)\n",
    "data['minute'] = dt.time.minute(dt.f.timestamp)\n",
    "data['second'] = dt.time.second(dt.f.timestamp)\n",
    "data"
   ]
  },
  {
   "cell_type": "markdown",
   "id": "1c31db6d",
   "metadata": {
    "papermill": {
     "duration": 0.026313,
     "end_time": "2021-07-28T06:17:27.198102",
     "exception": false,
     "start_time": "2021-07-28T06:17:27.171789",
     "status": "completed"
    },
    "tags": []
   },
   "source": [
    "**Exercise 74: Create a date column `date_new` in `data` using the `year`, `month` and `day` columns**"
   ]
  },
  {
   "cell_type": "code",
   "execution_count": 6,
   "id": "2c310aa4",
   "metadata": {
    "execution": {
     "iopub.execute_input": "2021-07-28T06:17:27.255176Z",
     "iopub.status.busy": "2021-07-28T06:17:27.254491Z",
     "iopub.status.idle": "2021-07-28T06:17:27.261608Z",
     "shell.execute_reply": "2021-07-28T06:17:27.260955Z",
     "shell.execute_reply.started": "2021-07-10T07:33:13.028877Z"
    },
    "papermill": {
     "duration": 0.036815,
     "end_time": "2021-07-28T06:17:27.261752",
     "exception": false,
     "start_time": "2021-07-28T06:17:27.224937",
     "status": "completed"
    },
    "tags": []
   },
   "outputs": [
    {
     "data": {
      "text/html": [
       "<div class='datatable'>\n",
       "  <table class='frame'>\n",
       "  <thead>\n",
       "    <tr class='colnames'><td class='row_index'></td><th>timestamp</th><th>user</th><th>product</th><th>price</th><th>quantity</th><th>date</th><th>year</th><th>month</th><th>day</th><th>day_of_week</th><th>hour</th><th>minute</th><th>second</th><th>date_new</th></tr>\n",
       "    <tr class='coltypes'><td class='row_index'></td><td class='time' title='time64'>&#x25AA;&#x25AA;&#x25AA;&#x25AA;&#x25AA;&#x25AA;&#x25AA;&#x25AA;</td><td class='str' title='str32'>&#x25AA;&#x25AA;&#x25AA;&#x25AA;</td><td class='str' title='str32'>&#x25AA;&#x25AA;&#x25AA;&#x25AA;</td><td class='float' title='float64'>&#x25AA;&#x25AA;&#x25AA;&#x25AA;&#x25AA;&#x25AA;&#x25AA;&#x25AA;</td><td class='int' title='int32'>&#x25AA;&#x25AA;&#x25AA;&#x25AA;</td><td class='time' title='date32'>&#x25AA;&#x25AA;&#x25AA;&#x25AA;</td><td class='int' title='int32'>&#x25AA;&#x25AA;&#x25AA;&#x25AA;</td><td class='int' title='int32'>&#x25AA;&#x25AA;&#x25AA;&#x25AA;</td><td class='int' title='int32'>&#x25AA;&#x25AA;&#x25AA;&#x25AA;</td><td class='int' title='int32'>&#x25AA;&#x25AA;&#x25AA;&#x25AA;</td><td class='int' title='int32'>&#x25AA;&#x25AA;&#x25AA;&#x25AA;</td><td class='int' title='int32'>&#x25AA;&#x25AA;&#x25AA;&#x25AA;</td><td class='int' title='int32'>&#x25AA;&#x25AA;&#x25AA;&#x25AA;</td><td class='time' title='date32'>&#x25AA;&#x25AA;&#x25AA;&#x25AA;</td></tr>\n",
       "  </thead>\n",
       "  <tbody>\n",
       "    <tr><td class='row_index'>0</td><td>2017-01-01<span class=sp>T</span>13:22:41</td><td>U1</td><td>Eggs</td><td>2.3</td><td>2</td><td>2017-01-01</td><td>2017</td><td>1</td><td>1</td><td>7</td><td>13</td><td>22</td><td>41</td><td>2017-01-01</td></tr>\n",
       "    <tr><td class='row_index'>1</td><td>2017-05-22<span class=sp>T</span>09:54:21</td><td>U2</td><td>Bread</td><td>0.6</td><td>2</td><td>2017-05-22</td><td>2017</td><td>5</td><td>22</td><td>1</td><td>9</td><td>54</td><td>21</td><td>2017-05-22</td></tr>\n",
       "    <tr><td class='row_index'>2</td><td>2018-11-09<span class=sp>T</span>15:00:01</td><td>U3</td><td>Banana</td><td>0.7</td><td>1</td><td>2018-11-09</td><td>2018</td><td>11</td><td>9</td><td>5</td><td>15</td><td>0</td><td>1</td><td>2018-11-09</td></tr>\n",
       "    <tr><td class='row_index'>3</td><td>2018-12-24<span class=sp>T</span>23:03:33</td><td>U1</td><td>Water</td><td>0.2</td><td>1</td><td>2018-12-24</td><td>2018</td><td>12</td><td>24</td><td>1</td><td>23</td><td>3</td><td>33</td><td>2018-12-24</td></tr>\n",
       "    <tr><td class='row_index'>4</td><td>2019-03-03<span class=sp>T</span>06:21:58</td><td>U4</td><td>Eggs</td><td>2.3</td><td>2</td><td>2019-03-03</td><td>2019</td><td>3</td><td>3</td><td>7</td><td>6</td><td>21</td><td>58</td><td>2019-03-03</td></tr>\n",
       "    <tr><td class='row_index'>5</td><td>2019-06-17<span class=sp>T</span>16:13:39</td><td>U5</td><td>Grapes</td><td>1.5</td><td>1</td><td>2019-06-17</td><td>2019</td><td>6</td><td>17</td><td>1</td><td>16</td><td>13</td><td>39</td><td>2019-06-17</td></tr>\n",
       "    <tr><td class='row_index'>6</td><td>2019-07-28<span class=sp>T</span>21:03:11</td><td>U5</td><td>Bread</td><td>0.6</td><td>1</td><td>2019-07-28</td><td>2019</td><td>7</td><td>28</td><td>7</td><td>21</td><td>3</td><td>11</td><td>2019-07-28</td></tr>\n",
       "    <tr><td class='row_index'>7</td><td>2019-12-05<span class=sp>T</span>04:15:42</td><td>U1</td><td>Banana</td><td>0.7</td><td>2</td><td>2019-12-05</td><td>2019</td><td>12</td><td>5</td><td>4</td><td>4</td><td>15</td><td>42</td><td>2019-12-05</td></tr>\n",
       "    <tr><td class='row_index'>8</td><td>2020-02-02<span class=sp>T</span>03:45:34</td><td>U3</td><td>Banana</td><td>0.7</td><td>1</td><td>2020-02-02</td><td>2020</td><td>2</td><td>2</td><td>7</td><td>3</td><td>45</td><td>34</td><td>2020-02-02</td></tr>\n",
       "    <tr><td class='row_index'>9</td><td>2020-03-05<span class=sp>T</span>07:09:12</td><td>U4</td><td>Grapes</td><td>1.5</td><td>1</td><td>2020-03-05</td><td>2020</td><td>3</td><td>5</td><td>4</td><td>7</td><td>9</td><td>12</td><td>2020-03-05</td></tr>\n",
       "    <tr><td class='row_index'>10</td><td>2020-03-22<span class=sp>T</span>19:29:38</td><td>U1</td><td>Water</td><td>0.2</td><td>1</td><td>2020-03-22</td><td>2020</td><td>3</td><td>22</td><td>7</td><td>19</td><td>29</td><td>38</td><td>2020-03-22</td></tr>\n",
       "    <tr><td class='row_index'>11</td><td>2020-03-30<span class=sp>T</span>09:44:30</td><td>U4</td><td>Water</td><td>0.2</td><td>1</td><td>2020-03-30</td><td>2020</td><td>3</td><td>30</td><td>1</td><td>9</td><td>44</td><td>30</td><td>2020-03-30</td></tr>\n",
       "    <tr><td class='row_index'>12</td><td>2020-04-01<span class=sp>T</span>13:21:41</td><td>U1</td><td>Banana</td><td>0.7</td><td>2</td><td>2020-04-01</td><td>2020</td><td>4</td><td>1</td><td>3</td><td>13</td><td>21</td><td>41</td><td>2020-04-01</td></tr>\n",
       "    <tr><td class='row_index'>13</td><td>2020-07-08<span class=sp>T</span>11:45:25</td><td>U2</td><td>Grapes</td><td>1.5</td><td>1</td><td>2020-07-08</td><td>2020</td><td>7</td><td>8</td><td>3</td><td>11</td><td>45</td><td>25</td><td>2020-07-08</td></tr>\n",
       "    <tr><td class='row_index'>14</td><td>2020-11-19<span class=sp>T</span>18:51:22</td><td>U5</td><td>Water</td><td>0.2</td><td>1</td><td>2020-11-19</td><td>2020</td><td>11</td><td>19</td><td>4</td><td>18</td><td>51</td><td>22</td><td>2020-11-19</td></tr>\n",
       "    <tr><td class='row_index'>15</td><td>2020-12-03<span class=sp>T</span>16:23:48</td><td>U3</td><td>Banana</td><td>0.5</td><td>3</td><td>2020-12-03</td><td>2020</td><td>12</td><td>3</td><td>4</td><td>16</td><td>23</td><td>48</td><td>2020-12-03</td></tr>\n",
       "    <tr><td class='row_index'>16</td><td>2021-02-03<span class=sp>T</span>01:14:40</td><td>U5</td><td>Eggs</td><td>2.1</td><td>4</td><td>2021-02-03</td><td>2021</td><td>2</td><td>3</td><td>3</td><td>1</td><td>14</td><td>40</td><td>2021-02-03</td></tr>\n",
       "    <tr><td class='row_index'>17</td><td>2021-05-26<span class=sp>T</span>22:42:15</td><td>U3</td><td>Bread</td><td>0.6</td><td>1</td><td>2021-05-26</td><td>2021</td><td>5</td><td>26</td><td>3</td><td>22</td><td>42</td><td>15</td><td>2021-05-26</td></tr>\n",
       "    <tr><td class='row_index'>18</td><td>2021-06-14<span class=sp>T</span>15:49:28</td><td>U4</td><td>Eggs</td><td>2.3</td><td>2</td><td>2021-06-14</td><td>2021</td><td>6</td><td>14</td><td>1</td><td>15</td><td>49</td><td>28</td><td>2021-06-14</td></tr>\n",
       "    <tr><td class='row_index'>19</td><td>2021-07-01<span class=sp>T</span>04:37:31</td><td>U4</td><td>Water</td><td>0.3</td><td>1</td><td>2021-07-01</td><td>2021</td><td>7</td><td>1</td><td>4</td><td>4</td><td>37</td><td>31</td><td>2021-07-01</td></tr>\n",
       "  </tbody>\n",
       "  </table>\n",
       "  <div class='footer'>\n",
       "    <div class='frame_dimensions'>20 rows &times; 14 columns</div>\n",
       "  </div>\n",
       "</div>\n"
      ],
      "text/plain": [
       "<Frame#7f7debca23c0 20x14>"
      ]
     },
     "execution_count": 6,
     "metadata": {},
     "output_type": "execute_result"
    }
   ],
   "source": [
    "data['date_new'] = dt.time.ymd(dt.f.year, dt.f.month, dt.f.day)\n",
    "data"
   ]
  },
  {
   "cell_type": "markdown",
   "id": "dd06f082",
   "metadata": {
    "papermill": {
     "duration": 0.026719,
     "end_time": "2021-07-28T06:17:27.315726",
     "exception": false,
     "start_time": "2021-07-28T06:17:27.289007",
     "status": "completed"
    },
    "tags": []
   },
   "source": [
    "**Exercise 75: Create a time column `time_new` in `data` using the `year`, `month`, `day`, `hour`, `minute` and `second` columns**"
   ]
  },
  {
   "cell_type": "code",
   "execution_count": 7,
   "id": "6199418a",
   "metadata": {
    "execution": {
     "iopub.execute_input": "2021-07-28T06:17:27.378676Z",
     "iopub.status.busy": "2021-07-28T06:17:27.377723Z",
     "iopub.status.idle": "2021-07-28T06:17:27.383373Z",
     "shell.execute_reply": "2021-07-28T06:17:27.382509Z",
     "shell.execute_reply.started": "2021-07-10T07:33:17.386004Z"
    },
    "papermill": {
     "duration": 0.039667,
     "end_time": "2021-07-28T06:17:27.383547",
     "exception": false,
     "start_time": "2021-07-28T06:17:27.343880",
     "status": "completed"
    },
    "tags": []
   },
   "outputs": [
    {
     "data": {
      "text/html": [
       "<div class='datatable'>\n",
       "  <table class='frame'>\n",
       "  <thead>\n",
       "    <tr class='colnames'><td class='row_index'></td><th>timestamp</th><th>user</th><th>product</th><th>price</th><th>quantity</th><th>date</th><th>year</th><th>month</th><th>day</th><th>day_of_week</th><th>hour</th><th>minute</th><th>second</th><th>date_new</th><th>time_new</th></tr>\n",
       "    <tr class='coltypes'><td class='row_index'></td><td class='time' title='time64'>&#x25AA;&#x25AA;&#x25AA;&#x25AA;&#x25AA;&#x25AA;&#x25AA;&#x25AA;</td><td class='str' title='str32'>&#x25AA;&#x25AA;&#x25AA;&#x25AA;</td><td class='str' title='str32'>&#x25AA;&#x25AA;&#x25AA;&#x25AA;</td><td class='float' title='float64'>&#x25AA;&#x25AA;&#x25AA;&#x25AA;&#x25AA;&#x25AA;&#x25AA;&#x25AA;</td><td class='int' title='int32'>&#x25AA;&#x25AA;&#x25AA;&#x25AA;</td><td class='time' title='date32'>&#x25AA;&#x25AA;&#x25AA;&#x25AA;</td><td class='int' title='int32'>&#x25AA;&#x25AA;&#x25AA;&#x25AA;</td><td class='int' title='int32'>&#x25AA;&#x25AA;&#x25AA;&#x25AA;</td><td class='int' title='int32'>&#x25AA;&#x25AA;&#x25AA;&#x25AA;</td><td class='int' title='int32'>&#x25AA;&#x25AA;&#x25AA;&#x25AA;</td><td class='int' title='int32'>&#x25AA;&#x25AA;&#x25AA;&#x25AA;</td><td class='int' title='int32'>&#x25AA;&#x25AA;&#x25AA;&#x25AA;</td><td class='int' title='int32'>&#x25AA;&#x25AA;&#x25AA;&#x25AA;</td><td class='time' title='date32'>&#x25AA;&#x25AA;&#x25AA;&#x25AA;</td><td class='time' title='time64'>&#x25AA;&#x25AA;&#x25AA;&#x25AA;&#x25AA;&#x25AA;&#x25AA;&#x25AA;</td></tr>\n",
       "  </thead>\n",
       "  <tbody>\n",
       "    <tr><td class='row_index'>0</td><td>2017-01-01<span class=sp>T</span>13:22:41</td><td>U1</td><td>Eggs</td><td>2.3</td><td>2</td><td>2017-01-01</td><td>2017</td><td>1</td><td>1</td><td>7</td><td>13</td><td>22</td><td>41</td><td>2017-01-01</td><td>2017-01-01<span class=sp>T</span>13:22:41</td></tr>\n",
       "    <tr><td class='row_index'>1</td><td>2017-05-22<span class=sp>T</span>09:54:21</td><td>U2</td><td>Bread</td><td>0.6</td><td>2</td><td>2017-05-22</td><td>2017</td><td>5</td><td>22</td><td>1</td><td>9</td><td>54</td><td>21</td><td>2017-05-22</td><td>2017-05-22<span class=sp>T</span>09:54:21</td></tr>\n",
       "    <tr><td class='row_index'>2</td><td>2018-11-09<span class=sp>T</span>15:00:01</td><td>U3</td><td>Banana</td><td>0.7</td><td>1</td><td>2018-11-09</td><td>2018</td><td>11</td><td>9</td><td>5</td><td>15</td><td>0</td><td>1</td><td>2018-11-09</td><td>2018-11-09<span class=sp>T</span>15:00:01</td></tr>\n",
       "    <tr><td class='row_index'>3</td><td>2018-12-24<span class=sp>T</span>23:03:33</td><td>U1</td><td>Water</td><td>0.2</td><td>1</td><td>2018-12-24</td><td>2018</td><td>12</td><td>24</td><td>1</td><td>23</td><td>3</td><td>33</td><td>2018-12-24</td><td>2018-12-24<span class=sp>T</span>23:03:33</td></tr>\n",
       "    <tr><td class='row_index'>4</td><td>2019-03-03<span class=sp>T</span>06:21:58</td><td>U4</td><td>Eggs</td><td>2.3</td><td>2</td><td>2019-03-03</td><td>2019</td><td>3</td><td>3</td><td>7</td><td>6</td><td>21</td><td>58</td><td>2019-03-03</td><td>2019-03-03<span class=sp>T</span>06:21:58</td></tr>\n",
       "    <tr><td class='row_index'>5</td><td>2019-06-17<span class=sp>T</span>16:13:39</td><td>U5</td><td>Grapes</td><td>1.5</td><td>1</td><td>2019-06-17</td><td>2019</td><td>6</td><td>17</td><td>1</td><td>16</td><td>13</td><td>39</td><td>2019-06-17</td><td>2019-06-17<span class=sp>T</span>16:13:39</td></tr>\n",
       "    <tr><td class='row_index'>6</td><td>2019-07-28<span class=sp>T</span>21:03:11</td><td>U5</td><td>Bread</td><td>0.6</td><td>1</td><td>2019-07-28</td><td>2019</td><td>7</td><td>28</td><td>7</td><td>21</td><td>3</td><td>11</td><td>2019-07-28</td><td>2019-07-28<span class=sp>T</span>21:03:11</td></tr>\n",
       "    <tr><td class='row_index'>7</td><td>2019-12-05<span class=sp>T</span>04:15:42</td><td>U1</td><td>Banana</td><td>0.7</td><td>2</td><td>2019-12-05</td><td>2019</td><td>12</td><td>5</td><td>4</td><td>4</td><td>15</td><td>42</td><td>2019-12-05</td><td>2019-12-05<span class=sp>T</span>04:15:42</td></tr>\n",
       "    <tr><td class='row_index'>8</td><td>2020-02-02<span class=sp>T</span>03:45:34</td><td>U3</td><td>Banana</td><td>0.7</td><td>1</td><td>2020-02-02</td><td>2020</td><td>2</td><td>2</td><td>7</td><td>3</td><td>45</td><td>34</td><td>2020-02-02</td><td>2020-02-02<span class=sp>T</span>03:45:34</td></tr>\n",
       "    <tr><td class='row_index'>9</td><td>2020-03-05<span class=sp>T</span>07:09:12</td><td>U4</td><td>Grapes</td><td>1.5</td><td>1</td><td>2020-03-05</td><td>2020</td><td>3</td><td>5</td><td>4</td><td>7</td><td>9</td><td>12</td><td>2020-03-05</td><td>2020-03-05<span class=sp>T</span>07:09:12</td></tr>\n",
       "    <tr><td class='row_index'>10</td><td>2020-03-22<span class=sp>T</span>19:29:38</td><td>U1</td><td>Water</td><td>0.2</td><td>1</td><td>2020-03-22</td><td>2020</td><td>3</td><td>22</td><td>7</td><td>19</td><td>29</td><td>38</td><td>2020-03-22</td><td>2020-03-22<span class=sp>T</span>19:29:38</td></tr>\n",
       "    <tr><td class='row_index'>11</td><td>2020-03-30<span class=sp>T</span>09:44:30</td><td>U4</td><td>Water</td><td>0.2</td><td>1</td><td>2020-03-30</td><td>2020</td><td>3</td><td>30</td><td>1</td><td>9</td><td>44</td><td>30</td><td>2020-03-30</td><td>2020-03-30<span class=sp>T</span>09:44:30</td></tr>\n",
       "    <tr><td class='row_index'>12</td><td>2020-04-01<span class=sp>T</span>13:21:41</td><td>U1</td><td>Banana</td><td>0.7</td><td>2</td><td>2020-04-01</td><td>2020</td><td>4</td><td>1</td><td>3</td><td>13</td><td>21</td><td>41</td><td>2020-04-01</td><td>2020-04-01<span class=sp>T</span>13:21:41</td></tr>\n",
       "    <tr><td class='row_index'>13</td><td>2020-07-08<span class=sp>T</span>11:45:25</td><td>U2</td><td>Grapes</td><td>1.5</td><td>1</td><td>2020-07-08</td><td>2020</td><td>7</td><td>8</td><td>3</td><td>11</td><td>45</td><td>25</td><td>2020-07-08</td><td>2020-07-08<span class=sp>T</span>11:45:25</td></tr>\n",
       "    <tr><td class='row_index'>14</td><td>2020-11-19<span class=sp>T</span>18:51:22</td><td>U5</td><td>Water</td><td>0.2</td><td>1</td><td>2020-11-19</td><td>2020</td><td>11</td><td>19</td><td>4</td><td>18</td><td>51</td><td>22</td><td>2020-11-19</td><td>2020-11-19<span class=sp>T</span>18:51:22</td></tr>\n",
       "    <tr><td class='row_index'>15</td><td>2020-12-03<span class=sp>T</span>16:23:48</td><td>U3</td><td>Banana</td><td>0.5</td><td>3</td><td>2020-12-03</td><td>2020</td><td>12</td><td>3</td><td>4</td><td>16</td><td>23</td><td>48</td><td>2020-12-03</td><td>2020-12-03<span class=sp>T</span>16:23:48</td></tr>\n",
       "    <tr><td class='row_index'>16</td><td>2021-02-03<span class=sp>T</span>01:14:40</td><td>U5</td><td>Eggs</td><td>2.1</td><td>4</td><td>2021-02-03</td><td>2021</td><td>2</td><td>3</td><td>3</td><td>1</td><td>14</td><td>40</td><td>2021-02-03</td><td>2021-02-03<span class=sp>T</span>01:14:40</td></tr>\n",
       "    <tr><td class='row_index'>17</td><td>2021-05-26<span class=sp>T</span>22:42:15</td><td>U3</td><td>Bread</td><td>0.6</td><td>1</td><td>2021-05-26</td><td>2021</td><td>5</td><td>26</td><td>3</td><td>22</td><td>42</td><td>15</td><td>2021-05-26</td><td>2021-05-26<span class=sp>T</span>22:42:15</td></tr>\n",
       "    <tr><td class='row_index'>18</td><td>2021-06-14<span class=sp>T</span>15:49:28</td><td>U4</td><td>Eggs</td><td>2.3</td><td>2</td><td>2021-06-14</td><td>2021</td><td>6</td><td>14</td><td>1</td><td>15</td><td>49</td><td>28</td><td>2021-06-14</td><td>2021-06-14<span class=sp>T</span>15:49:28</td></tr>\n",
       "    <tr><td class='row_index'>19</td><td>2021-07-01<span class=sp>T</span>04:37:31</td><td>U4</td><td>Water</td><td>0.3</td><td>1</td><td>2021-07-01</td><td>2021</td><td>7</td><td>1</td><td>4</td><td>4</td><td>37</td><td>31</td><td>2021-07-01</td><td>2021-07-01<span class=sp>T</span>04:37:31</td></tr>\n",
       "  </tbody>\n",
       "  </table>\n",
       "  <div class='footer'>\n",
       "    <div class='frame_dimensions'>20 rows &times; 15 columns</div>\n",
       "  </div>\n",
       "</div>\n"
      ],
      "text/plain": [
       "<Frame#7f7debca23c0 20x15>"
      ]
     },
     "execution_count": 7,
     "metadata": {},
     "output_type": "execute_result"
    }
   ],
   "source": [
    "data['time_new'] = dt.time.ymdt(dt.f.year, dt.f.month, dt.f.day, dt.f.hour, dt.f.minute, dt.f.second)\n",
    "data"
   ]
  },
  {
   "cell_type": "markdown",
   "id": "f3ca0a50",
   "metadata": {
    "papermill": {
     "duration": 0.028458,
     "end_time": "2021-07-28T06:17:27.440619",
     "exception": false,
     "start_time": "2021-07-28T06:17:27.412161",
     "status": "completed"
    },
    "tags": []
   },
   "source": [
    "**Exercise 76: Create a lead variable of `product` with shift of 2 called `next_product_2` in `data`**"
   ]
  },
  {
   "cell_type": "code",
   "execution_count": 8,
   "id": "77f0da31",
   "metadata": {
    "execution": {
     "iopub.execute_input": "2021-07-28T06:17:27.500243Z",
     "iopub.status.busy": "2021-07-28T06:17:27.499616Z",
     "iopub.status.idle": "2021-07-28T06:17:27.506054Z",
     "shell.execute_reply": "2021-07-28T06:17:27.506597Z",
     "shell.execute_reply.started": "2021-07-10T07:33:32.478569Z"
    },
    "papermill": {
     "duration": 0.037549,
     "end_time": "2021-07-28T06:17:27.506770",
     "exception": false,
     "start_time": "2021-07-28T06:17:27.469221",
     "status": "completed"
    },
    "tags": []
   },
   "outputs": [
    {
     "data": {
      "text/html": [
       "<div class='datatable'>\n",
       "  <table class='frame'>\n",
       "  <thead>\n",
       "    <tr class='colnames'><td class='row_index'></td><th>timestamp</th><th>user</th><th>product</th><th>price</th><th>quantity</th><th>date</th><th>year</th><th>month</th><th>day</th><th>day_of_week</th><th class='vellipsis'>&hellip;</th><th>minute</th><th>second</th><th>date_new</th><th>time_new</th><th>next_product_2</th></tr>\n",
       "    <tr class='coltypes'><td class='row_index'></td><td class='time' title='time64'>&#x25AA;&#x25AA;&#x25AA;&#x25AA;&#x25AA;&#x25AA;&#x25AA;&#x25AA;</td><td class='str' title='str32'>&#x25AA;&#x25AA;&#x25AA;&#x25AA;</td><td class='str' title='str32'>&#x25AA;&#x25AA;&#x25AA;&#x25AA;</td><td class='float' title='float64'>&#x25AA;&#x25AA;&#x25AA;&#x25AA;&#x25AA;&#x25AA;&#x25AA;&#x25AA;</td><td class='int' title='int32'>&#x25AA;&#x25AA;&#x25AA;&#x25AA;</td><td class='time' title='date32'>&#x25AA;&#x25AA;&#x25AA;&#x25AA;</td><td class='int' title='int32'>&#x25AA;&#x25AA;&#x25AA;&#x25AA;</td><td class='int' title='int32'>&#x25AA;&#x25AA;&#x25AA;&#x25AA;</td><td class='int' title='int32'>&#x25AA;&#x25AA;&#x25AA;&#x25AA;</td><td class='int' title='int32'>&#x25AA;&#x25AA;&#x25AA;&#x25AA;</td><td></td><td class='int' title='int32'>&#x25AA;&#x25AA;&#x25AA;&#x25AA;</td><td class='int' title='int32'>&#x25AA;&#x25AA;&#x25AA;&#x25AA;</td><td class='time' title='date32'>&#x25AA;&#x25AA;&#x25AA;&#x25AA;</td><td class='time' title='time64'>&#x25AA;&#x25AA;&#x25AA;&#x25AA;&#x25AA;&#x25AA;&#x25AA;&#x25AA;</td><td class='str' title='str32'>&#x25AA;&#x25AA;&#x25AA;&#x25AA;</td></tr>\n",
       "  </thead>\n",
       "  <tbody>\n",
       "    <tr><td class='row_index'>0</td><td>2017-01-01<span class=sp>T</span>13:22:41</td><td>U1</td><td>Eggs</td><td>2.3</td><td>2</td><td>2017-01-01</td><td>2017</td><td>1</td><td>1</td><td>7</td><td class=vellipsis>&hellip;</td><td>22</td><td>41</td><td>2017-01-01</td><td>2017-01-01<span class=sp>T</span>13:22:41</td><td>Banana</td></tr>\n",
       "    <tr><td class='row_index'>1</td><td>2017-05-22<span class=sp>T</span>09:54:21</td><td>U2</td><td>Bread</td><td>0.6</td><td>2</td><td>2017-05-22</td><td>2017</td><td>5</td><td>22</td><td>1</td><td class=vellipsis>&hellip;</td><td>54</td><td>21</td><td>2017-05-22</td><td>2017-05-22<span class=sp>T</span>09:54:21</td><td>Water</td></tr>\n",
       "    <tr><td class='row_index'>2</td><td>2018-11-09<span class=sp>T</span>15:00:01</td><td>U3</td><td>Banana</td><td>0.7</td><td>1</td><td>2018-11-09</td><td>2018</td><td>11</td><td>9</td><td>5</td><td class=vellipsis>&hellip;</td><td>0</td><td>1</td><td>2018-11-09</td><td>2018-11-09<span class=sp>T</span>15:00:01</td><td>Eggs</td></tr>\n",
       "    <tr><td class='row_index'>3</td><td>2018-12-24<span class=sp>T</span>23:03:33</td><td>U1</td><td>Water</td><td>0.2</td><td>1</td><td>2018-12-24</td><td>2018</td><td>12</td><td>24</td><td>1</td><td class=vellipsis>&hellip;</td><td>3</td><td>33</td><td>2018-12-24</td><td>2018-12-24<span class=sp>T</span>23:03:33</td><td>Grapes</td></tr>\n",
       "    <tr><td class='row_index'>4</td><td>2019-03-03<span class=sp>T</span>06:21:58</td><td>U4</td><td>Eggs</td><td>2.3</td><td>2</td><td>2019-03-03</td><td>2019</td><td>3</td><td>3</td><td>7</td><td class=vellipsis>&hellip;</td><td>21</td><td>58</td><td>2019-03-03</td><td>2019-03-03<span class=sp>T</span>06:21:58</td><td>Bread</td></tr>\n",
       "    <tr><td class='row_index'>5</td><td>2019-06-17<span class=sp>T</span>16:13:39</td><td>U5</td><td>Grapes</td><td>1.5</td><td>1</td><td>2019-06-17</td><td>2019</td><td>6</td><td>17</td><td>1</td><td class=vellipsis>&hellip;</td><td>13</td><td>39</td><td>2019-06-17</td><td>2019-06-17<span class=sp>T</span>16:13:39</td><td>Banana</td></tr>\n",
       "    <tr><td class='row_index'>6</td><td>2019-07-28<span class=sp>T</span>21:03:11</td><td>U5</td><td>Bread</td><td>0.6</td><td>1</td><td>2019-07-28</td><td>2019</td><td>7</td><td>28</td><td>7</td><td class=vellipsis>&hellip;</td><td>3</td><td>11</td><td>2019-07-28</td><td>2019-07-28<span class=sp>T</span>21:03:11</td><td>Banana</td></tr>\n",
       "    <tr><td class='row_index'>7</td><td>2019-12-05<span class=sp>T</span>04:15:42</td><td>U1</td><td>Banana</td><td>0.7</td><td>2</td><td>2019-12-05</td><td>2019</td><td>12</td><td>5</td><td>4</td><td class=vellipsis>&hellip;</td><td>15</td><td>42</td><td>2019-12-05</td><td>2019-12-05<span class=sp>T</span>04:15:42</td><td>Grapes</td></tr>\n",
       "    <tr><td class='row_index'>8</td><td>2020-02-02<span class=sp>T</span>03:45:34</td><td>U3</td><td>Banana</td><td>0.7</td><td>1</td><td>2020-02-02</td><td>2020</td><td>2</td><td>2</td><td>7</td><td class=vellipsis>&hellip;</td><td>45</td><td>34</td><td>2020-02-02</td><td>2020-02-02<span class=sp>T</span>03:45:34</td><td>Water</td></tr>\n",
       "    <tr><td class='row_index'>9</td><td>2020-03-05<span class=sp>T</span>07:09:12</td><td>U4</td><td>Grapes</td><td>1.5</td><td>1</td><td>2020-03-05</td><td>2020</td><td>3</td><td>5</td><td>4</td><td class=vellipsis>&hellip;</td><td>9</td><td>12</td><td>2020-03-05</td><td>2020-03-05<span class=sp>T</span>07:09:12</td><td>Water</td></tr>\n",
       "    <tr><td class='row_index'>10</td><td>2020-03-22<span class=sp>T</span>19:29:38</td><td>U1</td><td>Water</td><td>0.2</td><td>1</td><td>2020-03-22</td><td>2020</td><td>3</td><td>22</td><td>7</td><td class=vellipsis>&hellip;</td><td>29</td><td>38</td><td>2020-03-22</td><td>2020-03-22<span class=sp>T</span>19:29:38</td><td>Banana</td></tr>\n",
       "    <tr><td class='row_index'>11</td><td>2020-03-30<span class=sp>T</span>09:44:30</td><td>U4</td><td>Water</td><td>0.2</td><td>1</td><td>2020-03-30</td><td>2020</td><td>3</td><td>30</td><td>1</td><td class=vellipsis>&hellip;</td><td>44</td><td>30</td><td>2020-03-30</td><td>2020-03-30<span class=sp>T</span>09:44:30</td><td>Grapes</td></tr>\n",
       "    <tr><td class='row_index'>12</td><td>2020-04-01<span class=sp>T</span>13:21:41</td><td>U1</td><td>Banana</td><td>0.7</td><td>2</td><td>2020-04-01</td><td>2020</td><td>4</td><td>1</td><td>3</td><td class=vellipsis>&hellip;</td><td>21</td><td>41</td><td>2020-04-01</td><td>2020-04-01<span class=sp>T</span>13:21:41</td><td>Water</td></tr>\n",
       "    <tr><td class='row_index'>13</td><td>2020-07-08<span class=sp>T</span>11:45:25</td><td>U2</td><td>Grapes</td><td>1.5</td><td>1</td><td>2020-07-08</td><td>2020</td><td>7</td><td>8</td><td>3</td><td class=vellipsis>&hellip;</td><td>45</td><td>25</td><td>2020-07-08</td><td>2020-07-08<span class=sp>T</span>11:45:25</td><td>Banana</td></tr>\n",
       "    <tr><td class='row_index'>14</td><td>2020-11-19<span class=sp>T</span>18:51:22</td><td>U5</td><td>Water</td><td>0.2</td><td>1</td><td>2020-11-19</td><td>2020</td><td>11</td><td>19</td><td>4</td><td class=vellipsis>&hellip;</td><td>51</td><td>22</td><td>2020-11-19</td><td>2020-11-19<span class=sp>T</span>18:51:22</td><td>Eggs</td></tr>\n",
       "    <tr><td class='row_index'>15</td><td>2020-12-03<span class=sp>T</span>16:23:48</td><td>U3</td><td>Banana</td><td>0.5</td><td>3</td><td>2020-12-03</td><td>2020</td><td>12</td><td>3</td><td>4</td><td class=vellipsis>&hellip;</td><td>23</td><td>48</td><td>2020-12-03</td><td>2020-12-03<span class=sp>T</span>16:23:48</td><td>Bread</td></tr>\n",
       "    <tr><td class='row_index'>16</td><td>2021-02-03<span class=sp>T</span>01:14:40</td><td>U5</td><td>Eggs</td><td>2.1</td><td>4</td><td>2021-02-03</td><td>2021</td><td>2</td><td>3</td><td>3</td><td class=vellipsis>&hellip;</td><td>14</td><td>40</td><td>2021-02-03</td><td>2021-02-03<span class=sp>T</span>01:14:40</td><td>Eggs</td></tr>\n",
       "    <tr><td class='row_index'>17</td><td>2021-05-26<span class=sp>T</span>22:42:15</td><td>U3</td><td>Bread</td><td>0.6</td><td>1</td><td>2021-05-26</td><td>2021</td><td>5</td><td>26</td><td>3</td><td class=vellipsis>&hellip;</td><td>42</td><td>15</td><td>2021-05-26</td><td>2021-05-26<span class=sp>T</span>22:42:15</td><td>Water</td></tr>\n",
       "    <tr><td class='row_index'>18</td><td>2021-06-14<span class=sp>T</span>15:49:28</td><td>U4</td><td>Eggs</td><td>2.3</td><td>2</td><td>2021-06-14</td><td>2021</td><td>6</td><td>14</td><td>1</td><td class=vellipsis>&hellip;</td><td>49</td><td>28</td><td>2021-06-14</td><td>2021-06-14<span class=sp>T</span>15:49:28</td><td><span class=na>NA</span></td></tr>\n",
       "    <tr><td class='row_index'>19</td><td>2021-07-01<span class=sp>T</span>04:37:31</td><td>U4</td><td>Water</td><td>0.3</td><td>1</td><td>2021-07-01</td><td>2021</td><td>7</td><td>1</td><td>4</td><td class=vellipsis>&hellip;</td><td>37</td><td>31</td><td>2021-07-01</td><td>2021-07-01<span class=sp>T</span>04:37:31</td><td><span class=na>NA</span></td></tr>\n",
       "  </tbody>\n",
       "  </table>\n",
       "  <div class='footer'>\n",
       "    <div class='frame_dimensions'>20 rows &times; 16 columns</div>\n",
       "  </div>\n",
       "</div>\n"
      ],
      "text/plain": [
       "<Frame#7f7debca23c0 20x16>"
      ]
     },
     "execution_count": 8,
     "metadata": {},
     "output_type": "execute_result"
    }
   ],
   "source": [
    "data['next_product_2'] = dt.shift(dt.f.product, n=-2)\n",
    "data"
   ]
  },
  {
   "cell_type": "markdown",
   "id": "e3d33b8f",
   "metadata": {
    "papermill": {
     "duration": 0.029262,
     "end_time": "2021-07-28T06:17:27.566721",
     "exception": false,
     "start_time": "2021-07-28T06:17:27.537459",
     "status": "completed"
    },
    "tags": []
   },
   "source": [
    "**Exercise 77: Create a lag variable of `date` with single shift called `previous_date` in `data`**"
   ]
  },
  {
   "cell_type": "code",
   "execution_count": 9,
   "id": "d0ec6c24",
   "metadata": {
    "execution": {
     "iopub.execute_input": "2021-07-28T06:17:27.628855Z",
     "iopub.status.busy": "2021-07-28T06:17:27.628204Z",
     "iopub.status.idle": "2021-07-28T06:17:27.633848Z",
     "shell.execute_reply": "2021-07-28T06:17:27.634460Z",
     "shell.execute_reply.started": "2021-07-10T07:33:50.934701Z"
    },
    "papermill": {
     "duration": 0.038112,
     "end_time": "2021-07-28T06:17:27.634624",
     "exception": false,
     "start_time": "2021-07-28T06:17:27.596512",
     "status": "completed"
    },
    "tags": []
   },
   "outputs": [
    {
     "data": {
      "text/html": [
       "<div class='datatable'>\n",
       "  <table class='frame'>\n",
       "  <thead>\n",
       "    <tr class='colnames'><td class='row_index'></td><th>timestamp</th><th>user</th><th>product</th><th>price</th><th>quantity</th><th>date</th><th>year</th><th>month</th><th>day</th><th>day_of_week</th><th class='vellipsis'>&hellip;</th><th>second</th><th>date_new</th><th>time_new</th><th>next_product_2</th><th>previous_date</th></tr>\n",
       "    <tr class='coltypes'><td class='row_index'></td><td class='time' title='time64'>&#x25AA;&#x25AA;&#x25AA;&#x25AA;&#x25AA;&#x25AA;&#x25AA;&#x25AA;</td><td class='str' title='str32'>&#x25AA;&#x25AA;&#x25AA;&#x25AA;</td><td class='str' title='str32'>&#x25AA;&#x25AA;&#x25AA;&#x25AA;</td><td class='float' title='float64'>&#x25AA;&#x25AA;&#x25AA;&#x25AA;&#x25AA;&#x25AA;&#x25AA;&#x25AA;</td><td class='int' title='int32'>&#x25AA;&#x25AA;&#x25AA;&#x25AA;</td><td class='time' title='date32'>&#x25AA;&#x25AA;&#x25AA;&#x25AA;</td><td class='int' title='int32'>&#x25AA;&#x25AA;&#x25AA;&#x25AA;</td><td class='int' title='int32'>&#x25AA;&#x25AA;&#x25AA;&#x25AA;</td><td class='int' title='int32'>&#x25AA;&#x25AA;&#x25AA;&#x25AA;</td><td class='int' title='int32'>&#x25AA;&#x25AA;&#x25AA;&#x25AA;</td><td></td><td class='int' title='int32'>&#x25AA;&#x25AA;&#x25AA;&#x25AA;</td><td class='time' title='date32'>&#x25AA;&#x25AA;&#x25AA;&#x25AA;</td><td class='time' title='time64'>&#x25AA;&#x25AA;&#x25AA;&#x25AA;&#x25AA;&#x25AA;&#x25AA;&#x25AA;</td><td class='str' title='str32'>&#x25AA;&#x25AA;&#x25AA;&#x25AA;</td><td class='time' title='date32'>&#x25AA;&#x25AA;&#x25AA;&#x25AA;</td></tr>\n",
       "  </thead>\n",
       "  <tbody>\n",
       "    <tr><td class='row_index'>0</td><td>2017-01-01<span class=sp>T</span>13:22:41</td><td>U1</td><td>Eggs</td><td>2.3</td><td>2</td><td>2017-01-01</td><td>2017</td><td>1</td><td>1</td><td>7</td><td class=vellipsis>&hellip;</td><td>41</td><td>2017-01-01</td><td>2017-01-01<span class=sp>T</span>13:22:41</td><td>Banana</td><td><span class=na>NA</span></td></tr>\n",
       "    <tr><td class='row_index'>1</td><td>2017-05-22<span class=sp>T</span>09:54:21</td><td>U2</td><td>Bread</td><td>0.6</td><td>2</td><td>2017-05-22</td><td>2017</td><td>5</td><td>22</td><td>1</td><td class=vellipsis>&hellip;</td><td>21</td><td>2017-05-22</td><td>2017-05-22<span class=sp>T</span>09:54:21</td><td>Water</td><td>2017-01-01</td></tr>\n",
       "    <tr><td class='row_index'>2</td><td>2018-11-09<span class=sp>T</span>15:00:01</td><td>U3</td><td>Banana</td><td>0.7</td><td>1</td><td>2018-11-09</td><td>2018</td><td>11</td><td>9</td><td>5</td><td class=vellipsis>&hellip;</td><td>1</td><td>2018-11-09</td><td>2018-11-09<span class=sp>T</span>15:00:01</td><td>Eggs</td><td>2017-05-22</td></tr>\n",
       "    <tr><td class='row_index'>3</td><td>2018-12-24<span class=sp>T</span>23:03:33</td><td>U1</td><td>Water</td><td>0.2</td><td>1</td><td>2018-12-24</td><td>2018</td><td>12</td><td>24</td><td>1</td><td class=vellipsis>&hellip;</td><td>33</td><td>2018-12-24</td><td>2018-12-24<span class=sp>T</span>23:03:33</td><td>Grapes</td><td>2018-11-09</td></tr>\n",
       "    <tr><td class='row_index'>4</td><td>2019-03-03<span class=sp>T</span>06:21:58</td><td>U4</td><td>Eggs</td><td>2.3</td><td>2</td><td>2019-03-03</td><td>2019</td><td>3</td><td>3</td><td>7</td><td class=vellipsis>&hellip;</td><td>58</td><td>2019-03-03</td><td>2019-03-03<span class=sp>T</span>06:21:58</td><td>Bread</td><td>2018-12-24</td></tr>\n",
       "    <tr><td class='row_index'>5</td><td>2019-06-17<span class=sp>T</span>16:13:39</td><td>U5</td><td>Grapes</td><td>1.5</td><td>1</td><td>2019-06-17</td><td>2019</td><td>6</td><td>17</td><td>1</td><td class=vellipsis>&hellip;</td><td>39</td><td>2019-06-17</td><td>2019-06-17<span class=sp>T</span>16:13:39</td><td>Banana</td><td>2019-03-03</td></tr>\n",
       "    <tr><td class='row_index'>6</td><td>2019-07-28<span class=sp>T</span>21:03:11</td><td>U5</td><td>Bread</td><td>0.6</td><td>1</td><td>2019-07-28</td><td>2019</td><td>7</td><td>28</td><td>7</td><td class=vellipsis>&hellip;</td><td>11</td><td>2019-07-28</td><td>2019-07-28<span class=sp>T</span>21:03:11</td><td>Banana</td><td>2019-06-17</td></tr>\n",
       "    <tr><td class='row_index'>7</td><td>2019-12-05<span class=sp>T</span>04:15:42</td><td>U1</td><td>Banana</td><td>0.7</td><td>2</td><td>2019-12-05</td><td>2019</td><td>12</td><td>5</td><td>4</td><td class=vellipsis>&hellip;</td><td>42</td><td>2019-12-05</td><td>2019-12-05<span class=sp>T</span>04:15:42</td><td>Grapes</td><td>2019-07-28</td></tr>\n",
       "    <tr><td class='row_index'>8</td><td>2020-02-02<span class=sp>T</span>03:45:34</td><td>U3</td><td>Banana</td><td>0.7</td><td>1</td><td>2020-02-02</td><td>2020</td><td>2</td><td>2</td><td>7</td><td class=vellipsis>&hellip;</td><td>34</td><td>2020-02-02</td><td>2020-02-02<span class=sp>T</span>03:45:34</td><td>Water</td><td>2019-12-05</td></tr>\n",
       "    <tr><td class='row_index'>9</td><td>2020-03-05<span class=sp>T</span>07:09:12</td><td>U4</td><td>Grapes</td><td>1.5</td><td>1</td><td>2020-03-05</td><td>2020</td><td>3</td><td>5</td><td>4</td><td class=vellipsis>&hellip;</td><td>12</td><td>2020-03-05</td><td>2020-03-05<span class=sp>T</span>07:09:12</td><td>Water</td><td>2020-02-02</td></tr>\n",
       "    <tr><td class='row_index'>10</td><td>2020-03-22<span class=sp>T</span>19:29:38</td><td>U1</td><td>Water</td><td>0.2</td><td>1</td><td>2020-03-22</td><td>2020</td><td>3</td><td>22</td><td>7</td><td class=vellipsis>&hellip;</td><td>38</td><td>2020-03-22</td><td>2020-03-22<span class=sp>T</span>19:29:38</td><td>Banana</td><td>2020-03-05</td></tr>\n",
       "    <tr><td class='row_index'>11</td><td>2020-03-30<span class=sp>T</span>09:44:30</td><td>U4</td><td>Water</td><td>0.2</td><td>1</td><td>2020-03-30</td><td>2020</td><td>3</td><td>30</td><td>1</td><td class=vellipsis>&hellip;</td><td>30</td><td>2020-03-30</td><td>2020-03-30<span class=sp>T</span>09:44:30</td><td>Grapes</td><td>2020-03-22</td></tr>\n",
       "    <tr><td class='row_index'>12</td><td>2020-04-01<span class=sp>T</span>13:21:41</td><td>U1</td><td>Banana</td><td>0.7</td><td>2</td><td>2020-04-01</td><td>2020</td><td>4</td><td>1</td><td>3</td><td class=vellipsis>&hellip;</td><td>41</td><td>2020-04-01</td><td>2020-04-01<span class=sp>T</span>13:21:41</td><td>Water</td><td>2020-03-30</td></tr>\n",
       "    <tr><td class='row_index'>13</td><td>2020-07-08<span class=sp>T</span>11:45:25</td><td>U2</td><td>Grapes</td><td>1.5</td><td>1</td><td>2020-07-08</td><td>2020</td><td>7</td><td>8</td><td>3</td><td class=vellipsis>&hellip;</td><td>25</td><td>2020-07-08</td><td>2020-07-08<span class=sp>T</span>11:45:25</td><td>Banana</td><td>2020-04-01</td></tr>\n",
       "    <tr><td class='row_index'>14</td><td>2020-11-19<span class=sp>T</span>18:51:22</td><td>U5</td><td>Water</td><td>0.2</td><td>1</td><td>2020-11-19</td><td>2020</td><td>11</td><td>19</td><td>4</td><td class=vellipsis>&hellip;</td><td>22</td><td>2020-11-19</td><td>2020-11-19<span class=sp>T</span>18:51:22</td><td>Eggs</td><td>2020-07-08</td></tr>\n",
       "    <tr><td class='row_index'>15</td><td>2020-12-03<span class=sp>T</span>16:23:48</td><td>U3</td><td>Banana</td><td>0.5</td><td>3</td><td>2020-12-03</td><td>2020</td><td>12</td><td>3</td><td>4</td><td class=vellipsis>&hellip;</td><td>48</td><td>2020-12-03</td><td>2020-12-03<span class=sp>T</span>16:23:48</td><td>Bread</td><td>2020-11-19</td></tr>\n",
       "    <tr><td class='row_index'>16</td><td>2021-02-03<span class=sp>T</span>01:14:40</td><td>U5</td><td>Eggs</td><td>2.1</td><td>4</td><td>2021-02-03</td><td>2021</td><td>2</td><td>3</td><td>3</td><td class=vellipsis>&hellip;</td><td>40</td><td>2021-02-03</td><td>2021-02-03<span class=sp>T</span>01:14:40</td><td>Eggs</td><td>2020-12-03</td></tr>\n",
       "    <tr><td class='row_index'>17</td><td>2021-05-26<span class=sp>T</span>22:42:15</td><td>U3</td><td>Bread</td><td>0.6</td><td>1</td><td>2021-05-26</td><td>2021</td><td>5</td><td>26</td><td>3</td><td class=vellipsis>&hellip;</td><td>15</td><td>2021-05-26</td><td>2021-05-26<span class=sp>T</span>22:42:15</td><td>Water</td><td>2021-02-03</td></tr>\n",
       "    <tr><td class='row_index'>18</td><td>2021-06-14<span class=sp>T</span>15:49:28</td><td>U4</td><td>Eggs</td><td>2.3</td><td>2</td><td>2021-06-14</td><td>2021</td><td>6</td><td>14</td><td>1</td><td class=vellipsis>&hellip;</td><td>28</td><td>2021-06-14</td><td>2021-06-14<span class=sp>T</span>15:49:28</td><td><span class=na>NA</span></td><td>2021-05-26</td></tr>\n",
       "    <tr><td class='row_index'>19</td><td>2021-07-01<span class=sp>T</span>04:37:31</td><td>U4</td><td>Water</td><td>0.3</td><td>1</td><td>2021-07-01</td><td>2021</td><td>7</td><td>1</td><td>4</td><td class=vellipsis>&hellip;</td><td>31</td><td>2021-07-01</td><td>2021-07-01<span class=sp>T</span>04:37:31</td><td><span class=na>NA</span></td><td>2021-06-14</td></tr>\n",
       "  </tbody>\n",
       "  </table>\n",
       "  <div class='footer'>\n",
       "    <div class='frame_dimensions'>20 rows &times; 17 columns</div>\n",
       "  </div>\n",
       "</div>\n"
      ],
      "text/plain": [
       "<Frame#7f7debca23c0 20x17>"
      ]
     },
     "execution_count": 9,
     "metadata": {},
     "output_type": "execute_result"
    }
   ],
   "source": [
    "data['previous_date'] = dt.shift(dt.f.date, n=1)\n",
    "data"
   ]
  },
  {
   "cell_type": "markdown",
   "id": "584feda8",
   "metadata": {
    "papermill": {
     "duration": 0.028943,
     "end_time": "2021-07-28T06:17:27.693023",
     "exception": false,
     "start_time": "2021-07-28T06:17:27.664080",
     "status": "completed"
    },
    "tags": []
   },
   "source": [
    "**Exercise 78: Create a lag variable of `timestamp` by `user` with single shift called `previous_user_time` in `data`**"
   ]
  },
  {
   "cell_type": "code",
   "execution_count": 10,
   "id": "90f88ae0",
   "metadata": {
    "execution": {
     "iopub.execute_input": "2021-07-28T06:17:27.754489Z",
     "iopub.status.busy": "2021-07-28T06:17:27.753837Z",
     "iopub.status.idle": "2021-07-28T06:17:27.762062Z",
     "shell.execute_reply": "2021-07-28T06:17:27.762628Z",
     "shell.execute_reply.started": "2021-07-10T07:34:13.546335Z"
    },
    "papermill": {
     "duration": 0.040624,
     "end_time": "2021-07-28T06:17:27.762822",
     "exception": false,
     "start_time": "2021-07-28T06:17:27.722198",
     "status": "completed"
    },
    "tags": []
   },
   "outputs": [
    {
     "data": {
      "text/html": [
       "<div class='datatable'>\n",
       "  <table class='frame'>\n",
       "  <thead>\n",
       "    <tr class='colnames'><td class='row_index'></td><th>user</th><th>timestamp</th><th>product</th><th>price</th><th>quantity</th><th>date</th><th>year</th><th>month</th><th>day</th><th>day_of_week</th><th class='vellipsis'>&hellip;</th><th>date_new</th><th>time_new</th><th>next_product_2</th><th>previous_date</th><th>previous_user_time</th></tr>\n",
       "    <tr class='coltypes'><td class='row_index'></td><td class='str' title='str32'>&#x25AA;&#x25AA;&#x25AA;&#x25AA;</td><td class='time' title='time64'>&#x25AA;&#x25AA;&#x25AA;&#x25AA;&#x25AA;&#x25AA;&#x25AA;&#x25AA;</td><td class='str' title='str32'>&#x25AA;&#x25AA;&#x25AA;&#x25AA;</td><td class='float' title='float64'>&#x25AA;&#x25AA;&#x25AA;&#x25AA;&#x25AA;&#x25AA;&#x25AA;&#x25AA;</td><td class='int' title='int32'>&#x25AA;&#x25AA;&#x25AA;&#x25AA;</td><td class='time' title='date32'>&#x25AA;&#x25AA;&#x25AA;&#x25AA;</td><td class='int' title='int32'>&#x25AA;&#x25AA;&#x25AA;&#x25AA;</td><td class='int' title='int32'>&#x25AA;&#x25AA;&#x25AA;&#x25AA;</td><td class='int' title='int32'>&#x25AA;&#x25AA;&#x25AA;&#x25AA;</td><td class='int' title='int32'>&#x25AA;&#x25AA;&#x25AA;&#x25AA;</td><td></td><td class='time' title='date32'>&#x25AA;&#x25AA;&#x25AA;&#x25AA;</td><td class='time' title='time64'>&#x25AA;&#x25AA;&#x25AA;&#x25AA;&#x25AA;&#x25AA;&#x25AA;&#x25AA;</td><td class='str' title='str32'>&#x25AA;&#x25AA;&#x25AA;&#x25AA;</td><td class='time' title='date32'>&#x25AA;&#x25AA;&#x25AA;&#x25AA;</td><td class='time' title='time64'>&#x25AA;&#x25AA;&#x25AA;&#x25AA;&#x25AA;&#x25AA;&#x25AA;&#x25AA;</td></tr>\n",
       "  </thead>\n",
       "  <tbody>\n",
       "    <tr><td class='row_index'>0</td><td>U1</td><td>2017-01-01<span class=sp>T</span>13:22:41</td><td>Eggs</td><td>2.3</td><td>2</td><td>2017-01-01</td><td>2017</td><td>1</td><td>1</td><td>7</td><td class=vellipsis>&hellip;</td><td>2017-01-01</td><td>2017-01-01<span class=sp>T</span>13:22:41</td><td>Banana</td><td><span class=na>NA</span></td><td><span class=na>NA</span></td></tr>\n",
       "    <tr><td class='row_index'>1</td><td>U1</td><td>2018-12-24<span class=sp>T</span>23:03:33</td><td>Water</td><td>0.2</td><td>1</td><td>2018-12-24</td><td>2018</td><td>12</td><td>24</td><td>1</td><td class=vellipsis>&hellip;</td><td>2018-12-24</td><td>2018-12-24<span class=sp>T</span>23:03:33</td><td>Grapes</td><td>2018-11-09</td><td>2017-01-01<span class=sp>T</span>13:22:41</td></tr>\n",
       "    <tr><td class='row_index'>2</td><td>U1</td><td>2019-12-05<span class=sp>T</span>04:15:42</td><td>Banana</td><td>0.7</td><td>2</td><td>2019-12-05</td><td>2019</td><td>12</td><td>5</td><td>4</td><td class=vellipsis>&hellip;</td><td>2019-12-05</td><td>2019-12-05<span class=sp>T</span>04:15:42</td><td>Grapes</td><td>2019-07-28</td><td>2018-12-24<span class=sp>T</span>23:03:33</td></tr>\n",
       "    <tr><td class='row_index'>3</td><td>U1</td><td>2020-03-22<span class=sp>T</span>19:29:38</td><td>Water</td><td>0.2</td><td>1</td><td>2020-03-22</td><td>2020</td><td>3</td><td>22</td><td>7</td><td class=vellipsis>&hellip;</td><td>2020-03-22</td><td>2020-03-22<span class=sp>T</span>19:29:38</td><td>Banana</td><td>2020-03-05</td><td>2019-12-05<span class=sp>T</span>04:15:42</td></tr>\n",
       "    <tr><td class='row_index'>4</td><td>U1</td><td>2020-04-01<span class=sp>T</span>13:21:41</td><td>Banana</td><td>0.7</td><td>2</td><td>2020-04-01</td><td>2020</td><td>4</td><td>1</td><td>3</td><td class=vellipsis>&hellip;</td><td>2020-04-01</td><td>2020-04-01<span class=sp>T</span>13:21:41</td><td>Water</td><td>2020-03-30</td><td>2020-03-22<span class=sp>T</span>19:29:38</td></tr>\n",
       "    <tr><td class='row_index'>5</td><td>U2</td><td>2017-05-22<span class=sp>T</span>09:54:21</td><td>Bread</td><td>0.6</td><td>2</td><td>2017-05-22</td><td>2017</td><td>5</td><td>22</td><td>1</td><td class=vellipsis>&hellip;</td><td>2017-05-22</td><td>2017-05-22<span class=sp>T</span>09:54:21</td><td>Water</td><td>2017-01-01</td><td><span class=na>NA</span></td></tr>\n",
       "    <tr><td class='row_index'>6</td><td>U2</td><td>2020-07-08<span class=sp>T</span>11:45:25</td><td>Grapes</td><td>1.5</td><td>1</td><td>2020-07-08</td><td>2020</td><td>7</td><td>8</td><td>3</td><td class=vellipsis>&hellip;</td><td>2020-07-08</td><td>2020-07-08<span class=sp>T</span>11:45:25</td><td>Banana</td><td>2020-04-01</td><td>2017-05-22<span class=sp>T</span>09:54:21</td></tr>\n",
       "    <tr><td class='row_index'>7</td><td>U3</td><td>2018-11-09<span class=sp>T</span>15:00:01</td><td>Banana</td><td>0.7</td><td>1</td><td>2018-11-09</td><td>2018</td><td>11</td><td>9</td><td>5</td><td class=vellipsis>&hellip;</td><td>2018-11-09</td><td>2018-11-09<span class=sp>T</span>15:00:01</td><td>Eggs</td><td>2017-05-22</td><td><span class=na>NA</span></td></tr>\n",
       "    <tr><td class='row_index'>8</td><td>U3</td><td>2020-02-02<span class=sp>T</span>03:45:34</td><td>Banana</td><td>0.7</td><td>1</td><td>2020-02-02</td><td>2020</td><td>2</td><td>2</td><td>7</td><td class=vellipsis>&hellip;</td><td>2020-02-02</td><td>2020-02-02<span class=sp>T</span>03:45:34</td><td>Water</td><td>2019-12-05</td><td>2018-11-09<span class=sp>T</span>15:00:01</td></tr>\n",
       "    <tr><td class='row_index'>9</td><td>U3</td><td>2020-12-03<span class=sp>T</span>16:23:48</td><td>Banana</td><td>0.5</td><td>3</td><td>2020-12-03</td><td>2020</td><td>12</td><td>3</td><td>4</td><td class=vellipsis>&hellip;</td><td>2020-12-03</td><td>2020-12-03<span class=sp>T</span>16:23:48</td><td>Bread</td><td>2020-11-19</td><td>2020-02-02<span class=sp>T</span>03:45:34</td></tr>\n",
       "    <tr><td class='row_index'>10</td><td>U3</td><td>2021-05-26<span class=sp>T</span>22:42:15</td><td>Bread</td><td>0.6</td><td>1</td><td>2021-05-26</td><td>2021</td><td>5</td><td>26</td><td>3</td><td class=vellipsis>&hellip;</td><td>2021-05-26</td><td>2021-05-26<span class=sp>T</span>22:42:15</td><td>Water</td><td>2021-02-03</td><td>2020-12-03<span class=sp>T</span>16:23:48</td></tr>\n",
       "    <tr><td class='row_index'>11</td><td>U4</td><td>2019-03-03<span class=sp>T</span>06:21:58</td><td>Eggs</td><td>2.3</td><td>2</td><td>2019-03-03</td><td>2019</td><td>3</td><td>3</td><td>7</td><td class=vellipsis>&hellip;</td><td>2019-03-03</td><td>2019-03-03<span class=sp>T</span>06:21:58</td><td>Bread</td><td>2018-12-24</td><td><span class=na>NA</span></td></tr>\n",
       "    <tr><td class='row_index'>12</td><td>U4</td><td>2020-03-05<span class=sp>T</span>07:09:12</td><td>Grapes</td><td>1.5</td><td>1</td><td>2020-03-05</td><td>2020</td><td>3</td><td>5</td><td>4</td><td class=vellipsis>&hellip;</td><td>2020-03-05</td><td>2020-03-05<span class=sp>T</span>07:09:12</td><td>Water</td><td>2020-02-02</td><td>2019-03-03<span class=sp>T</span>06:21:58</td></tr>\n",
       "    <tr><td class='row_index'>13</td><td>U4</td><td>2020-03-30<span class=sp>T</span>09:44:30</td><td>Water</td><td>0.2</td><td>1</td><td>2020-03-30</td><td>2020</td><td>3</td><td>30</td><td>1</td><td class=vellipsis>&hellip;</td><td>2020-03-30</td><td>2020-03-30<span class=sp>T</span>09:44:30</td><td>Grapes</td><td>2020-03-22</td><td>2020-03-05<span class=sp>T</span>07:09:12</td></tr>\n",
       "    <tr><td class='row_index'>14</td><td>U4</td><td>2021-06-14<span class=sp>T</span>15:49:28</td><td>Eggs</td><td>2.3</td><td>2</td><td>2021-06-14</td><td>2021</td><td>6</td><td>14</td><td>1</td><td class=vellipsis>&hellip;</td><td>2021-06-14</td><td>2021-06-14<span class=sp>T</span>15:49:28</td><td><span class=na>NA</span></td><td>2021-05-26</td><td>2020-03-30<span class=sp>T</span>09:44:30</td></tr>\n",
       "    <tr><td class='row_index'>15</td><td>U4</td><td>2021-07-01<span class=sp>T</span>04:37:31</td><td>Water</td><td>0.3</td><td>1</td><td>2021-07-01</td><td>2021</td><td>7</td><td>1</td><td>4</td><td class=vellipsis>&hellip;</td><td>2021-07-01</td><td>2021-07-01<span class=sp>T</span>04:37:31</td><td><span class=na>NA</span></td><td>2021-06-14</td><td>2021-06-14<span class=sp>T</span>15:49:28</td></tr>\n",
       "    <tr><td class='row_index'>16</td><td>U5</td><td>2019-06-17<span class=sp>T</span>16:13:39</td><td>Grapes</td><td>1.5</td><td>1</td><td>2019-06-17</td><td>2019</td><td>6</td><td>17</td><td>1</td><td class=vellipsis>&hellip;</td><td>2019-06-17</td><td>2019-06-17<span class=sp>T</span>16:13:39</td><td>Banana</td><td>2019-03-03</td><td><span class=na>NA</span></td></tr>\n",
       "    <tr><td class='row_index'>17</td><td>U5</td><td>2019-07-28<span class=sp>T</span>21:03:11</td><td>Bread</td><td>0.6</td><td>1</td><td>2019-07-28</td><td>2019</td><td>7</td><td>28</td><td>7</td><td class=vellipsis>&hellip;</td><td>2019-07-28</td><td>2019-07-28<span class=sp>T</span>21:03:11</td><td>Banana</td><td>2019-06-17</td><td>2019-06-17<span class=sp>T</span>16:13:39</td></tr>\n",
       "    <tr><td class='row_index'>18</td><td>U5</td><td>2020-11-19<span class=sp>T</span>18:51:22</td><td>Water</td><td>0.2</td><td>1</td><td>2020-11-19</td><td>2020</td><td>11</td><td>19</td><td>4</td><td class=vellipsis>&hellip;</td><td>2020-11-19</td><td>2020-11-19<span class=sp>T</span>18:51:22</td><td>Eggs</td><td>2020-07-08</td><td>2019-07-28<span class=sp>T</span>21:03:11</td></tr>\n",
       "    <tr><td class='row_index'>19</td><td>U5</td><td>2021-02-03<span class=sp>T</span>01:14:40</td><td>Eggs</td><td>2.1</td><td>4</td><td>2021-02-03</td><td>2021</td><td>2</td><td>3</td><td>3</td><td class=vellipsis>&hellip;</td><td>2021-02-03</td><td>2021-02-03<span class=sp>T</span>01:14:40</td><td>Eggs</td><td>2020-12-03</td><td>2020-11-19<span class=sp>T</span>18:51:22</td></tr>\n",
       "  </tbody>\n",
       "  </table>\n",
       "  <div class='footer'>\n",
       "    <div class='frame_dimensions'>20 rows &times; 18 columns</div>\n",
       "  </div>\n",
       "</div>\n"
      ],
      "text/plain": [
       "<Frame#7f7debcd7f90 20x18>"
      ]
     },
     "execution_count": 10,
     "metadata": {},
     "output_type": "execute_result"
    }
   ],
   "source": [
    "data = data[:, dt.f[:].extend({'previous_user_time': dt.shift(dt.f.timestamp)}), dt.by(dt.f.user)]\n",
    "data"
   ]
  },
  {
   "cell_type": "markdown",
   "id": "66b1b1f9",
   "metadata": {
    "papermill": {
     "duration": 0.032748,
     "end_time": "2021-07-28T06:17:27.833005",
     "exception": false,
     "start_time": "2021-07-28T06:17:27.800257",
     "status": "completed"
    },
    "tags": []
   },
   "source": [
    "**Exercise 79: Create a column `date_diff` which is the difference between `date` and `previous_date` in days**"
   ]
  },
  {
   "cell_type": "code",
   "execution_count": 11,
   "id": "34185376",
   "metadata": {
    "execution": {
     "iopub.execute_input": "2021-07-28T06:17:27.899802Z",
     "iopub.status.busy": "2021-07-28T06:17:27.898976Z",
     "iopub.status.idle": "2021-07-28T06:17:27.903797Z",
     "shell.execute_reply": "2021-07-28T06:17:27.903101Z",
     "shell.execute_reply.started": "2021-07-10T07:34:34.941222Z"
    },
    "papermill": {
     "duration": 0.040516,
     "end_time": "2021-07-28T06:17:27.903944",
     "exception": false,
     "start_time": "2021-07-28T06:17:27.863428",
     "status": "completed"
    },
    "tags": []
   },
   "outputs": [
    {
     "data": {
      "text/html": [
       "<div class='datatable'>\n",
       "  <table class='frame'>\n",
       "  <thead>\n",
       "    <tr class='colnames'><td class='row_index'></td><th>user</th><th>timestamp</th><th>product</th><th>price</th><th>quantity</th><th>date</th><th>year</th><th>month</th><th>day</th><th>day_of_week</th><th class='vellipsis'>&hellip;</th><th>time_new</th><th>next_product_2</th><th>previous_date</th><th>previous_user_time</th><th>date_diff</th></tr>\n",
       "    <tr class='coltypes'><td class='row_index'></td><td class='str' title='str32'>&#x25AA;&#x25AA;&#x25AA;&#x25AA;</td><td class='time' title='time64'>&#x25AA;&#x25AA;&#x25AA;&#x25AA;&#x25AA;&#x25AA;&#x25AA;&#x25AA;</td><td class='str' title='str32'>&#x25AA;&#x25AA;&#x25AA;&#x25AA;</td><td class='float' title='float64'>&#x25AA;&#x25AA;&#x25AA;&#x25AA;&#x25AA;&#x25AA;&#x25AA;&#x25AA;</td><td class='int' title='int32'>&#x25AA;&#x25AA;&#x25AA;&#x25AA;</td><td class='time' title='date32'>&#x25AA;&#x25AA;&#x25AA;&#x25AA;</td><td class='int' title='int32'>&#x25AA;&#x25AA;&#x25AA;&#x25AA;</td><td class='int' title='int32'>&#x25AA;&#x25AA;&#x25AA;&#x25AA;</td><td class='int' title='int32'>&#x25AA;&#x25AA;&#x25AA;&#x25AA;</td><td class='int' title='int32'>&#x25AA;&#x25AA;&#x25AA;&#x25AA;</td><td></td><td class='time' title='time64'>&#x25AA;&#x25AA;&#x25AA;&#x25AA;&#x25AA;&#x25AA;&#x25AA;&#x25AA;</td><td class='str' title='str32'>&#x25AA;&#x25AA;&#x25AA;&#x25AA;</td><td class='time' title='date32'>&#x25AA;&#x25AA;&#x25AA;&#x25AA;</td><td class='time' title='time64'>&#x25AA;&#x25AA;&#x25AA;&#x25AA;&#x25AA;&#x25AA;&#x25AA;&#x25AA;</td><td class='int' title='int64'>&#x25AA;&#x25AA;&#x25AA;&#x25AA;&#x25AA;&#x25AA;&#x25AA;&#x25AA;</td></tr>\n",
       "  </thead>\n",
       "  <tbody>\n",
       "    <tr><td class='row_index'>0</td><td>U1</td><td>2017-01-01<span class=sp>T</span>13:22:41</td><td>Eggs</td><td>2.3</td><td>2</td><td>2017-01-01</td><td>2017</td><td>1</td><td>1</td><td>7</td><td class=vellipsis>&hellip;</td><td>2017-01-01<span class=sp>T</span>13:22:41</td><td>Banana</td><td><span class=na>NA</span></td><td><span class=na>NA</span></td><td><span class=na>NA</span></td></tr>\n",
       "    <tr><td class='row_index'>1</td><td>U1</td><td>2018-12-24<span class=sp>T</span>23:03:33</td><td>Water</td><td>0.2</td><td>1</td><td>2018-12-24</td><td>2018</td><td>12</td><td>24</td><td>1</td><td class=vellipsis>&hellip;</td><td>2018-12-24<span class=sp>T</span>23:03:33</td><td>Grapes</td><td>2018-11-09</td><td>2017-01-01<span class=sp>T</span>13:22:41</td><td>45</td></tr>\n",
       "    <tr><td class='row_index'>2</td><td>U1</td><td>2019-12-05<span class=sp>T</span>04:15:42</td><td>Banana</td><td>0.7</td><td>2</td><td>2019-12-05</td><td>2019</td><td>12</td><td>5</td><td>4</td><td class=vellipsis>&hellip;</td><td>2019-12-05<span class=sp>T</span>04:15:42</td><td>Grapes</td><td>2019-07-28</td><td>2018-12-24<span class=sp>T</span>23:03:33</td><td>130</td></tr>\n",
       "    <tr><td class='row_index'>3</td><td>U1</td><td>2020-03-22<span class=sp>T</span>19:29:38</td><td>Water</td><td>0.2</td><td>1</td><td>2020-03-22</td><td>2020</td><td>3</td><td>22</td><td>7</td><td class=vellipsis>&hellip;</td><td>2020-03-22<span class=sp>T</span>19:29:38</td><td>Banana</td><td>2020-03-05</td><td>2019-12-05<span class=sp>T</span>04:15:42</td><td>17</td></tr>\n",
       "    <tr><td class='row_index'>4</td><td>U1</td><td>2020-04-01<span class=sp>T</span>13:21:41</td><td>Banana</td><td>0.7</td><td>2</td><td>2020-04-01</td><td>2020</td><td>4</td><td>1</td><td>3</td><td class=vellipsis>&hellip;</td><td>2020-04-01<span class=sp>T</span>13:21:41</td><td>Water</td><td>2020-03-30</td><td>2020-03-22<span class=sp>T</span>19:29:38</td><td>2</td></tr>\n",
       "    <tr><td class='row_index'>5</td><td>U2</td><td>2017-05-22<span class=sp>T</span>09:54:21</td><td>Bread</td><td>0.6</td><td>2</td><td>2017-05-22</td><td>2017</td><td>5</td><td>22</td><td>1</td><td class=vellipsis>&hellip;</td><td>2017-05-22<span class=sp>T</span>09:54:21</td><td>Water</td><td>2017-01-01</td><td><span class=na>NA</span></td><td>141</td></tr>\n",
       "    <tr><td class='row_index'>6</td><td>U2</td><td>2020-07-08<span class=sp>T</span>11:45:25</td><td>Grapes</td><td>1.5</td><td>1</td><td>2020-07-08</td><td>2020</td><td>7</td><td>8</td><td>3</td><td class=vellipsis>&hellip;</td><td>2020-07-08<span class=sp>T</span>11:45:25</td><td>Banana</td><td>2020-04-01</td><td>2017-05-22<span class=sp>T</span>09:54:21</td><td>98</td></tr>\n",
       "    <tr><td class='row_index'>7</td><td>U3</td><td>2018-11-09<span class=sp>T</span>15:00:01</td><td>Banana</td><td>0.7</td><td>1</td><td>2018-11-09</td><td>2018</td><td>11</td><td>9</td><td>5</td><td class=vellipsis>&hellip;</td><td>2018-11-09<span class=sp>T</span>15:00:01</td><td>Eggs</td><td>2017-05-22</td><td><span class=na>NA</span></td><td>536</td></tr>\n",
       "    <tr><td class='row_index'>8</td><td>U3</td><td>2020-02-02<span class=sp>T</span>03:45:34</td><td>Banana</td><td>0.7</td><td>1</td><td>2020-02-02</td><td>2020</td><td>2</td><td>2</td><td>7</td><td class=vellipsis>&hellip;</td><td>2020-02-02<span class=sp>T</span>03:45:34</td><td>Water</td><td>2019-12-05</td><td>2018-11-09<span class=sp>T</span>15:00:01</td><td>59</td></tr>\n",
       "    <tr><td class='row_index'>9</td><td>U3</td><td>2020-12-03<span class=sp>T</span>16:23:48</td><td>Banana</td><td>0.5</td><td>3</td><td>2020-12-03</td><td>2020</td><td>12</td><td>3</td><td>4</td><td class=vellipsis>&hellip;</td><td>2020-12-03<span class=sp>T</span>16:23:48</td><td>Bread</td><td>2020-11-19</td><td>2020-02-02<span class=sp>T</span>03:45:34</td><td>14</td></tr>\n",
       "    <tr><td class='row_index'>10</td><td>U3</td><td>2021-05-26<span class=sp>T</span>22:42:15</td><td>Bread</td><td>0.6</td><td>1</td><td>2021-05-26</td><td>2021</td><td>5</td><td>26</td><td>3</td><td class=vellipsis>&hellip;</td><td>2021-05-26<span class=sp>T</span>22:42:15</td><td>Water</td><td>2021-02-03</td><td>2020-12-03<span class=sp>T</span>16:23:48</td><td>112</td></tr>\n",
       "    <tr><td class='row_index'>11</td><td>U4</td><td>2019-03-03<span class=sp>T</span>06:21:58</td><td>Eggs</td><td>2.3</td><td>2</td><td>2019-03-03</td><td>2019</td><td>3</td><td>3</td><td>7</td><td class=vellipsis>&hellip;</td><td>2019-03-03<span class=sp>T</span>06:21:58</td><td>Bread</td><td>2018-12-24</td><td><span class=na>NA</span></td><td>69</td></tr>\n",
       "    <tr><td class='row_index'>12</td><td>U4</td><td>2020-03-05<span class=sp>T</span>07:09:12</td><td>Grapes</td><td>1.5</td><td>1</td><td>2020-03-05</td><td>2020</td><td>3</td><td>5</td><td>4</td><td class=vellipsis>&hellip;</td><td>2020-03-05<span class=sp>T</span>07:09:12</td><td>Water</td><td>2020-02-02</td><td>2019-03-03<span class=sp>T</span>06:21:58</td><td>32</td></tr>\n",
       "    <tr><td class='row_index'>13</td><td>U4</td><td>2020-03-30<span class=sp>T</span>09:44:30</td><td>Water</td><td>0.2</td><td>1</td><td>2020-03-30</td><td>2020</td><td>3</td><td>30</td><td>1</td><td class=vellipsis>&hellip;</td><td>2020-03-30<span class=sp>T</span>09:44:30</td><td>Grapes</td><td>2020-03-22</td><td>2020-03-05<span class=sp>T</span>07:09:12</td><td>8</td></tr>\n",
       "    <tr><td class='row_index'>14</td><td>U4</td><td>2021-06-14<span class=sp>T</span>15:49:28</td><td>Eggs</td><td>2.3</td><td>2</td><td>2021-06-14</td><td>2021</td><td>6</td><td>14</td><td>1</td><td class=vellipsis>&hellip;</td><td>2021-06-14<span class=sp>T</span>15:49:28</td><td><span class=na>NA</span></td><td>2021-05-26</td><td>2020-03-30<span class=sp>T</span>09:44:30</td><td>19</td></tr>\n",
       "    <tr><td class='row_index'>15</td><td>U4</td><td>2021-07-01<span class=sp>T</span>04:37:31</td><td>Water</td><td>0.3</td><td>1</td><td>2021-07-01</td><td>2021</td><td>7</td><td>1</td><td>4</td><td class=vellipsis>&hellip;</td><td>2021-07-01<span class=sp>T</span>04:37:31</td><td><span class=na>NA</span></td><td>2021-06-14</td><td>2021-06-14<span class=sp>T</span>15:49:28</td><td>17</td></tr>\n",
       "    <tr><td class='row_index'>16</td><td>U5</td><td>2019-06-17<span class=sp>T</span>16:13:39</td><td>Grapes</td><td>1.5</td><td>1</td><td>2019-06-17</td><td>2019</td><td>6</td><td>17</td><td>1</td><td class=vellipsis>&hellip;</td><td>2019-06-17<span class=sp>T</span>16:13:39</td><td>Banana</td><td>2019-03-03</td><td><span class=na>NA</span></td><td>106</td></tr>\n",
       "    <tr><td class='row_index'>17</td><td>U5</td><td>2019-07-28<span class=sp>T</span>21:03:11</td><td>Bread</td><td>0.6</td><td>1</td><td>2019-07-28</td><td>2019</td><td>7</td><td>28</td><td>7</td><td class=vellipsis>&hellip;</td><td>2019-07-28<span class=sp>T</span>21:03:11</td><td>Banana</td><td>2019-06-17</td><td>2019-06-17<span class=sp>T</span>16:13:39</td><td>41</td></tr>\n",
       "    <tr><td class='row_index'>18</td><td>U5</td><td>2020-11-19<span class=sp>T</span>18:51:22</td><td>Water</td><td>0.2</td><td>1</td><td>2020-11-19</td><td>2020</td><td>11</td><td>19</td><td>4</td><td class=vellipsis>&hellip;</td><td>2020-11-19<span class=sp>T</span>18:51:22</td><td>Eggs</td><td>2020-07-08</td><td>2019-07-28<span class=sp>T</span>21:03:11</td><td>134</td></tr>\n",
       "    <tr><td class='row_index'>19</td><td>U5</td><td>2021-02-03<span class=sp>T</span>01:14:40</td><td>Eggs</td><td>2.1</td><td>4</td><td>2021-02-03</td><td>2021</td><td>2</td><td>3</td><td>3</td><td class=vellipsis>&hellip;</td><td>2021-02-03<span class=sp>T</span>01:14:40</td><td>Eggs</td><td>2020-12-03</td><td>2020-11-19<span class=sp>T</span>18:51:22</td><td>62</td></tr>\n",
       "  </tbody>\n",
       "  </table>\n",
       "  <div class='footer'>\n",
       "    <div class='frame_dimensions'>20 rows &times; 19 columns</div>\n",
       "  </div>\n",
       "</div>\n"
      ],
      "text/plain": [
       "<Frame#7f7debcd7f90 20x19>"
      ]
     },
     "execution_count": 11,
     "metadata": {},
     "output_type": "execute_result"
    }
   ],
   "source": [
    "data['date_diff'] = data[:, dt.as_type(dt.f.date, 'int') - dt.as_type(dt.f.previous_date, 'int')]\n",
    "data"
   ]
  },
  {
   "cell_type": "markdown",
   "id": "9c71115c",
   "metadata": {
    "papermill": {
     "duration": 0.029901,
     "end_time": "2021-07-28T06:17:27.964068",
     "exception": false,
     "start_time": "2021-07-28T06:17:27.934167",
     "status": "completed"
    },
    "tags": []
   },
   "source": [
    "**Exercise 80: Create a column `time_diff` which is the difference between `timestamp` and `previous_user_time` in seconds**"
   ]
  },
  {
   "cell_type": "code",
   "execution_count": 12,
   "id": "f4cbd20f",
   "metadata": {
    "execution": {
     "iopub.execute_input": "2021-07-28T06:17:28.031679Z",
     "iopub.status.busy": "2021-07-28T06:17:28.030545Z",
     "iopub.status.idle": "2021-07-28T06:17:28.034905Z",
     "shell.execute_reply": "2021-07-28T06:17:28.035362Z",
     "shell.execute_reply.started": "2021-07-10T07:36:05.508181Z"
    },
    "papermill": {
     "duration": 0.041306,
     "end_time": "2021-07-28T06:17:28.035544",
     "exception": false,
     "start_time": "2021-07-28T06:17:27.994238",
     "status": "completed"
    },
    "tags": []
   },
   "outputs": [
    {
     "data": {
      "text/html": [
       "<div class='datatable'>\n",
       "  <table class='frame'>\n",
       "  <thead>\n",
       "    <tr class='colnames'><td class='row_index'></td><th>user</th><th>timestamp</th><th>product</th><th>price</th><th>quantity</th><th>date</th><th>year</th><th>month</th><th>day</th><th>day_of_week</th><th class='vellipsis'>&hellip;</th><th>next_product_2</th><th>previous_date</th><th>previous_user_time</th><th>date_diff</th><th>time_diff</th></tr>\n",
       "    <tr class='coltypes'><td class='row_index'></td><td class='str' title='str32'>&#x25AA;&#x25AA;&#x25AA;&#x25AA;</td><td class='time' title='time64'>&#x25AA;&#x25AA;&#x25AA;&#x25AA;&#x25AA;&#x25AA;&#x25AA;&#x25AA;</td><td class='str' title='str32'>&#x25AA;&#x25AA;&#x25AA;&#x25AA;</td><td class='float' title='float64'>&#x25AA;&#x25AA;&#x25AA;&#x25AA;&#x25AA;&#x25AA;&#x25AA;&#x25AA;</td><td class='int' title='int32'>&#x25AA;&#x25AA;&#x25AA;&#x25AA;</td><td class='time' title='date32'>&#x25AA;&#x25AA;&#x25AA;&#x25AA;</td><td class='int' title='int32'>&#x25AA;&#x25AA;&#x25AA;&#x25AA;</td><td class='int' title='int32'>&#x25AA;&#x25AA;&#x25AA;&#x25AA;</td><td class='int' title='int32'>&#x25AA;&#x25AA;&#x25AA;&#x25AA;</td><td class='int' title='int32'>&#x25AA;&#x25AA;&#x25AA;&#x25AA;</td><td></td><td class='str' title='str32'>&#x25AA;&#x25AA;&#x25AA;&#x25AA;</td><td class='time' title='date32'>&#x25AA;&#x25AA;&#x25AA;&#x25AA;</td><td class='time' title='time64'>&#x25AA;&#x25AA;&#x25AA;&#x25AA;&#x25AA;&#x25AA;&#x25AA;&#x25AA;</td><td class='int' title='int64'>&#x25AA;&#x25AA;&#x25AA;&#x25AA;&#x25AA;&#x25AA;&#x25AA;&#x25AA;</td><td class='float' title='float64'>&#x25AA;&#x25AA;&#x25AA;&#x25AA;&#x25AA;&#x25AA;&#x25AA;&#x25AA;</td></tr>\n",
       "  </thead>\n",
       "  <tbody>\n",
       "    <tr><td class='row_index'>0</td><td>U1</td><td>2017-01-01<span class=sp>T</span>13:22:41</td><td>Eggs</td><td>2.3</td><td>2</td><td>2017-01-01</td><td>2017</td><td>1</td><td>1</td><td>7</td><td class=vellipsis>&hellip;</td><td>Banana</td><td><span class=na>NA</span></td><td><span class=na>NA</span></td><td><span class=na>NA</span></td><td><span class=na>NA</span></td></tr>\n",
       "    <tr><td class='row_index'>1</td><td>U1</td><td>2018-12-24<span class=sp>T</span>23:03:33</td><td>Water</td><td>0.2</td><td>1</td><td>2018-12-24</td><td>2018</td><td>12</td><td>24</td><td>1</td><td class=vellipsis>&hellip;</td><td>Grapes</td><td>2018-11-09</td><td>2017-01-01<span class=sp>T</span>13:22:41</td><td>45</td><td>6.24157e+13</td></tr>\n",
       "    <tr><td class='row_index'>2</td><td>U1</td><td>2019-12-05<span class=sp>T</span>04:15:42</td><td>Banana</td><td>0.7</td><td>2</td><td>2019-12-05</td><td>2019</td><td>12</td><td>5</td><td>4</td><td class=vellipsis>&hellip;</td><td>Grapes</td><td>2019-07-28</td><td>2018-12-24<span class=sp>T</span>23:03:33</td><td>130</td><td>2.98267e+13</td></tr>\n",
       "    <tr><td class='row_index'>3</td><td>U1</td><td>2020-03-22<span class=sp>T</span>19:29:38</td><td>Water</td><td>0.2</td><td>1</td><td>2020-03-22</td><td>2020</td><td>3</td><td>22</td><td>7</td><td class=vellipsis>&hellip;</td><td>Banana</td><td>2020-03-05</td><td>2019-12-05<span class=sp>T</span>04:15:42</td><td>17</td><td>9.38604e+12</td></tr>\n",
       "    <tr><td class='row_index'>4</td><td>U1</td><td>2020-04-01<span class=sp>T</span>13:21:41</td><td>Banana</td><td>0.7</td><td>2</td><td>2020-04-01</td><td>2020</td><td>4</td><td>1</td><td>3</td><td class=vellipsis>&hellip;</td><td>Water</td><td>2020-03-30</td><td>2020-03-22<span class=sp>T</span>19:29:38</td><td>2</td><td>8.41923e+11</td></tr>\n",
       "    <tr><td class='row_index'>5</td><td>U2</td><td>2017-05-22<span class=sp>T</span>09:54:21</td><td>Bread</td><td>0.6</td><td>2</td><td>2017-05-22</td><td>2017</td><td>5</td><td>22</td><td>1</td><td class=vellipsis>&hellip;</td><td>Water</td><td>2017-01-01</td><td><span class=na>NA</span></td><td>141</td><td><span class=na>NA</span></td></tr>\n",
       "    <tr><td class='row_index'>6</td><td>U2</td><td>2020-07-08<span class=sp>T</span>11:45:25</td><td>Grapes</td><td>1.5</td><td>1</td><td>2020-07-08</td><td>2020</td><td>7</td><td>8</td><td>3</td><td class=vellipsis>&hellip;</td><td>Banana</td><td>2020-04-01</td><td>2017-05-22<span class=sp>T</span>09:54:21</td><td>98</td><td>9.87619e+13</td></tr>\n",
       "    <tr><td class='row_index'>7</td><td>U3</td><td>2018-11-09<span class=sp>T</span>15:00:01</td><td>Banana</td><td>0.7</td><td>1</td><td>2018-11-09</td><td>2018</td><td>11</td><td>9</td><td>5</td><td class=vellipsis>&hellip;</td><td>Eggs</td><td>2017-05-22</td><td><span class=na>NA</span></td><td>536</td><td><span class=na>NA</span></td></tr>\n",
       "    <tr><td class='row_index'>8</td><td>U3</td><td>2020-02-02<span class=sp>T</span>03:45:34</td><td>Banana</td><td>0.7</td><td>1</td><td>2020-02-02</td><td>2020</td><td>2</td><td>2</td><td>7</td><td class=vellipsis>&hellip;</td><td>Water</td><td>2019-12-05</td><td>2018-11-09<span class=sp>T</span>15:00:01</td><td>59</td><td>3.88395e+13</td></tr>\n",
       "    <tr><td class='row_index'>9</td><td>U3</td><td>2020-12-03<span class=sp>T</span>16:23:48</td><td>Banana</td><td>0.5</td><td>3</td><td>2020-12-03</td><td>2020</td><td>12</td><td>3</td><td>4</td><td class=vellipsis>&hellip;</td><td>Bread</td><td>2020-11-19</td><td>2020-02-02<span class=sp>T</span>03:45:34</td><td>14</td><td>2.63975e+13</td></tr>\n",
       "    <tr><td class='row_index'>10</td><td>U3</td><td>2021-05-26<span class=sp>T</span>22:42:15</td><td>Bread</td><td>0.6</td><td>1</td><td>2021-05-26</td><td>2021</td><td>5</td><td>26</td><td>3</td><td class=vellipsis>&hellip;</td><td>Water</td><td>2021-02-03</td><td>2020-12-03<span class=sp>T</span>16:23:48</td><td>112</td><td>1.50563e+13</td></tr>\n",
       "    <tr><td class='row_index'>11</td><td>U4</td><td>2019-03-03<span class=sp>T</span>06:21:58</td><td>Eggs</td><td>2.3</td><td>2</td><td>2019-03-03</td><td>2019</td><td>3</td><td>3</td><td>7</td><td class=vellipsis>&hellip;</td><td>Bread</td><td>2018-12-24</td><td><span class=na>NA</span></td><td>69</td><td><span class=na>NA</span></td></tr>\n",
       "    <tr><td class='row_index'>12</td><td>U4</td><td>2020-03-05<span class=sp>T</span>07:09:12</td><td>Grapes</td><td>1.5</td><td>1</td><td>2020-03-05</td><td>2020</td><td>3</td><td>5</td><td>4</td><td class=vellipsis>&hellip;</td><td>Water</td><td>2020-02-02</td><td>2019-03-03<span class=sp>T</span>06:21:58</td><td>32</td><td>3.1798e+13</td></tr>\n",
       "    <tr><td class='row_index'>13</td><td>U4</td><td>2020-03-30<span class=sp>T</span>09:44:30</td><td>Water</td><td>0.2</td><td>1</td><td>2020-03-30</td><td>2020</td><td>3</td><td>30</td><td>1</td><td class=vellipsis>&hellip;</td><td>Grapes</td><td>2020-03-22</td><td>2020-03-05<span class=sp>T</span>07:09:12</td><td>8</td><td>2.16932e+12</td></tr>\n",
       "    <tr><td class='row_index'>14</td><td>U4</td><td>2021-06-14<span class=sp>T</span>15:49:28</td><td>Eggs</td><td>2.3</td><td>2</td><td>2021-06-14</td><td>2021</td><td>6</td><td>14</td><td>1</td><td class=vellipsis>&hellip;</td><td><span class=na>NA</span></td><td>2021-05-26</td><td>2020-03-30<span class=sp>T</span>09:44:30</td><td>19</td><td>3.81243e+13</td></tr>\n",
       "    <tr><td class='row_index'>15</td><td>U4</td><td>2021-07-01<span class=sp>T</span>04:37:31</td><td>Water</td><td>0.3</td><td>1</td><td>2021-07-01</td><td>2021</td><td>7</td><td>1</td><td>4</td><td class=vellipsis>&hellip;</td><td><span class=na>NA</span></td><td>2021-06-14</td><td>2021-06-14<span class=sp>T</span>15:49:28</td><td>17</td><td>1.42848e+12</td></tr>\n",
       "    <tr><td class='row_index'>16</td><td>U5</td><td>2019-06-17<span class=sp>T</span>16:13:39</td><td>Grapes</td><td>1.5</td><td>1</td><td>2019-06-17</td><td>2019</td><td>6</td><td>17</td><td>1</td><td class=vellipsis>&hellip;</td><td>Banana</td><td>2019-03-03</td><td><span class=na>NA</span></td><td>106</td><td><span class=na>NA</span></td></tr>\n",
       "    <tr><td class='row_index'>17</td><td>U5</td><td>2019-07-28<span class=sp>T</span>21:03:11</td><td>Bread</td><td>0.6</td><td>1</td><td>2019-07-28</td><td>2019</td><td>7</td><td>28</td><td>7</td><td class=vellipsis>&hellip;</td><td>Banana</td><td>2019-06-17</td><td>2019-06-17<span class=sp>T</span>16:13:39</td><td>41</td><td>3.55977e+12</td></tr>\n",
       "    <tr><td class='row_index'>18</td><td>U5</td><td>2020-11-19<span class=sp>T</span>18:51:22</td><td>Water</td><td>0.2</td><td>1</td><td>2020-11-19</td><td>2020</td><td>11</td><td>19</td><td>4</td><td class=vellipsis>&hellip;</td><td>Eggs</td><td>2020-07-08</td><td>2019-07-28<span class=sp>T</span>21:03:11</td><td>134</td><td>4.14641e+13</td></tr>\n",
       "    <tr><td class='row_index'>19</td><td>U5</td><td>2021-02-03<span class=sp>T</span>01:14:40</td><td>Eggs</td><td>2.1</td><td>4</td><td>2021-02-03</td><td>2021</td><td>2</td><td>3</td><td>3</td><td class=vellipsis>&hellip;</td><td>Eggs</td><td>2020-12-03</td><td>2020-11-19<span class=sp>T</span>18:51:22</td><td>62</td><td>6.503e+12</td></tr>\n",
       "  </tbody>\n",
       "  </table>\n",
       "  <div class='footer'>\n",
       "    <div class='frame_dimensions'>20 rows &times; 20 columns</div>\n",
       "  </div>\n",
       "</div>\n"
      ],
      "text/plain": [
       "<Frame#7f7debcd7f90 20x20>"
      ]
     },
     "execution_count": 12,
     "metadata": {},
     "output_type": "execute_result"
    }
   ],
   "source": [
    "data['time_diff'] = data[:, (dt.as_type(dt.f.timestamp, 'int') - dt.as_type(dt.f.previous_user_time, 'int')) / 1000]\n",
    "data"
   ]
  },
  {
   "cell_type": "markdown",
   "id": "26e0acb9",
   "metadata": {
    "papermill": {
     "duration": 0.031358,
     "end_time": "2021-07-28T06:17:28.097571",
     "exception": false,
     "start_time": "2021-07-28T06:17:28.066213",
     "status": "completed"
    },
    "tags": []
   },
   "source": [
    "✅ This completes Set 8: Time Series (Exercises 71-80) of **DatatableTon**: *💯 datatable exercises*\n",
    "\n",
    "#### Set 09 • Native FTRL • Expert • Exercises 81-90\n",
    "\n",
    "| Style | Colab | Kaggle | Binder | GitHub |\n",
    "| ----- | ----- | ------ | ------ | ------ |\n",
    "| Exercises | [![Open in Colab](https://img.shields.io/static/v1?label=&message=Open%20in%20Colab&labelColor=grey&color=blue&logo=google-colab)](https://colab.research.google.com/github/vopani/datatableton/blob/main/notebooks/09_native_ftrl_exercises.ipynb) | [![Open in Kaggle](https://img.shields.io/static/v1?label=&message=Open%20in%20Kaggle&labelColor=grey&color=blue&logo=kaggle)](https://www.kaggle.com/rohanrao/datatableton-native-ftrl-exercises) | [![Open in Binder](https://img.shields.io/static/v1?label=&message=Open%20in%20Binder&labelColor=grey&color=blue&logo=data:image/png;base64,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)](https://mybinder.org/v2/gh/vopani/datatableton/main?filepath=notebooks%2F09_native_ftrl_exercises.ipynb) | [![Open in GitHub](https://img.shields.io/static/v1?label=&message=Open%20in%20GitHub&labelColor=grey&color=blue&logo=github)](https://github.com/vopani/datatableton/blob/main/notebooks/09_native_ftrl_exercises.ipynb) |\n",
    "| Solutions | [![Open in Colab](https://img.shields.io/static/v1?label=&message=Open%20in%20Colab&labelColor=grey&color=blue&logo=google-colab)](https://colab.research.google.com/github/vopani/datatableton/blob/main/notebooks/09_native_ftrl_solutions.ipynb) | [![Open in Kaggle](https://img.shields.io/static/v1?label=&message=Open%20in%20Kaggle&labelColor=grey&color=blue&logo=kaggle)](https://www.kaggle.com/rohanrao/datatableton-native-ftrl-solutions) | [![Open in Binder](https://img.shields.io/static/v1?label=&message=Open%20in%20Binder&labelColor=grey&color=blue&logo=data:image/png;base64,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)](https://mybinder.org/v2/gh/vopani/datatableton/main?filepath=notebooks%2F09_native_ftrl_solutions.ipynb) | [![Open in GitHub](https://img.shields.io/static/v1?label=&message=Open%20in%20GitHub&labelColor=grey&color=blue&logo=github)](https://github.com/vopani/datatableton/blob/main/notebooks/09_native_ftrl_solutions.ipynb) |\n",
    "\n",
    "You can find all the exercises and solutions on [GitHub](https://github.com/vopani/datatableton#exercises-)"
   ]
  }
 ],
 "metadata": {
  "kernelspec": {
   "display_name": "Python 3",
   "language": "python",
   "name": "python3"
  },
  "language_info": {
   "codemirror_mode": {
    "name": "ipython",
    "version": 3
   },
   "file_extension": ".py",
   "mimetype": "text/x-python",
   "name": "python",
   "nbconvert_exporter": "python",
   "pygments_lexer": "ipython3",
   "version": "3.7.10"
  },
  "papermill": {
   "default_parameters": {},
   "duration": 47.880941,
   "end_time": "2021-07-28T06:17:29.645056",
   "environment_variables": {},
   "exception": null,
   "input_path": "__notebook__.ipynb",
   "output_path": "__notebook__.ipynb",
   "parameters": {},
   "start_time": "2021-07-28T06:16:41.764115",
   "version": "2.3.3"
  }
 },
 "nbformat": 4,
 "nbformat_minor": 5
}
