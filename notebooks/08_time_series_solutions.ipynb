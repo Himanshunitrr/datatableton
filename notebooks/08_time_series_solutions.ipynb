{
 "cells": [
  {
   "cell_type": "markdown",
   "id": "8845d952",
   "metadata": {
    "_cell_guid": "b1076dfc-b9ad-4769-8c92-a6c4dae69d19",
    "_uuid": "8f2839f25d086af736a60e9eeb907d3b93b6e0e5",
    "papermill": {
     "duration": 0.018724,
     "end_time": "2021-07-25T04:18:18.112494",
     "exception": false,
     "start_time": "2021-07-25T04:18:18.093770",
     "status": "completed"
    },
    "tags": []
   },
   "source": [
    "<center>\n",
    "    <h1>DatatableTon</h1>\n",
    "    💯 datatable exercises\n",
    "    <br>\n",
    "    <br>\n",
    "    <a href='https://github.com/vopani/datatableton/blob/master/LICENSE'>\n",
    "        <img src='https://img.shields.io/badge/license-Apache%202.0-blue.svg?logo=apache'>\n",
    "    </a>\n",
    "    <a href='https://github.com/vopani/datatableton'>\n",
    "        <img src='https://img.shields.io/github/stars/vopani/datatableton?color=yellowgreen&logo=github'>\n",
    "    </a>\n",
    "    <a href='https://twitter.com/vopani'>\n",
    "        <img src='https://img.shields.io/twitter/follow/vopani'>\n",
    "    </a>\n",
    "</center>"
   ]
  },
  {
   "cell_type": "markdown",
   "id": "6fae2b30",
   "metadata": {
    "papermill": {
     "duration": 0.025586,
     "end_time": "2021-07-25T04:18:18.156117",
     "exception": false,
     "start_time": "2021-07-25T04:18:18.130531",
     "status": "completed"
    },
    "tags": []
   },
   "source": [
    "<center>\n",
    "    This is Set 8: Time (Exercises 71-80) of <b>DatatableTon</b>: <i>💯 datatable exercises</i>\n",
    "    <br>\n",
    "    You can find all the exercises and solutions on <a href=\"https://github.com/vopani/datatableton#exercises-\">GitHub</a>\n",
    "</center>"
   ]
  },
  {
   "cell_type": "markdown",
   "id": "8af46b1c",
   "metadata": {
    "papermill": {
     "duration": 0.019256,
     "end_time": "2021-07-25T04:18:18.194206",
     "exception": false,
     "start_time": "2021-07-25T04:18:18.174950",
     "status": "completed"
    },
    "tags": []
   },
   "source": [
    "**Prerequisites**\n",
    "* The `datatable` package should be upgraded to the latest version (or v1.0.0+).\n",
    "* The sample dataset [datatableton_sample.csv](https://github.com/vopani/datatableton/blob/main/data/datatableton_sample.csv) will be used for the exercises."
   ]
  },
  {
   "cell_type": "code",
   "execution_count": 1,
   "id": "717e5ff1",
   "metadata": {
    "_kg_hide-output": true,
    "execution": {
     "iopub.execute_input": "2021-07-25T04:18:18.256851Z",
     "iopub.status.busy": "2021-07-25T04:18:18.255623Z",
     "iopub.status.idle": "2021-07-25T04:18:54.920911Z",
     "shell.execute_reply": "2021-07-25T04:18:54.921432Z"
    },
    "papermill": {
     "duration": 36.700061,
     "end_time": "2021-07-25T04:18:54.921759",
     "exception": false,
     "start_time": "2021-07-25T04:18:18.221698",
     "status": "completed"
    },
    "tags": []
   },
   "outputs": [
    {
     "name": "stdout",
     "output_type": "stream",
     "text": [
      "Requirement already satisfied: pip in /opt/conda/lib/python3.7/site-packages (21.1.2)\r\n",
      "Collecting pip\r\n",
      "  Downloading pip-21.1.3-py3-none-any.whl (1.5 MB)\r\n",
      "\u001b[K     |████████████████████████████████| 1.5 MB 1.2 MB/s \r\n",
      "\u001b[?25hInstalling collected packages: pip\r\n",
      "  Attempting uninstall: pip\r\n",
      "    Found existing installation: pip 21.1.2\r\n",
      "    Uninstalling pip-21.1.2:\r\n",
      "      Successfully uninstalled pip-21.1.2\r\n",
      "Successfully installed pip-21.1.3\r\n",
      "\u001b[33mWARNING: Running pip as root will break packages and permissions. You should install packages reliably by using venv: https://pip.pypa.io/warnings/venv\u001b[0m\r\n",
      "Requirement already satisfied: datatable in /opt/conda/lib/python3.7/site-packages (1.0.0)\r\n",
      "\u001b[33mWARNING: Running pip as the 'root' user can result in broken permissions and conflicting behaviour with the system package manager. It is recommended to use a virtual environment instead: https://pip.pypa.io/warnings/venv\u001b[0m\r\n",
      "--2021-07-25 04:18:54--  https://raw.githubusercontent.com/vopani/datatableton/main/data/datatableton_sample.csv\r\n",
      "Resolving raw.githubusercontent.com (raw.githubusercontent.com)... 185.199.110.133, 185.199.111.133, 185.199.108.133, ...\r\n",
      "Connecting to raw.githubusercontent.com (raw.githubusercontent.com)|185.199.110.133|:443... connected.\r\n",
      "HTTP request sent, awaiting response... 200 OK\r\n",
      "Length: 940 [text/plain]\r\n",
      "Saving to: ‘datatableton_sample.csv’\r\n",
      "\r\n",
      "datatableton_sample 100%[===================>]     940  --.-KB/s    in 0s      \r\n",
      "\r\n",
      "2021-07-25 04:18:54 (27.1 MB/s) - ‘datatableton_sample.csv’ saved [940/940]\r\n",
      "\r\n"
     ]
    }
   ],
   "source": [
    "!python3 -m pip install -U pip\n",
    "!python3 -m pip install -U datatable\n",
    "!wget https://raw.githubusercontent.com/vopani/datatableton/main/data/datatableton_sample.csv"
   ]
  },
  {
   "cell_type": "code",
   "execution_count": 2,
   "id": "a255a04e",
   "metadata": {
    "execution": {
     "iopub.execute_input": "2021-07-25T04:18:54.976582Z",
     "iopub.status.busy": "2021-07-25T04:18:54.975898Z",
     "iopub.status.idle": "2021-07-25T04:18:55.229917Z",
     "shell.execute_reply": "2021-07-25T04:18:55.229249Z",
     "shell.execute_reply.started": "2021-07-10T07:32:37.006903Z"
    },
    "papermill": {
     "duration": 0.284271,
     "end_time": "2021-07-25T04:18:55.230077",
     "exception": false,
     "start_time": "2021-07-25T04:18:54.945806",
     "status": "completed"
    },
    "tags": []
   },
   "outputs": [
    {
     "data": {
      "text/html": [
       "<style type='text/css'>\n",
       ".datatable table.frame { margin-bottom: 0; }\n",
       ".datatable table.frame thead { border-bottom: none; }\n",
       ".datatable table.frame tr.coltypes td {  color: #FFFFFF;  line-height: 6px;  padding: 0 0.5em;}\n",
       ".datatable .bool    { background: #DDDD99; }\n",
       ".datatable .object  { background: #565656; }\n",
       ".datatable .int     { background: #5D9E5D; }\n",
       ".datatable .float   { background: #4040CC; }\n",
       ".datatable .str     { background: #CC4040; }\n",
       ".datatable .time    { background: #40CC40; }\n",
       ".datatable .row_index {  background: var(--jp-border-color3);  border-right: 1px solid var(--jp-border-color0);  color: var(--jp-ui-font-color3);  font-size: 9px;}\n",
       ".datatable .frame tbody td { text-align: left; }\n",
       ".datatable .frame tr.coltypes .row_index {  background: var(--jp-border-color0);}\n",
       ".datatable th:nth-child(2) { padding-left: 12px; }\n",
       ".datatable .hellipsis {  color: var(--jp-cell-editor-border-color);}\n",
       ".datatable .vellipsis {  background: var(--jp-layout-color0);  color: var(--jp-cell-editor-border-color);}\n",
       ".datatable .na {  color: var(--jp-cell-editor-border-color);  font-size: 80%;}\n",
       ".datatable .sp {  opacity: 0.25;}\n",
       ".datatable .footer { font-size: 9px; }\n",
       ".datatable .frame_dimensions {  background: var(--jp-border-color3);  border-top: 1px solid var(--jp-border-color0);  color: var(--jp-ui-font-color3);  display: inline-block;  opacity: 0.6;  padding: 1px 10px 1px 5px;}\n",
       "</style>\n"
      ],
      "text/plain": [
       "<IPython.core.display.HTML object>"
      ]
     },
     "metadata": {},
     "output_type": "display_data"
    },
    {
     "data": {
      "text/html": [
       "<div class='datatable'>\n",
       "  <table class='frame'>\n",
       "  <thead>\n",
       "    <tr class='colnames'><td class='row_index'></td><th>timestamp</th><th>user</th><th>product</th><th>price</th><th>quantity</th></tr>\n",
       "    <tr class='coltypes'><td class='row_index'></td><td class='time' title='time64'>&#x25AA;&#x25AA;&#x25AA;&#x25AA;&#x25AA;&#x25AA;&#x25AA;&#x25AA;</td><td class='str' title='str32'>&#x25AA;&#x25AA;&#x25AA;&#x25AA;</td><td class='str' title='str32'>&#x25AA;&#x25AA;&#x25AA;&#x25AA;</td><td class='float' title='float64'>&#x25AA;&#x25AA;&#x25AA;&#x25AA;&#x25AA;&#x25AA;&#x25AA;&#x25AA;</td><td class='int' title='int32'>&#x25AA;&#x25AA;&#x25AA;&#x25AA;</td></tr>\n",
       "  </thead>\n",
       "  <tbody>\n",
       "    <tr><td class='row_index'>0</td><td>2017-01-01<span class=sp>T</span>13:22:41</td><td>U1</td><td>Eggs</td><td>2.3</td><td>2</td></tr>\n",
       "    <tr><td class='row_index'>1</td><td>2017-05-22<span class=sp>T</span>09:54:21</td><td>U2</td><td>Bread</td><td>0.6</td><td>2</td></tr>\n",
       "    <tr><td class='row_index'>2</td><td>2018-11-09<span class=sp>T</span>15:00:01</td><td>U3</td><td>Banana</td><td>0.7</td><td>1</td></tr>\n",
       "    <tr><td class='row_index'>3</td><td>2018-12-24<span class=sp>T</span>23:03:33</td><td>U1</td><td>Water</td><td>0.2</td><td>1</td></tr>\n",
       "    <tr><td class='row_index'>4</td><td>2019-03-03<span class=sp>T</span>06:21:58</td><td>U4</td><td>Eggs</td><td>2.3</td><td>2</td></tr>\n",
       "    <tr><td class='row_index'>5</td><td>2019-06-17<span class=sp>T</span>16:13:39</td><td>U5</td><td>Grapes</td><td>1.5</td><td>1</td></tr>\n",
       "    <tr><td class='row_index'>6</td><td>2019-07-28<span class=sp>T</span>21:03:11</td><td>U5</td><td>Bread</td><td>0.6</td><td>1</td></tr>\n",
       "    <tr><td class='row_index'>7</td><td>2019-12-05<span class=sp>T</span>04:15:42</td><td>U1</td><td>Banana</td><td>0.7</td><td>2</td></tr>\n",
       "    <tr><td class='row_index'>8</td><td>2020-02-02<span class=sp>T</span>03:45:34</td><td>U3</td><td>Banana</td><td>0.7</td><td>1</td></tr>\n",
       "    <tr><td class='row_index'>9</td><td>2020-03-05<span class=sp>T</span>07:09:12</td><td>U4</td><td>Grapes</td><td>1.5</td><td>1</td></tr>\n",
       "    <tr><td class='row_index'>10</td><td>2020-03-22<span class=sp>T</span>19:29:38</td><td>U1</td><td>Water</td><td>0.2</td><td>1</td></tr>\n",
       "    <tr><td class='row_index'>11</td><td>2020-03-30<span class=sp>T</span>09:44:30</td><td>U4</td><td>Water</td><td>0.2</td><td>1</td></tr>\n",
       "    <tr><td class='row_index'>12</td><td>2020-04-01<span class=sp>T</span>13:21:41</td><td>U1</td><td>Banana</td><td>0.7</td><td>2</td></tr>\n",
       "    <tr><td class='row_index'>13</td><td>2020-07-08<span class=sp>T</span>11:45:25</td><td>U2</td><td>Grapes</td><td>1.5</td><td>1</td></tr>\n",
       "    <tr><td class='row_index'>14</td><td>2020-11-19<span class=sp>T</span>18:51:22</td><td>U5</td><td>Water</td><td>0.2</td><td>1</td></tr>\n",
       "    <tr><td class='row_index'>15</td><td>2020-12-03<span class=sp>T</span>16:23:48</td><td>U3</td><td>Banana</td><td>0.5</td><td>3</td></tr>\n",
       "    <tr><td class='row_index'>16</td><td>2021-02-03<span class=sp>T</span>01:14:40</td><td>U5</td><td>Eggs</td><td>2.1</td><td>4</td></tr>\n",
       "    <tr><td class='row_index'>17</td><td>2021-05-26<span class=sp>T</span>22:42:15</td><td>U3</td><td>Bread</td><td>0.6</td><td>1</td></tr>\n",
       "    <tr><td class='row_index'>18</td><td>2021-06-14<span class=sp>T</span>15:49:28</td><td>U4</td><td>Eggs</td><td>2.3</td><td>2</td></tr>\n",
       "    <tr><td class='row_index'>19</td><td>2021-07-01<span class=sp>T</span>04:37:31</td><td>U4</td><td>Water</td><td>0.3</td><td>1</td></tr>\n",
       "  </tbody>\n",
       "  </table>\n",
       "  <div class='footer'>\n",
       "    <div class='frame_dimensions'>20 rows &times; 5 columns</div>\n",
       "  </div>\n",
       "</div>\n"
      ],
      "text/plain": [
       "<Frame#7fee61712210 20x5>"
      ]
     },
     "execution_count": 2,
     "metadata": {},
     "output_type": "execute_result"
    }
   ],
   "source": [
    "import datatable as dt\n",
    "\n",
    "data = dt.fread('datatableton_sample.csv')\n",
    "del data[:, ['age', 'category']]\n",
    "\n",
    "data"
   ]
  },
  {
   "cell_type": "markdown",
   "id": "ebf51689",
   "metadata": {
    "papermill": {
     "duration": 0.024368,
     "end_time": "2021-07-25T04:18:55.279636",
     "exception": false,
     "start_time": "2021-07-25T04:18:55.255268",
     "status": "completed"
    },
    "tags": []
   },
   "source": [
    "**Exercise 71: Extract the date from `timestamp` and add it as a column `date` in `data`**"
   ]
  },
  {
   "cell_type": "code",
   "execution_count": 3,
   "id": "192f0127",
   "metadata": {
    "execution": {
     "iopub.execute_input": "2021-07-25T04:18:55.336462Z",
     "iopub.status.busy": "2021-07-25T04:18:55.335747Z",
     "iopub.status.idle": "2021-07-25T04:18:55.340157Z",
     "shell.execute_reply": "2021-07-25T04:18:55.339617Z",
     "shell.execute_reply.started": "2021-07-10T07:32:45.700223Z"
    },
    "papermill": {
     "duration": 0.035525,
     "end_time": "2021-07-25T04:18:55.340318",
     "exception": false,
     "start_time": "2021-07-25T04:18:55.304793",
     "status": "completed"
    },
    "tags": []
   },
   "outputs": [
    {
     "data": {
      "text/html": [
       "<div class='datatable'>\n",
       "  <table class='frame'>\n",
       "  <thead>\n",
       "    <tr class='colnames'><td class='row_index'></td><th>timestamp</th><th>user</th><th>product</th><th>price</th><th>quantity</th><th>date</th></tr>\n",
       "    <tr class='coltypes'><td class='row_index'></td><td class='time' title='time64'>&#x25AA;&#x25AA;&#x25AA;&#x25AA;&#x25AA;&#x25AA;&#x25AA;&#x25AA;</td><td class='str' title='str32'>&#x25AA;&#x25AA;&#x25AA;&#x25AA;</td><td class='str' title='str32'>&#x25AA;&#x25AA;&#x25AA;&#x25AA;</td><td class='float' title='float64'>&#x25AA;&#x25AA;&#x25AA;&#x25AA;&#x25AA;&#x25AA;&#x25AA;&#x25AA;</td><td class='int' title='int32'>&#x25AA;&#x25AA;&#x25AA;&#x25AA;</td><td class='time' title='date32'>&#x25AA;&#x25AA;&#x25AA;&#x25AA;</td></tr>\n",
       "  </thead>\n",
       "  <tbody>\n",
       "    <tr><td class='row_index'>0</td><td>2017-01-01<span class=sp>T</span>13:22:41</td><td>U1</td><td>Eggs</td><td>2.3</td><td>2</td><td>2017-01-01</td></tr>\n",
       "    <tr><td class='row_index'>1</td><td>2017-05-22<span class=sp>T</span>09:54:21</td><td>U2</td><td>Bread</td><td>0.6</td><td>2</td><td>2017-05-22</td></tr>\n",
       "    <tr><td class='row_index'>2</td><td>2018-11-09<span class=sp>T</span>15:00:01</td><td>U3</td><td>Banana</td><td>0.7</td><td>1</td><td>2018-11-09</td></tr>\n",
       "    <tr><td class='row_index'>3</td><td>2018-12-24<span class=sp>T</span>23:03:33</td><td>U1</td><td>Water</td><td>0.2</td><td>1</td><td>2018-12-24</td></tr>\n",
       "    <tr><td class='row_index'>4</td><td>2019-03-03<span class=sp>T</span>06:21:58</td><td>U4</td><td>Eggs</td><td>2.3</td><td>2</td><td>2019-03-03</td></tr>\n",
       "    <tr><td class='row_index'>5</td><td>2019-06-17<span class=sp>T</span>16:13:39</td><td>U5</td><td>Grapes</td><td>1.5</td><td>1</td><td>2019-06-17</td></tr>\n",
       "    <tr><td class='row_index'>6</td><td>2019-07-28<span class=sp>T</span>21:03:11</td><td>U5</td><td>Bread</td><td>0.6</td><td>1</td><td>2019-07-28</td></tr>\n",
       "    <tr><td class='row_index'>7</td><td>2019-12-05<span class=sp>T</span>04:15:42</td><td>U1</td><td>Banana</td><td>0.7</td><td>2</td><td>2019-12-05</td></tr>\n",
       "    <tr><td class='row_index'>8</td><td>2020-02-02<span class=sp>T</span>03:45:34</td><td>U3</td><td>Banana</td><td>0.7</td><td>1</td><td>2020-02-02</td></tr>\n",
       "    <tr><td class='row_index'>9</td><td>2020-03-05<span class=sp>T</span>07:09:12</td><td>U4</td><td>Grapes</td><td>1.5</td><td>1</td><td>2020-03-05</td></tr>\n",
       "    <tr><td class='row_index'>10</td><td>2020-03-22<span class=sp>T</span>19:29:38</td><td>U1</td><td>Water</td><td>0.2</td><td>1</td><td>2020-03-22</td></tr>\n",
       "    <tr><td class='row_index'>11</td><td>2020-03-30<span class=sp>T</span>09:44:30</td><td>U4</td><td>Water</td><td>0.2</td><td>1</td><td>2020-03-30</td></tr>\n",
       "    <tr><td class='row_index'>12</td><td>2020-04-01<span class=sp>T</span>13:21:41</td><td>U1</td><td>Banana</td><td>0.7</td><td>2</td><td>2020-04-01</td></tr>\n",
       "    <tr><td class='row_index'>13</td><td>2020-07-08<span class=sp>T</span>11:45:25</td><td>U2</td><td>Grapes</td><td>1.5</td><td>1</td><td>2020-07-08</td></tr>\n",
       "    <tr><td class='row_index'>14</td><td>2020-11-19<span class=sp>T</span>18:51:22</td><td>U5</td><td>Water</td><td>0.2</td><td>1</td><td>2020-11-19</td></tr>\n",
       "    <tr><td class='row_index'>15</td><td>2020-12-03<span class=sp>T</span>16:23:48</td><td>U3</td><td>Banana</td><td>0.5</td><td>3</td><td>2020-12-03</td></tr>\n",
       "    <tr><td class='row_index'>16</td><td>2021-02-03<span class=sp>T</span>01:14:40</td><td>U5</td><td>Eggs</td><td>2.1</td><td>4</td><td>2021-02-03</td></tr>\n",
       "    <tr><td class='row_index'>17</td><td>2021-05-26<span class=sp>T</span>22:42:15</td><td>U3</td><td>Bread</td><td>0.6</td><td>1</td><td>2021-05-26</td></tr>\n",
       "    <tr><td class='row_index'>18</td><td>2021-06-14<span class=sp>T</span>15:49:28</td><td>U4</td><td>Eggs</td><td>2.3</td><td>2</td><td>2021-06-14</td></tr>\n",
       "    <tr><td class='row_index'>19</td><td>2021-07-01<span class=sp>T</span>04:37:31</td><td>U4</td><td>Water</td><td>0.3</td><td>1</td><td>2021-07-01</td></tr>\n",
       "  </tbody>\n",
       "  </table>\n",
       "  <div class='footer'>\n",
       "    <div class='frame_dimensions'>20 rows &times; 6 columns</div>\n",
       "  </div>\n",
       "</div>\n"
      ],
      "text/plain": [
       "<Frame#7fee61712210 20x6>"
      ]
     },
     "execution_count": 3,
     "metadata": {},
     "output_type": "execute_result"
    }
   ],
   "source": [
    "data['date'] = dt.as_type(dt.f.timestamp, 'date')\n",
    "data"
   ]
  },
  {
   "cell_type": "markdown",
   "id": "505a49ac",
   "metadata": {
    "papermill": {
     "duration": 0.025676,
     "end_time": "2021-07-25T04:18:55.392390",
     "exception": false,
     "start_time": "2021-07-25T04:18:55.366714",
     "status": "completed"
    },
    "tags": []
   },
   "source": [
    "**Exercise 72: Extract the year, month, day and day-of-week from `date` and add them as new columns `year`, `month`, `day` and `day_of_week` in `data`**"
   ]
  },
  {
   "cell_type": "code",
   "execution_count": 4,
   "id": "f3fb95f9",
   "metadata": {
    "execution": {
     "iopub.execute_input": "2021-07-25T04:18:55.452988Z",
     "iopub.status.busy": "2021-07-25T04:18:55.452303Z",
     "iopub.status.idle": "2021-07-25T04:18:55.457108Z",
     "shell.execute_reply": "2021-07-25T04:18:55.456573Z",
     "shell.execute_reply.started": "2021-07-10T07:32:54.581770Z"
    },
    "papermill": {
     "duration": 0.03887,
     "end_time": "2021-07-25T04:18:55.457254",
     "exception": false,
     "start_time": "2021-07-25T04:18:55.418384",
     "status": "completed"
    },
    "tags": []
   },
   "outputs": [
    {
     "data": {
      "text/html": [
       "<div class='datatable'>\n",
       "  <table class='frame'>\n",
       "  <thead>\n",
       "    <tr class='colnames'><td class='row_index'></td><th>timestamp</th><th>user</th><th>product</th><th>price</th><th>quantity</th><th>date</th><th>year</th><th>month</th><th>day</th><th>day_of_week</th></tr>\n",
       "    <tr class='coltypes'><td class='row_index'></td><td class='time' title='time64'>&#x25AA;&#x25AA;&#x25AA;&#x25AA;&#x25AA;&#x25AA;&#x25AA;&#x25AA;</td><td class='str' title='str32'>&#x25AA;&#x25AA;&#x25AA;&#x25AA;</td><td class='str' title='str32'>&#x25AA;&#x25AA;&#x25AA;&#x25AA;</td><td class='float' title='float64'>&#x25AA;&#x25AA;&#x25AA;&#x25AA;&#x25AA;&#x25AA;&#x25AA;&#x25AA;</td><td class='int' title='int32'>&#x25AA;&#x25AA;&#x25AA;&#x25AA;</td><td class='time' title='date32'>&#x25AA;&#x25AA;&#x25AA;&#x25AA;</td><td class='int' title='int32'>&#x25AA;&#x25AA;&#x25AA;&#x25AA;</td><td class='int' title='int32'>&#x25AA;&#x25AA;&#x25AA;&#x25AA;</td><td class='int' title='int32'>&#x25AA;&#x25AA;&#x25AA;&#x25AA;</td><td class='int' title='int32'>&#x25AA;&#x25AA;&#x25AA;&#x25AA;</td></tr>\n",
       "  </thead>\n",
       "  <tbody>\n",
       "    <tr><td class='row_index'>0</td><td>2017-01-01<span class=sp>T</span>13:22:41</td><td>U1</td><td>Eggs</td><td>2.3</td><td>2</td><td>2017-01-01</td><td>2017</td><td>1</td><td>1</td><td>7</td></tr>\n",
       "    <tr><td class='row_index'>1</td><td>2017-05-22<span class=sp>T</span>09:54:21</td><td>U2</td><td>Bread</td><td>0.6</td><td>2</td><td>2017-05-22</td><td>2017</td><td>5</td><td>22</td><td>1</td></tr>\n",
       "    <tr><td class='row_index'>2</td><td>2018-11-09<span class=sp>T</span>15:00:01</td><td>U3</td><td>Banana</td><td>0.7</td><td>1</td><td>2018-11-09</td><td>2018</td><td>11</td><td>9</td><td>5</td></tr>\n",
       "    <tr><td class='row_index'>3</td><td>2018-12-24<span class=sp>T</span>23:03:33</td><td>U1</td><td>Water</td><td>0.2</td><td>1</td><td>2018-12-24</td><td>2018</td><td>12</td><td>24</td><td>1</td></tr>\n",
       "    <tr><td class='row_index'>4</td><td>2019-03-03<span class=sp>T</span>06:21:58</td><td>U4</td><td>Eggs</td><td>2.3</td><td>2</td><td>2019-03-03</td><td>2019</td><td>3</td><td>3</td><td>7</td></tr>\n",
       "    <tr><td class='row_index'>5</td><td>2019-06-17<span class=sp>T</span>16:13:39</td><td>U5</td><td>Grapes</td><td>1.5</td><td>1</td><td>2019-06-17</td><td>2019</td><td>6</td><td>17</td><td>1</td></tr>\n",
       "    <tr><td class='row_index'>6</td><td>2019-07-28<span class=sp>T</span>21:03:11</td><td>U5</td><td>Bread</td><td>0.6</td><td>1</td><td>2019-07-28</td><td>2019</td><td>7</td><td>28</td><td>7</td></tr>\n",
       "    <tr><td class='row_index'>7</td><td>2019-12-05<span class=sp>T</span>04:15:42</td><td>U1</td><td>Banana</td><td>0.7</td><td>2</td><td>2019-12-05</td><td>2019</td><td>12</td><td>5</td><td>4</td></tr>\n",
       "    <tr><td class='row_index'>8</td><td>2020-02-02<span class=sp>T</span>03:45:34</td><td>U3</td><td>Banana</td><td>0.7</td><td>1</td><td>2020-02-02</td><td>2020</td><td>2</td><td>2</td><td>7</td></tr>\n",
       "    <tr><td class='row_index'>9</td><td>2020-03-05<span class=sp>T</span>07:09:12</td><td>U4</td><td>Grapes</td><td>1.5</td><td>1</td><td>2020-03-05</td><td>2020</td><td>3</td><td>5</td><td>4</td></tr>\n",
       "    <tr><td class='row_index'>10</td><td>2020-03-22<span class=sp>T</span>19:29:38</td><td>U1</td><td>Water</td><td>0.2</td><td>1</td><td>2020-03-22</td><td>2020</td><td>3</td><td>22</td><td>7</td></tr>\n",
       "    <tr><td class='row_index'>11</td><td>2020-03-30<span class=sp>T</span>09:44:30</td><td>U4</td><td>Water</td><td>0.2</td><td>1</td><td>2020-03-30</td><td>2020</td><td>3</td><td>30</td><td>1</td></tr>\n",
       "    <tr><td class='row_index'>12</td><td>2020-04-01<span class=sp>T</span>13:21:41</td><td>U1</td><td>Banana</td><td>0.7</td><td>2</td><td>2020-04-01</td><td>2020</td><td>4</td><td>1</td><td>3</td></tr>\n",
       "    <tr><td class='row_index'>13</td><td>2020-07-08<span class=sp>T</span>11:45:25</td><td>U2</td><td>Grapes</td><td>1.5</td><td>1</td><td>2020-07-08</td><td>2020</td><td>7</td><td>8</td><td>3</td></tr>\n",
       "    <tr><td class='row_index'>14</td><td>2020-11-19<span class=sp>T</span>18:51:22</td><td>U5</td><td>Water</td><td>0.2</td><td>1</td><td>2020-11-19</td><td>2020</td><td>11</td><td>19</td><td>4</td></tr>\n",
       "    <tr><td class='row_index'>15</td><td>2020-12-03<span class=sp>T</span>16:23:48</td><td>U3</td><td>Banana</td><td>0.5</td><td>3</td><td>2020-12-03</td><td>2020</td><td>12</td><td>3</td><td>4</td></tr>\n",
       "    <tr><td class='row_index'>16</td><td>2021-02-03<span class=sp>T</span>01:14:40</td><td>U5</td><td>Eggs</td><td>2.1</td><td>4</td><td>2021-02-03</td><td>2021</td><td>2</td><td>3</td><td>3</td></tr>\n",
       "    <tr><td class='row_index'>17</td><td>2021-05-26<span class=sp>T</span>22:42:15</td><td>U3</td><td>Bread</td><td>0.6</td><td>1</td><td>2021-05-26</td><td>2021</td><td>5</td><td>26</td><td>3</td></tr>\n",
       "    <tr><td class='row_index'>18</td><td>2021-06-14<span class=sp>T</span>15:49:28</td><td>U4</td><td>Eggs</td><td>2.3</td><td>2</td><td>2021-06-14</td><td>2021</td><td>6</td><td>14</td><td>1</td></tr>\n",
       "    <tr><td class='row_index'>19</td><td>2021-07-01<span class=sp>T</span>04:37:31</td><td>U4</td><td>Water</td><td>0.3</td><td>1</td><td>2021-07-01</td><td>2021</td><td>7</td><td>1</td><td>4</td></tr>\n",
       "  </tbody>\n",
       "  </table>\n",
       "  <div class='footer'>\n",
       "    <div class='frame_dimensions'>20 rows &times; 10 columns</div>\n",
       "  </div>\n",
       "</div>\n"
      ],
      "text/plain": [
       "<Frame#7fee61712210 20x10>"
      ]
     },
     "execution_count": 4,
     "metadata": {},
     "output_type": "execute_result"
    }
   ],
   "source": [
    "data['year'] = dt.time.year(dt.f.date)\n",
    "data['month'] = dt.time.month(dt.f.date)\n",
    "data['day'] = dt.time.day(dt.f.date)\n",
    "data['day_of_week'] = dt.time.day_of_week(dt.f.date)\n",
    "data"
   ]
  },
  {
   "cell_type": "markdown",
   "id": "e14fa5b1",
   "metadata": {
    "papermill": {
     "duration": 0.025734,
     "end_time": "2021-07-25T04:18:55.509101",
     "exception": false,
     "start_time": "2021-07-25T04:18:55.483367",
     "status": "completed"
    },
    "tags": []
   },
   "source": [
    "**Exercise 73: Extract the hour, minute and second from `timestamp` and add them as new columns `hour`, `minute` and `second` in `data`**"
   ]
  },
  {
   "cell_type": "code",
   "execution_count": 5,
   "id": "ed5eae96",
   "metadata": {
    "execution": {
     "iopub.execute_input": "2021-07-25T04:18:55.572643Z",
     "iopub.status.busy": "2021-07-25T04:18:55.571958Z",
     "iopub.status.idle": "2021-07-25T04:18:55.577155Z",
     "shell.execute_reply": "2021-07-25T04:18:55.576474Z",
     "shell.execute_reply.started": "2021-07-10T07:33:04.025822Z"
    },
    "papermill": {
     "duration": 0.039926,
     "end_time": "2021-07-25T04:18:55.577307",
     "exception": false,
     "start_time": "2021-07-25T04:18:55.537381",
     "status": "completed"
    },
    "tags": []
   },
   "outputs": [
    {
     "data": {
      "text/html": [
       "<div class='datatable'>\n",
       "  <table class='frame'>\n",
       "  <thead>\n",
       "    <tr class='colnames'><td class='row_index'></td><th>timestamp</th><th>user</th><th>product</th><th>price</th><th>quantity</th><th>date</th><th>year</th><th>month</th><th>day</th><th>day_of_week</th><th>hour</th><th>minute</th><th>second</th></tr>\n",
       "    <tr class='coltypes'><td class='row_index'></td><td class='time' title='time64'>&#x25AA;&#x25AA;&#x25AA;&#x25AA;&#x25AA;&#x25AA;&#x25AA;&#x25AA;</td><td class='str' title='str32'>&#x25AA;&#x25AA;&#x25AA;&#x25AA;</td><td class='str' title='str32'>&#x25AA;&#x25AA;&#x25AA;&#x25AA;</td><td class='float' title='float64'>&#x25AA;&#x25AA;&#x25AA;&#x25AA;&#x25AA;&#x25AA;&#x25AA;&#x25AA;</td><td class='int' title='int32'>&#x25AA;&#x25AA;&#x25AA;&#x25AA;</td><td class='time' title='date32'>&#x25AA;&#x25AA;&#x25AA;&#x25AA;</td><td class='int' title='int32'>&#x25AA;&#x25AA;&#x25AA;&#x25AA;</td><td class='int' title='int32'>&#x25AA;&#x25AA;&#x25AA;&#x25AA;</td><td class='int' title='int32'>&#x25AA;&#x25AA;&#x25AA;&#x25AA;</td><td class='int' title='int32'>&#x25AA;&#x25AA;&#x25AA;&#x25AA;</td><td class='int' title='int32'>&#x25AA;&#x25AA;&#x25AA;&#x25AA;</td><td class='int' title='int32'>&#x25AA;&#x25AA;&#x25AA;&#x25AA;</td><td class='int' title='int32'>&#x25AA;&#x25AA;&#x25AA;&#x25AA;</td></tr>\n",
       "  </thead>\n",
       "  <tbody>\n",
       "    <tr><td class='row_index'>0</td><td>2017-01-01<span class=sp>T</span>13:22:41</td><td>U1</td><td>Eggs</td><td>2.3</td><td>2</td><td>2017-01-01</td><td>2017</td><td>1</td><td>1</td><td>7</td><td>13</td><td>22</td><td>41</td></tr>\n",
       "    <tr><td class='row_index'>1</td><td>2017-05-22<span class=sp>T</span>09:54:21</td><td>U2</td><td>Bread</td><td>0.6</td><td>2</td><td>2017-05-22</td><td>2017</td><td>5</td><td>22</td><td>1</td><td>9</td><td>54</td><td>21</td></tr>\n",
       "    <tr><td class='row_index'>2</td><td>2018-11-09<span class=sp>T</span>15:00:01</td><td>U3</td><td>Banana</td><td>0.7</td><td>1</td><td>2018-11-09</td><td>2018</td><td>11</td><td>9</td><td>5</td><td>15</td><td>0</td><td>1</td></tr>\n",
       "    <tr><td class='row_index'>3</td><td>2018-12-24<span class=sp>T</span>23:03:33</td><td>U1</td><td>Water</td><td>0.2</td><td>1</td><td>2018-12-24</td><td>2018</td><td>12</td><td>24</td><td>1</td><td>23</td><td>3</td><td>33</td></tr>\n",
       "    <tr><td class='row_index'>4</td><td>2019-03-03<span class=sp>T</span>06:21:58</td><td>U4</td><td>Eggs</td><td>2.3</td><td>2</td><td>2019-03-03</td><td>2019</td><td>3</td><td>3</td><td>7</td><td>6</td><td>21</td><td>58</td></tr>\n",
       "    <tr><td class='row_index'>5</td><td>2019-06-17<span class=sp>T</span>16:13:39</td><td>U5</td><td>Grapes</td><td>1.5</td><td>1</td><td>2019-06-17</td><td>2019</td><td>6</td><td>17</td><td>1</td><td>16</td><td>13</td><td>39</td></tr>\n",
       "    <tr><td class='row_index'>6</td><td>2019-07-28<span class=sp>T</span>21:03:11</td><td>U5</td><td>Bread</td><td>0.6</td><td>1</td><td>2019-07-28</td><td>2019</td><td>7</td><td>28</td><td>7</td><td>21</td><td>3</td><td>11</td></tr>\n",
       "    <tr><td class='row_index'>7</td><td>2019-12-05<span class=sp>T</span>04:15:42</td><td>U1</td><td>Banana</td><td>0.7</td><td>2</td><td>2019-12-05</td><td>2019</td><td>12</td><td>5</td><td>4</td><td>4</td><td>15</td><td>42</td></tr>\n",
       "    <tr><td class='row_index'>8</td><td>2020-02-02<span class=sp>T</span>03:45:34</td><td>U3</td><td>Banana</td><td>0.7</td><td>1</td><td>2020-02-02</td><td>2020</td><td>2</td><td>2</td><td>7</td><td>3</td><td>45</td><td>34</td></tr>\n",
       "    <tr><td class='row_index'>9</td><td>2020-03-05<span class=sp>T</span>07:09:12</td><td>U4</td><td>Grapes</td><td>1.5</td><td>1</td><td>2020-03-05</td><td>2020</td><td>3</td><td>5</td><td>4</td><td>7</td><td>9</td><td>12</td></tr>\n",
       "    <tr><td class='row_index'>10</td><td>2020-03-22<span class=sp>T</span>19:29:38</td><td>U1</td><td>Water</td><td>0.2</td><td>1</td><td>2020-03-22</td><td>2020</td><td>3</td><td>22</td><td>7</td><td>19</td><td>29</td><td>38</td></tr>\n",
       "    <tr><td class='row_index'>11</td><td>2020-03-30<span class=sp>T</span>09:44:30</td><td>U4</td><td>Water</td><td>0.2</td><td>1</td><td>2020-03-30</td><td>2020</td><td>3</td><td>30</td><td>1</td><td>9</td><td>44</td><td>30</td></tr>\n",
       "    <tr><td class='row_index'>12</td><td>2020-04-01<span class=sp>T</span>13:21:41</td><td>U1</td><td>Banana</td><td>0.7</td><td>2</td><td>2020-04-01</td><td>2020</td><td>4</td><td>1</td><td>3</td><td>13</td><td>21</td><td>41</td></tr>\n",
       "    <tr><td class='row_index'>13</td><td>2020-07-08<span class=sp>T</span>11:45:25</td><td>U2</td><td>Grapes</td><td>1.5</td><td>1</td><td>2020-07-08</td><td>2020</td><td>7</td><td>8</td><td>3</td><td>11</td><td>45</td><td>25</td></tr>\n",
       "    <tr><td class='row_index'>14</td><td>2020-11-19<span class=sp>T</span>18:51:22</td><td>U5</td><td>Water</td><td>0.2</td><td>1</td><td>2020-11-19</td><td>2020</td><td>11</td><td>19</td><td>4</td><td>18</td><td>51</td><td>22</td></tr>\n",
       "    <tr><td class='row_index'>15</td><td>2020-12-03<span class=sp>T</span>16:23:48</td><td>U3</td><td>Banana</td><td>0.5</td><td>3</td><td>2020-12-03</td><td>2020</td><td>12</td><td>3</td><td>4</td><td>16</td><td>23</td><td>48</td></tr>\n",
       "    <tr><td class='row_index'>16</td><td>2021-02-03<span class=sp>T</span>01:14:40</td><td>U5</td><td>Eggs</td><td>2.1</td><td>4</td><td>2021-02-03</td><td>2021</td><td>2</td><td>3</td><td>3</td><td>1</td><td>14</td><td>40</td></tr>\n",
       "    <tr><td class='row_index'>17</td><td>2021-05-26<span class=sp>T</span>22:42:15</td><td>U3</td><td>Bread</td><td>0.6</td><td>1</td><td>2021-05-26</td><td>2021</td><td>5</td><td>26</td><td>3</td><td>22</td><td>42</td><td>15</td></tr>\n",
       "    <tr><td class='row_index'>18</td><td>2021-06-14<span class=sp>T</span>15:49:28</td><td>U4</td><td>Eggs</td><td>2.3</td><td>2</td><td>2021-06-14</td><td>2021</td><td>6</td><td>14</td><td>1</td><td>15</td><td>49</td><td>28</td></tr>\n",
       "    <tr><td class='row_index'>19</td><td>2021-07-01<span class=sp>T</span>04:37:31</td><td>U4</td><td>Water</td><td>0.3</td><td>1</td><td>2021-07-01</td><td>2021</td><td>7</td><td>1</td><td>4</td><td>4</td><td>37</td><td>31</td></tr>\n",
       "  </tbody>\n",
       "  </table>\n",
       "  <div class='footer'>\n",
       "    <div class='frame_dimensions'>20 rows &times; 13 columns</div>\n",
       "  </div>\n",
       "</div>\n"
      ],
      "text/plain": [
       "<Frame#7fee61712210 20x13>"
      ]
     },
     "execution_count": 5,
     "metadata": {},
     "output_type": "execute_result"
    }
   ],
   "source": [
    "data['hour'] = dt.time.hour(dt.f.timestamp)\n",
    "data['minute'] = dt.time.minute(dt.f.timestamp)\n",
    "data['second'] = dt.time.second(dt.f.timestamp)\n",
    "data"
   ]
  },
  {
   "cell_type": "markdown",
   "id": "a1ae3bbf",
   "metadata": {
    "papermill": {
     "duration": 0.027002,
     "end_time": "2021-07-25T04:18:55.631096",
     "exception": false,
     "start_time": "2021-07-25T04:18:55.604094",
     "status": "completed"
    },
    "tags": []
   },
   "source": [
    "**Exercise 74: Create a date column `date_new` in `data` using the `year`, `month` and `day` columns**"
   ]
  },
  {
   "cell_type": "code",
   "execution_count": 6,
   "id": "ad54f0a0",
   "metadata": {
    "execution": {
     "iopub.execute_input": "2021-07-25T04:18:55.691220Z",
     "iopub.status.busy": "2021-07-25T04:18:55.690364Z",
     "iopub.status.idle": "2021-07-25T04:18:55.695809Z",
     "shell.execute_reply": "2021-07-25T04:18:55.695241Z",
     "shell.execute_reply.started": "2021-07-10T07:33:13.028877Z"
    },
    "papermill": {
     "duration": 0.038432,
     "end_time": "2021-07-25T04:18:55.695985",
     "exception": false,
     "start_time": "2021-07-25T04:18:55.657553",
     "status": "completed"
    },
    "tags": []
   },
   "outputs": [
    {
     "data": {
      "text/html": [
       "<div class='datatable'>\n",
       "  <table class='frame'>\n",
       "  <thead>\n",
       "    <tr class='colnames'><td class='row_index'></td><th>timestamp</th><th>user</th><th>product</th><th>price</th><th>quantity</th><th>date</th><th>year</th><th>month</th><th>day</th><th>day_of_week</th><th>hour</th><th>minute</th><th>second</th><th>date_new</th></tr>\n",
       "    <tr class='coltypes'><td class='row_index'></td><td class='time' title='time64'>&#x25AA;&#x25AA;&#x25AA;&#x25AA;&#x25AA;&#x25AA;&#x25AA;&#x25AA;</td><td class='str' title='str32'>&#x25AA;&#x25AA;&#x25AA;&#x25AA;</td><td class='str' title='str32'>&#x25AA;&#x25AA;&#x25AA;&#x25AA;</td><td class='float' title='float64'>&#x25AA;&#x25AA;&#x25AA;&#x25AA;&#x25AA;&#x25AA;&#x25AA;&#x25AA;</td><td class='int' title='int32'>&#x25AA;&#x25AA;&#x25AA;&#x25AA;</td><td class='time' title='date32'>&#x25AA;&#x25AA;&#x25AA;&#x25AA;</td><td class='int' title='int32'>&#x25AA;&#x25AA;&#x25AA;&#x25AA;</td><td class='int' title='int32'>&#x25AA;&#x25AA;&#x25AA;&#x25AA;</td><td class='int' title='int32'>&#x25AA;&#x25AA;&#x25AA;&#x25AA;</td><td class='int' title='int32'>&#x25AA;&#x25AA;&#x25AA;&#x25AA;</td><td class='int' title='int32'>&#x25AA;&#x25AA;&#x25AA;&#x25AA;</td><td class='int' title='int32'>&#x25AA;&#x25AA;&#x25AA;&#x25AA;</td><td class='int' title='int32'>&#x25AA;&#x25AA;&#x25AA;&#x25AA;</td><td class='time' title='date32'>&#x25AA;&#x25AA;&#x25AA;&#x25AA;</td></tr>\n",
       "  </thead>\n",
       "  <tbody>\n",
       "    <tr><td class='row_index'>0</td><td>2017-01-01<span class=sp>T</span>13:22:41</td><td>U1</td><td>Eggs</td><td>2.3</td><td>2</td><td>2017-01-01</td><td>2017</td><td>1</td><td>1</td><td>7</td><td>13</td><td>22</td><td>41</td><td>2017-01-01</td></tr>\n",
       "    <tr><td class='row_index'>1</td><td>2017-05-22<span class=sp>T</span>09:54:21</td><td>U2</td><td>Bread</td><td>0.6</td><td>2</td><td>2017-05-22</td><td>2017</td><td>5</td><td>22</td><td>1</td><td>9</td><td>54</td><td>21</td><td>2017-05-22</td></tr>\n",
       "    <tr><td class='row_index'>2</td><td>2018-11-09<span class=sp>T</span>15:00:01</td><td>U3</td><td>Banana</td><td>0.7</td><td>1</td><td>2018-11-09</td><td>2018</td><td>11</td><td>9</td><td>5</td><td>15</td><td>0</td><td>1</td><td>2018-11-09</td></tr>\n",
       "    <tr><td class='row_index'>3</td><td>2018-12-24<span class=sp>T</span>23:03:33</td><td>U1</td><td>Water</td><td>0.2</td><td>1</td><td>2018-12-24</td><td>2018</td><td>12</td><td>24</td><td>1</td><td>23</td><td>3</td><td>33</td><td>2018-12-24</td></tr>\n",
       "    <tr><td class='row_index'>4</td><td>2019-03-03<span class=sp>T</span>06:21:58</td><td>U4</td><td>Eggs</td><td>2.3</td><td>2</td><td>2019-03-03</td><td>2019</td><td>3</td><td>3</td><td>7</td><td>6</td><td>21</td><td>58</td><td>2019-03-03</td></tr>\n",
       "    <tr><td class='row_index'>5</td><td>2019-06-17<span class=sp>T</span>16:13:39</td><td>U5</td><td>Grapes</td><td>1.5</td><td>1</td><td>2019-06-17</td><td>2019</td><td>6</td><td>17</td><td>1</td><td>16</td><td>13</td><td>39</td><td>2019-06-17</td></tr>\n",
       "    <tr><td class='row_index'>6</td><td>2019-07-28<span class=sp>T</span>21:03:11</td><td>U5</td><td>Bread</td><td>0.6</td><td>1</td><td>2019-07-28</td><td>2019</td><td>7</td><td>28</td><td>7</td><td>21</td><td>3</td><td>11</td><td>2019-07-28</td></tr>\n",
       "    <tr><td class='row_index'>7</td><td>2019-12-05<span class=sp>T</span>04:15:42</td><td>U1</td><td>Banana</td><td>0.7</td><td>2</td><td>2019-12-05</td><td>2019</td><td>12</td><td>5</td><td>4</td><td>4</td><td>15</td><td>42</td><td>2019-12-05</td></tr>\n",
       "    <tr><td class='row_index'>8</td><td>2020-02-02<span class=sp>T</span>03:45:34</td><td>U3</td><td>Banana</td><td>0.7</td><td>1</td><td>2020-02-02</td><td>2020</td><td>2</td><td>2</td><td>7</td><td>3</td><td>45</td><td>34</td><td>2020-02-02</td></tr>\n",
       "    <tr><td class='row_index'>9</td><td>2020-03-05<span class=sp>T</span>07:09:12</td><td>U4</td><td>Grapes</td><td>1.5</td><td>1</td><td>2020-03-05</td><td>2020</td><td>3</td><td>5</td><td>4</td><td>7</td><td>9</td><td>12</td><td>2020-03-05</td></tr>\n",
       "    <tr><td class='row_index'>10</td><td>2020-03-22<span class=sp>T</span>19:29:38</td><td>U1</td><td>Water</td><td>0.2</td><td>1</td><td>2020-03-22</td><td>2020</td><td>3</td><td>22</td><td>7</td><td>19</td><td>29</td><td>38</td><td>2020-03-22</td></tr>\n",
       "    <tr><td class='row_index'>11</td><td>2020-03-30<span class=sp>T</span>09:44:30</td><td>U4</td><td>Water</td><td>0.2</td><td>1</td><td>2020-03-30</td><td>2020</td><td>3</td><td>30</td><td>1</td><td>9</td><td>44</td><td>30</td><td>2020-03-30</td></tr>\n",
       "    <tr><td class='row_index'>12</td><td>2020-04-01<span class=sp>T</span>13:21:41</td><td>U1</td><td>Banana</td><td>0.7</td><td>2</td><td>2020-04-01</td><td>2020</td><td>4</td><td>1</td><td>3</td><td>13</td><td>21</td><td>41</td><td>2020-04-01</td></tr>\n",
       "    <tr><td class='row_index'>13</td><td>2020-07-08<span class=sp>T</span>11:45:25</td><td>U2</td><td>Grapes</td><td>1.5</td><td>1</td><td>2020-07-08</td><td>2020</td><td>7</td><td>8</td><td>3</td><td>11</td><td>45</td><td>25</td><td>2020-07-08</td></tr>\n",
       "    <tr><td class='row_index'>14</td><td>2020-11-19<span class=sp>T</span>18:51:22</td><td>U5</td><td>Water</td><td>0.2</td><td>1</td><td>2020-11-19</td><td>2020</td><td>11</td><td>19</td><td>4</td><td>18</td><td>51</td><td>22</td><td>2020-11-19</td></tr>\n",
       "    <tr><td class='row_index'>15</td><td>2020-12-03<span class=sp>T</span>16:23:48</td><td>U3</td><td>Banana</td><td>0.5</td><td>3</td><td>2020-12-03</td><td>2020</td><td>12</td><td>3</td><td>4</td><td>16</td><td>23</td><td>48</td><td>2020-12-03</td></tr>\n",
       "    <tr><td class='row_index'>16</td><td>2021-02-03<span class=sp>T</span>01:14:40</td><td>U5</td><td>Eggs</td><td>2.1</td><td>4</td><td>2021-02-03</td><td>2021</td><td>2</td><td>3</td><td>3</td><td>1</td><td>14</td><td>40</td><td>2021-02-03</td></tr>\n",
       "    <tr><td class='row_index'>17</td><td>2021-05-26<span class=sp>T</span>22:42:15</td><td>U3</td><td>Bread</td><td>0.6</td><td>1</td><td>2021-05-26</td><td>2021</td><td>5</td><td>26</td><td>3</td><td>22</td><td>42</td><td>15</td><td>2021-05-26</td></tr>\n",
       "    <tr><td class='row_index'>18</td><td>2021-06-14<span class=sp>T</span>15:49:28</td><td>U4</td><td>Eggs</td><td>2.3</td><td>2</td><td>2021-06-14</td><td>2021</td><td>6</td><td>14</td><td>1</td><td>15</td><td>49</td><td>28</td><td>2021-06-14</td></tr>\n",
       "    <tr><td class='row_index'>19</td><td>2021-07-01<span class=sp>T</span>04:37:31</td><td>U4</td><td>Water</td><td>0.3</td><td>1</td><td>2021-07-01</td><td>2021</td><td>7</td><td>1</td><td>4</td><td>4</td><td>37</td><td>31</td><td>2021-07-01</td></tr>\n",
       "  </tbody>\n",
       "  </table>\n",
       "  <div class='footer'>\n",
       "    <div class='frame_dimensions'>20 rows &times; 14 columns</div>\n",
       "  </div>\n",
       "</div>\n"
      ],
      "text/plain": [
       "<Frame#7fee61712210 20x14>"
      ]
     },
     "execution_count": 6,
     "metadata": {},
     "output_type": "execute_result"
    }
   ],
   "source": [
    "data['date_new'] = dt.time.ymd(dt.f.year, dt.f.month, dt.f.day)\n",
    "data"
   ]
  },
  {
   "cell_type": "markdown",
   "id": "4b8749b4",
   "metadata": {
    "papermill": {
     "duration": 0.028097,
     "end_time": "2021-07-25T04:18:55.752242",
     "exception": false,
     "start_time": "2021-07-25T04:18:55.724145",
     "status": "completed"
    },
    "tags": []
   },
   "source": [
    "**Exercise 75: Create a time column `time_new` in `data` using the `year`, `month`, `day`, `hour`, `minute` and `second` columns**"
   ]
  },
  {
   "cell_type": "code",
   "execution_count": 7,
   "id": "0e4679de",
   "metadata": {
    "execution": {
     "iopub.execute_input": "2021-07-25T04:18:55.816264Z",
     "iopub.status.busy": "2021-07-25T04:18:55.815432Z",
     "iopub.status.idle": "2021-07-25T04:18:55.819072Z",
     "shell.execute_reply": "2021-07-25T04:18:55.818489Z",
     "shell.execute_reply.started": "2021-07-10T07:33:17.386004Z"
    },
    "papermill": {
     "duration": 0.039067,
     "end_time": "2021-07-25T04:18:55.819232",
     "exception": false,
     "start_time": "2021-07-25T04:18:55.780165",
     "status": "completed"
    },
    "tags": []
   },
   "outputs": [
    {
     "data": {
      "text/html": [
       "<div class='datatable'>\n",
       "  <table class='frame'>\n",
       "  <thead>\n",
       "    <tr class='colnames'><td class='row_index'></td><th>timestamp</th><th>user</th><th>product</th><th>price</th><th>quantity</th><th>date</th><th>year</th><th>month</th><th>day</th><th>day_of_week</th><th>hour</th><th>minute</th><th>second</th><th>date_new</th><th>time_new</th></tr>\n",
       "    <tr class='coltypes'><td class='row_index'></td><td class='time' title='time64'>&#x25AA;&#x25AA;&#x25AA;&#x25AA;&#x25AA;&#x25AA;&#x25AA;&#x25AA;</td><td class='str' title='str32'>&#x25AA;&#x25AA;&#x25AA;&#x25AA;</td><td class='str' title='str32'>&#x25AA;&#x25AA;&#x25AA;&#x25AA;</td><td class='float' title='float64'>&#x25AA;&#x25AA;&#x25AA;&#x25AA;&#x25AA;&#x25AA;&#x25AA;&#x25AA;</td><td class='int' title='int32'>&#x25AA;&#x25AA;&#x25AA;&#x25AA;</td><td class='time' title='date32'>&#x25AA;&#x25AA;&#x25AA;&#x25AA;</td><td class='int' title='int32'>&#x25AA;&#x25AA;&#x25AA;&#x25AA;</td><td class='int' title='int32'>&#x25AA;&#x25AA;&#x25AA;&#x25AA;</td><td class='int' title='int32'>&#x25AA;&#x25AA;&#x25AA;&#x25AA;</td><td class='int' title='int32'>&#x25AA;&#x25AA;&#x25AA;&#x25AA;</td><td class='int' title='int32'>&#x25AA;&#x25AA;&#x25AA;&#x25AA;</td><td class='int' title='int32'>&#x25AA;&#x25AA;&#x25AA;&#x25AA;</td><td class='int' title='int32'>&#x25AA;&#x25AA;&#x25AA;&#x25AA;</td><td class='time' title='date32'>&#x25AA;&#x25AA;&#x25AA;&#x25AA;</td><td class='time' title='time64'>&#x25AA;&#x25AA;&#x25AA;&#x25AA;&#x25AA;&#x25AA;&#x25AA;&#x25AA;</td></tr>\n",
       "  </thead>\n",
       "  <tbody>\n",
       "    <tr><td class='row_index'>0</td><td>2017-01-01<span class=sp>T</span>13:22:41</td><td>U1</td><td>Eggs</td><td>2.3</td><td>2</td><td>2017-01-01</td><td>2017</td><td>1</td><td>1</td><td>7</td><td>13</td><td>22</td><td>41</td><td>2017-01-01</td><td>2017-01-01<span class=sp>T</span>13:22:41</td></tr>\n",
       "    <tr><td class='row_index'>1</td><td>2017-05-22<span class=sp>T</span>09:54:21</td><td>U2</td><td>Bread</td><td>0.6</td><td>2</td><td>2017-05-22</td><td>2017</td><td>5</td><td>22</td><td>1</td><td>9</td><td>54</td><td>21</td><td>2017-05-22</td><td>2017-05-22<span class=sp>T</span>09:54:21</td></tr>\n",
       "    <tr><td class='row_index'>2</td><td>2018-11-09<span class=sp>T</span>15:00:01</td><td>U3</td><td>Banana</td><td>0.7</td><td>1</td><td>2018-11-09</td><td>2018</td><td>11</td><td>9</td><td>5</td><td>15</td><td>0</td><td>1</td><td>2018-11-09</td><td>2018-11-09<span class=sp>T</span>15:00:01</td></tr>\n",
       "    <tr><td class='row_index'>3</td><td>2018-12-24<span class=sp>T</span>23:03:33</td><td>U1</td><td>Water</td><td>0.2</td><td>1</td><td>2018-12-24</td><td>2018</td><td>12</td><td>24</td><td>1</td><td>23</td><td>3</td><td>33</td><td>2018-12-24</td><td>2018-12-24<span class=sp>T</span>23:03:33</td></tr>\n",
       "    <tr><td class='row_index'>4</td><td>2019-03-03<span class=sp>T</span>06:21:58</td><td>U4</td><td>Eggs</td><td>2.3</td><td>2</td><td>2019-03-03</td><td>2019</td><td>3</td><td>3</td><td>7</td><td>6</td><td>21</td><td>58</td><td>2019-03-03</td><td>2019-03-03<span class=sp>T</span>06:21:58</td></tr>\n",
       "    <tr><td class='row_index'>5</td><td>2019-06-17<span class=sp>T</span>16:13:39</td><td>U5</td><td>Grapes</td><td>1.5</td><td>1</td><td>2019-06-17</td><td>2019</td><td>6</td><td>17</td><td>1</td><td>16</td><td>13</td><td>39</td><td>2019-06-17</td><td>2019-06-17<span class=sp>T</span>16:13:39</td></tr>\n",
       "    <tr><td class='row_index'>6</td><td>2019-07-28<span class=sp>T</span>21:03:11</td><td>U5</td><td>Bread</td><td>0.6</td><td>1</td><td>2019-07-28</td><td>2019</td><td>7</td><td>28</td><td>7</td><td>21</td><td>3</td><td>11</td><td>2019-07-28</td><td>2019-07-28<span class=sp>T</span>21:03:11</td></tr>\n",
       "    <tr><td class='row_index'>7</td><td>2019-12-05<span class=sp>T</span>04:15:42</td><td>U1</td><td>Banana</td><td>0.7</td><td>2</td><td>2019-12-05</td><td>2019</td><td>12</td><td>5</td><td>4</td><td>4</td><td>15</td><td>42</td><td>2019-12-05</td><td>2019-12-05<span class=sp>T</span>04:15:42</td></tr>\n",
       "    <tr><td class='row_index'>8</td><td>2020-02-02<span class=sp>T</span>03:45:34</td><td>U3</td><td>Banana</td><td>0.7</td><td>1</td><td>2020-02-02</td><td>2020</td><td>2</td><td>2</td><td>7</td><td>3</td><td>45</td><td>34</td><td>2020-02-02</td><td>2020-02-02<span class=sp>T</span>03:45:34</td></tr>\n",
       "    <tr><td class='row_index'>9</td><td>2020-03-05<span class=sp>T</span>07:09:12</td><td>U4</td><td>Grapes</td><td>1.5</td><td>1</td><td>2020-03-05</td><td>2020</td><td>3</td><td>5</td><td>4</td><td>7</td><td>9</td><td>12</td><td>2020-03-05</td><td>2020-03-05<span class=sp>T</span>07:09:12</td></tr>\n",
       "    <tr><td class='row_index'>10</td><td>2020-03-22<span class=sp>T</span>19:29:38</td><td>U1</td><td>Water</td><td>0.2</td><td>1</td><td>2020-03-22</td><td>2020</td><td>3</td><td>22</td><td>7</td><td>19</td><td>29</td><td>38</td><td>2020-03-22</td><td>2020-03-22<span class=sp>T</span>19:29:38</td></tr>\n",
       "    <tr><td class='row_index'>11</td><td>2020-03-30<span class=sp>T</span>09:44:30</td><td>U4</td><td>Water</td><td>0.2</td><td>1</td><td>2020-03-30</td><td>2020</td><td>3</td><td>30</td><td>1</td><td>9</td><td>44</td><td>30</td><td>2020-03-30</td><td>2020-03-30<span class=sp>T</span>09:44:30</td></tr>\n",
       "    <tr><td class='row_index'>12</td><td>2020-04-01<span class=sp>T</span>13:21:41</td><td>U1</td><td>Banana</td><td>0.7</td><td>2</td><td>2020-04-01</td><td>2020</td><td>4</td><td>1</td><td>3</td><td>13</td><td>21</td><td>41</td><td>2020-04-01</td><td>2020-04-01<span class=sp>T</span>13:21:41</td></tr>\n",
       "    <tr><td class='row_index'>13</td><td>2020-07-08<span class=sp>T</span>11:45:25</td><td>U2</td><td>Grapes</td><td>1.5</td><td>1</td><td>2020-07-08</td><td>2020</td><td>7</td><td>8</td><td>3</td><td>11</td><td>45</td><td>25</td><td>2020-07-08</td><td>2020-07-08<span class=sp>T</span>11:45:25</td></tr>\n",
       "    <tr><td class='row_index'>14</td><td>2020-11-19<span class=sp>T</span>18:51:22</td><td>U5</td><td>Water</td><td>0.2</td><td>1</td><td>2020-11-19</td><td>2020</td><td>11</td><td>19</td><td>4</td><td>18</td><td>51</td><td>22</td><td>2020-11-19</td><td>2020-11-19<span class=sp>T</span>18:51:22</td></tr>\n",
       "    <tr><td class='row_index'>15</td><td>2020-12-03<span class=sp>T</span>16:23:48</td><td>U3</td><td>Banana</td><td>0.5</td><td>3</td><td>2020-12-03</td><td>2020</td><td>12</td><td>3</td><td>4</td><td>16</td><td>23</td><td>48</td><td>2020-12-03</td><td>2020-12-03<span class=sp>T</span>16:23:48</td></tr>\n",
       "    <tr><td class='row_index'>16</td><td>2021-02-03<span class=sp>T</span>01:14:40</td><td>U5</td><td>Eggs</td><td>2.1</td><td>4</td><td>2021-02-03</td><td>2021</td><td>2</td><td>3</td><td>3</td><td>1</td><td>14</td><td>40</td><td>2021-02-03</td><td>2021-02-03<span class=sp>T</span>01:14:40</td></tr>\n",
       "    <tr><td class='row_index'>17</td><td>2021-05-26<span class=sp>T</span>22:42:15</td><td>U3</td><td>Bread</td><td>0.6</td><td>1</td><td>2021-05-26</td><td>2021</td><td>5</td><td>26</td><td>3</td><td>22</td><td>42</td><td>15</td><td>2021-05-26</td><td>2021-05-26<span class=sp>T</span>22:42:15</td></tr>\n",
       "    <tr><td class='row_index'>18</td><td>2021-06-14<span class=sp>T</span>15:49:28</td><td>U4</td><td>Eggs</td><td>2.3</td><td>2</td><td>2021-06-14</td><td>2021</td><td>6</td><td>14</td><td>1</td><td>15</td><td>49</td><td>28</td><td>2021-06-14</td><td>2021-06-14<span class=sp>T</span>15:49:28</td></tr>\n",
       "    <tr><td class='row_index'>19</td><td>2021-07-01<span class=sp>T</span>04:37:31</td><td>U4</td><td>Water</td><td>0.3</td><td>1</td><td>2021-07-01</td><td>2021</td><td>7</td><td>1</td><td>4</td><td>4</td><td>37</td><td>31</td><td>2021-07-01</td><td>2021-07-01<span class=sp>T</span>04:37:31</td></tr>\n",
       "  </tbody>\n",
       "  </table>\n",
       "  <div class='footer'>\n",
       "    <div class='frame_dimensions'>20 rows &times; 15 columns</div>\n",
       "  </div>\n",
       "</div>\n"
      ],
      "text/plain": [
       "<Frame#7fee61712210 20x15>"
      ]
     },
     "execution_count": 7,
     "metadata": {},
     "output_type": "execute_result"
    }
   ],
   "source": [
    "data['time_new'] = dt.time.ymdt(dt.f.year, dt.f.month, dt.f.day, dt.f.hour, dt.f.minute, dt.f.second)\n",
    "data"
   ]
  },
  {
   "cell_type": "markdown",
   "id": "7395b5fd",
   "metadata": {
    "papermill": {
     "duration": 0.028415,
     "end_time": "2021-07-25T04:18:55.876924",
     "exception": false,
     "start_time": "2021-07-25T04:18:55.848509",
     "status": "completed"
    },
    "tags": []
   },
   "source": [
    "**Exercise 76: Create a lead variable of `product` with shift of 2 called `next_product_2` in `data`**"
   ]
  },
  {
   "cell_type": "code",
   "execution_count": 8,
   "id": "2991031f",
   "metadata": {
    "execution": {
     "iopub.execute_input": "2021-07-25T04:18:55.941821Z",
     "iopub.status.busy": "2021-07-25T04:18:55.941141Z",
     "iopub.status.idle": "2021-07-25T04:18:55.945420Z",
     "shell.execute_reply": "2021-07-25T04:18:55.944866Z",
     "shell.execute_reply.started": "2021-07-10T07:33:32.478569Z"
    },
    "papermill": {
     "duration": 0.039968,
     "end_time": "2021-07-25T04:18:55.945670",
     "exception": false,
     "start_time": "2021-07-25T04:18:55.905702",
     "status": "completed"
    },
    "tags": []
   },
   "outputs": [
    {
     "data": {
      "text/html": [
       "<div class='datatable'>\n",
       "  <table class='frame'>\n",
       "  <thead>\n",
       "    <tr class='colnames'><td class='row_index'></td><th>timestamp</th><th>user</th><th>product</th><th>price</th><th>quantity</th><th>date</th><th>year</th><th>month</th><th>day</th><th>day_of_week</th><th class='vellipsis'>&hellip;</th><th>minute</th><th>second</th><th>date_new</th><th>time_new</th><th>next_product_2</th></tr>\n",
       "    <tr class='coltypes'><td class='row_index'></td><td class='time' title='time64'>&#x25AA;&#x25AA;&#x25AA;&#x25AA;&#x25AA;&#x25AA;&#x25AA;&#x25AA;</td><td class='str' title='str32'>&#x25AA;&#x25AA;&#x25AA;&#x25AA;</td><td class='str' title='str32'>&#x25AA;&#x25AA;&#x25AA;&#x25AA;</td><td class='float' title='float64'>&#x25AA;&#x25AA;&#x25AA;&#x25AA;&#x25AA;&#x25AA;&#x25AA;&#x25AA;</td><td class='int' title='int32'>&#x25AA;&#x25AA;&#x25AA;&#x25AA;</td><td class='time' title='date32'>&#x25AA;&#x25AA;&#x25AA;&#x25AA;</td><td class='int' title='int32'>&#x25AA;&#x25AA;&#x25AA;&#x25AA;</td><td class='int' title='int32'>&#x25AA;&#x25AA;&#x25AA;&#x25AA;</td><td class='int' title='int32'>&#x25AA;&#x25AA;&#x25AA;&#x25AA;</td><td class='int' title='int32'>&#x25AA;&#x25AA;&#x25AA;&#x25AA;</td><td></td><td class='int' title='int32'>&#x25AA;&#x25AA;&#x25AA;&#x25AA;</td><td class='int' title='int32'>&#x25AA;&#x25AA;&#x25AA;&#x25AA;</td><td class='time' title='date32'>&#x25AA;&#x25AA;&#x25AA;&#x25AA;</td><td class='time' title='time64'>&#x25AA;&#x25AA;&#x25AA;&#x25AA;&#x25AA;&#x25AA;&#x25AA;&#x25AA;</td><td class='str' title='str32'>&#x25AA;&#x25AA;&#x25AA;&#x25AA;</td></tr>\n",
       "  </thead>\n",
       "  <tbody>\n",
       "    <tr><td class='row_index'>0</td><td>2017-01-01<span class=sp>T</span>13:22:41</td><td>U1</td><td>Eggs</td><td>2.3</td><td>2</td><td>2017-01-01</td><td>2017</td><td>1</td><td>1</td><td>7</td><td class=vellipsis>&hellip;</td><td>22</td><td>41</td><td>2017-01-01</td><td>2017-01-01<span class=sp>T</span>13:22:41</td><td>Banana</td></tr>\n",
       "    <tr><td class='row_index'>1</td><td>2017-05-22<span class=sp>T</span>09:54:21</td><td>U2</td><td>Bread</td><td>0.6</td><td>2</td><td>2017-05-22</td><td>2017</td><td>5</td><td>22</td><td>1</td><td class=vellipsis>&hellip;</td><td>54</td><td>21</td><td>2017-05-22</td><td>2017-05-22<span class=sp>T</span>09:54:21</td><td>Water</td></tr>\n",
       "    <tr><td class='row_index'>2</td><td>2018-11-09<span class=sp>T</span>15:00:01</td><td>U3</td><td>Banana</td><td>0.7</td><td>1</td><td>2018-11-09</td><td>2018</td><td>11</td><td>9</td><td>5</td><td class=vellipsis>&hellip;</td><td>0</td><td>1</td><td>2018-11-09</td><td>2018-11-09<span class=sp>T</span>15:00:01</td><td>Eggs</td></tr>\n",
       "    <tr><td class='row_index'>3</td><td>2018-12-24<span class=sp>T</span>23:03:33</td><td>U1</td><td>Water</td><td>0.2</td><td>1</td><td>2018-12-24</td><td>2018</td><td>12</td><td>24</td><td>1</td><td class=vellipsis>&hellip;</td><td>3</td><td>33</td><td>2018-12-24</td><td>2018-12-24<span class=sp>T</span>23:03:33</td><td>Grapes</td></tr>\n",
       "    <tr><td class='row_index'>4</td><td>2019-03-03<span class=sp>T</span>06:21:58</td><td>U4</td><td>Eggs</td><td>2.3</td><td>2</td><td>2019-03-03</td><td>2019</td><td>3</td><td>3</td><td>7</td><td class=vellipsis>&hellip;</td><td>21</td><td>58</td><td>2019-03-03</td><td>2019-03-03<span class=sp>T</span>06:21:58</td><td>Bread</td></tr>\n",
       "    <tr><td class='row_index'>5</td><td>2019-06-17<span class=sp>T</span>16:13:39</td><td>U5</td><td>Grapes</td><td>1.5</td><td>1</td><td>2019-06-17</td><td>2019</td><td>6</td><td>17</td><td>1</td><td class=vellipsis>&hellip;</td><td>13</td><td>39</td><td>2019-06-17</td><td>2019-06-17<span class=sp>T</span>16:13:39</td><td>Banana</td></tr>\n",
       "    <tr><td class='row_index'>6</td><td>2019-07-28<span class=sp>T</span>21:03:11</td><td>U5</td><td>Bread</td><td>0.6</td><td>1</td><td>2019-07-28</td><td>2019</td><td>7</td><td>28</td><td>7</td><td class=vellipsis>&hellip;</td><td>3</td><td>11</td><td>2019-07-28</td><td>2019-07-28<span class=sp>T</span>21:03:11</td><td>Banana</td></tr>\n",
       "    <tr><td class='row_index'>7</td><td>2019-12-05<span class=sp>T</span>04:15:42</td><td>U1</td><td>Banana</td><td>0.7</td><td>2</td><td>2019-12-05</td><td>2019</td><td>12</td><td>5</td><td>4</td><td class=vellipsis>&hellip;</td><td>15</td><td>42</td><td>2019-12-05</td><td>2019-12-05<span class=sp>T</span>04:15:42</td><td>Grapes</td></tr>\n",
       "    <tr><td class='row_index'>8</td><td>2020-02-02<span class=sp>T</span>03:45:34</td><td>U3</td><td>Banana</td><td>0.7</td><td>1</td><td>2020-02-02</td><td>2020</td><td>2</td><td>2</td><td>7</td><td class=vellipsis>&hellip;</td><td>45</td><td>34</td><td>2020-02-02</td><td>2020-02-02<span class=sp>T</span>03:45:34</td><td>Water</td></tr>\n",
       "    <tr><td class='row_index'>9</td><td>2020-03-05<span class=sp>T</span>07:09:12</td><td>U4</td><td>Grapes</td><td>1.5</td><td>1</td><td>2020-03-05</td><td>2020</td><td>3</td><td>5</td><td>4</td><td class=vellipsis>&hellip;</td><td>9</td><td>12</td><td>2020-03-05</td><td>2020-03-05<span class=sp>T</span>07:09:12</td><td>Water</td></tr>\n",
       "    <tr><td class='row_index'>10</td><td>2020-03-22<span class=sp>T</span>19:29:38</td><td>U1</td><td>Water</td><td>0.2</td><td>1</td><td>2020-03-22</td><td>2020</td><td>3</td><td>22</td><td>7</td><td class=vellipsis>&hellip;</td><td>29</td><td>38</td><td>2020-03-22</td><td>2020-03-22<span class=sp>T</span>19:29:38</td><td>Banana</td></tr>\n",
       "    <tr><td class='row_index'>11</td><td>2020-03-30<span class=sp>T</span>09:44:30</td><td>U4</td><td>Water</td><td>0.2</td><td>1</td><td>2020-03-30</td><td>2020</td><td>3</td><td>30</td><td>1</td><td class=vellipsis>&hellip;</td><td>44</td><td>30</td><td>2020-03-30</td><td>2020-03-30<span class=sp>T</span>09:44:30</td><td>Grapes</td></tr>\n",
       "    <tr><td class='row_index'>12</td><td>2020-04-01<span class=sp>T</span>13:21:41</td><td>U1</td><td>Banana</td><td>0.7</td><td>2</td><td>2020-04-01</td><td>2020</td><td>4</td><td>1</td><td>3</td><td class=vellipsis>&hellip;</td><td>21</td><td>41</td><td>2020-04-01</td><td>2020-04-01<span class=sp>T</span>13:21:41</td><td>Water</td></tr>\n",
       "    <tr><td class='row_index'>13</td><td>2020-07-08<span class=sp>T</span>11:45:25</td><td>U2</td><td>Grapes</td><td>1.5</td><td>1</td><td>2020-07-08</td><td>2020</td><td>7</td><td>8</td><td>3</td><td class=vellipsis>&hellip;</td><td>45</td><td>25</td><td>2020-07-08</td><td>2020-07-08<span class=sp>T</span>11:45:25</td><td>Banana</td></tr>\n",
       "    <tr><td class='row_index'>14</td><td>2020-11-19<span class=sp>T</span>18:51:22</td><td>U5</td><td>Water</td><td>0.2</td><td>1</td><td>2020-11-19</td><td>2020</td><td>11</td><td>19</td><td>4</td><td class=vellipsis>&hellip;</td><td>51</td><td>22</td><td>2020-11-19</td><td>2020-11-19<span class=sp>T</span>18:51:22</td><td>Eggs</td></tr>\n",
       "    <tr><td class='row_index'>15</td><td>2020-12-03<span class=sp>T</span>16:23:48</td><td>U3</td><td>Banana</td><td>0.5</td><td>3</td><td>2020-12-03</td><td>2020</td><td>12</td><td>3</td><td>4</td><td class=vellipsis>&hellip;</td><td>23</td><td>48</td><td>2020-12-03</td><td>2020-12-03<span class=sp>T</span>16:23:48</td><td>Bread</td></tr>\n",
       "    <tr><td class='row_index'>16</td><td>2021-02-03<span class=sp>T</span>01:14:40</td><td>U5</td><td>Eggs</td><td>2.1</td><td>4</td><td>2021-02-03</td><td>2021</td><td>2</td><td>3</td><td>3</td><td class=vellipsis>&hellip;</td><td>14</td><td>40</td><td>2021-02-03</td><td>2021-02-03<span class=sp>T</span>01:14:40</td><td>Eggs</td></tr>\n",
       "    <tr><td class='row_index'>17</td><td>2021-05-26<span class=sp>T</span>22:42:15</td><td>U3</td><td>Bread</td><td>0.6</td><td>1</td><td>2021-05-26</td><td>2021</td><td>5</td><td>26</td><td>3</td><td class=vellipsis>&hellip;</td><td>42</td><td>15</td><td>2021-05-26</td><td>2021-05-26<span class=sp>T</span>22:42:15</td><td>Water</td></tr>\n",
       "    <tr><td class='row_index'>18</td><td>2021-06-14<span class=sp>T</span>15:49:28</td><td>U4</td><td>Eggs</td><td>2.3</td><td>2</td><td>2021-06-14</td><td>2021</td><td>6</td><td>14</td><td>1</td><td class=vellipsis>&hellip;</td><td>49</td><td>28</td><td>2021-06-14</td><td>2021-06-14<span class=sp>T</span>15:49:28</td><td><span class=na>NA</span></td></tr>\n",
       "    <tr><td class='row_index'>19</td><td>2021-07-01<span class=sp>T</span>04:37:31</td><td>U4</td><td>Water</td><td>0.3</td><td>1</td><td>2021-07-01</td><td>2021</td><td>7</td><td>1</td><td>4</td><td class=vellipsis>&hellip;</td><td>37</td><td>31</td><td>2021-07-01</td><td>2021-07-01<span class=sp>T</span>04:37:31</td><td><span class=na>NA</span></td></tr>\n",
       "  </tbody>\n",
       "  </table>\n",
       "  <div class='footer'>\n",
       "    <div class='frame_dimensions'>20 rows &times; 16 columns</div>\n",
       "  </div>\n",
       "</div>\n"
      ],
      "text/plain": [
       "<Frame#7fee61712210 20x16>"
      ]
     },
     "execution_count": 8,
     "metadata": {},
     "output_type": "execute_result"
    }
   ],
   "source": [
    "data['next_product_2'] = dt.shift(dt.f.product, n=-2)\n",
    "data"
   ]
  },
  {
   "cell_type": "markdown",
   "id": "29bf62ea",
   "metadata": {
    "papermill": {
     "duration": 0.02841,
     "end_time": "2021-07-25T04:18:56.002710",
     "exception": false,
     "start_time": "2021-07-25T04:18:55.974300",
     "status": "completed"
    },
    "tags": []
   },
   "source": [
    "**Exercise 77: Create a lag variable of `date` with single shift called `previous_date` in `data`**"
   ]
  },
  {
   "cell_type": "code",
   "execution_count": 9,
   "id": "fbd28ab8",
   "metadata": {
    "execution": {
     "iopub.execute_input": "2021-07-25T04:18:56.063296Z",
     "iopub.status.busy": "2021-07-25T04:18:56.062674Z",
     "iopub.status.idle": "2021-07-25T04:18:56.069226Z",
     "shell.execute_reply": "2021-07-25T04:18:56.069760Z",
     "shell.execute_reply.started": "2021-07-10T07:33:50.934701Z"
    },
    "papermill": {
     "duration": 0.038642,
     "end_time": "2021-07-25T04:18:56.069930",
     "exception": false,
     "start_time": "2021-07-25T04:18:56.031288",
     "status": "completed"
    },
    "tags": []
   },
   "outputs": [
    {
     "data": {
      "text/html": [
       "<div class='datatable'>\n",
       "  <table class='frame'>\n",
       "  <thead>\n",
       "    <tr class='colnames'><td class='row_index'></td><th>timestamp</th><th>user</th><th>product</th><th>price</th><th>quantity</th><th>date</th><th>year</th><th>month</th><th>day</th><th>day_of_week</th><th class='vellipsis'>&hellip;</th><th>second</th><th>date_new</th><th>time_new</th><th>next_product_2</th><th>previous_date</th></tr>\n",
       "    <tr class='coltypes'><td class='row_index'></td><td class='time' title='time64'>&#x25AA;&#x25AA;&#x25AA;&#x25AA;&#x25AA;&#x25AA;&#x25AA;&#x25AA;</td><td class='str' title='str32'>&#x25AA;&#x25AA;&#x25AA;&#x25AA;</td><td class='str' title='str32'>&#x25AA;&#x25AA;&#x25AA;&#x25AA;</td><td class='float' title='float64'>&#x25AA;&#x25AA;&#x25AA;&#x25AA;&#x25AA;&#x25AA;&#x25AA;&#x25AA;</td><td class='int' title='int32'>&#x25AA;&#x25AA;&#x25AA;&#x25AA;</td><td class='time' title='date32'>&#x25AA;&#x25AA;&#x25AA;&#x25AA;</td><td class='int' title='int32'>&#x25AA;&#x25AA;&#x25AA;&#x25AA;</td><td class='int' title='int32'>&#x25AA;&#x25AA;&#x25AA;&#x25AA;</td><td class='int' title='int32'>&#x25AA;&#x25AA;&#x25AA;&#x25AA;</td><td class='int' title='int32'>&#x25AA;&#x25AA;&#x25AA;&#x25AA;</td><td></td><td class='int' title='int32'>&#x25AA;&#x25AA;&#x25AA;&#x25AA;</td><td class='time' title='date32'>&#x25AA;&#x25AA;&#x25AA;&#x25AA;</td><td class='time' title='time64'>&#x25AA;&#x25AA;&#x25AA;&#x25AA;&#x25AA;&#x25AA;&#x25AA;&#x25AA;</td><td class='str' title='str32'>&#x25AA;&#x25AA;&#x25AA;&#x25AA;</td><td class='time' title='date32'>&#x25AA;&#x25AA;&#x25AA;&#x25AA;</td></tr>\n",
       "  </thead>\n",
       "  <tbody>\n",
       "    <tr><td class='row_index'>0</td><td>2017-01-01<span class=sp>T</span>13:22:41</td><td>U1</td><td>Eggs</td><td>2.3</td><td>2</td><td>2017-01-01</td><td>2017</td><td>1</td><td>1</td><td>7</td><td class=vellipsis>&hellip;</td><td>41</td><td>2017-01-01</td><td>2017-01-01<span class=sp>T</span>13:22:41</td><td>Banana</td><td><span class=na>NA</span></td></tr>\n",
       "    <tr><td class='row_index'>1</td><td>2017-05-22<span class=sp>T</span>09:54:21</td><td>U2</td><td>Bread</td><td>0.6</td><td>2</td><td>2017-05-22</td><td>2017</td><td>5</td><td>22</td><td>1</td><td class=vellipsis>&hellip;</td><td>21</td><td>2017-05-22</td><td>2017-05-22<span class=sp>T</span>09:54:21</td><td>Water</td><td>2017-01-01</td></tr>\n",
       "    <tr><td class='row_index'>2</td><td>2018-11-09<span class=sp>T</span>15:00:01</td><td>U3</td><td>Banana</td><td>0.7</td><td>1</td><td>2018-11-09</td><td>2018</td><td>11</td><td>9</td><td>5</td><td class=vellipsis>&hellip;</td><td>1</td><td>2018-11-09</td><td>2018-11-09<span class=sp>T</span>15:00:01</td><td>Eggs</td><td>2017-05-22</td></tr>\n",
       "    <tr><td class='row_index'>3</td><td>2018-12-24<span class=sp>T</span>23:03:33</td><td>U1</td><td>Water</td><td>0.2</td><td>1</td><td>2018-12-24</td><td>2018</td><td>12</td><td>24</td><td>1</td><td class=vellipsis>&hellip;</td><td>33</td><td>2018-12-24</td><td>2018-12-24<span class=sp>T</span>23:03:33</td><td>Grapes</td><td>2018-11-09</td></tr>\n",
       "    <tr><td class='row_index'>4</td><td>2019-03-03<span class=sp>T</span>06:21:58</td><td>U4</td><td>Eggs</td><td>2.3</td><td>2</td><td>2019-03-03</td><td>2019</td><td>3</td><td>3</td><td>7</td><td class=vellipsis>&hellip;</td><td>58</td><td>2019-03-03</td><td>2019-03-03<span class=sp>T</span>06:21:58</td><td>Bread</td><td>2018-12-24</td></tr>\n",
       "    <tr><td class='row_index'>5</td><td>2019-06-17<span class=sp>T</span>16:13:39</td><td>U5</td><td>Grapes</td><td>1.5</td><td>1</td><td>2019-06-17</td><td>2019</td><td>6</td><td>17</td><td>1</td><td class=vellipsis>&hellip;</td><td>39</td><td>2019-06-17</td><td>2019-06-17<span class=sp>T</span>16:13:39</td><td>Banana</td><td>2019-03-03</td></tr>\n",
       "    <tr><td class='row_index'>6</td><td>2019-07-28<span class=sp>T</span>21:03:11</td><td>U5</td><td>Bread</td><td>0.6</td><td>1</td><td>2019-07-28</td><td>2019</td><td>7</td><td>28</td><td>7</td><td class=vellipsis>&hellip;</td><td>11</td><td>2019-07-28</td><td>2019-07-28<span class=sp>T</span>21:03:11</td><td>Banana</td><td>2019-06-17</td></tr>\n",
       "    <tr><td class='row_index'>7</td><td>2019-12-05<span class=sp>T</span>04:15:42</td><td>U1</td><td>Banana</td><td>0.7</td><td>2</td><td>2019-12-05</td><td>2019</td><td>12</td><td>5</td><td>4</td><td class=vellipsis>&hellip;</td><td>42</td><td>2019-12-05</td><td>2019-12-05<span class=sp>T</span>04:15:42</td><td>Grapes</td><td>2019-07-28</td></tr>\n",
       "    <tr><td class='row_index'>8</td><td>2020-02-02<span class=sp>T</span>03:45:34</td><td>U3</td><td>Banana</td><td>0.7</td><td>1</td><td>2020-02-02</td><td>2020</td><td>2</td><td>2</td><td>7</td><td class=vellipsis>&hellip;</td><td>34</td><td>2020-02-02</td><td>2020-02-02<span class=sp>T</span>03:45:34</td><td>Water</td><td>2019-12-05</td></tr>\n",
       "    <tr><td class='row_index'>9</td><td>2020-03-05<span class=sp>T</span>07:09:12</td><td>U4</td><td>Grapes</td><td>1.5</td><td>1</td><td>2020-03-05</td><td>2020</td><td>3</td><td>5</td><td>4</td><td class=vellipsis>&hellip;</td><td>12</td><td>2020-03-05</td><td>2020-03-05<span class=sp>T</span>07:09:12</td><td>Water</td><td>2020-02-02</td></tr>\n",
       "    <tr><td class='row_index'>10</td><td>2020-03-22<span class=sp>T</span>19:29:38</td><td>U1</td><td>Water</td><td>0.2</td><td>1</td><td>2020-03-22</td><td>2020</td><td>3</td><td>22</td><td>7</td><td class=vellipsis>&hellip;</td><td>38</td><td>2020-03-22</td><td>2020-03-22<span class=sp>T</span>19:29:38</td><td>Banana</td><td>2020-03-05</td></tr>\n",
       "    <tr><td class='row_index'>11</td><td>2020-03-30<span class=sp>T</span>09:44:30</td><td>U4</td><td>Water</td><td>0.2</td><td>1</td><td>2020-03-30</td><td>2020</td><td>3</td><td>30</td><td>1</td><td class=vellipsis>&hellip;</td><td>30</td><td>2020-03-30</td><td>2020-03-30<span class=sp>T</span>09:44:30</td><td>Grapes</td><td>2020-03-22</td></tr>\n",
       "    <tr><td class='row_index'>12</td><td>2020-04-01<span class=sp>T</span>13:21:41</td><td>U1</td><td>Banana</td><td>0.7</td><td>2</td><td>2020-04-01</td><td>2020</td><td>4</td><td>1</td><td>3</td><td class=vellipsis>&hellip;</td><td>41</td><td>2020-04-01</td><td>2020-04-01<span class=sp>T</span>13:21:41</td><td>Water</td><td>2020-03-30</td></tr>\n",
       "    <tr><td class='row_index'>13</td><td>2020-07-08<span class=sp>T</span>11:45:25</td><td>U2</td><td>Grapes</td><td>1.5</td><td>1</td><td>2020-07-08</td><td>2020</td><td>7</td><td>8</td><td>3</td><td class=vellipsis>&hellip;</td><td>25</td><td>2020-07-08</td><td>2020-07-08<span class=sp>T</span>11:45:25</td><td>Banana</td><td>2020-04-01</td></tr>\n",
       "    <tr><td class='row_index'>14</td><td>2020-11-19<span class=sp>T</span>18:51:22</td><td>U5</td><td>Water</td><td>0.2</td><td>1</td><td>2020-11-19</td><td>2020</td><td>11</td><td>19</td><td>4</td><td class=vellipsis>&hellip;</td><td>22</td><td>2020-11-19</td><td>2020-11-19<span class=sp>T</span>18:51:22</td><td>Eggs</td><td>2020-07-08</td></tr>\n",
       "    <tr><td class='row_index'>15</td><td>2020-12-03<span class=sp>T</span>16:23:48</td><td>U3</td><td>Banana</td><td>0.5</td><td>3</td><td>2020-12-03</td><td>2020</td><td>12</td><td>3</td><td>4</td><td class=vellipsis>&hellip;</td><td>48</td><td>2020-12-03</td><td>2020-12-03<span class=sp>T</span>16:23:48</td><td>Bread</td><td>2020-11-19</td></tr>\n",
       "    <tr><td class='row_index'>16</td><td>2021-02-03<span class=sp>T</span>01:14:40</td><td>U5</td><td>Eggs</td><td>2.1</td><td>4</td><td>2021-02-03</td><td>2021</td><td>2</td><td>3</td><td>3</td><td class=vellipsis>&hellip;</td><td>40</td><td>2021-02-03</td><td>2021-02-03<span class=sp>T</span>01:14:40</td><td>Eggs</td><td>2020-12-03</td></tr>\n",
       "    <tr><td class='row_index'>17</td><td>2021-05-26<span class=sp>T</span>22:42:15</td><td>U3</td><td>Bread</td><td>0.6</td><td>1</td><td>2021-05-26</td><td>2021</td><td>5</td><td>26</td><td>3</td><td class=vellipsis>&hellip;</td><td>15</td><td>2021-05-26</td><td>2021-05-26<span class=sp>T</span>22:42:15</td><td>Water</td><td>2021-02-03</td></tr>\n",
       "    <tr><td class='row_index'>18</td><td>2021-06-14<span class=sp>T</span>15:49:28</td><td>U4</td><td>Eggs</td><td>2.3</td><td>2</td><td>2021-06-14</td><td>2021</td><td>6</td><td>14</td><td>1</td><td class=vellipsis>&hellip;</td><td>28</td><td>2021-06-14</td><td>2021-06-14<span class=sp>T</span>15:49:28</td><td><span class=na>NA</span></td><td>2021-05-26</td></tr>\n",
       "    <tr><td class='row_index'>19</td><td>2021-07-01<span class=sp>T</span>04:37:31</td><td>U4</td><td>Water</td><td>0.3</td><td>1</td><td>2021-07-01</td><td>2021</td><td>7</td><td>1</td><td>4</td><td class=vellipsis>&hellip;</td><td>31</td><td>2021-07-01</td><td>2021-07-01<span class=sp>T</span>04:37:31</td><td><span class=na>NA</span></td><td>2021-06-14</td></tr>\n",
       "  </tbody>\n",
       "  </table>\n",
       "  <div class='footer'>\n",
       "    <div class='frame_dimensions'>20 rows &times; 17 columns</div>\n",
       "  </div>\n",
       "</div>\n"
      ],
      "text/plain": [
       "<Frame#7fee61712210 20x17>"
      ]
     },
     "execution_count": 9,
     "metadata": {},
     "output_type": "execute_result"
    }
   ],
   "source": [
    "data['previous_date'] = dt.shift(dt.f.date, n=1)\n",
    "data"
   ]
  },
  {
   "cell_type": "markdown",
   "id": "95ed0d8d",
   "metadata": {
    "papermill": {
     "duration": 0.028692,
     "end_time": "2021-07-25T04:18:56.127825",
     "exception": false,
     "start_time": "2021-07-25T04:18:56.099133",
     "status": "completed"
    },
    "tags": []
   },
   "source": [
    "**Exercise 78: Create a lag variable of `timestamp` by `user` with single shift called `previous_user_time` in `data`**"
   ]
  },
  {
   "cell_type": "code",
   "execution_count": 10,
   "id": "fc285b29",
   "metadata": {
    "execution": {
     "iopub.execute_input": "2021-07-25T04:18:56.192335Z",
     "iopub.status.busy": "2021-07-25T04:18:56.191681Z",
     "iopub.status.idle": "2021-07-25T04:18:56.204370Z",
     "shell.execute_reply": "2021-07-25T04:18:56.204919Z",
     "shell.execute_reply.started": "2021-07-10T07:34:13.546335Z"
    },
    "papermill": {
     "duration": 0.045655,
     "end_time": "2021-07-25T04:18:56.205131",
     "exception": false,
     "start_time": "2021-07-25T04:18:56.159476",
     "status": "completed"
    },
    "tags": []
   },
   "outputs": [
    {
     "data": {
      "text/html": [
       "<div class='datatable'>\n",
       "  <table class='frame'>\n",
       "  <thead>\n",
       "    <tr class='colnames'><td class='row_index'></td><th>user</th><th>timestamp</th><th>product</th><th>price</th><th>quantity</th><th>date</th><th>year</th><th>month</th><th>day</th><th>day_of_week</th><th class='vellipsis'>&hellip;</th><th>date_new</th><th>time_new</th><th>next_product_2</th><th>previous_date</th><th>previous_user_time</th></tr>\n",
       "    <tr class='coltypes'><td class='row_index'></td><td class='str' title='str32'>&#x25AA;&#x25AA;&#x25AA;&#x25AA;</td><td class='time' title='time64'>&#x25AA;&#x25AA;&#x25AA;&#x25AA;&#x25AA;&#x25AA;&#x25AA;&#x25AA;</td><td class='str' title='str32'>&#x25AA;&#x25AA;&#x25AA;&#x25AA;</td><td class='float' title='float64'>&#x25AA;&#x25AA;&#x25AA;&#x25AA;&#x25AA;&#x25AA;&#x25AA;&#x25AA;</td><td class='int' title='int32'>&#x25AA;&#x25AA;&#x25AA;&#x25AA;</td><td class='time' title='date32'>&#x25AA;&#x25AA;&#x25AA;&#x25AA;</td><td class='int' title='int32'>&#x25AA;&#x25AA;&#x25AA;&#x25AA;</td><td class='int' title='int32'>&#x25AA;&#x25AA;&#x25AA;&#x25AA;</td><td class='int' title='int32'>&#x25AA;&#x25AA;&#x25AA;&#x25AA;</td><td class='int' title='int32'>&#x25AA;&#x25AA;&#x25AA;&#x25AA;</td><td></td><td class='time' title='date32'>&#x25AA;&#x25AA;&#x25AA;&#x25AA;</td><td class='time' title='time64'>&#x25AA;&#x25AA;&#x25AA;&#x25AA;&#x25AA;&#x25AA;&#x25AA;&#x25AA;</td><td class='str' title='str32'>&#x25AA;&#x25AA;&#x25AA;&#x25AA;</td><td class='time' title='date32'>&#x25AA;&#x25AA;&#x25AA;&#x25AA;</td><td class='time' title='time64'>&#x25AA;&#x25AA;&#x25AA;&#x25AA;&#x25AA;&#x25AA;&#x25AA;&#x25AA;</td></tr>\n",
       "  </thead>\n",
       "  <tbody>\n",
       "    <tr><td class='row_index'>0</td><td>U1</td><td>2017-01-01<span class=sp>T</span>13:22:41</td><td>Eggs</td><td>2.3</td><td>2</td><td>2017-01-01</td><td>2017</td><td>1</td><td>1</td><td>7</td><td class=vellipsis>&hellip;</td><td>2017-01-01</td><td>2017-01-01<span class=sp>T</span>13:22:41</td><td>Banana</td><td><span class=na>NA</span></td><td><span class=na>NA</span></td></tr>\n",
       "    <tr><td class='row_index'>1</td><td>U1</td><td>2018-12-24<span class=sp>T</span>23:03:33</td><td>Water</td><td>0.2</td><td>1</td><td>2018-12-24</td><td>2018</td><td>12</td><td>24</td><td>1</td><td class=vellipsis>&hellip;</td><td>2018-12-24</td><td>2018-12-24<span class=sp>T</span>23:03:33</td><td>Grapes</td><td>2018-11-09</td><td>2017-01-01<span class=sp>T</span>13:22:41</td></tr>\n",
       "    <tr><td class='row_index'>2</td><td>U1</td><td>2019-12-05<span class=sp>T</span>04:15:42</td><td>Banana</td><td>0.7</td><td>2</td><td>2019-12-05</td><td>2019</td><td>12</td><td>5</td><td>4</td><td class=vellipsis>&hellip;</td><td>2019-12-05</td><td>2019-12-05<span class=sp>T</span>04:15:42</td><td>Grapes</td><td>2019-07-28</td><td>2018-12-24<span class=sp>T</span>23:03:33</td></tr>\n",
       "    <tr><td class='row_index'>3</td><td>U1</td><td>2020-03-22<span class=sp>T</span>19:29:38</td><td>Water</td><td>0.2</td><td>1</td><td>2020-03-22</td><td>2020</td><td>3</td><td>22</td><td>7</td><td class=vellipsis>&hellip;</td><td>2020-03-22</td><td>2020-03-22<span class=sp>T</span>19:29:38</td><td>Banana</td><td>2020-03-05</td><td>2019-12-05<span class=sp>T</span>04:15:42</td></tr>\n",
       "    <tr><td class='row_index'>4</td><td>U1</td><td>2020-04-01<span class=sp>T</span>13:21:41</td><td>Banana</td><td>0.7</td><td>2</td><td>2020-04-01</td><td>2020</td><td>4</td><td>1</td><td>3</td><td class=vellipsis>&hellip;</td><td>2020-04-01</td><td>2020-04-01<span class=sp>T</span>13:21:41</td><td>Water</td><td>2020-03-30</td><td>2020-03-22<span class=sp>T</span>19:29:38</td></tr>\n",
       "    <tr><td class='row_index'>5</td><td>U2</td><td>2017-05-22<span class=sp>T</span>09:54:21</td><td>Bread</td><td>0.6</td><td>2</td><td>2017-05-22</td><td>2017</td><td>5</td><td>22</td><td>1</td><td class=vellipsis>&hellip;</td><td>2017-05-22</td><td>2017-05-22<span class=sp>T</span>09:54:21</td><td>Water</td><td>2017-01-01</td><td><span class=na>NA</span></td></tr>\n",
       "    <tr><td class='row_index'>6</td><td>U2</td><td>2020-07-08<span class=sp>T</span>11:45:25</td><td>Grapes</td><td>1.5</td><td>1</td><td>2020-07-08</td><td>2020</td><td>7</td><td>8</td><td>3</td><td class=vellipsis>&hellip;</td><td>2020-07-08</td><td>2020-07-08<span class=sp>T</span>11:45:25</td><td>Banana</td><td>2020-04-01</td><td>2017-05-22<span class=sp>T</span>09:54:21</td></tr>\n",
       "    <tr><td class='row_index'>7</td><td>U3</td><td>2018-11-09<span class=sp>T</span>15:00:01</td><td>Banana</td><td>0.7</td><td>1</td><td>2018-11-09</td><td>2018</td><td>11</td><td>9</td><td>5</td><td class=vellipsis>&hellip;</td><td>2018-11-09</td><td>2018-11-09<span class=sp>T</span>15:00:01</td><td>Eggs</td><td>2017-05-22</td><td><span class=na>NA</span></td></tr>\n",
       "    <tr><td class='row_index'>8</td><td>U3</td><td>2020-02-02<span class=sp>T</span>03:45:34</td><td>Banana</td><td>0.7</td><td>1</td><td>2020-02-02</td><td>2020</td><td>2</td><td>2</td><td>7</td><td class=vellipsis>&hellip;</td><td>2020-02-02</td><td>2020-02-02<span class=sp>T</span>03:45:34</td><td>Water</td><td>2019-12-05</td><td>2018-11-09<span class=sp>T</span>15:00:01</td></tr>\n",
       "    <tr><td class='row_index'>9</td><td>U3</td><td>2020-12-03<span class=sp>T</span>16:23:48</td><td>Banana</td><td>0.5</td><td>3</td><td>2020-12-03</td><td>2020</td><td>12</td><td>3</td><td>4</td><td class=vellipsis>&hellip;</td><td>2020-12-03</td><td>2020-12-03<span class=sp>T</span>16:23:48</td><td>Bread</td><td>2020-11-19</td><td>2020-02-02<span class=sp>T</span>03:45:34</td></tr>\n",
       "    <tr><td class='row_index'>10</td><td>U3</td><td>2021-05-26<span class=sp>T</span>22:42:15</td><td>Bread</td><td>0.6</td><td>1</td><td>2021-05-26</td><td>2021</td><td>5</td><td>26</td><td>3</td><td class=vellipsis>&hellip;</td><td>2021-05-26</td><td>2021-05-26<span class=sp>T</span>22:42:15</td><td>Water</td><td>2021-02-03</td><td>2020-12-03<span class=sp>T</span>16:23:48</td></tr>\n",
       "    <tr><td class='row_index'>11</td><td>U4</td><td>2019-03-03<span class=sp>T</span>06:21:58</td><td>Eggs</td><td>2.3</td><td>2</td><td>2019-03-03</td><td>2019</td><td>3</td><td>3</td><td>7</td><td class=vellipsis>&hellip;</td><td>2019-03-03</td><td>2019-03-03<span class=sp>T</span>06:21:58</td><td>Bread</td><td>2018-12-24</td><td><span class=na>NA</span></td></tr>\n",
       "    <tr><td class='row_index'>12</td><td>U4</td><td>2020-03-05<span class=sp>T</span>07:09:12</td><td>Grapes</td><td>1.5</td><td>1</td><td>2020-03-05</td><td>2020</td><td>3</td><td>5</td><td>4</td><td class=vellipsis>&hellip;</td><td>2020-03-05</td><td>2020-03-05<span class=sp>T</span>07:09:12</td><td>Water</td><td>2020-02-02</td><td>2019-03-03<span class=sp>T</span>06:21:58</td></tr>\n",
       "    <tr><td class='row_index'>13</td><td>U4</td><td>2020-03-30<span class=sp>T</span>09:44:30</td><td>Water</td><td>0.2</td><td>1</td><td>2020-03-30</td><td>2020</td><td>3</td><td>30</td><td>1</td><td class=vellipsis>&hellip;</td><td>2020-03-30</td><td>2020-03-30<span class=sp>T</span>09:44:30</td><td>Grapes</td><td>2020-03-22</td><td>2020-03-05<span class=sp>T</span>07:09:12</td></tr>\n",
       "    <tr><td class='row_index'>14</td><td>U4</td><td>2021-06-14<span class=sp>T</span>15:49:28</td><td>Eggs</td><td>2.3</td><td>2</td><td>2021-06-14</td><td>2021</td><td>6</td><td>14</td><td>1</td><td class=vellipsis>&hellip;</td><td>2021-06-14</td><td>2021-06-14<span class=sp>T</span>15:49:28</td><td><span class=na>NA</span></td><td>2021-05-26</td><td>2020-03-30<span class=sp>T</span>09:44:30</td></tr>\n",
       "    <tr><td class='row_index'>15</td><td>U4</td><td>2021-07-01<span class=sp>T</span>04:37:31</td><td>Water</td><td>0.3</td><td>1</td><td>2021-07-01</td><td>2021</td><td>7</td><td>1</td><td>4</td><td class=vellipsis>&hellip;</td><td>2021-07-01</td><td>2021-07-01<span class=sp>T</span>04:37:31</td><td><span class=na>NA</span></td><td>2021-06-14</td><td>2021-06-14<span class=sp>T</span>15:49:28</td></tr>\n",
       "    <tr><td class='row_index'>16</td><td>U5</td><td>2019-06-17<span class=sp>T</span>16:13:39</td><td>Grapes</td><td>1.5</td><td>1</td><td>2019-06-17</td><td>2019</td><td>6</td><td>17</td><td>1</td><td class=vellipsis>&hellip;</td><td>2019-06-17</td><td>2019-06-17<span class=sp>T</span>16:13:39</td><td>Banana</td><td>2019-03-03</td><td><span class=na>NA</span></td></tr>\n",
       "    <tr><td class='row_index'>17</td><td>U5</td><td>2019-07-28<span class=sp>T</span>21:03:11</td><td>Bread</td><td>0.6</td><td>1</td><td>2019-07-28</td><td>2019</td><td>7</td><td>28</td><td>7</td><td class=vellipsis>&hellip;</td><td>2019-07-28</td><td>2019-07-28<span class=sp>T</span>21:03:11</td><td>Banana</td><td>2019-06-17</td><td>2019-06-17<span class=sp>T</span>16:13:39</td></tr>\n",
       "    <tr><td class='row_index'>18</td><td>U5</td><td>2020-11-19<span class=sp>T</span>18:51:22</td><td>Water</td><td>0.2</td><td>1</td><td>2020-11-19</td><td>2020</td><td>11</td><td>19</td><td>4</td><td class=vellipsis>&hellip;</td><td>2020-11-19</td><td>2020-11-19<span class=sp>T</span>18:51:22</td><td>Eggs</td><td>2020-07-08</td><td>2019-07-28<span class=sp>T</span>21:03:11</td></tr>\n",
       "    <tr><td class='row_index'>19</td><td>U5</td><td>2021-02-03<span class=sp>T</span>01:14:40</td><td>Eggs</td><td>2.1</td><td>4</td><td>2021-02-03</td><td>2021</td><td>2</td><td>3</td><td>3</td><td class=vellipsis>&hellip;</td><td>2021-02-03</td><td>2021-02-03<span class=sp>T</span>01:14:40</td><td>Eggs</td><td>2020-12-03</td><td>2020-11-19<span class=sp>T</span>18:51:22</td></tr>\n",
       "  </tbody>\n",
       "  </table>\n",
       "  <div class='footer'>\n",
       "    <div class='frame_dimensions'>20 rows &times; 18 columns</div>\n",
       "  </div>\n",
       "</div>\n"
      ],
      "text/plain": [
       "<Frame#7fee61745ed0 20x18>"
      ]
     },
     "execution_count": 10,
     "metadata": {},
     "output_type": "execute_result"
    }
   ],
   "source": [
    "data = data[:, dt.f[:].extend({'previous_user_time': dt.shift(dt.f.timestamp)}), dt.by(dt.f.user)]\n",
    "data"
   ]
  },
  {
   "cell_type": "markdown",
   "id": "4d000048",
   "metadata": {
    "papermill": {
     "duration": 0.032652,
     "end_time": "2021-07-25T04:18:56.276997",
     "exception": false,
     "start_time": "2021-07-25T04:18:56.244345",
     "status": "completed"
    },
    "tags": []
   },
   "source": [
    "**Exercise 79: Create a column `date_diff` which is the difference between `date` and `previous_date` in days**"
   ]
  },
  {
   "cell_type": "code",
   "execution_count": 11,
   "id": "a674e7ca",
   "metadata": {
    "execution": {
     "iopub.execute_input": "2021-07-25T04:18:56.345728Z",
     "iopub.status.busy": "2021-07-25T04:18:56.344735Z",
     "iopub.status.idle": "2021-07-25T04:18:56.347988Z",
     "shell.execute_reply": "2021-07-25T04:18:56.348538Z",
     "shell.execute_reply.started": "2021-07-10T07:34:34.941222Z"
    },
    "papermill": {
     "duration": 0.04136,
     "end_time": "2021-07-25T04:18:56.348745",
     "exception": false,
     "start_time": "2021-07-25T04:18:56.307385",
     "status": "completed"
    },
    "tags": []
   },
   "outputs": [
    {
     "data": {
      "text/html": [
       "<div class='datatable'>\n",
       "  <table class='frame'>\n",
       "  <thead>\n",
       "    <tr class='colnames'><td class='row_index'></td><th>user</th><th>timestamp</th><th>product</th><th>price</th><th>quantity</th><th>date</th><th>year</th><th>month</th><th>day</th><th>day_of_week</th><th class='vellipsis'>&hellip;</th><th>time_new</th><th>next_product_2</th><th>previous_date</th><th>previous_user_time</th><th>date_diff</th></tr>\n",
       "    <tr class='coltypes'><td class='row_index'></td><td class='str' title='str32'>&#x25AA;&#x25AA;&#x25AA;&#x25AA;</td><td class='time' title='time64'>&#x25AA;&#x25AA;&#x25AA;&#x25AA;&#x25AA;&#x25AA;&#x25AA;&#x25AA;</td><td class='str' title='str32'>&#x25AA;&#x25AA;&#x25AA;&#x25AA;</td><td class='float' title='float64'>&#x25AA;&#x25AA;&#x25AA;&#x25AA;&#x25AA;&#x25AA;&#x25AA;&#x25AA;</td><td class='int' title='int32'>&#x25AA;&#x25AA;&#x25AA;&#x25AA;</td><td class='time' title='date32'>&#x25AA;&#x25AA;&#x25AA;&#x25AA;</td><td class='int' title='int32'>&#x25AA;&#x25AA;&#x25AA;&#x25AA;</td><td class='int' title='int32'>&#x25AA;&#x25AA;&#x25AA;&#x25AA;</td><td class='int' title='int32'>&#x25AA;&#x25AA;&#x25AA;&#x25AA;</td><td class='int' title='int32'>&#x25AA;&#x25AA;&#x25AA;&#x25AA;</td><td></td><td class='time' title='time64'>&#x25AA;&#x25AA;&#x25AA;&#x25AA;&#x25AA;&#x25AA;&#x25AA;&#x25AA;</td><td class='str' title='str32'>&#x25AA;&#x25AA;&#x25AA;&#x25AA;</td><td class='time' title='date32'>&#x25AA;&#x25AA;&#x25AA;&#x25AA;</td><td class='time' title='time64'>&#x25AA;&#x25AA;&#x25AA;&#x25AA;&#x25AA;&#x25AA;&#x25AA;&#x25AA;</td><td class='int' title='int64'>&#x25AA;&#x25AA;&#x25AA;&#x25AA;&#x25AA;&#x25AA;&#x25AA;&#x25AA;</td></tr>\n",
       "  </thead>\n",
       "  <tbody>\n",
       "    <tr><td class='row_index'>0</td><td>U1</td><td>2017-01-01<span class=sp>T</span>13:22:41</td><td>Eggs</td><td>2.3</td><td>2</td><td>2017-01-01</td><td>2017</td><td>1</td><td>1</td><td>7</td><td class=vellipsis>&hellip;</td><td>2017-01-01<span class=sp>T</span>13:22:41</td><td>Banana</td><td><span class=na>NA</span></td><td><span class=na>NA</span></td><td><span class=na>NA</span></td></tr>\n",
       "    <tr><td class='row_index'>1</td><td>U1</td><td>2018-12-24<span class=sp>T</span>23:03:33</td><td>Water</td><td>0.2</td><td>1</td><td>2018-12-24</td><td>2018</td><td>12</td><td>24</td><td>1</td><td class=vellipsis>&hellip;</td><td>2018-12-24<span class=sp>T</span>23:03:33</td><td>Grapes</td><td>2018-11-09</td><td>2017-01-01<span class=sp>T</span>13:22:41</td><td>45</td></tr>\n",
       "    <tr><td class='row_index'>2</td><td>U1</td><td>2019-12-05<span class=sp>T</span>04:15:42</td><td>Banana</td><td>0.7</td><td>2</td><td>2019-12-05</td><td>2019</td><td>12</td><td>5</td><td>4</td><td class=vellipsis>&hellip;</td><td>2019-12-05<span class=sp>T</span>04:15:42</td><td>Grapes</td><td>2019-07-28</td><td>2018-12-24<span class=sp>T</span>23:03:33</td><td>130</td></tr>\n",
       "    <tr><td class='row_index'>3</td><td>U1</td><td>2020-03-22<span class=sp>T</span>19:29:38</td><td>Water</td><td>0.2</td><td>1</td><td>2020-03-22</td><td>2020</td><td>3</td><td>22</td><td>7</td><td class=vellipsis>&hellip;</td><td>2020-03-22<span class=sp>T</span>19:29:38</td><td>Banana</td><td>2020-03-05</td><td>2019-12-05<span class=sp>T</span>04:15:42</td><td>17</td></tr>\n",
       "    <tr><td class='row_index'>4</td><td>U1</td><td>2020-04-01<span class=sp>T</span>13:21:41</td><td>Banana</td><td>0.7</td><td>2</td><td>2020-04-01</td><td>2020</td><td>4</td><td>1</td><td>3</td><td class=vellipsis>&hellip;</td><td>2020-04-01<span class=sp>T</span>13:21:41</td><td>Water</td><td>2020-03-30</td><td>2020-03-22<span class=sp>T</span>19:29:38</td><td>2</td></tr>\n",
       "    <tr><td class='row_index'>5</td><td>U2</td><td>2017-05-22<span class=sp>T</span>09:54:21</td><td>Bread</td><td>0.6</td><td>2</td><td>2017-05-22</td><td>2017</td><td>5</td><td>22</td><td>1</td><td class=vellipsis>&hellip;</td><td>2017-05-22<span class=sp>T</span>09:54:21</td><td>Water</td><td>2017-01-01</td><td><span class=na>NA</span></td><td>141</td></tr>\n",
       "    <tr><td class='row_index'>6</td><td>U2</td><td>2020-07-08<span class=sp>T</span>11:45:25</td><td>Grapes</td><td>1.5</td><td>1</td><td>2020-07-08</td><td>2020</td><td>7</td><td>8</td><td>3</td><td class=vellipsis>&hellip;</td><td>2020-07-08<span class=sp>T</span>11:45:25</td><td>Banana</td><td>2020-04-01</td><td>2017-05-22<span class=sp>T</span>09:54:21</td><td>98</td></tr>\n",
       "    <tr><td class='row_index'>7</td><td>U3</td><td>2018-11-09<span class=sp>T</span>15:00:01</td><td>Banana</td><td>0.7</td><td>1</td><td>2018-11-09</td><td>2018</td><td>11</td><td>9</td><td>5</td><td class=vellipsis>&hellip;</td><td>2018-11-09<span class=sp>T</span>15:00:01</td><td>Eggs</td><td>2017-05-22</td><td><span class=na>NA</span></td><td>536</td></tr>\n",
       "    <tr><td class='row_index'>8</td><td>U3</td><td>2020-02-02<span class=sp>T</span>03:45:34</td><td>Banana</td><td>0.7</td><td>1</td><td>2020-02-02</td><td>2020</td><td>2</td><td>2</td><td>7</td><td class=vellipsis>&hellip;</td><td>2020-02-02<span class=sp>T</span>03:45:34</td><td>Water</td><td>2019-12-05</td><td>2018-11-09<span class=sp>T</span>15:00:01</td><td>59</td></tr>\n",
       "    <tr><td class='row_index'>9</td><td>U3</td><td>2020-12-03<span class=sp>T</span>16:23:48</td><td>Banana</td><td>0.5</td><td>3</td><td>2020-12-03</td><td>2020</td><td>12</td><td>3</td><td>4</td><td class=vellipsis>&hellip;</td><td>2020-12-03<span class=sp>T</span>16:23:48</td><td>Bread</td><td>2020-11-19</td><td>2020-02-02<span class=sp>T</span>03:45:34</td><td>14</td></tr>\n",
       "    <tr><td class='row_index'>10</td><td>U3</td><td>2021-05-26<span class=sp>T</span>22:42:15</td><td>Bread</td><td>0.6</td><td>1</td><td>2021-05-26</td><td>2021</td><td>5</td><td>26</td><td>3</td><td class=vellipsis>&hellip;</td><td>2021-05-26<span class=sp>T</span>22:42:15</td><td>Water</td><td>2021-02-03</td><td>2020-12-03<span class=sp>T</span>16:23:48</td><td>112</td></tr>\n",
       "    <tr><td class='row_index'>11</td><td>U4</td><td>2019-03-03<span class=sp>T</span>06:21:58</td><td>Eggs</td><td>2.3</td><td>2</td><td>2019-03-03</td><td>2019</td><td>3</td><td>3</td><td>7</td><td class=vellipsis>&hellip;</td><td>2019-03-03<span class=sp>T</span>06:21:58</td><td>Bread</td><td>2018-12-24</td><td><span class=na>NA</span></td><td>69</td></tr>\n",
       "    <tr><td class='row_index'>12</td><td>U4</td><td>2020-03-05<span class=sp>T</span>07:09:12</td><td>Grapes</td><td>1.5</td><td>1</td><td>2020-03-05</td><td>2020</td><td>3</td><td>5</td><td>4</td><td class=vellipsis>&hellip;</td><td>2020-03-05<span class=sp>T</span>07:09:12</td><td>Water</td><td>2020-02-02</td><td>2019-03-03<span class=sp>T</span>06:21:58</td><td>32</td></tr>\n",
       "    <tr><td class='row_index'>13</td><td>U4</td><td>2020-03-30<span class=sp>T</span>09:44:30</td><td>Water</td><td>0.2</td><td>1</td><td>2020-03-30</td><td>2020</td><td>3</td><td>30</td><td>1</td><td class=vellipsis>&hellip;</td><td>2020-03-30<span class=sp>T</span>09:44:30</td><td>Grapes</td><td>2020-03-22</td><td>2020-03-05<span class=sp>T</span>07:09:12</td><td>8</td></tr>\n",
       "    <tr><td class='row_index'>14</td><td>U4</td><td>2021-06-14<span class=sp>T</span>15:49:28</td><td>Eggs</td><td>2.3</td><td>2</td><td>2021-06-14</td><td>2021</td><td>6</td><td>14</td><td>1</td><td class=vellipsis>&hellip;</td><td>2021-06-14<span class=sp>T</span>15:49:28</td><td><span class=na>NA</span></td><td>2021-05-26</td><td>2020-03-30<span class=sp>T</span>09:44:30</td><td>19</td></tr>\n",
       "    <tr><td class='row_index'>15</td><td>U4</td><td>2021-07-01<span class=sp>T</span>04:37:31</td><td>Water</td><td>0.3</td><td>1</td><td>2021-07-01</td><td>2021</td><td>7</td><td>1</td><td>4</td><td class=vellipsis>&hellip;</td><td>2021-07-01<span class=sp>T</span>04:37:31</td><td><span class=na>NA</span></td><td>2021-06-14</td><td>2021-06-14<span class=sp>T</span>15:49:28</td><td>17</td></tr>\n",
       "    <tr><td class='row_index'>16</td><td>U5</td><td>2019-06-17<span class=sp>T</span>16:13:39</td><td>Grapes</td><td>1.5</td><td>1</td><td>2019-06-17</td><td>2019</td><td>6</td><td>17</td><td>1</td><td class=vellipsis>&hellip;</td><td>2019-06-17<span class=sp>T</span>16:13:39</td><td>Banana</td><td>2019-03-03</td><td><span class=na>NA</span></td><td>106</td></tr>\n",
       "    <tr><td class='row_index'>17</td><td>U5</td><td>2019-07-28<span class=sp>T</span>21:03:11</td><td>Bread</td><td>0.6</td><td>1</td><td>2019-07-28</td><td>2019</td><td>7</td><td>28</td><td>7</td><td class=vellipsis>&hellip;</td><td>2019-07-28<span class=sp>T</span>21:03:11</td><td>Banana</td><td>2019-06-17</td><td>2019-06-17<span class=sp>T</span>16:13:39</td><td>41</td></tr>\n",
       "    <tr><td class='row_index'>18</td><td>U5</td><td>2020-11-19<span class=sp>T</span>18:51:22</td><td>Water</td><td>0.2</td><td>1</td><td>2020-11-19</td><td>2020</td><td>11</td><td>19</td><td>4</td><td class=vellipsis>&hellip;</td><td>2020-11-19<span class=sp>T</span>18:51:22</td><td>Eggs</td><td>2020-07-08</td><td>2019-07-28<span class=sp>T</span>21:03:11</td><td>134</td></tr>\n",
       "    <tr><td class='row_index'>19</td><td>U5</td><td>2021-02-03<span class=sp>T</span>01:14:40</td><td>Eggs</td><td>2.1</td><td>4</td><td>2021-02-03</td><td>2021</td><td>2</td><td>3</td><td>3</td><td class=vellipsis>&hellip;</td><td>2021-02-03<span class=sp>T</span>01:14:40</td><td>Eggs</td><td>2020-12-03</td><td>2020-11-19<span class=sp>T</span>18:51:22</td><td>62</td></tr>\n",
       "  </tbody>\n",
       "  </table>\n",
       "  <div class='footer'>\n",
       "    <div class='frame_dimensions'>20 rows &times; 19 columns</div>\n",
       "  </div>\n",
       "</div>\n"
      ],
      "text/plain": [
       "<Frame#7fee61745ed0 20x19>"
      ]
     },
     "execution_count": 11,
     "metadata": {},
     "output_type": "execute_result"
    }
   ],
   "source": [
    "data['date_diff'] = data[:, dt.as_type(dt.f.date, 'int') - dt.as_type(dt.f.previous_date, 'int')]\n",
    "data"
   ]
  },
  {
   "cell_type": "markdown",
   "id": "a6bd83a2",
   "metadata": {
    "papermill": {
     "duration": 0.03047,
     "end_time": "2021-07-25T04:18:56.410458",
     "exception": false,
     "start_time": "2021-07-25T04:18:56.379988",
     "status": "completed"
    },
    "tags": []
   },
   "source": [
    "**Exercise 80: Create a column `time_diff` which is the difference between `timestamp` and `previous_user_time` in seconds**"
   ]
  },
  {
   "cell_type": "code",
   "execution_count": 12,
   "id": "1c08d3ce",
   "metadata": {
    "execution": {
     "iopub.execute_input": "2021-07-25T04:18:56.475162Z",
     "iopub.status.busy": "2021-07-25T04:18:56.474472Z",
     "iopub.status.idle": "2021-07-25T04:18:56.482683Z",
     "shell.execute_reply": "2021-07-25T04:18:56.481862Z",
     "shell.execute_reply.started": "2021-07-10T07:36:05.508181Z"
    },
    "papermill": {
     "duration": 0.04178,
     "end_time": "2021-07-25T04:18:56.482865",
     "exception": false,
     "start_time": "2021-07-25T04:18:56.441085",
     "status": "completed"
    },
    "tags": []
   },
   "outputs": [
    {
     "data": {
      "text/html": [
       "<div class='datatable'>\n",
       "  <table class='frame'>\n",
       "  <thead>\n",
       "    <tr class='colnames'><td class='row_index'></td><th>user</th><th>timestamp</th><th>product</th><th>price</th><th>quantity</th><th>date</th><th>year</th><th>month</th><th>day</th><th>day_of_week</th><th class='vellipsis'>&hellip;</th><th>next_product_2</th><th>previous_date</th><th>previous_user_time</th><th>date_diff</th><th>time_diff</th></tr>\n",
       "    <tr class='coltypes'><td class='row_index'></td><td class='str' title='str32'>&#x25AA;&#x25AA;&#x25AA;&#x25AA;</td><td class='time' title='time64'>&#x25AA;&#x25AA;&#x25AA;&#x25AA;&#x25AA;&#x25AA;&#x25AA;&#x25AA;</td><td class='str' title='str32'>&#x25AA;&#x25AA;&#x25AA;&#x25AA;</td><td class='float' title='float64'>&#x25AA;&#x25AA;&#x25AA;&#x25AA;&#x25AA;&#x25AA;&#x25AA;&#x25AA;</td><td class='int' title='int32'>&#x25AA;&#x25AA;&#x25AA;&#x25AA;</td><td class='time' title='date32'>&#x25AA;&#x25AA;&#x25AA;&#x25AA;</td><td class='int' title='int32'>&#x25AA;&#x25AA;&#x25AA;&#x25AA;</td><td class='int' title='int32'>&#x25AA;&#x25AA;&#x25AA;&#x25AA;</td><td class='int' title='int32'>&#x25AA;&#x25AA;&#x25AA;&#x25AA;</td><td class='int' title='int32'>&#x25AA;&#x25AA;&#x25AA;&#x25AA;</td><td></td><td class='str' title='str32'>&#x25AA;&#x25AA;&#x25AA;&#x25AA;</td><td class='time' title='date32'>&#x25AA;&#x25AA;&#x25AA;&#x25AA;</td><td class='time' title='time64'>&#x25AA;&#x25AA;&#x25AA;&#x25AA;&#x25AA;&#x25AA;&#x25AA;&#x25AA;</td><td class='int' title='int64'>&#x25AA;&#x25AA;&#x25AA;&#x25AA;&#x25AA;&#x25AA;&#x25AA;&#x25AA;</td><td class='float' title='float64'>&#x25AA;&#x25AA;&#x25AA;&#x25AA;&#x25AA;&#x25AA;&#x25AA;&#x25AA;</td></tr>\n",
       "  </thead>\n",
       "  <tbody>\n",
       "    <tr><td class='row_index'>0</td><td>U1</td><td>2017-01-01<span class=sp>T</span>13:22:41</td><td>Eggs</td><td>2.3</td><td>2</td><td>2017-01-01</td><td>2017</td><td>1</td><td>1</td><td>7</td><td class=vellipsis>&hellip;</td><td>Banana</td><td><span class=na>NA</span></td><td><span class=na>NA</span></td><td><span class=na>NA</span></td><td><span class=na>NA</span></td></tr>\n",
       "    <tr><td class='row_index'>1</td><td>U1</td><td>2018-12-24<span class=sp>T</span>23:03:33</td><td>Water</td><td>0.2</td><td>1</td><td>2018-12-24</td><td>2018</td><td>12</td><td>24</td><td>1</td><td class=vellipsis>&hellip;</td><td>Grapes</td><td>2018-11-09</td><td>2017-01-01<span class=sp>T</span>13:22:41</td><td>45</td><td>6.24157e+13</td></tr>\n",
       "    <tr><td class='row_index'>2</td><td>U1</td><td>2019-12-05<span class=sp>T</span>04:15:42</td><td>Banana</td><td>0.7</td><td>2</td><td>2019-12-05</td><td>2019</td><td>12</td><td>5</td><td>4</td><td class=vellipsis>&hellip;</td><td>Grapes</td><td>2019-07-28</td><td>2018-12-24<span class=sp>T</span>23:03:33</td><td>130</td><td>2.98267e+13</td></tr>\n",
       "    <tr><td class='row_index'>3</td><td>U1</td><td>2020-03-22<span class=sp>T</span>19:29:38</td><td>Water</td><td>0.2</td><td>1</td><td>2020-03-22</td><td>2020</td><td>3</td><td>22</td><td>7</td><td class=vellipsis>&hellip;</td><td>Banana</td><td>2020-03-05</td><td>2019-12-05<span class=sp>T</span>04:15:42</td><td>17</td><td>9.38604e+12</td></tr>\n",
       "    <tr><td class='row_index'>4</td><td>U1</td><td>2020-04-01<span class=sp>T</span>13:21:41</td><td>Banana</td><td>0.7</td><td>2</td><td>2020-04-01</td><td>2020</td><td>4</td><td>1</td><td>3</td><td class=vellipsis>&hellip;</td><td>Water</td><td>2020-03-30</td><td>2020-03-22<span class=sp>T</span>19:29:38</td><td>2</td><td>8.41923e+11</td></tr>\n",
       "    <tr><td class='row_index'>5</td><td>U2</td><td>2017-05-22<span class=sp>T</span>09:54:21</td><td>Bread</td><td>0.6</td><td>2</td><td>2017-05-22</td><td>2017</td><td>5</td><td>22</td><td>1</td><td class=vellipsis>&hellip;</td><td>Water</td><td>2017-01-01</td><td><span class=na>NA</span></td><td>141</td><td><span class=na>NA</span></td></tr>\n",
       "    <tr><td class='row_index'>6</td><td>U2</td><td>2020-07-08<span class=sp>T</span>11:45:25</td><td>Grapes</td><td>1.5</td><td>1</td><td>2020-07-08</td><td>2020</td><td>7</td><td>8</td><td>3</td><td class=vellipsis>&hellip;</td><td>Banana</td><td>2020-04-01</td><td>2017-05-22<span class=sp>T</span>09:54:21</td><td>98</td><td>9.87619e+13</td></tr>\n",
       "    <tr><td class='row_index'>7</td><td>U3</td><td>2018-11-09<span class=sp>T</span>15:00:01</td><td>Banana</td><td>0.7</td><td>1</td><td>2018-11-09</td><td>2018</td><td>11</td><td>9</td><td>5</td><td class=vellipsis>&hellip;</td><td>Eggs</td><td>2017-05-22</td><td><span class=na>NA</span></td><td>536</td><td><span class=na>NA</span></td></tr>\n",
       "    <tr><td class='row_index'>8</td><td>U3</td><td>2020-02-02<span class=sp>T</span>03:45:34</td><td>Banana</td><td>0.7</td><td>1</td><td>2020-02-02</td><td>2020</td><td>2</td><td>2</td><td>7</td><td class=vellipsis>&hellip;</td><td>Water</td><td>2019-12-05</td><td>2018-11-09<span class=sp>T</span>15:00:01</td><td>59</td><td>3.88395e+13</td></tr>\n",
       "    <tr><td class='row_index'>9</td><td>U3</td><td>2020-12-03<span class=sp>T</span>16:23:48</td><td>Banana</td><td>0.5</td><td>3</td><td>2020-12-03</td><td>2020</td><td>12</td><td>3</td><td>4</td><td class=vellipsis>&hellip;</td><td>Bread</td><td>2020-11-19</td><td>2020-02-02<span class=sp>T</span>03:45:34</td><td>14</td><td>2.63975e+13</td></tr>\n",
       "    <tr><td class='row_index'>10</td><td>U3</td><td>2021-05-26<span class=sp>T</span>22:42:15</td><td>Bread</td><td>0.6</td><td>1</td><td>2021-05-26</td><td>2021</td><td>5</td><td>26</td><td>3</td><td class=vellipsis>&hellip;</td><td>Water</td><td>2021-02-03</td><td>2020-12-03<span class=sp>T</span>16:23:48</td><td>112</td><td>1.50563e+13</td></tr>\n",
       "    <tr><td class='row_index'>11</td><td>U4</td><td>2019-03-03<span class=sp>T</span>06:21:58</td><td>Eggs</td><td>2.3</td><td>2</td><td>2019-03-03</td><td>2019</td><td>3</td><td>3</td><td>7</td><td class=vellipsis>&hellip;</td><td>Bread</td><td>2018-12-24</td><td><span class=na>NA</span></td><td>69</td><td><span class=na>NA</span></td></tr>\n",
       "    <tr><td class='row_index'>12</td><td>U4</td><td>2020-03-05<span class=sp>T</span>07:09:12</td><td>Grapes</td><td>1.5</td><td>1</td><td>2020-03-05</td><td>2020</td><td>3</td><td>5</td><td>4</td><td class=vellipsis>&hellip;</td><td>Water</td><td>2020-02-02</td><td>2019-03-03<span class=sp>T</span>06:21:58</td><td>32</td><td>3.1798e+13</td></tr>\n",
       "    <tr><td class='row_index'>13</td><td>U4</td><td>2020-03-30<span class=sp>T</span>09:44:30</td><td>Water</td><td>0.2</td><td>1</td><td>2020-03-30</td><td>2020</td><td>3</td><td>30</td><td>1</td><td class=vellipsis>&hellip;</td><td>Grapes</td><td>2020-03-22</td><td>2020-03-05<span class=sp>T</span>07:09:12</td><td>8</td><td>2.16932e+12</td></tr>\n",
       "    <tr><td class='row_index'>14</td><td>U4</td><td>2021-06-14<span class=sp>T</span>15:49:28</td><td>Eggs</td><td>2.3</td><td>2</td><td>2021-06-14</td><td>2021</td><td>6</td><td>14</td><td>1</td><td class=vellipsis>&hellip;</td><td><span class=na>NA</span></td><td>2021-05-26</td><td>2020-03-30<span class=sp>T</span>09:44:30</td><td>19</td><td>3.81243e+13</td></tr>\n",
       "    <tr><td class='row_index'>15</td><td>U4</td><td>2021-07-01<span class=sp>T</span>04:37:31</td><td>Water</td><td>0.3</td><td>1</td><td>2021-07-01</td><td>2021</td><td>7</td><td>1</td><td>4</td><td class=vellipsis>&hellip;</td><td><span class=na>NA</span></td><td>2021-06-14</td><td>2021-06-14<span class=sp>T</span>15:49:28</td><td>17</td><td>1.42848e+12</td></tr>\n",
       "    <tr><td class='row_index'>16</td><td>U5</td><td>2019-06-17<span class=sp>T</span>16:13:39</td><td>Grapes</td><td>1.5</td><td>1</td><td>2019-06-17</td><td>2019</td><td>6</td><td>17</td><td>1</td><td class=vellipsis>&hellip;</td><td>Banana</td><td>2019-03-03</td><td><span class=na>NA</span></td><td>106</td><td><span class=na>NA</span></td></tr>\n",
       "    <tr><td class='row_index'>17</td><td>U5</td><td>2019-07-28<span class=sp>T</span>21:03:11</td><td>Bread</td><td>0.6</td><td>1</td><td>2019-07-28</td><td>2019</td><td>7</td><td>28</td><td>7</td><td class=vellipsis>&hellip;</td><td>Banana</td><td>2019-06-17</td><td>2019-06-17<span class=sp>T</span>16:13:39</td><td>41</td><td>3.55977e+12</td></tr>\n",
       "    <tr><td class='row_index'>18</td><td>U5</td><td>2020-11-19<span class=sp>T</span>18:51:22</td><td>Water</td><td>0.2</td><td>1</td><td>2020-11-19</td><td>2020</td><td>11</td><td>19</td><td>4</td><td class=vellipsis>&hellip;</td><td>Eggs</td><td>2020-07-08</td><td>2019-07-28<span class=sp>T</span>21:03:11</td><td>134</td><td>4.14641e+13</td></tr>\n",
       "    <tr><td class='row_index'>19</td><td>U5</td><td>2021-02-03<span class=sp>T</span>01:14:40</td><td>Eggs</td><td>2.1</td><td>4</td><td>2021-02-03</td><td>2021</td><td>2</td><td>3</td><td>3</td><td class=vellipsis>&hellip;</td><td>Eggs</td><td>2020-12-03</td><td>2020-11-19<span class=sp>T</span>18:51:22</td><td>62</td><td>6.503e+12</td></tr>\n",
       "  </tbody>\n",
       "  </table>\n",
       "  <div class='footer'>\n",
       "    <div class='frame_dimensions'>20 rows &times; 20 columns</div>\n",
       "  </div>\n",
       "</div>\n"
      ],
      "text/plain": [
       "<Frame#7fee61745ed0 20x20>"
      ]
     },
     "execution_count": 12,
     "metadata": {},
     "output_type": "execute_result"
    }
   ],
   "source": [
    "data['time_diff'] = data[:, (dt.as_type(dt.f.timestamp, 'int') - dt.as_type(dt.f.previous_user_time, 'int')) / 1000]\n",
    "data"
   ]
  },
  {
   "cell_type": "markdown",
   "id": "27855ebf",
   "metadata": {
    "papermill": {
     "duration": 0.030362,
     "end_time": "2021-07-25T04:18:56.544280",
     "exception": false,
     "start_time": "2021-07-25T04:18:56.513918",
     "status": "completed"
    },
    "tags": []
   },
   "source": [
    "<center>\n",
    "    ✅ This completes Set 8: Time Series (Exercises 71-80) of <b>DatatableTon</b>: <i>💯 datatable exercises</i>\n",
    "    <br>\n",
    "    Set 9 is coming soon!\n",
    "    <br>\n",
    "    <br>\n",
    "    You can find all the exercises and solutions on <a href=\"https://github.com/vopani/datatableton#exercises-\">GitHub</a>\n",
    "</center>"
   ]
  }
 ],
 "metadata": {
  "kernelspec": {
   "display_name": "Python 3",
   "language": "python",
   "name": "python3"
  },
  "language_info": {
   "codemirror_mode": {
    "name": "ipython",
    "version": 3
   },
   "file_extension": ".py",
   "mimetype": "text/x-python",
   "name": "python",
   "nbconvert_exporter": "python",
   "pygments_lexer": "ipython3",
   "version": "3.7.10"
  },
  "papermill": {
   "default_parameters": {},
   "duration": 47.846684,
   "end_time": "2021-07-25T04:18:57.490477",
   "environment_variables": {},
   "exception": null,
   "input_path": "__notebook__.ipynb",
   "output_path": "__notebook__.ipynb",
   "parameters": {},
   "start_time": "2021-07-25T04:18:09.643793",
   "version": "2.3.3"
  }
 },
 "nbformat": 4,
 "nbformat_minor": 5
}
