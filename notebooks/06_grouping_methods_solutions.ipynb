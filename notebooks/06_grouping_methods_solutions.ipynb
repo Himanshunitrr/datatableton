{
 "cells": [
  {
   "cell_type": "markdown",
   "id": "539efbbb",
   "metadata": {
    "_cell_guid": "b1076dfc-b9ad-4769-8c92-a6c4dae69d19",
    "_uuid": "8f2839f25d086af736a60e9eeb907d3b93b6e0e5",
    "papermill": {
     "duration": 0.018604,
     "end_time": "2021-07-22T05:37:23.915520",
     "exception": false,
     "start_time": "2021-07-22T05:37:23.896916",
     "status": "completed"
    },
    "tags": []
   },
   "source": [
    "<center>\n",
    "    <h1>DatatableTon</h1>\n",
    "    💯 datatable exercises\n",
    "    <br>\n",
    "    <br>\n",
    "    <a href='https://github.com/vopani/datatableton/blob/master/LICENSE'>\n",
    "        <img src='https://img.shields.io/badge/license-Apache%202.0-blue.svg?logo=apache'>\n",
    "    </a>\n",
    "    <a href='https://github.com/vopani/datatableton'>\n",
    "        <img src='https://img.shields.io/github/stars/vopani/datatableton?color=yellowgreen&logo=github'>\n",
    "    </a>\n",
    "    <a href='https://twitter.com/vopani'>\n",
    "        <img src='https://img.shields.io/twitter/follow/vopani'>\n",
    "    </a>\n",
    "</center>"
   ]
  },
  {
   "cell_type": "markdown",
   "id": "f5633df9",
   "metadata": {
    "papermill": {
     "duration": 0.017188,
     "end_time": "2021-07-22T05:37:23.950048",
     "exception": false,
     "start_time": "2021-07-22T05:37:23.932860",
     "status": "completed"
    },
    "tags": []
   },
   "source": [
    "<center>\n",
    "    This is Set 6: Grouping Methods (Exercises 51-60) of <b>DatatableTon</b>: <i>💯 datatable exercises</i>\n",
    "    <br>\n",
    "    You can find all the exercises and solutions on <a href=\"https://github.com/vopani/datatableton#exercises-\">GitHub</a>\n",
    "</center>"
   ]
  },
  {
   "cell_type": "markdown",
   "id": "0110233d",
   "metadata": {
    "papermill": {
     "duration": 0.017009,
     "end_time": "2021-07-22T05:37:23.984197",
     "exception": false,
     "start_time": "2021-07-22T05:37:23.967188",
     "status": "completed"
    },
    "tags": []
   },
   "source": [
    "**Prerequisites**\n",
    "* The `datatable` package should be upgraded to the latest version (or v1.0.0+).\n",
    "* The sample dataset [penguins](https://github.com/mwaskom/seaborn-data/blob/master/penguins.csv) from seaborn will be used for the exercises."
   ]
  },
  {
   "cell_type": "code",
   "execution_count": 1,
   "id": "b49e7f8f",
   "metadata": {
    "_kg_hide-output": true,
    "execution": {
     "iopub.execute_input": "2021-07-22T05:37:24.022496Z",
     "iopub.status.busy": "2021-07-22T05:37:24.021420Z",
     "iopub.status.idle": "2021-07-22T05:38:05.634986Z",
     "shell.execute_reply": "2021-07-22T05:38:05.634292Z",
     "shell.execute_reply.started": "2021-07-18T20:00:47.008422Z"
    },
    "papermill": {
     "duration": 41.63377,
     "end_time": "2021-07-22T05:38:05.635182",
     "exception": false,
     "start_time": "2021-07-22T05:37:24.001412",
     "status": "completed"
    },
    "tags": []
   },
   "outputs": [
    {
     "name": "stdout",
     "output_type": "stream",
     "text": [
      "Requirement already satisfied: pip in /opt/conda/lib/python3.7/site-packages (21.1.2)\r\n",
      "Collecting pip\r\n",
      "  Downloading pip-21.1.3-py3-none-any.whl (1.5 MB)\r\n",
      "\u001b[K     |████████████████████████████████| 1.5 MB 874 kB/s \r\n",
      "\u001b[?25hInstalling collected packages: pip\r\n",
      "  Attempting uninstall: pip\r\n",
      "    Found existing installation: pip 21.1.2\r\n",
      "    Uninstalling pip-21.1.2:\r\n",
      "      Successfully uninstalled pip-21.1.2\r\n",
      "Successfully installed pip-21.1.3\r\n",
      "\u001b[33mWARNING: Running pip as root will break packages and permissions. You should install packages reliably by using venv: https://pip.pypa.io/warnings/venv\u001b[0m\r\n",
      "Requirement already satisfied: datatable in /opt/conda/lib/python3.7/site-packages (1.0.0)\r\n",
      "\u001b[33mWARNING: Running pip as the 'root' user can result in broken permissions and conflicting behaviour with the system package manager. It is recommended to use a virtual environment instead: https://pip.pypa.io/warnings/venv\u001b[0m\r\n",
      "Requirement already satisfied: seaborn in /opt/conda/lib/python3.7/site-packages (0.11.1)\r\n",
      "Requirement already satisfied: pandas>=0.23 in /opt/conda/lib/python3.7/site-packages (from seaborn) (1.2.4)\r\n",
      "Requirement already satisfied: numpy>=1.15 in /opt/conda/lib/python3.7/site-packages (from seaborn) (1.19.5)\r\n",
      "Requirement already satisfied: scipy>=1.0 in /opt/conda/lib/python3.7/site-packages (from seaborn) (1.6.3)\r\n",
      "Requirement already satisfied: matplotlib>=2.2 in /opt/conda/lib/python3.7/site-packages (from seaborn) (3.4.2)\r\n",
      "Requirement already satisfied: cycler>=0.10 in /opt/conda/lib/python3.7/site-packages (from matplotlib>=2.2->seaborn) (0.10.0)\r\n",
      "Requirement already satisfied: pillow>=6.2.0 in /opt/conda/lib/python3.7/site-packages (from matplotlib>=2.2->seaborn) (8.2.0)\r\n",
      "Requirement already satisfied: kiwisolver>=1.0.1 in /opt/conda/lib/python3.7/site-packages (from matplotlib>=2.2->seaborn) (1.3.1)\r\n",
      "Requirement already satisfied: pyparsing>=2.2.1 in /opt/conda/lib/python3.7/site-packages (from matplotlib>=2.2->seaborn) (2.4.7)\r\n",
      "Requirement already satisfied: python-dateutil>=2.7 in /opt/conda/lib/python3.7/site-packages (from matplotlib>=2.2->seaborn) (2.8.1)\r\n",
      "Requirement already satisfied: six in /opt/conda/lib/python3.7/site-packages (from cycler>=0.10->matplotlib>=2.2->seaborn) (1.15.0)\r\n",
      "Requirement already satisfied: pytz>=2017.3 in /opt/conda/lib/python3.7/site-packages (from pandas>=0.23->seaborn) (2021.1)\r\n",
      "\u001b[33mWARNING: Running pip as the 'root' user can result in broken permissions and conflicting behaviour with the system package manager. It is recommended to use a virtual environment instead: https://pip.pypa.io/warnings/venv\u001b[0m\r\n"
     ]
    }
   ],
   "source": [
    "!python3 -m pip install -U pip\n",
    "!python3 -m pip install -U datatable\n",
    "!python3 -m pip install seaborn"
   ]
  },
  {
   "cell_type": "code",
   "execution_count": 2,
   "id": "ce6c34a1",
   "metadata": {
    "execution": {
     "iopub.execute_input": "2021-07-22T05:38:05.691350Z",
     "iopub.status.busy": "2021-07-22T05:38:05.690367Z",
     "iopub.status.idle": "2021-07-22T05:38:07.870885Z",
     "shell.execute_reply": "2021-07-22T05:38:07.870346Z",
     "shell.execute_reply.started": "2021-07-18T20:01:27.079101Z"
    },
    "papermill": {
     "duration": 2.210454,
     "end_time": "2021-07-22T05:38:07.871022",
     "exception": false,
     "start_time": "2021-07-22T05:38:05.660568",
     "status": "completed"
    },
    "tags": []
   },
   "outputs": [
    {
     "data": {
      "text/html": [
       "<style type='text/css'>\n",
       ".datatable table.frame { margin-bottom: 0; }\n",
       ".datatable table.frame thead { border-bottom: none; }\n",
       ".datatable table.frame tr.coltypes td {  color: #FFFFFF;  line-height: 6px;  padding: 0 0.5em;}\n",
       ".datatable .bool    { background: #DDDD99; }\n",
       ".datatable .object  { background: #565656; }\n",
       ".datatable .int     { background: #5D9E5D; }\n",
       ".datatable .float   { background: #4040CC; }\n",
       ".datatable .str     { background: #CC4040; }\n",
       ".datatable .time    { background: #40CC40; }\n",
       ".datatable .row_index {  background: var(--jp-border-color3);  border-right: 1px solid var(--jp-border-color0);  color: var(--jp-ui-font-color3);  font-size: 9px;}\n",
       ".datatable .frame tbody td { text-align: left; }\n",
       ".datatable .frame tr.coltypes .row_index {  background: var(--jp-border-color0);}\n",
       ".datatable th:nth-child(2) { padding-left: 12px; }\n",
       ".datatable .hellipsis {  color: var(--jp-cell-editor-border-color);}\n",
       ".datatable .vellipsis {  background: var(--jp-layout-color0);  color: var(--jp-cell-editor-border-color);}\n",
       ".datatable .na {  color: var(--jp-cell-editor-border-color);  font-size: 80%;}\n",
       ".datatable .sp {  opacity: 0.25;}\n",
       ".datatable .footer { font-size: 9px; }\n",
       ".datatable .frame_dimensions {  background: var(--jp-border-color3);  border-top: 1px solid var(--jp-border-color0);  color: var(--jp-ui-font-color3);  display: inline-block;  opacity: 0.6;  padding: 1px 10px 1px 5px;}\n",
       "</style>\n"
      ],
      "text/plain": [
       "<IPython.core.display.HTML object>"
      ]
     },
     "metadata": {},
     "output_type": "display_data"
    },
    {
     "data": {
      "text/html": [
       "<div class='datatable'>\n",
       "  <table class='frame'>\n",
       "  <thead>\n",
       "    <tr class='colnames'><td class='row_index'></td><th>species</th><th>island</th><th>bill_length_mm</th><th>bill_depth_mm</th><th>flipper_length_mm</th><th>body_mass_g</th><th>sex</th></tr>\n",
       "    <tr class='coltypes'><td class='row_index'></td><td class='str' title='str32'>&#x25AA;&#x25AA;&#x25AA;&#x25AA;</td><td class='str' title='str32'>&#x25AA;&#x25AA;&#x25AA;&#x25AA;</td><td class='float' title='float64'>&#x25AA;&#x25AA;&#x25AA;&#x25AA;&#x25AA;&#x25AA;&#x25AA;&#x25AA;</td><td class='float' title='float64'>&#x25AA;&#x25AA;&#x25AA;&#x25AA;&#x25AA;&#x25AA;&#x25AA;&#x25AA;</td><td class='float' title='float64'>&#x25AA;&#x25AA;&#x25AA;&#x25AA;&#x25AA;&#x25AA;&#x25AA;&#x25AA;</td><td class='float' title='float64'>&#x25AA;&#x25AA;&#x25AA;&#x25AA;&#x25AA;&#x25AA;&#x25AA;&#x25AA;</td><td class='str' title='str32'>&#x25AA;&#x25AA;&#x25AA;&#x25AA;</td></tr>\n",
       "  </thead>\n",
       "  <tbody>\n",
       "    <tr><td class='row_index'>0</td><td>Adelie</td><td>Torgersen</td><td>39.1</td><td>18.7</td><td>181</td><td>3750</td><td>Male</td></tr>\n",
       "    <tr><td class='row_index'>1</td><td>Adelie</td><td>Torgersen</td><td>39.5</td><td>17.4</td><td>186</td><td>3800</td><td>Female</td></tr>\n",
       "    <tr><td class='row_index'>2</td><td>Adelie</td><td>Torgersen</td><td>40.3</td><td>18</td><td>195</td><td>3250</td><td>Female</td></tr>\n",
       "    <tr><td class='row_index'>3</td><td>Adelie</td><td>Torgersen</td><td><span class=na>NA</span></td><td><span class=na>NA</span></td><td><span class=na>NA</span></td><td><span class=na>NA</span></td><td><span class=na>NA</span></td></tr>\n",
       "    <tr><td class='row_index'>4</td><td>Adelie</td><td>Torgersen</td><td>36.7</td><td>19.3</td><td>193</td><td>3450</td><td>Female</td></tr>\n",
       "    <tr><td class='row_index'>5</td><td>Adelie</td><td>Torgersen</td><td>39.3</td><td>20.6</td><td>190</td><td>3650</td><td>Male</td></tr>\n",
       "    <tr><td class='row_index'>6</td><td>Adelie</td><td>Torgersen</td><td>38.9</td><td>17.8</td><td>181</td><td>3625</td><td>Female</td></tr>\n",
       "    <tr><td class='row_index'>7</td><td>Adelie</td><td>Torgersen</td><td>39.2</td><td>19.6</td><td>195</td><td>4675</td><td>Male</td></tr>\n",
       "    <tr><td class='row_index'>8</td><td>Adelie</td><td>Torgersen</td><td>34.1</td><td>18.1</td><td>193</td><td>3475</td><td><span class=na>NA</span></td></tr>\n",
       "    <tr><td class='row_index'>9</td><td>Adelie</td><td>Torgersen</td><td>42</td><td>20.2</td><td>190</td><td>4250</td><td><span class=na>NA</span></td></tr>\n",
       "    <tr><td class='row_index'>10</td><td>Adelie</td><td>Torgersen</td><td>37.8</td><td>17.1</td><td>186</td><td>3300</td><td><span class=na>NA</span></td></tr>\n",
       "    <tr><td class='row_index'>11</td><td>Adelie</td><td>Torgersen</td><td>37.8</td><td>17.3</td><td>180</td><td>3700</td><td><span class=na>NA</span></td></tr>\n",
       "    <tr><td class='row_index'>12</td><td>Adelie</td><td>Torgersen</td><td>41.1</td><td>17.6</td><td>182</td><td>3200</td><td>Female</td></tr>\n",
       "    <tr><td class='row_index'>13</td><td>Adelie</td><td>Torgersen</td><td>38.6</td><td>21.2</td><td>191</td><td>3800</td><td>Male</td></tr>\n",
       "    <tr><td class='row_index'>14</td><td>Adelie</td><td>Torgersen</td><td>34.6</td><td>21.1</td><td>198</td><td>4400</td><td>Male</td></tr>\n",
       "    <tr><td class='row_index'>&#x22EE;</td><td class='hellipsis'>&#x22EE;</td><td class='hellipsis'>&#x22EE;</td><td class='hellipsis'>&#x22EE;</td><td class='hellipsis'>&#x22EE;</td><td class='hellipsis'>&#x22EE;</td><td class='hellipsis'>&#x22EE;</td><td class='hellipsis'>&#x22EE;</td></tr>\n",
       "    <tr><td class='row_index'>339</td><td>Gentoo</td><td>Biscoe</td><td><span class=na>NA</span></td><td><span class=na>NA</span></td><td><span class=na>NA</span></td><td><span class=na>NA</span></td><td><span class=na>NA</span></td></tr>\n",
       "    <tr><td class='row_index'>340</td><td>Gentoo</td><td>Biscoe</td><td>46.8</td><td>14.3</td><td>215</td><td>4850</td><td>Female</td></tr>\n",
       "    <tr><td class='row_index'>341</td><td>Gentoo</td><td>Biscoe</td><td>50.4</td><td>15.7</td><td>222</td><td>5750</td><td>Male</td></tr>\n",
       "    <tr><td class='row_index'>342</td><td>Gentoo</td><td>Biscoe</td><td>45.2</td><td>14.8</td><td>212</td><td>5200</td><td>Female</td></tr>\n",
       "    <tr><td class='row_index'>343</td><td>Gentoo</td><td>Biscoe</td><td>49.9</td><td>16.1</td><td>213</td><td>5400</td><td>Male</td></tr>\n",
       "  </tbody>\n",
       "  </table>\n",
       "  <div class='footer'>\n",
       "    <div class='frame_dimensions'>344 rows &times; 7 columns</div>\n",
       "  </div>\n",
       "</div>\n"
      ],
      "text/plain": [
       "<Frame#7f3c9465f840 344x7>"
      ]
     },
     "execution_count": 2,
     "metadata": {},
     "output_type": "execute_result"
    }
   ],
   "source": [
    "import datatable as dt\n",
    "from seaborn import load_dataset\n",
    "\n",
    "data = dt.Frame(load_dataset('penguins'))\n",
    "data.replace('NA', None)\n",
    "data"
   ]
  },
  {
   "cell_type": "markdown",
   "id": "92120f63",
   "metadata": {
    "papermill": {
     "duration": 0.025044,
     "end_time": "2021-07-22T05:38:07.921612",
     "exception": false,
     "start_time": "2021-07-22T05:38:07.896568",
     "status": "completed"
    },
    "tags": []
   },
   "source": [
    "**Exercise 51: Calculate the number of rows of each `species` in `data`**"
   ]
  },
  {
   "cell_type": "code",
   "execution_count": 3,
   "id": "30859fd0",
   "metadata": {
    "execution": {
     "iopub.execute_input": "2021-07-22T05:38:07.980976Z",
     "iopub.status.busy": "2021-07-22T05:38:07.980195Z",
     "iopub.status.idle": "2021-07-22T05:38:07.984728Z",
     "shell.execute_reply": "2021-07-22T05:38:07.985603Z",
     "shell.execute_reply.started": "2021-07-18T20:01:44.026272Z"
    },
    "papermill": {
     "duration": 0.03894,
     "end_time": "2021-07-22T05:38:07.985800",
     "exception": false,
     "start_time": "2021-07-22T05:38:07.946860",
     "status": "completed"
    },
    "tags": []
   },
   "outputs": [
    {
     "data": {
      "text/html": [
       "<div class='datatable'>\n",
       "  <table class='frame'>\n",
       "  <thead>\n",
       "    <tr class='colnames'><td class='row_index'></td><th>species</th><th>count</th></tr>\n",
       "    <tr class='coltypes'><td class='row_index'></td><td class='str' title='str32'>&#x25AA;&#x25AA;&#x25AA;&#x25AA;</td><td class='int' title='int64'>&#x25AA;&#x25AA;&#x25AA;&#x25AA;&#x25AA;&#x25AA;&#x25AA;&#x25AA;</td></tr>\n",
       "  </thead>\n",
       "  <tbody>\n",
       "    <tr><td class='row_index'>0</td><td>Adelie</td><td>152</td></tr>\n",
       "    <tr><td class='row_index'>1</td><td>Chinstrap</td><td>68</td></tr>\n",
       "    <tr><td class='row_index'>2</td><td>Gentoo</td><td>124</td></tr>\n",
       "  </tbody>\n",
       "  </table>\n",
       "  <div class='footer'>\n",
       "    <div class='frame_dimensions'>3 rows &times; 2 columns</div>\n",
       "  </div>\n",
       "</div>\n"
      ],
      "text/plain": [
       "<Frame#7f3c9cb46d20 3x2>"
      ]
     },
     "execution_count": 3,
     "metadata": {},
     "output_type": "execute_result"
    }
   ],
   "source": [
    "data[:, dt.count(), dt.by(dt.f.species)]"
   ]
  },
  {
   "cell_type": "markdown",
   "id": "791068bc",
   "metadata": {
    "papermill": {
     "duration": 0.029004,
     "end_time": "2021-07-22T05:38:08.046910",
     "exception": false,
     "start_time": "2021-07-22T05:38:08.017906",
     "status": "completed"
    },
    "tags": []
   },
   "source": [
    "**Exercise 52: Calculate the sum of `body_mass_g` by `island` in `data`**"
   ]
  },
  {
   "cell_type": "code",
   "execution_count": 4,
   "id": "fe5d2ee6",
   "metadata": {
    "execution": {
     "iopub.execute_input": "2021-07-22T05:38:08.108200Z",
     "iopub.status.busy": "2021-07-22T05:38:08.107447Z",
     "iopub.status.idle": "2021-07-22T05:38:08.112208Z",
     "shell.execute_reply": "2021-07-22T05:38:08.112714Z",
     "shell.execute_reply.started": "2021-07-18T20:01:51.192248Z"
    },
    "papermill": {
     "duration": 0.039629,
     "end_time": "2021-07-22T05:38:08.112911",
     "exception": false,
     "start_time": "2021-07-22T05:38:08.073282",
     "status": "completed"
    },
    "tags": []
   },
   "outputs": [
    {
     "data": {
      "text/html": [
       "<div class='datatable'>\n",
       "  <table class='frame'>\n",
       "  <thead>\n",
       "    <tr class='colnames'><td class='row_index'></td><th>island</th><th>body_mass_g</th></tr>\n",
       "    <tr class='coltypes'><td class='row_index'></td><td class='str' title='str32'>&#x25AA;&#x25AA;&#x25AA;&#x25AA;</td><td class='float' title='float64'>&#x25AA;&#x25AA;&#x25AA;&#x25AA;&#x25AA;&#x25AA;&#x25AA;&#x25AA;</td></tr>\n",
       "  </thead>\n",
       "  <tbody>\n",
       "    <tr><td class='row_index'>0</td><td>Biscoe</td><td>787575</td></tr>\n",
       "    <tr><td class='row_index'>1</td><td>Dream</td><td>460400</td></tr>\n",
       "    <tr><td class='row_index'>2</td><td>Torgersen</td><td>189025</td></tr>\n",
       "  </tbody>\n",
       "  </table>\n",
       "  <div class='footer'>\n",
       "    <div class='frame_dimensions'>3 rows &times; 2 columns</div>\n",
       "  </div>\n",
       "</div>\n"
      ],
      "text/plain": [
       "<Frame#7f3c94442ed0 3x2>"
      ]
     },
     "execution_count": 4,
     "metadata": {},
     "output_type": "execute_result"
    }
   ],
   "source": [
    "data[:, dt.sum(dt.f.body_mass_g), dt.by(dt.f.island)]"
   ]
  },
  {
   "cell_type": "markdown",
   "id": "a7b6896f",
   "metadata": {
    "papermill": {
     "duration": 0.029031,
     "end_time": "2021-07-22T05:38:08.173922",
     "exception": false,
     "start_time": "2021-07-22T05:38:08.144891",
     "status": "completed"
    },
    "tags": []
   },
   "source": [
    "**Exercise 53: Calculate the mean of `body_mass_g` by non-null `sex` in `data`**"
   ]
  },
  {
   "cell_type": "code",
   "execution_count": 5,
   "id": "6a8a012d",
   "metadata": {
    "execution": {
     "iopub.execute_input": "2021-07-22T05:38:08.234744Z",
     "iopub.status.busy": "2021-07-22T05:38:08.234020Z",
     "iopub.status.idle": "2021-07-22T05:38:08.238565Z",
     "shell.execute_reply": "2021-07-22T05:38:08.239052Z",
     "shell.execute_reply.started": "2021-07-18T20:01:57.916365Z"
    },
    "papermill": {
     "duration": 0.038917,
     "end_time": "2021-07-22T05:38:08.239267",
     "exception": false,
     "start_time": "2021-07-22T05:38:08.200350",
     "status": "completed"
    },
    "tags": []
   },
   "outputs": [
    {
     "data": {
      "text/html": [
       "<div class='datatable'>\n",
       "  <table class='frame'>\n",
       "  <thead>\n",
       "    <tr class='colnames'><td class='row_index'></td><th>sex</th><th>body_mass_g</th></tr>\n",
       "    <tr class='coltypes'><td class='row_index'></td><td class='str' title='str32'>&#x25AA;&#x25AA;&#x25AA;&#x25AA;</td><td class='float' title='float64'>&#x25AA;&#x25AA;&#x25AA;&#x25AA;&#x25AA;&#x25AA;&#x25AA;&#x25AA;</td></tr>\n",
       "  </thead>\n",
       "  <tbody>\n",
       "    <tr><td class='row_index'>0</td><td>Female</td><td>3862.27</td></tr>\n",
       "    <tr><td class='row_index'>1</td><td>Male</td><td>4545.68</td></tr>\n",
       "  </tbody>\n",
       "  </table>\n",
       "  <div class='footer'>\n",
       "    <div class='frame_dimensions'>2 rows &times; 2 columns</div>\n",
       "  </div>\n",
       "</div>\n"
      ],
      "text/plain": [
       "<Frame#7f3c941ac2a0 2x2>"
      ]
     },
     "execution_count": 5,
     "metadata": {},
     "output_type": "execute_result"
    }
   ],
   "source": [
    "data[dt.f.sex != None, :][:, dt.mean(dt.f.body_mass_g), dt.by(dt.f.sex)]"
   ]
  },
  {
   "cell_type": "markdown",
   "id": "810c17e0",
   "metadata": {
    "papermill": {
     "duration": 0.029244,
     "end_time": "2021-07-22T05:38:08.300741",
     "exception": false,
     "start_time": "2021-07-22T05:38:08.271497",
     "status": "completed"
    },
    "tags": []
   },
   "source": [
    "**Exercise 54: Calculate the maximum and minimum of `flipper_length_mm` together by `species` in `data`**"
   ]
  },
  {
   "cell_type": "code",
   "execution_count": 6,
   "id": "cef50486",
   "metadata": {
    "execution": {
     "iopub.execute_input": "2021-07-22T05:38:08.367216Z",
     "iopub.status.busy": "2021-07-22T05:38:08.366488Z",
     "iopub.status.idle": "2021-07-22T05:38:08.371115Z",
     "shell.execute_reply": "2021-07-22T05:38:08.371638Z",
     "shell.execute_reply.started": "2021-07-18T20:02:01.139963Z"
    },
    "papermill": {
     "duration": 0.043604,
     "end_time": "2021-07-22T05:38:08.371841",
     "exception": false,
     "start_time": "2021-07-22T05:38:08.328237",
     "status": "completed"
    },
    "tags": []
   },
   "outputs": [
    {
     "data": {
      "text/html": [
       "<div class='datatable'>\n",
       "  <table class='frame'>\n",
       "  <thead>\n",
       "    <tr class='colnames'><td class='row_index'></td><th>species</th><th>max_flipper_length</th><th>min_flipper_length</th></tr>\n",
       "    <tr class='coltypes'><td class='row_index'></td><td class='str' title='str32'>&#x25AA;&#x25AA;&#x25AA;&#x25AA;</td><td class='float' title='float64'>&#x25AA;&#x25AA;&#x25AA;&#x25AA;&#x25AA;&#x25AA;&#x25AA;&#x25AA;</td><td class='float' title='float64'>&#x25AA;&#x25AA;&#x25AA;&#x25AA;&#x25AA;&#x25AA;&#x25AA;&#x25AA;</td></tr>\n",
       "  </thead>\n",
       "  <tbody>\n",
       "    <tr><td class='row_index'>0</td><td>Adelie</td><td>210</td><td>172</td></tr>\n",
       "    <tr><td class='row_index'>1</td><td>Chinstrap</td><td>212</td><td>178</td></tr>\n",
       "    <tr><td class='row_index'>2</td><td>Gentoo</td><td>231</td><td>203</td></tr>\n",
       "  </tbody>\n",
       "  </table>\n",
       "  <div class='footer'>\n",
       "    <div class='frame_dimensions'>3 rows &times; 3 columns</div>\n",
       "  </div>\n",
       "</div>\n"
      ],
      "text/plain": [
       "<Frame#7f3c941ac4b0 3x3>"
      ]
     },
     "execution_count": 6,
     "metadata": {},
     "output_type": "execute_result"
    }
   ],
   "source": [
    "data[:, {'max_flipper_length': dt.max(dt.f.flipper_length_mm), 'min_flipper_length': dt.min(dt.f.flipper_length_mm)}, dt.by(dt.f.species)]"
   ]
  },
  {
   "cell_type": "markdown",
   "id": "7cc5e0e9",
   "metadata": {
    "papermill": {
     "duration": 0.029783,
     "end_time": "2021-07-22T05:38:08.434756",
     "exception": false,
     "start_time": "2021-07-22T05:38:08.404973",
     "status": "completed"
    },
    "tags": []
   },
   "source": [
    "**Exercise 55: Calculate the median of `body_mass_g` by `species` and `sex` in `data`**"
   ]
  },
  {
   "cell_type": "code",
   "execution_count": 7,
   "id": "594ec590",
   "metadata": {
    "execution": {
     "iopub.execute_input": "2021-07-22T05:38:08.500626Z",
     "iopub.status.busy": "2021-07-22T05:38:08.499772Z",
     "iopub.status.idle": "2021-07-22T05:38:08.517367Z",
     "shell.execute_reply": "2021-07-22T05:38:08.518084Z",
     "shell.execute_reply.started": "2021-07-18T20:02:09.211297Z"
    },
    "papermill": {
     "duration": 0.056757,
     "end_time": "2021-07-22T05:38:08.518302",
     "exception": false,
     "start_time": "2021-07-22T05:38:08.461545",
     "status": "completed"
    },
    "tags": []
   },
   "outputs": [
    {
     "data": {
      "text/html": [
       "<div class='datatable'>\n",
       "  <table class='frame'>\n",
       "  <thead>\n",
       "    <tr class='colnames'><td class='row_index'></td><th>species</th><th>sex</th><th>body_mass_g</th></tr>\n",
       "    <tr class='coltypes'><td class='row_index'></td><td class='str' title='str32'>&#x25AA;&#x25AA;&#x25AA;&#x25AA;</td><td class='str' title='str32'>&#x25AA;&#x25AA;&#x25AA;&#x25AA;</td><td class='float' title='float64'>&#x25AA;&#x25AA;&#x25AA;&#x25AA;&#x25AA;&#x25AA;&#x25AA;&#x25AA;</td></tr>\n",
       "  </thead>\n",
       "  <tbody>\n",
       "    <tr><td class='row_index'>0</td><td>Adelie</td><td><span class=na>NA</span></td><td>3475</td></tr>\n",
       "    <tr><td class='row_index'>1</td><td>Adelie</td><td>Female</td><td>3400</td></tr>\n",
       "    <tr><td class='row_index'>2</td><td>Adelie</td><td>Male</td><td>4000</td></tr>\n",
       "    <tr><td class='row_index'>3</td><td>Chinstrap</td><td>Female</td><td>3550</td></tr>\n",
       "    <tr><td class='row_index'>4</td><td>Chinstrap</td><td>Male</td><td>3950</td></tr>\n",
       "    <tr><td class='row_index'>5</td><td>Gentoo</td><td><span class=na>NA</span></td><td>4687.5</td></tr>\n",
       "    <tr><td class='row_index'>6</td><td>Gentoo</td><td>Female</td><td>4700</td></tr>\n",
       "    <tr><td class='row_index'>7</td><td>Gentoo</td><td>Male</td><td>5500</td></tr>\n",
       "  </tbody>\n",
       "  </table>\n",
       "  <div class='footer'>\n",
       "    <div class='frame_dimensions'>8 rows &times; 3 columns</div>\n",
       "  </div>\n",
       "</div>\n"
      ],
      "text/plain": [
       "<Frame#7f3c941ac0c0 8x3>"
      ]
     },
     "execution_count": 7,
     "metadata": {},
     "output_type": "execute_result"
    }
   ],
   "source": [
    "data[:, dt.median(dt.f.body_mass_g), dt.by([dt.f.species, dt.f.sex])]"
   ]
  },
  {
   "cell_type": "markdown",
   "id": "ef3aa764",
   "metadata": {
    "papermill": {
     "duration": 0.040403,
     "end_time": "2021-07-22T05:38:08.594805",
     "exception": false,
     "start_time": "2021-07-22T05:38:08.554402",
     "status": "completed"
    },
    "tags": []
   },
   "source": [
    "**Exercise 56: Calculate the standard deviation of `bill_depth_mm` in cm instead of mm by `island` in `data`**"
   ]
  },
  {
   "cell_type": "code",
   "execution_count": 8,
   "id": "dfd9c6f9",
   "metadata": {
    "execution": {
     "iopub.execute_input": "2021-07-22T05:38:08.668334Z",
     "iopub.status.busy": "2021-07-22T05:38:08.667479Z",
     "iopub.status.idle": "2021-07-22T05:38:08.671122Z",
     "shell.execute_reply": "2021-07-22T05:38:08.668957Z",
     "shell.execute_reply.started": "2021-07-18T20:02:15.3242Z"
    },
    "papermill": {
     "duration": 0.041688,
     "end_time": "2021-07-22T05:38:08.671320",
     "exception": false,
     "start_time": "2021-07-22T05:38:08.629632",
     "status": "completed"
    },
    "tags": []
   },
   "outputs": [
    {
     "data": {
      "text/html": [
       "<div class='datatable'>\n",
       "  <table class='frame'>\n",
       "  <thead>\n",
       "    <tr class='colnames'><td class='row_index'></td><th>island</th><th>C0</th></tr>\n",
       "    <tr class='coltypes'><td class='row_index'></td><td class='str' title='str32'>&#x25AA;&#x25AA;&#x25AA;&#x25AA;</td><td class='float' title='float64'>&#x25AA;&#x25AA;&#x25AA;&#x25AA;&#x25AA;&#x25AA;&#x25AA;&#x25AA;</td></tr>\n",
       "  </thead>\n",
       "  <tbody>\n",
       "    <tr><td class='row_index'>0</td><td>Biscoe</td><td>0.182072</td></tr>\n",
       "    <tr><td class='row_index'>1</td><td>Dream</td><td>0.113312</td></tr>\n",
       "    <tr><td class='row_index'>2</td><td>Torgersen</td><td>0.133945</td></tr>\n",
       "  </tbody>\n",
       "  </table>\n",
       "  <div class='footer'>\n",
       "    <div class='frame_dimensions'>3 rows &times; 2 columns</div>\n",
       "  </div>\n",
       "</div>\n"
      ],
      "text/plain": [
       "<Frame#7f3c941ac5a0 3x2>"
      ]
     },
     "execution_count": 8,
     "metadata": {},
     "output_type": "execute_result"
    }
   ],
   "source": [
    "data[:, dt.sd(dt.f.bill_depth_mm / 10), dt.by(dt.f.island)]"
   ]
  },
  {
   "cell_type": "markdown",
   "id": "42654f1b",
   "metadata": {
    "papermill": {
     "duration": 0.032721,
     "end_time": "2021-07-22T05:38:08.740528",
     "exception": false,
     "start_time": "2021-07-22T05:38:08.707807",
     "status": "completed"
    },
    "tags": []
   },
   "source": [
    "**Exercise 57: Calculate the covariance between `flipper_length_mm` and `body_mass_g` by `species` and `island` in `data`**"
   ]
  },
  {
   "cell_type": "code",
   "execution_count": 9,
   "id": "e9e41ed7",
   "metadata": {
    "execution": {
     "iopub.execute_input": "2021-07-22T05:38:08.807114Z",
     "iopub.status.busy": "2021-07-22T05:38:08.806323Z",
     "iopub.status.idle": "2021-07-22T05:38:08.811682Z",
     "shell.execute_reply": "2021-07-22T05:38:08.812258Z",
     "shell.execute_reply.started": "2021-07-18T20:02:26.850979Z"
    },
    "papermill": {
     "duration": 0.042903,
     "end_time": "2021-07-22T05:38:08.812478",
     "exception": false,
     "start_time": "2021-07-22T05:38:08.769575",
     "status": "completed"
    },
    "tags": []
   },
   "outputs": [
    {
     "data": {
      "text/html": [
       "<div class='datatable'>\n",
       "  <table class='frame'>\n",
       "  <thead>\n",
       "    <tr class='colnames'><td class='row_index'></td><th>species</th><th>island</th><th>C0</th></tr>\n",
       "    <tr class='coltypes'><td class='row_index'></td><td class='str' title='str32'>&#x25AA;&#x25AA;&#x25AA;&#x25AA;</td><td class='str' title='str32'>&#x25AA;&#x25AA;&#x25AA;&#x25AA;</td><td class='float' title='float64'>&#x25AA;&#x25AA;&#x25AA;&#x25AA;&#x25AA;&#x25AA;&#x25AA;&#x25AA;</td></tr>\n",
       "  </thead>\n",
       "  <tbody>\n",
       "    <tr><td class='row_index'>0</td><td>Adelie</td><td>Biscoe</td><td>1727.02</td></tr>\n",
       "    <tr><td class='row_index'>1</td><td>Adelie</td><td>Dream</td><td>1378.65</td></tr>\n",
       "    <tr><td class='row_index'>2</td><td>Adelie</td><td>Torgersen</td><td>1209.23</td></tr>\n",
       "    <tr><td class='row_index'>3</td><td>Chinstrap</td><td>Dream</td><td>1758.54</td></tr>\n",
       "    <tr><td class='row_index'>4</td><td>Gentoo</td><td>Biscoe</td><td>2297.14</td></tr>\n",
       "  </tbody>\n",
       "  </table>\n",
       "  <div class='footer'>\n",
       "    <div class='frame_dimensions'>5 rows &times; 3 columns</div>\n",
       "  </div>\n",
       "</div>\n"
      ],
      "text/plain": [
       "<Frame#7f3c941ac7e0 5x3>"
      ]
     },
     "execution_count": 9,
     "metadata": {},
     "output_type": "execute_result"
    }
   ],
   "source": [
    "data[:, dt.cov(dt.f.flipper_length_mm, dt.f.body_mass_g), dt.by(dt.f.species, dt.f.island)]"
   ]
  },
  {
   "cell_type": "markdown",
   "id": "5ddb9d8b",
   "metadata": {
    "papermill": {
     "duration": 0.03049,
     "end_time": "2021-07-22T05:38:08.879364",
     "exception": false,
     "start_time": "2021-07-22T05:38:08.848874",
     "status": "completed"
    },
    "tags": []
   },
   "source": [
    "**Exercise 58: Calculate the absolute correlation between `bill_length_mm` and `bill_depth_mm` by `species` and `sex` in `data`**"
   ]
  },
  {
   "cell_type": "code",
   "execution_count": 10,
   "id": "ffe45d90",
   "metadata": {
    "execution": {
     "iopub.execute_input": "2021-07-22T05:38:08.945708Z",
     "iopub.status.busy": "2021-07-22T05:38:08.944914Z",
     "iopub.status.idle": "2021-07-22T05:38:08.950059Z",
     "shell.execute_reply": "2021-07-22T05:38:08.950616Z",
     "shell.execute_reply.started": "2021-07-18T20:03:04.122235Z"
    },
    "papermill": {
     "duration": 0.042936,
     "end_time": "2021-07-22T05:38:08.950828",
     "exception": false,
     "start_time": "2021-07-22T05:38:08.907892",
     "status": "completed"
    },
    "tags": []
   },
   "outputs": [
    {
     "data": {
      "text/html": [
       "<div class='datatable'>\n",
       "  <table class='frame'>\n",
       "  <thead>\n",
       "    <tr class='colnames'><td class='row_index'></td><th>species</th><th>sex</th><th>C0</th></tr>\n",
       "    <tr class='coltypes'><td class='row_index'></td><td class='str' title='str32'>&#x25AA;&#x25AA;&#x25AA;&#x25AA;</td><td class='str' title='str32'>&#x25AA;&#x25AA;&#x25AA;&#x25AA;</td><td class='float' title='float64'>&#x25AA;&#x25AA;&#x25AA;&#x25AA;&#x25AA;&#x25AA;&#x25AA;&#x25AA;</td></tr>\n",
       "  </thead>\n",
       "  <tbody>\n",
       "    <tr><td class='row_index'>0</td><td>Adelie</td><td><span class=na>NA</span></td><td>0.599783</td></tr>\n",
       "    <tr><td class='row_index'>1</td><td>Adelie</td><td>Female</td><td>0.160636</td></tr>\n",
       "    <tr><td class='row_index'>2</td><td>Adelie</td><td>Male</td><td>0.0382472</td></tr>\n",
       "    <tr><td class='row_index'>3</td><td>Chinstrap</td><td>Female</td><td>0.256317</td></tr>\n",
       "    <tr><td class='row_index'>4</td><td>Chinstrap</td><td>Male</td><td>0.44627</td></tr>\n",
       "    <tr><td class='row_index'>5</td><td>Gentoo</td><td><span class=na>NA</span></td><td>0.704794</td></tr>\n",
       "    <tr><td class='row_index'>6</td><td>Gentoo</td><td>Female</td><td>0.430444</td></tr>\n",
       "    <tr><td class='row_index'>7</td><td>Gentoo</td><td>Male</td><td>0.306767</td></tr>\n",
       "  </tbody>\n",
       "  </table>\n",
       "  <div class='footer'>\n",
       "    <div class='frame_dimensions'>8 rows &times; 3 columns</div>\n",
       "  </div>\n",
       "</div>\n"
      ],
      "text/plain": [
       "<Frame#7f3c941ac750 8x3>"
      ]
     },
     "execution_count": 10,
     "metadata": {},
     "output_type": "execute_result"
    }
   ],
   "source": [
    "data[:, dt.abs(dt.corr(dt.f.bill_length_mm, dt.f.bill_depth_mm)), dt.by(dt.f.species, dt.f.sex)]"
   ]
  },
  {
   "cell_type": "markdown",
   "id": "8e4e710a",
   "metadata": {
    "papermill": {
     "duration": 0.032142,
     "end_time": "2021-07-22T05:38:09.019833",
     "exception": false,
     "start_time": "2021-07-22T05:38:08.987691",
     "status": "completed"
    },
    "tags": []
   },
   "source": [
    "**Exercise 59: Calculate the number of null values in `sex` by `island` in `data`**"
   ]
  },
  {
   "cell_type": "code",
   "execution_count": 11,
   "id": "07c1a65a",
   "metadata": {
    "execution": {
     "iopub.execute_input": "2021-07-22T05:38:09.085189Z",
     "iopub.status.busy": "2021-07-22T05:38:09.084276Z",
     "iopub.status.idle": "2021-07-22T05:38:09.087664Z",
     "shell.execute_reply": "2021-07-22T05:38:09.088356Z",
     "shell.execute_reply.started": "2021-07-18T20:03:24.119707Z"
    },
    "papermill": {
     "duration": 0.039869,
     "end_time": "2021-07-22T05:38:09.088545",
     "exception": false,
     "start_time": "2021-07-22T05:38:09.048676",
     "status": "completed"
    },
    "tags": []
   },
   "outputs": [
    {
     "data": {
      "text/html": [
       "<div class='datatable'>\n",
       "  <table class='frame'>\n",
       "  <thead>\n",
       "    <tr class='colnames'><td class='row_index'></td><th>island</th><th>count</th></tr>\n",
       "    <tr class='coltypes'><td class='row_index'></td><td class='str' title='str32'>&#x25AA;&#x25AA;&#x25AA;&#x25AA;</td><td class='int' title='int64'>&#x25AA;&#x25AA;&#x25AA;&#x25AA;&#x25AA;&#x25AA;&#x25AA;&#x25AA;</td></tr>\n",
       "  </thead>\n",
       "  <tbody>\n",
       "    <tr><td class='row_index'>0</td><td>Biscoe</td><td>5</td></tr>\n",
       "    <tr><td class='row_index'>1</td><td>Dream</td><td>1</td></tr>\n",
       "    <tr><td class='row_index'>2</td><td>Torgersen</td><td>5</td></tr>\n",
       "  </tbody>\n",
       "  </table>\n",
       "  <div class='footer'>\n",
       "    <div class='frame_dimensions'>3 rows &times; 2 columns</div>\n",
       "  </div>\n",
       "</div>\n"
      ],
      "text/plain": [
       "<Frame#7f3c941ac810 3x2>"
      ]
     },
     "execution_count": 11,
     "metadata": {},
     "output_type": "execute_result"
    }
   ],
   "source": [
    "data[dt.f.sex == None, :][:, dt.count(), dt.by(dt.f.island)]"
   ]
  },
  {
   "cell_type": "markdown",
   "id": "d0d5aacf",
   "metadata": {
    "papermill": {
     "duration": 0.032603,
     "end_time": "2021-07-22T05:38:09.156984",
     "exception": false,
     "start_time": "2021-07-22T05:38:09.124381",
     "status": "completed"
    },
    "tags": []
   },
   "source": [
    "**Exercise 60: Sort `data` on `bill_depth_mm` grouped by `sex` and assign it to `data_gs`**"
   ]
  },
  {
   "cell_type": "code",
   "execution_count": 12,
   "id": "7254a518",
   "metadata": {
    "execution": {
     "iopub.execute_input": "2021-07-22T05:38:09.231519Z",
     "iopub.status.busy": "2021-07-22T05:38:09.230658Z",
     "iopub.status.idle": "2021-07-22T05:38:09.234888Z",
     "shell.execute_reply": "2021-07-22T05:38:09.235395Z",
     "shell.execute_reply.started": "2021-07-18T20:03:28.055063Z"
    },
    "papermill": {
     "duration": 0.049358,
     "end_time": "2021-07-22T05:38:09.235588",
     "exception": false,
     "start_time": "2021-07-22T05:38:09.186230",
     "status": "completed"
    },
    "tags": []
   },
   "outputs": [
    {
     "data": {
      "text/html": [
       "<div class='datatable'>\n",
       "  <table class='frame'>\n",
       "  <thead>\n",
       "    <tr class='colnames'><td class='row_index'></td><th>sex</th><th>species</th><th>island</th><th>bill_length_mm</th><th>bill_depth_mm</th><th>flipper_length_mm</th><th>body_mass_g</th></tr>\n",
       "    <tr class='coltypes'><td class='row_index'></td><td class='str' title='str32'>&#x25AA;&#x25AA;&#x25AA;&#x25AA;</td><td class='str' title='str32'>&#x25AA;&#x25AA;&#x25AA;&#x25AA;</td><td class='str' title='str32'>&#x25AA;&#x25AA;&#x25AA;&#x25AA;</td><td class='float' title='float64'>&#x25AA;&#x25AA;&#x25AA;&#x25AA;&#x25AA;&#x25AA;&#x25AA;&#x25AA;</td><td class='float' title='float64'>&#x25AA;&#x25AA;&#x25AA;&#x25AA;&#x25AA;&#x25AA;&#x25AA;&#x25AA;</td><td class='float' title='float64'>&#x25AA;&#x25AA;&#x25AA;&#x25AA;&#x25AA;&#x25AA;&#x25AA;&#x25AA;</td><td class='float' title='float64'>&#x25AA;&#x25AA;&#x25AA;&#x25AA;&#x25AA;&#x25AA;&#x25AA;&#x25AA;</td></tr>\n",
       "  </thead>\n",
       "  <tbody>\n",
       "    <tr><td class='row_index'>0</td><td><span class=na>NA</span></td><td>Adelie</td><td>Torgersen</td><td><span class=na>NA</span></td><td><span class=na>NA</span></td><td><span class=na>NA</span></td><td><span class=na>NA</span></td></tr>\n",
       "    <tr><td class='row_index'>1</td><td><span class=na>NA</span></td><td>Gentoo</td><td>Biscoe</td><td><span class=na>NA</span></td><td><span class=na>NA</span></td><td><span class=na>NA</span></td><td><span class=na>NA</span></td></tr>\n",
       "    <tr><td class='row_index'>2</td><td><span class=na>NA</span></td><td>Gentoo</td><td>Biscoe</td><td>47.3</td><td>13.8</td><td>216</td><td>4725</td></tr>\n",
       "    <tr><td class='row_index'>3</td><td><span class=na>NA</span></td><td>Gentoo</td><td>Biscoe</td><td>44.5</td><td>14.3</td><td>216</td><td>4100</td></tr>\n",
       "    <tr><td class='row_index'>4</td><td><span class=na>NA</span></td><td>Gentoo</td><td>Biscoe</td><td>46.2</td><td>14.4</td><td>214</td><td>4650</td></tr>\n",
       "    <tr><td class='row_index'>5</td><td><span class=na>NA</span></td><td>Gentoo</td><td>Biscoe</td><td>44.5</td><td>15.7</td><td>217</td><td>4875</td></tr>\n",
       "    <tr><td class='row_index'>6</td><td><span class=na>NA</span></td><td>Adelie</td><td>Torgersen</td><td>37.8</td><td>17.1</td><td>186</td><td>3300</td></tr>\n",
       "    <tr><td class='row_index'>7</td><td><span class=na>NA</span></td><td>Adelie</td><td>Torgersen</td><td>37.8</td><td>17.3</td><td>180</td><td>3700</td></tr>\n",
       "    <tr><td class='row_index'>8</td><td><span class=na>NA</span></td><td>Adelie</td><td>Torgersen</td><td>34.1</td><td>18.1</td><td>193</td><td>3475</td></tr>\n",
       "    <tr><td class='row_index'>9</td><td><span class=na>NA</span></td><td>Adelie</td><td>Dream</td><td>37.5</td><td>18.9</td><td>179</td><td>2975</td></tr>\n",
       "    <tr><td class='row_index'>10</td><td><span class=na>NA</span></td><td>Adelie</td><td>Torgersen</td><td>42</td><td>20.2</td><td>190</td><td>4250</td></tr>\n",
       "    <tr><td class='row_index'>11</td><td>Female</td><td>Gentoo</td><td>Biscoe</td><td>42.9</td><td>13.1</td><td>215</td><td>5000</td></tr>\n",
       "    <tr><td class='row_index'>12</td><td>Female</td><td>Gentoo</td><td>Biscoe</td><td>46.1</td><td>13.2</td><td>211</td><td>4500</td></tr>\n",
       "    <tr><td class='row_index'>13</td><td>Female</td><td>Gentoo</td><td>Biscoe</td><td>44.9</td><td>13.3</td><td>213</td><td>5100</td></tr>\n",
       "    <tr><td class='row_index'>14</td><td>Female</td><td>Gentoo</td><td>Biscoe</td><td>43.3</td><td>13.4</td><td>209</td><td>4400</td></tr>\n",
       "    <tr><td class='row_index'>&#x22EE;</td><td class='hellipsis'>&#x22EE;</td><td class='hellipsis'>&#x22EE;</td><td class='hellipsis'>&#x22EE;</td><td class='hellipsis'>&#x22EE;</td><td class='hellipsis'>&#x22EE;</td><td class='hellipsis'>&#x22EE;</td><td class='hellipsis'>&#x22EE;</td></tr>\n",
       "    <tr><td class='row_index'>339</td><td>Male</td><td>Adelie</td><td>Dream</td><td>39.2</td><td>21.1</td><td>196</td><td>4150</td></tr>\n",
       "    <tr><td class='row_index'>340</td><td>Male</td><td>Adelie</td><td>Biscoe</td><td>41.3</td><td>21.1</td><td>195</td><td>4400</td></tr>\n",
       "    <tr><td class='row_index'>341</td><td>Male</td><td>Adelie</td><td>Torgersen</td><td>38.6</td><td>21.2</td><td>191</td><td>3800</td></tr>\n",
       "    <tr><td class='row_index'>342</td><td>Male</td><td>Adelie</td><td>Dream</td><td>42.3</td><td>21.2</td><td>191</td><td>4150</td></tr>\n",
       "    <tr><td class='row_index'>343</td><td>Male</td><td>Adelie</td><td>Torgersen</td><td>46</td><td>21.5</td><td>194</td><td>4200</td></tr>\n",
       "  </tbody>\n",
       "  </table>\n",
       "  <div class='footer'>\n",
       "    <div class='frame_dimensions'>344 rows &times; 7 columns</div>\n",
       "  </div>\n",
       "</div>\n"
      ],
      "text/plain": [
       "<Frame#7f3c941acb40 344x7>"
      ]
     },
     "execution_count": 12,
     "metadata": {},
     "output_type": "execute_result"
    }
   ],
   "source": [
    "data_gs = data[:, :, dt.by(dt.f.sex), dt.sort(dt.f.bill_depth_mm)]\n",
    "data_gs"
   ]
  },
  {
   "cell_type": "markdown",
   "id": "4250cd56",
   "metadata": {
    "papermill": {
     "duration": 0.031344,
     "end_time": "2021-07-22T05:38:09.303077",
     "exception": false,
     "start_time": "2021-07-22T05:38:09.271733",
     "status": "completed"
    },
    "tags": []
   },
   "source": [
    "✅ This completes Set 6: Grouping Methods (Exercises 51-60) of **DatatableTon**: *💯 datatable exercises*\n",
    "\n",
    "#### Set 07 • Multiple Frames • Intermediate • Exercises 61-70\n",
    "\n",
    "| Style | Colab | Kaggle | Binder | GitHub |\n",
    "| ----- | ----- | ------ | ------ | ------ |\n",
    "| Exercises | [![Open in Colab](https://img.shields.io/static/v1?label=&message=Open%20in%20Colab&labelColor=grey&color=blue&logo=google-colab)](https://colab.research.google.com/github/vopani/datatableton/blob/main/notebooks/07_multiple_frames_exercises.ipynb) | [![Open in Kaggle](https://img.shields.io/static/v1?label=&message=Open%20in%20Kaggle&labelColor=grey&color=blue&logo=kaggle)](https://www.kaggle.com/rohanrao/datatableton-multiple-frames-exercises) | [![Open in Binder](https://img.shields.io/static/v1?label=&message=Open%20in%20Binder&labelColor=grey&color=blue&logo=data:image/png;base64,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)](https://mybinder.org/v2/gh/vopani/datatableton/main?filepath=notebooks%2F07_multiple_frames_exercises.ipynb) | [![Open in GitHub](https://img.shields.io/static/v1?label=&message=Open%20in%20GitHub&labelColor=grey&color=blue&logo=github)](https://github.com/vopani/datatableton/blob/main/notebooks/07_multiple_frames_exercises.ipynb) |\n",
    "| Solutions | [![Open in Colab](https://img.shields.io/static/v1?label=&message=Open%20in%20Colab&labelColor=grey&color=blue&logo=google-colab)](https://colab.research.google.com/github/vopani/datatableton/blob/main/notebooks/07_multiple_frames_solutions.ipynb) | [![Open in Kaggle](https://img.shields.io/static/v1?label=&message=Open%20in%20Kaggle&labelColor=grey&color=blue&logo=kaggle)](https://www.kaggle.com/rohanrao/datatableton-multiple-frames-solutions) | [![Open in Binder](https://img.shields.io/static/v1?label=&message=Open%20in%20Binder&labelColor=grey&color=blue&logo=data:image/png;base64,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)](https://mybinder.org/v2/gh/vopani/datatableton/main?filepath=notebooks%2F07_multiple_frames_solutions.ipynb) | [![Open in GitHub](https://img.shields.io/static/v1?label=&message=Open%20in%20GitHub&labelColor=grey&color=blue&logo=github)](https://github.com/vopani/datatableton/blob/main/notebooks/07_multiple_frames_solutions.ipynb) |\n",
    "\n",
    "You can find all the exercises and solutions on [GitHub](https://github.com/vopani/datatableton#exercises-)"
   ]
  }
 ],
 "metadata": {
  "kernelspec": {
   "display_name": "Python 3",
   "language": "python",
   "name": "python3"
  },
  "language_info": {
   "codemirror_mode": {
    "name": "ipython",
    "version": 3
   },
   "file_extension": ".py",
   "mimetype": "text/x-python",
   "name": "python",
   "nbconvert_exporter": "python",
   "pygments_lexer": "ipython3",
   "version": "3.7.10"
  },
  "papermill": {
   "default_parameters": {},
   "duration": 54.549749,
   "end_time": "2021-07-22T05:38:10.042684",
   "environment_variables": {},
   "exception": null,
   "input_path": "__notebook__.ipynb",
   "output_path": "__notebook__.ipynb",
   "parameters": {},
   "start_time": "2021-07-22T05:37:15.492935",
   "version": "2.3.3"
  }
 },
 "nbformat": 4,
 "nbformat_minor": 5
}
